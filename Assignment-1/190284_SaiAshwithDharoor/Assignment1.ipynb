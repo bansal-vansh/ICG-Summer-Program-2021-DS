{
 "cells": [
  {
   "cell_type": "code",
   "execution_count": 1,
   "metadata": {},
   "outputs": [],
   "source": [
    "import numpy as np\n",
    "import pandas as pd\n",
    "\n",
    "train_dat = pd.read_csv(\"train.csv\")\n",
    "test_dat = pd.read_csv(\"test.csv\")"
   ]
  },
  {
   "cell_type": "code",
   "execution_count": 2,
   "metadata": {},
   "outputs": [
    {
     "name": "stdout",
     "output_type": "stream",
     "text": [
      "   PassengerId  Survived  Pclass     Sex   Age  SibSp  Parch     Fare\n",
      "0            1         0       3    male  22.0      1      0   7.2500\n",
      "1            2         1       1  female  38.0      1      0  71.2833\n",
      "2            3         1       3  female  26.0      0      0   7.9250\n",
      "3            4         1       1  female  35.0      1      0  53.1000\n",
      "4            5         0       3    male  35.0      0      0   8.0500\n",
      "5            6         0       3    male   NaN      0      0   8.4583\n",
      "6            7         0       1    male  54.0      0      0  51.8625\n",
      "7            8         0       3    male   2.0      3      1  21.0750\n",
      "8            9         1       3  female  27.0      0      2  11.1333\n",
      "9           10         1       2  female  14.0      1      0  30.0708\n",
      "\n",
      "(620, 8)\n"
     ]
    }
   ],
   "source": [
    "print(train_dat[:10], train_dat.shape ,sep = '\\n\\n')"
   ]
  },
  {
   "cell_type": "code",
   "execution_count": 3,
   "metadata": {},
   "outputs": [],
   "source": [
    "train_dat1 = train_dat.copy()\n",
    "test_dat1 = test_dat.copy()"
   ]
  },
  {
   "cell_type": "code",
   "execution_count": 4,
   "metadata": {},
   "outputs": [
    {
     "name": "stdout",
     "output_type": "stream",
     "text": [
      "<class 'pandas.core.frame.DataFrame'>\n",
      "RangeIndex: 620 entries, 0 to 619\n",
      "Data columns (total 8 columns):\n",
      " #   Column       Non-Null Count  Dtype  \n",
      "---  ------       --------------  -----  \n",
      " 0   PassengerId  620 non-null    int64  \n",
      " 1   Survived     620 non-null    int64  \n",
      " 2   Pclass       620 non-null    int64  \n",
      " 3   Sex          620 non-null    object \n",
      " 4   Age          489 non-null    float64\n",
      " 5   SibSp        620 non-null    int64  \n",
      " 6   Parch        620 non-null    int64  \n",
      " 7   Fare         620 non-null    float64\n",
      "dtypes: float64(2), int64(5), object(1)\n",
      "memory usage: 38.9+ KB\n"
     ]
    }
   ],
   "source": [
    "train_dat1.info()"
   ]
  },
  {
   "cell_type": "code",
   "execution_count": 5,
   "metadata": {},
   "outputs": [
    {
     "data": {
      "text/plain": [
       "(0      0\n",
       " 1      1\n",
       " 2      1\n",
       " 3      1\n",
       " 4      0\n",
       "       ..\n",
       " 615    1\n",
       " 616    0\n",
       " 617    0\n",
       " 618    1\n",
       " 619    0\n",
       " Name: Survived, Length: 620, dtype: int64,\n",
       "    Pclass     Sex   Age  SibSp  Parch     Fare\n",
       " 0       3    male  22.0      1      0   7.2500\n",
       " 1       1  female  38.0      1      0  71.2833\n",
       " 2       3  female  26.0      0      0   7.9250\n",
       " 3       1  female  35.0      1      0  53.1000\n",
       " 4       3    male  35.0      0      0   8.0500,\n",
       " 0      0\n",
       " 1      1\n",
       " 2      1\n",
       " 3      0\n",
       " 4      0\n",
       "       ..\n",
       " 266    0\n",
       " 267    1\n",
       " 268    0\n",
       " 269    1\n",
       " 270    0\n",
       " Name: Survived, Length: 271, dtype: int64,\n",
       "    Pclass     Sex   Age  SibSp  Parch     Fare\n",
       " 0       3    male  22.0      1      0   7.2500\n",
       " 1       1  female  38.0      1      0  71.2833\n",
       " 2       3  female  26.0      0      0   7.9250\n",
       " 3       1  female  35.0      1      0  53.1000\n",
       " 4       3    male  35.0      0      0   8.0500)"
      ]
     },
     "execution_count": 5,
     "metadata": {},
     "output_type": "execute_result"
    }
   ],
   "source": [
    "target = train_dat1.Survived.copy()\n",
    "test_target = test_dat1.Survived.copy()\n",
    "train_dat1.drop(['PassengerId','Survived'],axis = 1, inplace = True)\n",
    "test_dat1.drop(['PassengerId','Survived'],axis = 1,inplace = True)\n",
    "target, train_dat1.head(), test_target, train_dat1.head()"
   ]
  },
  {
   "cell_type": "code",
   "execution_count": 6,
   "metadata": {},
   "outputs": [
    {
     "data": {
      "text/plain": [
       "(29.78118609406953,\n",
       " 28.0,\n",
       " 14.4049979025998,\n",
       " 29.520755555555557,\n",
       " 28.0,\n",
       " 14.817980416474299)"
      ]
     },
     "execution_count": 6,
     "metadata": {},
     "output_type": "execute_result"
    }
   ],
   "source": [
    "train_dat1.Age.mean(), train_dat1.Age.median(), train_dat1.Age.std(), test_dat1.Age.mean(), test_dat1.Age.median(), test_dat1.Age.std()"
   ]
  },
  {
   "cell_type": "code",
   "execution_count": 7,
   "metadata": {},
   "outputs": [
    {
     "name": "stdout",
     "output_type": "stream",
     "text": [
      "<class 'pandas.core.frame.DataFrame'>\n",
      "RangeIndex: 620 entries, 0 to 619\n",
      "Data columns (total 6 columns):\n",
      " #   Column  Non-Null Count  Dtype  \n",
      "---  ------  --------------  -----  \n",
      " 0   Pclass  620 non-null    int64  \n",
      " 1   Sex     620 non-null    object \n",
      " 2   Age     620 non-null    float64\n",
      " 3   SibSp   620 non-null    int64  \n",
      " 4   Parch   620 non-null    int64  \n",
      " 5   Fare    620 non-null    float64\n",
      "dtypes: float64(2), int64(3), object(1)\n",
      "memory usage: 29.2+ KB\n",
      "<class 'pandas.core.frame.DataFrame'>\n",
      "RangeIndex: 271 entries, 0 to 270\n",
      "Data columns (total 6 columns):\n",
      " #   Column  Non-Null Count  Dtype  \n",
      "---  ------  --------------  -----  \n",
      " 0   Pclass  271 non-null    int64  \n",
      " 1   Sex     271 non-null    object \n",
      " 2   Age     271 non-null    float64\n",
      " 3   SibSp   271 non-null    int64  \n",
      " 4   Parch   271 non-null    int64  \n",
      " 5   Fare    271 non-null    float64\n",
      "dtypes: float64(2), int64(3), object(1)\n",
      "memory usage: 12.8+ KB\n"
     ]
    },
    {
     "data": {
      "text/plain": [
       "(None, None)"
      ]
     },
     "execution_count": 7,
     "metadata": {},
     "output_type": "execute_result"
    }
   ],
   "source": [
    "train_dat1.Age.fillna(28,inplace = True), test_dat1.Age.fillna(28,inplace = True)\n",
    "train_dat1.info(), test_dat1.info()"
   ]
  },
  {
   "cell_type": "code",
   "execution_count": 8,
   "metadata": {},
   "outputs": [
    {
     "data": {
      "text/html": [
       "<div>\n",
       "<style scoped>\n",
       "    .dataframe tbody tr th:only-of-type {\n",
       "        vertical-align: middle;\n",
       "    }\n",
       "\n",
       "    .dataframe tbody tr th {\n",
       "        vertical-align: top;\n",
       "    }\n",
       "\n",
       "    .dataframe thead th {\n",
       "        text-align: right;\n",
       "    }\n",
       "</style>\n",
       "<table border=\"1\" class=\"dataframe\">\n",
       "  <thead>\n",
       "    <tr style=\"text-align: right;\">\n",
       "      <th></th>\n",
       "      <th>Age</th>\n",
       "      <th>SibSp</th>\n",
       "      <th>Parch</th>\n",
       "      <th>Fare</th>\n",
       "      <th>s_f</th>\n",
       "      <th>s_m</th>\n",
       "      <th>1</th>\n",
       "      <th>2</th>\n",
       "      <th>3</th>\n",
       "    </tr>\n",
       "  </thead>\n",
       "  <tbody>\n",
       "    <tr>\n",
       "      <th>0</th>\n",
       "      <td>22.0</td>\n",
       "      <td>1</td>\n",
       "      <td>0</td>\n",
       "      <td>7.2500</td>\n",
       "      <td>0</td>\n",
       "      <td>1</td>\n",
       "      <td>0</td>\n",
       "      <td>0</td>\n",
       "      <td>1</td>\n",
       "    </tr>\n",
       "    <tr>\n",
       "      <th>1</th>\n",
       "      <td>38.0</td>\n",
       "      <td>1</td>\n",
       "      <td>0</td>\n",
       "      <td>71.2833</td>\n",
       "      <td>1</td>\n",
       "      <td>0</td>\n",
       "      <td>1</td>\n",
       "      <td>0</td>\n",
       "      <td>0</td>\n",
       "    </tr>\n",
       "    <tr>\n",
       "      <th>2</th>\n",
       "      <td>26.0</td>\n",
       "      <td>0</td>\n",
       "      <td>0</td>\n",
       "      <td>7.9250</td>\n",
       "      <td>1</td>\n",
       "      <td>0</td>\n",
       "      <td>0</td>\n",
       "      <td>0</td>\n",
       "      <td>1</td>\n",
       "    </tr>\n",
       "    <tr>\n",
       "      <th>3</th>\n",
       "      <td>35.0</td>\n",
       "      <td>1</td>\n",
       "      <td>0</td>\n",
       "      <td>53.1000</td>\n",
       "      <td>1</td>\n",
       "      <td>0</td>\n",
       "      <td>1</td>\n",
       "      <td>0</td>\n",
       "      <td>0</td>\n",
       "    </tr>\n",
       "    <tr>\n",
       "      <th>4</th>\n",
       "      <td>35.0</td>\n",
       "      <td>0</td>\n",
       "      <td>0</td>\n",
       "      <td>8.0500</td>\n",
       "      <td>0</td>\n",
       "      <td>1</td>\n",
       "      <td>0</td>\n",
       "      <td>0</td>\n",
       "      <td>1</td>\n",
       "    </tr>\n",
       "  </tbody>\n",
       "</table>\n",
       "</div>"
      ],
      "text/plain": [
       "    Age  SibSp  Parch     Fare  s_f  s_m  1  2  3\n",
       "0  22.0      1      0   7.2500    0    1  0  0  1\n",
       "1  38.0      1      0  71.2833    1    0  1  0  0\n",
       "2  26.0      0      0   7.9250    1    0  0  0  1\n",
       "3  35.0      1      0  53.1000    1    0  1  0  0\n",
       "4  35.0      0      0   8.0500    0    1  0  0  1"
      ]
     },
     "execution_count": 8,
     "metadata": {},
     "output_type": "execute_result"
    }
   ],
   "source": [
    "sex = pd.get_dummies(train_dat1.Sex)\n",
    "sex.columns = ['s_f','s_m']\n",
    "clas = pd.get_dummies(train_dat1.Pclass)\n",
    "train_dat1 = pd.concat([train_dat1,sex,clas],axis = 1)\n",
    "train_dat1.drop(['Sex','Pclass'], axis = 1, inplace = True)\n",
    "train_dat1.head()"
   ]
  },
  {
   "cell_type": "code",
   "execution_count": 9,
   "metadata": {},
   "outputs": [
    {
     "data": {
      "text/html": [
       "<div>\n",
       "<style scoped>\n",
       "    .dataframe tbody tr th:only-of-type {\n",
       "        vertical-align: middle;\n",
       "    }\n",
       "\n",
       "    .dataframe tbody tr th {\n",
       "        vertical-align: top;\n",
       "    }\n",
       "\n",
       "    .dataframe thead th {\n",
       "        text-align: right;\n",
       "    }\n",
       "</style>\n",
       "<table border=\"1\" class=\"dataframe\">\n",
       "  <thead>\n",
       "    <tr style=\"text-align: right;\">\n",
       "      <th></th>\n",
       "      <th>Age</th>\n",
       "      <th>SibSp</th>\n",
       "      <th>Parch</th>\n",
       "      <th>Fare</th>\n",
       "      <th>s_f</th>\n",
       "      <th>s_m</th>\n",
       "      <th>1</th>\n",
       "      <th>2</th>\n",
       "      <th>3</th>\n",
       "    </tr>\n",
       "  </thead>\n",
       "  <tbody>\n",
       "    <tr>\n",
       "      <th>0</th>\n",
       "      <td>27.0</td>\n",
       "      <td>1</td>\n",
       "      <td>0</td>\n",
       "      <td>14.4542</td>\n",
       "      <td>0</td>\n",
       "      <td>1</td>\n",
       "      <td>0</td>\n",
       "      <td>0</td>\n",
       "      <td>1</td>\n",
       "    </tr>\n",
       "    <tr>\n",
       "      <th>1</th>\n",
       "      <td>42.0</td>\n",
       "      <td>1</td>\n",
       "      <td>0</td>\n",
       "      <td>52.5542</td>\n",
       "      <td>0</td>\n",
       "      <td>1</td>\n",
       "      <td>1</td>\n",
       "      <td>0</td>\n",
       "      <td>0</td>\n",
       "    </tr>\n",
       "    <tr>\n",
       "      <th>2</th>\n",
       "      <td>20.0</td>\n",
       "      <td>1</td>\n",
       "      <td>1</td>\n",
       "      <td>15.7417</td>\n",
       "      <td>0</td>\n",
       "      <td>1</td>\n",
       "      <td>0</td>\n",
       "      <td>0</td>\n",
       "      <td>1</td>\n",
       "    </tr>\n",
       "    <tr>\n",
       "      <th>3</th>\n",
       "      <td>21.0</td>\n",
       "      <td>0</td>\n",
       "      <td>0</td>\n",
       "      <td>7.8542</td>\n",
       "      <td>0</td>\n",
       "      <td>1</td>\n",
       "      <td>0</td>\n",
       "      <td>0</td>\n",
       "      <td>1</td>\n",
       "    </tr>\n",
       "    <tr>\n",
       "      <th>4</th>\n",
       "      <td>21.0</td>\n",
       "      <td>0</td>\n",
       "      <td>0</td>\n",
       "      <td>16.1000</td>\n",
       "      <td>0</td>\n",
       "      <td>1</td>\n",
       "      <td>0</td>\n",
       "      <td>0</td>\n",
       "      <td>1</td>\n",
       "    </tr>\n",
       "  </tbody>\n",
       "</table>\n",
       "</div>"
      ],
      "text/plain": [
       "    Age  SibSp  Parch     Fare  s_f  s_m  1  2  3\n",
       "0  27.0      1      0  14.4542    0    1  0  0  1\n",
       "1  42.0      1      0  52.5542    0    1  1  0  0\n",
       "2  20.0      1      1  15.7417    0    1  0  0  1\n",
       "3  21.0      0      0   7.8542    0    1  0  0  1\n",
       "4  21.0      0      0  16.1000    0    1  0  0  1"
      ]
     },
     "execution_count": 9,
     "metadata": {},
     "output_type": "execute_result"
    }
   ],
   "source": [
    "t_sex = pd.get_dummies(test_dat1.Sex)\n",
    "t_sex.columns = ['s_f','s_m']\n",
    "t_clas = pd.get_dummies(test_dat1.Pclass)\n",
    "test_dat1 = pd.concat([test_dat1,t_sex,t_clas],axis = 1)\n",
    "test_dat1.drop(['Sex','Pclass'], axis = 1, inplace = True)\n",
    "test_dat1.head()"
   ]
  },
  {
   "cell_type": "code",
   "execution_count": 10,
   "metadata": {},
   "outputs": [
    {
     "data": {
      "text/plain": [
       "(          Age  SibSp  Parch      Fare  s_f  s_m  1  2  3\n",
       " 0    0.302491  0.125    0.0  0.014151    0    1  0  0  1\n",
       " 1    0.530249  0.125    0.0  0.139136    1    0  1  0  0\n",
       " 2    0.359431  0.000    0.0  0.015469    1    0  0  0  1\n",
       " 3    0.487544  0.125    0.0  0.103644    1    0  1  0  0\n",
       " 4    0.487544  0.000    0.0  0.015713    0    1  0  0  1\n",
       " ..        ...    ...    ...       ...  ...  ... .. .. ..\n",
       " 615  0.330961  0.125    0.4  0.126872    1    0  0  1  0\n",
       " 616  0.473310  0.125    0.2  0.028107    0    1  0  0  1\n",
       " 617  0.359431  0.125    0.0  0.031425    1    0  0  0  1\n",
       " 618  0.046263  0.250    0.2  0.076123    1    0  0  1  0\n",
       " 619  0.359431  0.000    0.0  0.020495    0    1  0  1  0\n",
       " \n",
       " [620 rows x 9 columns],\n",
       "           Age  SibSp     Parch      Fare  s_f  s_m  1  2  3\n",
       " 0    0.334004  0.125  0.000000  0.028213    0    1  0  0  1\n",
       " 1    0.522493  0.125  0.000000  0.102579    0    1  1  0  0\n",
       " 2    0.246042  0.125  0.166667  0.030726    0    1  0  0  1\n",
       " 3    0.258608  0.000  0.000000  0.015330    0    1  0  0  1\n",
       " 4    0.258608  0.000  0.000000  0.031425    0    1  0  0  1\n",
       " ..        ...    ...       ...       ...  ...  ... .. .. ..\n",
       " 266  0.334004  0.000  0.000000  0.025374    0    1  0  1  0\n",
       " 267  0.233476  0.000  0.000000  0.058556    1    0  1  0  0\n",
       " 268  0.346569  0.125  0.333333  0.045771    1    0  0  0  1\n",
       " 269  0.321438  0.000  0.000000  0.058556    0    1  1  0  0\n",
       " 270  0.396833  0.000  0.000000  0.015127    0    1  0  0  1\n",
       " \n",
       " [271 rows x 9 columns])"
      ]
     },
     "execution_count": 10,
     "metadata": {},
     "output_type": "execute_result"
    }
   ],
   "source": [
    "col = ['Age','SibSp','Parch','Fare']\n",
    "train_dat1[col] = (train_dat1[col] - train_dat1[col].min())/(train_dat1[col].max() - train_dat1[col].min())\n",
    "test_dat1[col] = (test_dat1[col] - test_dat1[col].min())/(test_dat1[col].max() - test_dat1[col].min())\n",
    "train_dat1, test_dat1"
   ]
  },
  {
   "cell_type": "code",
   "execution_count": 11,
   "metadata": {},
   "outputs": [
    {
     "data": {
      "text/plain": [
       "(array([[0.3024911 , 0.53024911, 0.3594306 , ..., 0.3594306 , 0.04626335,\n",
       "         0.3594306 ],\n",
       "        [0.125     , 0.125     , 0.        , ..., 0.125     , 0.25      ,\n",
       "         0.        ],\n",
       "        [0.        , 0.        , 0.        , ..., 0.        , 0.2       ,\n",
       "         0.        ],\n",
       "        ...,\n",
       "        [0.        , 1.        , 0.        , ..., 0.        , 0.        ,\n",
       "         0.        ],\n",
       "        [0.        , 0.        , 0.        , ..., 0.        , 1.        ,\n",
       "         1.        ],\n",
       "        [1.        , 0.        , 1.        , ..., 1.        , 0.        ,\n",
       "         0.        ]]),\n",
       " array([0, 1, 1, 1, 0, 0, 0, 0, 1, 1, 1, 1, 0, 0, 0, 1, 0, 1, 0, 1, 0, 1,\n",
       "        1, 1, 0, 1, 0, 0, 1, 0, 0, 1, 1, 0, 0, 0, 1, 0, 0, 1, 0, 0, 0, 1,\n",
       "        1, 0, 0, 1, 0, 0, 0, 0, 1, 1, 0, 1, 1, 0, 1, 0, 0, 1, 0, 0, 0, 1,\n",
       "        1, 0, 1, 0, 0, 0, 0, 0, 1, 0, 0, 0, 1, 1, 0, 1, 1, 0, 1, 1, 0, 0,\n",
       "        1, 0, 0, 0, 0, 0, 0, 0, 0, 1, 1, 0, 0, 0, 0, 0, 0, 0, 1, 1, 0, 1,\n",
       "        0, 0, 0, 0, 0, 0, 0, 0, 0, 0, 0, 0, 0, 1, 0, 1, 0, 1, 1, 0, 0, 0,\n",
       "        0, 1, 0, 0, 1, 0, 0, 0, 0, 1, 1, 0, 0, 0, 1, 0, 0, 0, 0, 1, 0, 0,\n",
       "        0, 0, 1, 0, 0, 0, 0, 1, 0, 0, 0, 1, 1, 0, 0, 0, 0, 0, 1, 0, 0, 0,\n",
       "        0, 0, 0, 0, 0, 0, 0, 1, 1, 0, 1, 1, 0, 0, 1, 0, 1, 1, 1, 1, 0, 0,\n",
       "        1, 0, 0, 0, 0, 0, 1, 0, 0, 1, 1, 1, 0, 1, 0, 0, 0, 1, 1, 0, 1, 0,\n",
       "        1, 0, 0, 0, 1, 0, 1, 0, 0, 0, 1, 0, 0, 1, 0, 0, 0, 1, 0, 0, 0, 1,\n",
       "        0, 0, 0, 0, 0, 1, 1, 0, 0, 0, 0, 0, 0, 1, 1, 1, 1, 1, 0, 1, 0, 0,\n",
       "        0, 0, 0, 1, 1, 1, 0, 1, 1, 0, 1, 1, 0, 0, 0, 1, 0, 0, 0, 1, 0, 0,\n",
       "        1, 0, 1, 1, 1, 1, 0, 0, 0, 0, 0, 0, 1, 1, 1, 1, 0, 1, 0, 1, 1, 1,\n",
       "        0, 1, 1, 1, 0, 0, 0, 1, 1, 0, 1, 1, 0, 0, 1, 1, 0, 1, 0, 1, 1, 1,\n",
       "        1, 0, 0, 0, 1, 0, 0, 1, 1, 0, 1, 1, 0, 0, 0, 1, 1, 1, 1, 0, 0, 0,\n",
       "        0, 0, 0, 0, 1, 0, 1, 1, 0, 0, 0, 0, 0, 0, 1, 1, 1, 1, 1, 0, 0, 0,\n",
       "        0, 1, 1, 0, 0, 0, 1, 1, 0, 1, 0, 0, 0, 1, 0, 1, 1, 1, 0, 1, 1, 0,\n",
       "        0, 0, 0, 1, 1, 0, 0, 0, 0, 0, 0, 1, 0, 0, 0, 0, 1, 0, 1, 0, 1, 1,\n",
       "        0, 0, 0, 0, 0, 0, 0, 0, 1, 1, 0, 1, 1, 1, 1, 0, 0, 1, 0, 1, 0, 0,\n",
       "        1, 0, 0, 1, 1, 1, 1, 1, 1, 1, 0, 0, 0, 1, 0, 1, 0, 1, 1, 0, 1, 0,\n",
       "        0, 0, 0, 0, 0, 0, 0, 1, 0, 0, 1, 1, 0, 0, 0, 0, 0, 1, 0, 0, 0, 1,\n",
       "        1, 0, 1, 0, 0, 1, 0, 0, 0, 0, 0, 0, 1, 0, 0, 0, 0, 0, 0, 0, 1, 0,\n",
       "        1, 1, 0, 1, 1, 0, 1, 1, 0, 0, 1, 0, 1, 0, 1, 0, 0, 1, 0, 0, 1, 0,\n",
       "        0, 0, 1, 0, 0, 1, 0, 1, 0, 1, 0, 1, 1, 0, 0, 1, 0, 0, 1, 1, 0, 1,\n",
       "        1, 0, 0, 1, 1, 0, 1, 0, 1, 1, 0, 0, 0, 0, 0, 0, 0, 0, 0, 1, 1, 1,\n",
       "        1, 1, 0, 0, 1, 1, 0, 1, 1, 1, 0, 0, 0, 1, 0, 1, 0, 0, 0, 1, 0, 0,\n",
       "        0, 0, 1, 0, 0, 1, 1, 0, 0, 0, 1, 0, 0, 1, 1, 1, 0, 0, 1, 0, 0, 1,\n",
       "        0, 0, 1, 0], dtype=int64),\n",
       " array([[0.33400352, 0.52249309, 0.24604172, ..., 0.34656949, 0.32143755,\n",
       "         0.39683338],\n",
       "        [0.125     , 0.125     , 0.125     , ..., 0.125     , 0.        ,\n",
       "         0.        ],\n",
       "        [0.        , 0.        , 0.16666667, ..., 0.33333333, 0.        ,\n",
       "         0.        ],\n",
       "        ...,\n",
       "        [0.        , 1.        , 0.        , ..., 0.        , 1.        ,\n",
       "         0.        ],\n",
       "        [0.        , 0.        , 0.        , ..., 0.        , 0.        ,\n",
       "         0.        ],\n",
       "        [1.        , 0.        , 1.        , ..., 1.        , 0.        ,\n",
       "         1.        ]]),\n",
       " array([0, 1, 1, 0, 0, 0, 0, 1, 0, 0, 1, 0, 1, 0, 0, 1, 0, 0, 0, 0, 0, 1,\n",
       "        0, 1, 1, 1, 0, 1, 0, 1, 0, 1, 0, 1, 0, 0, 0, 0, 0, 0, 1, 0, 0, 0,\n",
       "        1, 0, 0, 0, 0, 1, 1, 0, 0, 1, 0, 0, 0, 1, 0, 1, 0, 1, 0, 0, 0, 0,\n",
       "        0, 0, 0, 1, 1, 1, 1, 0, 0, 0, 0, 1, 0, 0, 1, 1, 0, 0, 0, 0, 1, 1,\n",
       "        1, 1, 1, 0, 1, 0, 0, 0, 1, 1, 0, 0, 1, 0, 0, 0, 1, 0, 1, 1, 0, 0,\n",
       "        1, 0, 0, 0, 0, 0, 0, 1, 0, 0, 1, 0, 1, 0, 1, 0, 0, 1, 0, 0, 1, 1,\n",
       "        0, 0, 1, 1, 0, 0, 0, 1, 0, 0, 1, 1, 0, 1, 0, 0, 0, 0, 0, 0, 0, 0,\n",
       "        1, 0, 0, 1, 0, 1, 1, 1, 0, 0, 0, 0, 1, 0, 1, 0, 0, 0, 0, 0, 0, 0,\n",
       "        1, 1, 0, 0, 0, 1, 1, 1, 1, 0, 0, 0, 0, 1, 0, 0, 0, 0, 0, 0, 0, 0,\n",
       "        0, 0, 1, 1, 0, 1, 0, 0, 0, 1, 1, 1, 1, 1, 0, 0, 0, 1, 0, 0, 1, 1,\n",
       "        0, 0, 1, 0, 0, 0, 0, 0, 0, 1, 0, 0, 0, 1, 0, 1, 1, 1, 1, 0, 0, 0,\n",
       "        1, 0, 0, 1, 1, 0, 0, 1, 0, 1, 0, 0, 1, 1, 0, 0, 0, 1, 1, 0, 0, 0,\n",
       "        0, 0, 0, 1, 0, 1, 0], dtype=int64),\n",
       " (9, 271),\n",
       " (271,))"
      ]
     },
     "execution_count": 11,
     "metadata": {},
     "output_type": "execute_result"
    }
   ],
   "source": [
    "data = train_dat1.to_numpy().T\n",
    "targ = target.to_numpy()\n",
    "t_data = test_dat1.to_numpy().T\n",
    "t_targ = test_target.to_numpy()\n",
    "data, targ, t_data, t_targ, t_data.shape, t_targ.shape"
   ]
  },
  {
   "cell_type": "code",
   "execution_count": 12,
   "metadata": {},
   "outputs": [
    {
     "data": {
      "text/plain": [
       "(array([array([1., 1., 1., 1., 1., 1., 1., 1., 1.]), array([1.])],\n",
       "       dtype=object),\n",
       " array([[0, 0],\n",
       "        [2, 2]]),\n",
       " array([3]))"
      ]
     },
     "execution_count": 12,
     "metadata": {},
     "output_type": "execute_result"
    }
   ],
   "source": [
    "model = np.array([np.ones((9)),np.ones(1)])\n",
    "model, (np.array([[1,2],[3,4]]) - np.array([[1,2]])), np.array([np.array([1,2]).sum()])"
   ]
  },
  {
   "cell_type": "code",
   "execution_count": 13,
   "metadata": {},
   "outputs": [
    {
     "data": {
      "text/plain": [
       "(620,)"
      ]
     },
     "execution_count": 13,
     "metadata": {},
     "output_type": "execute_result"
    }
   ],
   "source": [
    "(model[0].dot(data) + model[1]).shape"
   ]
  },
  {
   "cell_type": "code",
   "execution_count": 14,
   "metadata": {},
   "outputs": [
    {
     "data": {
      "text/plain": [
       "(620,)"
      ]
     },
     "execution_count": 14,
     "metadata": {},
     "output_type": "execute_result"
    }
   ],
   "source": [
    "def sigmoid(dat):\n",
    "    return 1/(1+np.exp(-dat))\n",
    "(sigmoid(model[0].dot(data) + model[1]) - targ).shape"
   ]
  },
  {
   "cell_type": "code",
   "execution_count": 15,
   "metadata": {},
   "outputs": [
    {
     "data": {
      "text/plain": [
       "(620,)"
      ]
     },
     "execution_count": 15,
     "metadata": {},
     "output_type": "execute_result"
    }
   ],
   "source": [
    "def loss(model, data, targ):\n",
    "    pred_prob = sigmoid(model[0].dot(data) + model[1])\n",
    "    return -(targ*(np.log(pred_prob)) + (1-targ)*(np.log(1-pred_prob)))\n",
    "loss(model,data,targ).shape"
   ]
  },
  {
   "cell_type": "code",
   "execution_count": 16,
   "metadata": {},
   "outputs": [
    {
     "data": {
      "text/plain": [
       "array([array([0.24342595, 0.04157825, 0.0379007 , 0.02672099, 0.08394728,\n",
       "       0.49528783, 0.09137094, 0.09576608, 0.3920981 ]),\n",
       "       array([0.57923512])], dtype=object)"
      ]
     },
     "execution_count": 16,
     "metadata": {},
     "output_type": "execute_result"
    }
   ],
   "source": [
    "def grad(model, data, targ):\n",
    "    l = len(targ)\n",
    "    diff = (sigmoid(model[0].dot(data) + model[1]) - targ).reshape(l,1)\n",
    "    sums = (data.dot(diff)/l).sum(axis = 1)\n",
    "    return np.array([sums, np.array([diff.sum()/l])])\n",
    "grad(model, data, targ)"
   ]
  },
  {
   "cell_type": "code",
   "execution_count": 17,
   "metadata": {},
   "outputs": [],
   "source": [
    "model = np.array([np.ones((9)),np.ones(1)])"
   ]
  },
  {
   "cell_type": "code",
   "execution_count": 18,
   "metadata": {},
   "outputs": [],
   "source": [
    "epochs = 100000\n",
    "lr_rate = 0.1\n",
    "\n",
    "for i in range(epochs):\n",
    "    model -= lr_rate * grad(model, data, targ)\n",
    "los = loss(model, data, target).sum()/len(targ)"
   ]
  },
  {
   "cell_type": "code",
   "execution_count": 19,
   "metadata": {},
   "outputs": [
    {
     "data": {
      "text/plain": [
       "(array([array([-2.55291734, -2.51954586, -0.24152605, -0.70670845,  1.95267008,\n",
       "        -0.83912376,  1.71201359,  0.82325008, -0.42171736]),\n",
       "        array([0.11354631])], dtype=object),\n",
       " array([[0.3024911 , 0.53024911, 0.3594306 , ..., 0.3594306 , 0.04626335,\n",
       "         0.3594306 ],\n",
       "        [0.125     , 0.125     , 0.        , ..., 0.125     , 0.25      ,\n",
       "         0.        ],\n",
       "        [0.        , 0.        , 0.        , ..., 0.        , 0.2       ,\n",
       "         0.        ],\n",
       "        ...,\n",
       "        [0.        , 1.        , 0.        , ..., 0.        , 0.        ,\n",
       "         0.        ],\n",
       "        [0.        , 0.        , 0.        , ..., 0.        , 1.        ,\n",
       "         1.        ],\n",
       "        [1.        , 0.        , 1.        , ..., 1.        , 0.        ,\n",
       "         0.        ]]),\n",
       " 0      0\n",
       " 1      1\n",
       " 2      1\n",
       " 3      1\n",
       " 4      0\n",
       "       ..\n",
       " 615    1\n",
       " 616    0\n",
       " 617    0\n",
       " 618    1\n",
       " 619    0\n",
       " Name: Survived, Length: 620, dtype: int64,\n",
       " (9, 620),\n",
       " (620,))"
      ]
     },
     "execution_count": 19,
     "metadata": {},
     "output_type": "execute_result"
    }
   ],
   "source": [
    "model, data, target, data.shape, target.shape"
   ]
  },
  {
   "cell_type": "code",
   "execution_count": 20,
   "metadata": {},
   "outputs": [
    {
     "data": {
      "text/plain": [
       "0.45014931060692775"
      ]
     },
     "execution_count": 20,
     "metadata": {},
     "output_type": "execute_result"
    }
   ],
   "source": [
    "los"
   ]
  },
  {
   "cell_type": "code",
   "execution_count": 21,
   "metadata": {},
   "outputs": [
    {
     "data": {
      "text/plain": [
       "(80.48387096774194, 78.22878228782288)"
      ]
     },
     "execution_count": 21,
     "metadata": {},
     "output_type": "execute_result"
    }
   ],
   "source": [
    "def predic(x):\n",
    "    if x>=0.5:\n",
    "        return 1\n",
    "    else:\n",
    "        return 0\n",
    "\n",
    "predic_v = np.vectorize(predic)\n",
    "pred = predic_v(sigmoid(model[0].dot(data) + model[1]))\n",
    "l = len(targ)\n",
    "accuracy = (1 - np.abs(pred-targ).sum()/l)*100\n",
    "t_pred = predic_v(sigmoid(model[0].dot(t_data) + model[1]))\n",
    "l = len(t_targ)\n",
    "t_accuracy = (1 - np.abs(t_pred-t_targ).sum()/l)*100\n",
    "accuracy, t_accuracy"
   ]
  },
  {
   "cell_type": "code",
   "execution_count": 22,
   "metadata": {},
   "outputs": [
    {
     "data": {
      "text/plain": [
       "0.4383965436310818"
      ]
     },
     "execution_count": 22,
     "metadata": {},
     "output_type": "execute_result"
    }
   ],
   "source": [
    "t_los = loss(model, t_data, t_targ).sum()/l\n",
    "t_los"
   ]
  },
  {
   "cell_type": "code",
   "execution_count": 23,
   "metadata": {},
   "outputs": [
    {
     "data": {
      "text/plain": [
       "(0.7397849462365591, 0.6878306878306879)"
      ]
     },
     "execution_count": 23,
     "metadata": {},
     "output_type": "execute_result"
    }
   ],
   "source": [
    "def f1score(targ,pred):\n",
    "    c = pred==1\n",
    "    d = targ==1\n",
    "    precision = (targ[c]*pred[c]).sum()/len(pred[c])\n",
    "    recall = (targ[d]*pred[d]).sum()/len(targ[d])\n",
    "    return (2*precision*recall)/(precision + recall)\n",
    "f1score(targ,pred), f1score(t_targ,t_pred)"
   ]
  },
  {
   "cell_type": "code",
   "execution_count": 24,
   "metadata": {},
   "outputs": [
    {
     "name": "stdout",
     "output_type": "stream",
     "text": [
      "Train Accuracy of model : 80.48387096774194%\n",
      "Test Accuracy of model : 78.22878228782288%\n",
      "Average NLLloss of model for Train data : 0.45014931060692775\n",
      "Average NLLloss of model for Test data : 0.4383965436310818\n",
      "F1score for Train data : 0.7397849462365591\n",
      "F1score for Test data : 0.6878306878306879\n"
     ]
    }
   ],
   "source": [
    "print(f\"Train Accuracy of model : {accuracy}%\")\n",
    "print(f\"Test Accuracy of model : {t_accuracy}%\")\n",
    "print(f\"Average NLLloss of model for Train data : {los}\")\n",
    "print(f\"Average NLLloss of model for Test data : {t_los}\")\n",
    "print(f\"F1score for Train data : {f1score(targ, pred)}\")\n",
    "print(f\"F1score for Test data : {f1score(t_targ, t_pred)}\")"
   ]
  },
  {
   "cell_type": "code",
   "execution_count": null,
   "metadata": {},
   "outputs": [],
   "source": []
  }
 ],
 "metadata": {
  "kernelspec": {
   "display_name": "Python 3",
   "language": "python",
   "name": "python3"
  },
  "language_info": {
   "codemirror_mode": {
    "name": "ipython",
    "version": 3
   },
   "file_extension": ".py",
   "mimetype": "text/x-python",
   "name": "python",
   "nbconvert_exporter": "python",
   "pygments_lexer": "ipython3",
   "version": "3.8.10"
  }
 },
 "nbformat": 4,
 "nbformat_minor": 4
}
