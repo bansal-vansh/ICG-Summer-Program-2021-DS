{
  "nbformat": 4,
  "nbformat_minor": 0,
  "metadata": {
    "colab": {
      "name": "Logistic Regression Model on Titanic Survival Dataset.ipynb",
      "provenance": [],
      "collapsed_sections": [],
      "authorship_tag": "ABX9TyNVISmnPe3NoggDvt1MN7Bj",
      "include_colab_link": true
    },
    "kernelspec": {
      "name": "python3",
      "display_name": "Python 3"
    },
    "language_info": {
      "name": "python"
    }
  },
  "cells": [
    {
      "cell_type": "markdown",
      "metadata": {
        "id": "view-in-github",
        "colab_type": "text"
      },
      "source": [
        "<a href=\"https://colab.research.google.com/github/DevanshParmar/ICG-Summer-Program-2021-DS/blob/main/Logistic_Regression_Model_on_Titanic_Survival_Dataset.ipynb\" target=\"_parent\"><img src=\"https://colab.research.google.com/assets/colab-badge.svg\" alt=\"Open In Colab\"/></a>"
      ]
    },
    {
      "cell_type": "markdown",
      "metadata": {
        "id": "yW9450se8PQO"
      },
      "source": [
        "## **Logistic Regression Model on Titanic Survival Dataset**\n",
        "This is an implementation of the Logistic Regression Model, one of the most basic machine learning model on the Titanic survival dataset. "
      ]
    },
    {
      "cell_type": "markdown",
      "metadata": {
        "id": "ipq0tEygNrzX"
      },
      "source": [
        "#### **Uploads**\n",
        "Setting up libraries and uploading dataset files.\n"
      ]
    },
    {
      "cell_type": "code",
      "metadata": {
        "id": "YUeghG6C-1jc"
      },
      "source": [
        "import numpy as np\n",
        "import pandas as pd\n",
        "import matplotlib.pyplot as plt\n",
        "import seaborn as sns\n",
        "from google.colab import files"
      ],
      "execution_count": 132,
      "outputs": []
    },
    {
      "cell_type": "code",
      "metadata": {
        "id": "q5ycTCma-1la",
        "colab": {
          "resources": {
            "http://localhost:8080/nbextensions/google.colab/files.js": {
              "data": "Ly8gQ29weXJpZ2h0IDIwMTcgR29vZ2xlIExMQwovLwovLyBMaWNlbnNlZCB1bmRlciB0aGUgQXBhY2hlIExpY2Vuc2UsIFZlcnNpb24gMi4wICh0aGUgIkxpY2Vuc2UiKTsKLy8geW91IG1heSBub3QgdXNlIHRoaXMgZmlsZSBleGNlcHQgaW4gY29tcGxpYW5jZSB3aXRoIHRoZSBMaWNlbnNlLgovLyBZb3UgbWF5IG9idGFpbiBhIGNvcHkgb2YgdGhlIExpY2Vuc2UgYXQKLy8KLy8gICAgICBodHRwOi8vd3d3LmFwYWNoZS5vcmcvbGljZW5zZXMvTElDRU5TRS0yLjAKLy8KLy8gVW5sZXNzIHJlcXVpcmVkIGJ5IGFwcGxpY2FibGUgbGF3IG9yIGFncmVlZCB0byBpbiB3cml0aW5nLCBzb2Z0d2FyZQovLyBkaXN0cmlidXRlZCB1bmRlciB0aGUgTGljZW5zZSBpcyBkaXN0cmlidXRlZCBvbiBhbiAiQVMgSVMiIEJBU0lTLAovLyBXSVRIT1VUIFdBUlJBTlRJRVMgT1IgQ09ORElUSU9OUyBPRiBBTlkgS0lORCwgZWl0aGVyIGV4cHJlc3Mgb3IgaW1wbGllZC4KLy8gU2VlIHRoZSBMaWNlbnNlIGZvciB0aGUgc3BlY2lmaWMgbGFuZ3VhZ2UgZ292ZXJuaW5nIHBlcm1pc3Npb25zIGFuZAovLyBsaW1pdGF0aW9ucyB1bmRlciB0aGUgTGljZW5zZS4KCi8qKgogKiBAZmlsZW92ZXJ2aWV3IEhlbHBlcnMgZm9yIGdvb2dsZS5jb2xhYiBQeXRob24gbW9kdWxlLgogKi8KKGZ1bmN0aW9uKHNjb3BlKSB7CmZ1bmN0aW9uIHNwYW4odGV4dCwgc3R5bGVBdHRyaWJ1dGVzID0ge30pIHsKICBjb25zdCBlbGVtZW50ID0gZG9jdW1lbnQuY3JlYXRlRWxlbWVudCgnc3BhbicpOwogIGVsZW1lbnQudGV4dENvbnRlbnQgPSB0ZXh0OwogIGZvciAoY29uc3Qga2V5IG9mIE9iamVjdC5rZXlzKHN0eWxlQXR0cmlidXRlcykpIHsKICAgIGVsZW1lbnQuc3R5bGVba2V5XSA9IHN0eWxlQXR0cmlidXRlc1trZXldOwogIH0KICByZXR1cm4gZWxlbWVudDsKfQoKLy8gTWF4IG51bWJlciBvZiBieXRlcyB3aGljaCB3aWxsIGJlIHVwbG9hZGVkIGF0IGEgdGltZS4KY29uc3QgTUFYX1BBWUxPQURfU0laRSA9IDEwMCAqIDEwMjQ7CgpmdW5jdGlvbiBfdXBsb2FkRmlsZXMoaW5wdXRJZCwgb3V0cHV0SWQpIHsKICBjb25zdCBzdGVwcyA9IHVwbG9hZEZpbGVzU3RlcChpbnB1dElkLCBvdXRwdXRJZCk7CiAgY29uc3Qgb3V0cHV0RWxlbWVudCA9IGRvY3VtZW50LmdldEVsZW1lbnRCeUlkKG91dHB1dElkKTsKICAvLyBDYWNoZSBzdGVwcyBvbiB0aGUgb3V0cHV0RWxlbWVudCB0byBtYWtlIGl0IGF2YWlsYWJsZSBmb3IgdGhlIG5leHQgY2FsbAogIC8vIHRvIHVwbG9hZEZpbGVzQ29udGludWUgZnJvbSBQeXRob24uCiAgb3V0cHV0RWxlbWVudC5zdGVwcyA9IHN0ZXBzOwoKICByZXR1cm4gX3VwbG9hZEZpbGVzQ29udGludWUob3V0cHV0SWQpOwp9CgovLyBUaGlzIGlzIHJvdWdobHkgYW4gYXN5bmMgZ2VuZXJhdG9yIChub3Qgc3VwcG9ydGVkIGluIHRoZSBicm93c2VyIHlldCksCi8vIHdoZXJlIHRoZXJlIGFyZSBtdWx0aXBsZSBhc3luY2hyb25vdXMgc3RlcHMgYW5kIHRoZSBQeXRob24gc2lkZSBpcyBnb2luZwovLyB0byBwb2xsIGZvciBjb21wbGV0aW9uIG9mIGVhY2ggc3RlcC4KLy8gVGhpcyB1c2VzIGEgUHJvbWlzZSB0byBibG9jayB0aGUgcHl0aG9uIHNpZGUgb24gY29tcGxldGlvbiBvZiBlYWNoIHN0ZXAsCi8vIHRoZW4gcGFzc2VzIHRoZSByZXN1bHQgb2YgdGhlIHByZXZpb3VzIHN0ZXAgYXMgdGhlIGlucHV0IHRvIHRoZSBuZXh0IHN0ZXAuCmZ1bmN0aW9uIF91cGxvYWRGaWxlc0NvbnRpbnVlKG91dHB1dElkKSB7CiAgY29uc3Qgb3V0cHV0RWxlbWVudCA9IGRvY3VtZW50LmdldEVsZW1lbnRCeUlkKG91dHB1dElkKTsKICBjb25zdCBzdGVwcyA9IG91dHB1dEVsZW1lbnQuc3RlcHM7CgogIGNvbnN0IG5leHQgPSBzdGVwcy5uZXh0KG91dHB1dEVsZW1lbnQubGFzdFByb21pc2VWYWx1ZSk7CiAgcmV0dXJuIFByb21pc2UucmVzb2x2ZShuZXh0LnZhbHVlLnByb21pc2UpLnRoZW4oKHZhbHVlKSA9PiB7CiAgICAvLyBDYWNoZSB0aGUgbGFzdCBwcm9taXNlIHZhbHVlIHRvIG1ha2UgaXQgYXZhaWxhYmxlIHRvIHRoZSBuZXh0CiAgICAvLyBzdGVwIG9mIHRoZSBnZW5lcmF0b3IuCiAgICBvdXRwdXRFbGVtZW50Lmxhc3RQcm9taXNlVmFsdWUgPSB2YWx1ZTsKICAgIHJldHVybiBuZXh0LnZhbHVlLnJlc3BvbnNlOwogIH0pOwp9CgovKioKICogR2VuZXJhdG9yIGZ1bmN0aW9uIHdoaWNoIGlzIGNhbGxlZCBiZXR3ZWVuIGVhY2ggYXN5bmMgc3RlcCBvZiB0aGUgdXBsb2FkCiAqIHByb2Nlc3MuCiAqIEBwYXJhbSB7c3RyaW5nfSBpbnB1dElkIEVsZW1lbnQgSUQgb2YgdGhlIGlucHV0IGZpbGUgcGlja2VyIGVsZW1lbnQuCiAqIEBwYXJhbSB7c3RyaW5nfSBvdXRwdXRJZCBFbGVtZW50IElEIG9mIHRoZSBvdXRwdXQgZGlzcGxheS4KICogQHJldHVybiB7IUl0ZXJhYmxlPCFPYmplY3Q+fSBJdGVyYWJsZSBvZiBuZXh0IHN0ZXBzLgogKi8KZnVuY3Rpb24qIHVwbG9hZEZpbGVzU3RlcChpbnB1dElkLCBvdXRwdXRJZCkgewogIGNvbnN0IGlucHV0RWxlbWVudCA9IGRvY3VtZW50LmdldEVsZW1lbnRCeUlkKGlucHV0SWQpOwogIGlucHV0RWxlbWVudC5kaXNhYmxlZCA9IGZhbHNlOwoKICBjb25zdCBvdXRwdXRFbGVtZW50ID0gZG9jdW1lbnQuZ2V0RWxlbWVudEJ5SWQob3V0cHV0SWQpOwogIG91dHB1dEVsZW1lbnQuaW5uZXJIVE1MID0gJyc7CgogIGNvbnN0IHBpY2tlZFByb21pc2UgPSBuZXcgUHJvbWlzZSgocmVzb2x2ZSkgPT4gewogICAgaW5wdXRFbGVtZW50LmFkZEV2ZW50TGlzdGVuZXIoJ2NoYW5nZScsIChlKSA9PiB7CiAgICAgIHJlc29sdmUoZS50YXJnZXQuZmlsZXMpOwogICAgfSk7CiAgfSk7CgogIGNvbnN0IGNhbmNlbCA9IGRvY3VtZW50LmNyZWF0ZUVsZW1lbnQoJ2J1dHRvbicpOwogIGlucHV0RWxlbWVudC5wYXJlbnRFbGVtZW50LmFwcGVuZENoaWxkKGNhbmNlbCk7CiAgY2FuY2VsLnRleHRDb250ZW50ID0gJ0NhbmNlbCB1cGxvYWQnOwogIGNvbnN0IGNhbmNlbFByb21pc2UgPSBuZXcgUHJvbWlzZSgocmVzb2x2ZSkgPT4gewogICAgY2FuY2VsLm9uY2xpY2sgPSAoKSA9PiB7CiAgICAgIHJlc29sdmUobnVsbCk7CiAgICB9OwogIH0pOwoKICAvLyBXYWl0IGZvciB0aGUgdXNlciB0byBwaWNrIHRoZSBmaWxlcy4KICBjb25zdCBmaWxlcyA9IHlpZWxkIHsKICAgIHByb21pc2U6IFByb21pc2UucmFjZShbcGlja2VkUHJvbWlzZSwgY2FuY2VsUHJvbWlzZV0pLAogICAgcmVzcG9uc2U6IHsKICAgICAgYWN0aW9uOiAnc3RhcnRpbmcnLAogICAgfQogIH07CgogIGNhbmNlbC5yZW1vdmUoKTsKCiAgLy8gRGlzYWJsZSB0aGUgaW5wdXQgZWxlbWVudCBzaW5jZSBmdXJ0aGVyIHBpY2tzIGFyZSBub3QgYWxsb3dlZC4KICBpbnB1dEVsZW1lbnQuZGlzYWJsZWQgPSB0cnVlOwoKICBpZiAoIWZpbGVzKSB7CiAgICByZXR1cm4gewogICAgICByZXNwb25zZTogewogICAgICAgIGFjdGlvbjogJ2NvbXBsZXRlJywKICAgICAgfQogICAgfTsKICB9CgogIGZvciAoY29uc3QgZmlsZSBvZiBmaWxlcykgewogICAgY29uc3QgbGkgPSBkb2N1bWVudC5jcmVhdGVFbGVtZW50KCdsaScpOwogICAgbGkuYXBwZW5kKHNwYW4oZmlsZS5uYW1lLCB7Zm9udFdlaWdodDogJ2JvbGQnfSkpOwogICAgbGkuYXBwZW5kKHNwYW4oCiAgICAgICAgYCgke2ZpbGUudHlwZSB8fCAnbi9hJ30pIC0gJHtmaWxlLnNpemV9IGJ5dGVzLCBgICsKICAgICAgICBgbGFzdCBtb2RpZmllZDogJHsKICAgICAgICAgICAgZmlsZS5sYXN0TW9kaWZpZWREYXRlID8gZmlsZS5sYXN0TW9kaWZpZWREYXRlLnRvTG9jYWxlRGF0ZVN0cmluZygpIDoKICAgICAgICAgICAgICAgICAgICAgICAgICAgICAgICAgICAgJ24vYSd9IC0gYCkpOwogICAgY29uc3QgcGVyY2VudCA9IHNwYW4oJzAlIGRvbmUnKTsKICAgIGxpLmFwcGVuZENoaWxkKHBlcmNlbnQpOwoKICAgIG91dHB1dEVsZW1lbnQuYXBwZW5kQ2hpbGQobGkpOwoKICAgIGNvbnN0IGZpbGVEYXRhUHJvbWlzZSA9IG5ldyBQcm9taXNlKChyZXNvbHZlKSA9PiB7CiAgICAgIGNvbnN0IHJlYWRlciA9IG5ldyBGaWxlUmVhZGVyKCk7CiAgICAgIHJlYWRlci5vbmxvYWQgPSAoZSkgPT4gewogICAgICAgIHJlc29sdmUoZS50YXJnZXQucmVzdWx0KTsKICAgICAgfTsKICAgICAgcmVhZGVyLnJlYWRBc0FycmF5QnVmZmVyKGZpbGUpOwogICAgfSk7CiAgICAvLyBXYWl0IGZvciB0aGUgZGF0YSB0byBiZSByZWFkeS4KICAgIGxldCBmaWxlRGF0YSA9IHlpZWxkIHsKICAgICAgcHJvbWlzZTogZmlsZURhdGFQcm9taXNlLAogICAgICByZXNwb25zZTogewogICAgICAgIGFjdGlvbjogJ2NvbnRpbnVlJywKICAgICAgfQogICAgfTsKCiAgICAvLyBVc2UgYSBjaHVua2VkIHNlbmRpbmcgdG8gYXZvaWQgbWVzc2FnZSBzaXplIGxpbWl0cy4gU2VlIGIvNjIxMTU2NjAuCiAgICBsZXQgcG9zaXRpb24gPSAwOwogICAgZG8gewogICAgICBjb25zdCBsZW5ndGggPSBNYXRoLm1pbihmaWxlRGF0YS5ieXRlTGVuZ3RoIC0gcG9zaXRpb24sIE1BWF9QQVlMT0FEX1NJWkUpOwogICAgICBjb25zdCBjaHVuayA9IG5ldyBVaW50OEFycmF5KGZpbGVEYXRhLCBwb3NpdGlvbiwgbGVuZ3RoKTsKICAgICAgcG9zaXRpb24gKz0gbGVuZ3RoOwoKICAgICAgY29uc3QgYmFzZTY0ID0gYnRvYShTdHJpbmcuZnJvbUNoYXJDb2RlLmFwcGx5KG51bGwsIGNodW5rKSk7CiAgICAgIHlpZWxkIHsKICAgICAgICByZXNwb25zZTogewogICAgICAgICAgYWN0aW9uOiAnYXBwZW5kJywKICAgICAgICAgIGZpbGU6IGZpbGUubmFtZSwKICAgICAgICAgIGRhdGE6IGJhc2U2NCwKICAgICAgICB9LAogICAgICB9OwoKICAgICAgbGV0IHBlcmNlbnREb25lID0gZmlsZURhdGEuYnl0ZUxlbmd0aCA9PT0gMCA/CiAgICAgICAgICAxMDAgOgogICAgICAgICAgTWF0aC5yb3VuZCgocG9zaXRpb24gLyBmaWxlRGF0YS5ieXRlTGVuZ3RoKSAqIDEwMCk7CiAgICAgIHBlcmNlbnQudGV4dENvbnRlbnQgPSBgJHtwZXJjZW50RG9uZX0lIGRvbmVgOwoKICAgIH0gd2hpbGUgKHBvc2l0aW9uIDwgZmlsZURhdGEuYnl0ZUxlbmd0aCk7CiAgfQoKICAvLyBBbGwgZG9uZS4KICB5aWVsZCB7CiAgICByZXNwb25zZTogewogICAgICBhY3Rpb246ICdjb21wbGV0ZScsCiAgICB9CiAgfTsKfQoKc2NvcGUuZ29vZ2xlID0gc2NvcGUuZ29vZ2xlIHx8IHt9OwpzY29wZS5nb29nbGUuY29sYWIgPSBzY29wZS5nb29nbGUuY29sYWIgfHwge307CnNjb3BlLmdvb2dsZS5jb2xhYi5fZmlsZXMgPSB7CiAgX3VwbG9hZEZpbGVzLAogIF91cGxvYWRGaWxlc0NvbnRpbnVlLAp9Owp9KShzZWxmKTsK",
              "ok": true,
              "headers": [
                [
                  "content-type",
                  "application/javascript"
                ]
              ],
              "status": 200,
              "status_text": ""
            }
          },
          "base_uri": "https://localhost:8080/",
          "height": 128
        },
        "outputId": "7adbcfb4-9dd8-4f2a-a39c-435e720bf388"
      },
      "source": [
        "upload_train = files.upload()\n",
        "upload_test = files.upload()"
      ],
      "execution_count": 133,
      "outputs": [
        {
          "output_type": "display_data",
          "data": {
            "text/html": [
              "\n",
              "     <input type=\"file\" id=\"files-cb5c7b77-e05c-4677-afbc-df564b061825\" name=\"files[]\" multiple disabled\n",
              "        style=\"border:none\" />\n",
              "     <output id=\"result-cb5c7b77-e05c-4677-afbc-df564b061825\">\n",
              "      Upload widget is only available when the cell has been executed in the\n",
              "      current browser session. Please rerun this cell to enable.\n",
              "      </output>\n",
              "      <script src=\"/nbextensions/google.colab/files.js\"></script> "
            ],
            "text/plain": [
              "<IPython.core.display.HTML object>"
            ]
          },
          "metadata": {
            "tags": []
          }
        },
        {
          "output_type": "stream",
          "text": [
            "Saving train.csv to train (1).csv\n"
          ],
          "name": "stdout"
        },
        {
          "output_type": "display_data",
          "data": {
            "text/html": [
              "\n",
              "     <input type=\"file\" id=\"files-1a3ae5fa-2372-453e-b2d7-4cb922247f9c\" name=\"files[]\" multiple disabled\n",
              "        style=\"border:none\" />\n",
              "     <output id=\"result-1a3ae5fa-2372-453e-b2d7-4cb922247f9c\">\n",
              "      Upload widget is only available when the cell has been executed in the\n",
              "      current browser session. Please rerun this cell to enable.\n",
              "      </output>\n",
              "      <script src=\"/nbextensions/google.colab/files.js\"></script> "
            ],
            "text/plain": [
              "<IPython.core.display.HTML object>"
            ]
          },
          "metadata": {
            "tags": []
          }
        },
        {
          "output_type": "stream",
          "text": [
            "Saving test.csv to test (1).csv\n"
          ],
          "name": "stdout"
        }
      ]
    },
    {
      "cell_type": "markdown",
      "metadata": {
        "id": "ahtoTgVyOItW"
      },
      "source": [
        "#### **Data Preprocessing**\n",
        "Constructing a dataframe and making necessary changes, such as deleting PassId and converting Sex to male=1, female=0 objective case."
      ]
    },
    {
      "cell_type": "code",
      "metadata": {
        "id": "9Moc5MJu-1nx",
        "colab": {
          "base_uri": "https://localhost:8080/"
        },
        "outputId": "d866272d-f6bc-4c28-92f3-479cb87bdc98"
      },
      "source": [
        "col_names = ['PassId', 'Survived', 'PClass', 'Sex', 'Age', 'SibSp', 'ParCh', 'Fare']\n",
        "\n",
        "print(\"Input Dataframes:\")\n",
        "data = pd.read_csv('/content/train.csv')\n",
        "data.columns = col_names\n",
        "print(data.head())\n",
        "data.pop(\"PassId\")\n",
        "print(\" \")\n",
        "\n",
        "test = pd.read_csv('/content/test.csv')\n",
        "test.columns = col_names\n",
        "print(test.head())\n",
        "test.pop(\"PassId\")\n",
        "print(\" \")\n",
        "\n",
        "print(\"Output Dataframes:\")\n",
        "ifmale = pd.get_dummies(data['Sex'], drop_first = True)\n",
        "data = pd.concat([data, ifmale], axis = 1)\n",
        "data.pop(\"Sex\")\n",
        "print(data.head())\n",
        "print(\" \")\n",
        "\n",
        "ifmale = pd.get_dummies(test['Sex'], drop_first = True)\n",
        "test = pd.concat([test, ifmale], axis = 1)\n",
        "test.pop(\"Sex\")\n",
        "print(test.head())"
      ],
      "execution_count": 134,
      "outputs": [
        {
          "output_type": "stream",
          "text": [
            "Input Dataframes:\n",
            "   PassId  Survived  PClass     Sex   Age  SibSp  ParCh     Fare\n",
            "0       1         0       3    male  22.0      1      0   7.2500\n",
            "1       2         1       1  female  38.0      1      0  71.2833\n",
            "2       3         1       3  female  26.0      0      0   7.9250\n",
            "3       4         1       1  female  35.0      1      0  53.1000\n",
            "4       5         0       3    male  35.0      0      0   8.0500\n",
            " \n",
            "   PassId  Survived  PClass   Sex   Age  SibSp  ParCh     Fare\n",
            "0     621         0       3  male  27.0      1      0  14.4542\n",
            "1     622         1       1  male  42.0      1      0  52.5542\n",
            "2     623         1       3  male  20.0      1      1  15.7417\n",
            "3     624         0       3  male  21.0      0      0   7.8542\n",
            "4     625         0       3  male  21.0      0      0  16.1000\n",
            " \n",
            "Output Dataframes:\n",
            "   Survived  PClass   Age  SibSp  ParCh     Fare  male\n",
            "0         0       3  22.0      1      0   7.2500     1\n",
            "1         1       1  38.0      1      0  71.2833     0\n",
            "2         1       3  26.0      0      0   7.9250     0\n",
            "3         1       1  35.0      1      0  53.1000     0\n",
            "4         0       3  35.0      0      0   8.0500     1\n",
            " \n",
            "   Survived  PClass   Age  SibSp  ParCh     Fare  male\n",
            "0         0       3  27.0      1      0  14.4542     1\n",
            "1         1       1  42.0      1      0  52.5542     1\n",
            "2         1       3  20.0      1      1  15.7417     1\n",
            "3         0       3  21.0      0      0   7.8542     1\n",
            "4         0       3  21.0      0      0  16.1000     1\n"
          ],
          "name": "stdout"
        }
      ]
    },
    {
      "cell_type": "markdown",
      "metadata": {
        "id": "TOuAbyTaR49Z"
      },
      "source": [
        "Filling NaN Age values with median age"
      ]
    },
    {
      "cell_type": "code",
      "metadata": {
        "id": "Ckb4d_I3_B1p",
        "colab": {
          "base_uri": "https://localhost:8080/"
        },
        "outputId": "5cc3fe8d-a035-4cb3-ca03-0962dabd5360"
      },
      "source": [
        "data['Age'] = data['Age'].fillna(data['Age'].median())\n",
        "test['Age'] = test['Age'].fillna(test['Age'].median())\n",
        "print(data)\n",
        "print(\" \")\n",
        "print(test)"
      ],
      "execution_count": 135,
      "outputs": [
        {
          "output_type": "stream",
          "text": [
            "     Survived  PClass   Age  SibSp  ParCh     Fare  male\n",
            "0           0       3  22.0      1      0   7.2500     1\n",
            "1           1       1  38.0      1      0  71.2833     0\n",
            "2           1       3  26.0      0      0   7.9250     0\n",
            "3           1       1  35.0      1      0  53.1000     0\n",
            "4           0       3  35.0      0      0   8.0500     1\n",
            "..        ...     ...   ...    ...    ...      ...   ...\n",
            "615         1       2  24.0      1      2  65.0000     0\n",
            "616         0       3  34.0      1      1  14.4000     1\n",
            "617         0       3  26.0      1      0  16.1000     0\n",
            "618         1       2   4.0      2      1  39.0000     0\n",
            "619         0       2  26.0      0      0  10.5000     1\n",
            "\n",
            "[620 rows x 7 columns]\n",
            " \n",
            "     Survived  PClass   Age  SibSp  ParCh     Fare  male\n",
            "0           0       3  27.0      1      0  14.4542     1\n",
            "1           1       1  42.0      1      0  52.5542     1\n",
            "2           1       3  20.0      1      1  15.7417     1\n",
            "3           0       3  21.0      0      0   7.8542     1\n",
            "4           0       3  21.0      0      0  16.1000     1\n",
            "..        ...     ...   ...    ...    ...      ...   ...\n",
            "266         0       2  27.0      0      0  13.0000     1\n",
            "267         1       1  19.0      0      0  30.0000     0\n",
            "268         0       3  28.0      1      2  23.4500     0\n",
            "269         1       1  26.0      0      0  30.0000     1\n",
            "270         0       3  32.0      0      0   7.7500     1\n",
            "\n",
            "[271 rows x 7 columns]\n"
          ],
          "name": "stdout"
        }
      ]
    },
    {
      "cell_type": "markdown",
      "metadata": {
        "id": "EnLzf9GZSFyA"
      },
      "source": [
        "Sending dataframe to NumPy"
      ]
    },
    {
      "cell_type": "code",
      "metadata": {
        "id": "TVyypGJf_Bz2",
        "colab": {
          "base_uri": "https://localhost:8080/"
        },
        "outputId": "7796f6da-575b-4de6-cc05-3c1a727be640"
      },
      "source": [
        "input_train = data[['PClass', 'Age', 'SibSp', 'ParCh', 'Fare', 'male']].to_numpy()\n",
        "output_train = data['Survived'].to_numpy()\n",
        "input_train.shape, len(output_train)\n",
        "\n",
        "input_test = test[['PClass','Age','SibSp','ParCh','Fare','male']].to_numpy()\n",
        "output_test = test['Survived'].to_numpy()\n",
        "input_test.shape, len(output_test)"
      ],
      "execution_count": 136,
      "outputs": [
        {
          "output_type": "execute_result",
          "data": {
            "text/plain": [
              "((271, 6), 271)"
            ]
          },
          "metadata": {
            "tags": []
          },
          "execution_count": 136
        }
      ]
    },
    {
      "cell_type": "markdown",
      "metadata": {
        "id": "tlHfSE1dSOoq"
      },
      "source": [
        "#### **Modeling**\n",
        "In the next blocks, we define, train and optimize our model.\n",
        "1. The first block defines the sigmoid function, necessary for logistic regression.\n",
        "2. The second block defines the optimization function.\n",
        "3. The third block puts up the inital parameters as 0.\n",
        "4. The fourth block runs the training sessions of the model, and finallly outputs the trained theta parameters of the model.\n"
      ]
    },
    {
      "cell_type": "code",
      "metadata": {
        "id": "5kQOSNy__BhD"
      },
      "source": [
        "def g(z):\n",
        "    return 1/(1+np.exp(-z))"
      ],
      "execution_count": 137,
      "outputs": []
    },
    {
      "cell_type": "code",
      "metadata": {
        "id": "ltRfH0wO_Beq"
      },
      "source": [
        "def optimize(x, y, learning_rate, N_iterations, parameters):\n",
        "    size = x.shape[0] #620\n",
        "    weights = parameters[\"weights\"]                                             #theta1-6\n",
        "    bias = parameters[\"bias\"]                                                   #theta0\n",
        "    for i in range(N_iterations):\n",
        "        h = g(bias + np.dot(x, weights))                                        #h becomes the hypothesis function\n",
        "        loss = -1/size * np.sum(y * np.log(h)) + (1 - y) * np.log(1-h)          #log-likelihood\n",
        "        del_weights = 1/size * np.dot(x.T, (h-y))                               #change in weights\n",
        "        del_bias = 1/size * np.sum(h-y)                                         #change in bias\n",
        "        weights = weights - learning_rate * del_weights                         #learning\n",
        "        bias = bias - learning_rate * del_bias                                  #learning\n",
        "    \n",
        "    parameters[\"weights\"] = weights\n",
        "    parameters[\"bias\"] = bias\n",
        "    return parameters"
      ],
      "execution_count": 138,
      "outputs": []
    },
    {
      "cell_type": "code",
      "metadata": {
        "id": "9hv9XF7b_RCo"
      },
      "source": [
        "initial_parameters = {}\n",
        "initial_parameters[\"weights\"] = np.zeros(input_train.shape[1])\n",
        "initial_parameters[\"bias\"] = 0"
      ],
      "execution_count": 139,
      "outputs": []
    },
    {
      "cell_type": "code",
      "metadata": {
        "id": "aLdhOL7r_Q_f",
        "colab": {
          "base_uri": "https://localhost:8080/"
        },
        "outputId": "f6a4d6fa-ee1f-4182-ba3a-e005ccc4ac5a"
      },
      "source": [
        "def train(x, y, lr, N_it):\n",
        "    return optimize(x, y, lr, N_it, initial_parameters)\n",
        "\n",
        "theta = train(input_train, output_train, lr = 0.005, N_it = 5000)\n",
        "print(theta['weights'])"
      ],
      "execution_count": 140,
      "outputs": [
        {
          "output_type": "stream",
          "text": [
            "[-0.06204788  0.00468488 -0.31236042  0.06896576  0.03489376 -1.67715314]\n"
          ],
          "name": "stdout"
        }
      ]
    },
    {
      "cell_type": "markdown",
      "metadata": {
        "id": "htRK4SZmTjKK"
      },
      "source": [
        "#### **Predictions and Accuracy**\n",
        "In the next two blocks, we have measured the various statistical parameters of our model, such as accuracy, loss, F1 score, sensitivity and precision."
      ]
    },
    {
      "cell_type": "code",
      "metadata": {
        "id": "Tp5UaPzFVo9f"
      },
      "source": [
        "def stats(dataset):\n",
        "    z = []\n",
        "    for i in range(dataset.shape[0]):\n",
        "        p  = 0.0\n",
        "        p += theta[\"bias\"]\n",
        "        p += theta[\"weights\"][0] * dataset['PClass'][i]\n",
        "        p += theta[\"weights\"][1] * dataset['Age'][i]\n",
        "        p += theta[\"weights\"][2] * dataset['SibSp'][i]\n",
        "        p += theta[\"weights\"][3] * dataset['ParCh'][i]\n",
        "        p += theta[\"weights\"][4] * dataset['Fare'][i]\n",
        "        p += theta[\"weights\"][5] * dataset['male'][i]\n",
        "        z.insert(len(z), p)\n",
        "    #                              \n",
        "    sigmoids = []\n",
        "    for val in z:\n",
        "        sigmoids.insert(len(sigmoids), g(val))\n",
        "    #                              \n",
        "    predictions = []\n",
        "    for p in sigmoids:\n",
        "        if p >= 0.5:\n",
        "            predictions.insert(len(predictions), 1)\n",
        "        else:\n",
        "            predictions.insert(len(predictions), 0)\n",
        "    prediction = np.array(predictions)\n",
        "    survive_data = np.array(dataset['Survived'])\n",
        "    #                              \n",
        "    loss = 0\n",
        "    f_neg = 0\n",
        "    f_pos = 0 \n",
        "    t_neg = 0\n",
        "    t_pos = 0\n",
        "    #                              \n",
        "    for i, j in zip(prediction, survive_data):\n",
        "        if i == 1 and j == 1:\n",
        "            t_pos+=1\n",
        "        elif i == 1 and j == 0:\n",
        "            f_pos+=1\n",
        "            loss+=1\n",
        "        elif i==0 and j == 1:\n",
        "            f_neg+=1\n",
        "            loss+=1\n",
        "        else:\n",
        "            t_neg+=1\n",
        "    #                              \n",
        "    rec = t_pos / (t_pos + f_neg)\n",
        "    prc = t_pos / (t_pos + f_pos)\n",
        "    acc = (t_pos + t_neg) / (t_pos + t_neg + f_pos + f_neg)\n",
        "    f1s = 2 * prc * rec / (prc + rec)\n",
        "    #                              \n",
        "    print('   Accuracy is {:.2f}%'.format(100*acc))\n",
        "    print('       Loss is',loss)\n",
        "    print('   F1 Score is {:.4f}'.format(f1s))\n",
        "    print('Sensitivity is {:.4f}'.format(rec))\n",
        "    print('  Precision is {:.4f}'.format(prc))"
      ],
      "execution_count": 141,
      "outputs": []
    },
    {
      "cell_type": "code",
      "metadata": {
        "colab": {
          "base_uri": "https://localhost:8080/"
        },
        "id": "JvZM5n-FYBCX",
        "outputId": "6eeec788-2cd5-470c-acdf-3b342cc53ad4"
      },
      "source": [
        "print(\"Statistics for Training dataset are:\")\n",
        "print(\" \")\n",
        "stats(data)\n",
        "print(\" \")\n",
        "print(\" \")\n",
        "print(\"Statistics for Test dataset are:\")\n",
        "print(\" \")\n",
        "stats(test)"
      ],
      "execution_count": 142,
      "outputs": [
        {
          "output_type": "stream",
          "text": [
            "Statistics for Training dataset are:\n",
            " \n",
            "   Accuracy is 74.52%\n",
            "       Loss is 158\n",
            "   F1 Score is 0.7008\n",
            "Sensitivity is 0.7582\n",
            "  Precision is 0.6514\n",
            " \n",
            " \n",
            "Statistics for Test dataset are:\n",
            " \n",
            "   Accuracy is 78.23%\n",
            "       Loss is 59\n",
            "   F1 Score is 0.7177\n",
            "Sensitivity is 0.7653\n",
            "  Precision is 0.6757\n"
          ],
          "name": "stdout"
        }
      ]
    },
    {
      "cell_type": "markdown",
      "metadata": {
        "id": "XRYQhi5b_Zm1"
      },
      "source": [
        "#### **References**\n",
        "\n",
        "1. These lecture notes were extremely helpful in understanding the mathematics of the logistic regression: https://see.stanford.edu/materials/aimlcs229/cs229-notes1.pdf\n",
        "2. Many Towards Data Science (TDS) articles were helpful, especially: www.towardsdatascience.com/building-a-logistic-regression-in-python-step-by-step-becd4d56c9c8\n",
        "3. Another TDS blog was a good help: www.towardsdatascience.com/optimization-loss-function-under-the-hood-part-ii-d20a239cde11\n",
        "4. This Exsilio blog was greatly helpful in visualing the final statistics of the model: www.blog.exsilio.com/all/accuracy-precision-recall-f1-score-interpretation-of-performance-measures/"
      ]
    }
  ]
}
