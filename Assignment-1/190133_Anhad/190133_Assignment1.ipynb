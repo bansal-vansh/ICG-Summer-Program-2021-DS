{
 "cells": [
  {
   "cell_type": "code",
   "execution_count": 1,
   "id": "relevant-conversation",
   "metadata": {},
   "outputs": [],
   "source": [
    "import math\n",
    "import numpy as np\n",
    "import pandas as pd\n",
    "import matplotlib.pyplot as plt"
   ]
  },
  {
   "cell_type": "code",
   "execution_count": 19,
   "id": "suspected-florence",
   "metadata": {},
   "outputs": [],
   "source": [
    "def csvinit(url):\n",
    "  df=pd.read_csv(url)\n",
    "  df=df.replace(to_replace=\"male\",value=0)\n",
    "  df=df.replace(to_replace=\"female\",value=1)\n",
    "  y=np.array(df['Survived'])\n",
    "  mean=df['Age'].mean()\n",
    "  df.fillna(mean,inplace=True)\n",
    "  a=np.array(df)\n",
    "  pclass=np.reshape(a[:,2],(-1,1))\n",
    "  sex=np.reshape(a[:,3],(-1,1))\n",
    "  age=np.reshape(a[:,4],(-1,1))\n",
    "  sibsp=np.reshape(a[:,5],(-1,1))\n",
    "  parch=np.reshape(a[:,6],(-1,1))\n",
    "  fare=np.reshape(a[:,7],(-1,1))\n",
    "  X=[pclass,sex,age,sibsp,parch,fare]\n",
    "  X=np.array(X)\n",
    "  X=X[:,:,0]\n",
    "  X=X.T+0.0001\n",
    "  return X,y"
   ]
  },
  {
   "cell_type": "code",
   "execution_count": 21,
   "id": "disturbed-radiation",
   "metadata": {},
   "outputs": [],
   "source": [
    "def sigmoid(n):\n",
    "  sigm=1/(1+np.exp(-n))\n",
    "  return sigm\n",
    "def modal(epo,X,Y,W):\n",
    "  loss=0\n",
    "  error=[]\n",
    "  for i in range(epo):\n",
    "    for x,y in zip(X,Y):\n",
    "      out=sigmoid(np.dot(x,W.T))\n",
    "      w=np.dot((out-y).T,x)\n",
    "      W=W-lr*w\n",
    "  return W"
   ]
  },
  {
   "cell_type": "code",
   "execution_count": 17,
   "id": "fatal-textbook",
   "metadata": {},
   "outputs": [],
   "source": [
    "def acc(X,Y,W):\n",
    "  loss=0\n",
    "  y_hat=[]\n",
    "  for x in X:\n",
    "    y_hat.append(sigmoid(np.dot(x, W.T)))\n",
    "  y_hat=np.array(y_hat)\n",
    "  for y_act,y_pred in zip(Y,y_hat):\n",
    "    loss=loss-((y_act*math.log(y_pred))-((1-y_act)*(math.log(1-y_pred))))\n",
    "  y_h=[]\n",
    "  for i in y_hat:\n",
    "    if(i>=0.5):\n",
    "      y_h.append(1.0)\n",
    "    else:\n",
    "      y_h.append(0.0)\n",
    "  y_h = np.array(y_h)\n",
    "  y_h[y_h>=0.5] = 1\n",
    "  y_h[y_h<0.5] = 0\n",
    "  falsen=0;truep=0;falsep=0;truen=0;accuracy=0\n",
    "  for i,j in zip(y_h,Y):\n",
    "    if i==j:\n",
    "      accuracy+=1;\n",
    "    if i==1 and j==1:\n",
    "      truep+=1\n",
    "    elif i==1 and j==0:\n",
    "      falsep+=1\n",
    "    elif i==0 and j==1:\n",
    "      falsen+=1\n",
    "    else:\n",
    "      truen+=1\n",
    "  recall=truep/(truep+falsen)\n",
    "  precision=truep/(truep+falsep)\n",
    "  score = 2*precision*recall/(precision+recall)\n",
    "  print('Accuracy : ',accuracy/y_h.shape[0])\n",
    "  print('Loss : ',loss)\n",
    "  print('Score : ',score)"
   ]
  },
  {
   "cell_type": "code",
   "execution_count": 23,
   "id": "remarkable-gravity",
   "metadata": {},
   "outputs": [
    {
     "name": "stdout",
     "output_type": "stream",
     "text": [
      "Training Data\n",
      "\n",
      "Accuracy :  0.8118081180811808\n",
      "Loss :  44.81966193356467\n",
      "Score :  0.7150837988826816\n",
      "Test Data\n",
      "\n",
      "Accuracy :  0.8118081180811808\n",
      "Loss :  44.81966193356467\n",
      "Score :  0.7150837988826816\n"
     ]
    }
   ],
   "source": [
    "trainurl='https://raw.githubusercontent.com/vanshbansal1505/ICG-Summer-Program-2021-DS/main/Assignment-1/data/train.csv'\n",
    "testurl='https://raw.githubusercontent.com/vanshbansal1505/ICG-Summer-Program-2021-DS/main/Assignment-1/data/test.csv'\n",
    "X,Y=csvinit(trainurl)\n",
    "X,Y=csvinit(testurl)\n",
    "W=np.random.rand(6)\n",
    "lr=0.001\n",
    "epochs = 1000\n",
    "W=modal(epochs,X,Y,W)\n",
    "print(\"Training Data\\n\")\n",
    "acc(X,Y,W)\n",
    "print(\"Test Data\\n\")\n",
    "acc(X,Y,W)"
   ]
  },
  {
   "cell_type": "code",
   "execution_count": null,
   "id": "optical-third",
   "metadata": {},
   "outputs": [],
   "source": []
  }
 ],
 "metadata": {
  "kernelspec": {
   "display_name": "Python 3",
   "language": "python",
   "name": "python3"
  },
  "language_info": {
   "codemirror_mode": {
    "name": "ipython",
    "version": 3
   },
   "file_extension": ".py",
   "mimetype": "text/x-python",
   "name": "python",
   "nbconvert_exporter": "python",
   "pygments_lexer": "ipython3",
   "version": "3.6.13"
  }
 },
 "nbformat": 4,
 "nbformat_minor": 5
}
