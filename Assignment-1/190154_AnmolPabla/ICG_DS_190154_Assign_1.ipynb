{
  "nbformat": 4,
  "nbformat_minor": 0,
  "metadata": {
    "colab": {
      "name": "ICG_DS_190154_Assign_1.ipynb",
      "provenance": [],
      "collapsed_sections": []
    },
    "kernelspec": {
      "name": "python3",
      "display_name": "Python 3"
    },
    "language_info": {
      "name": "python"
    }
  },
  "cells": [
    {
      "cell_type": "markdown",
      "metadata": {
        "id": "lvEE_pWIGSXs"
      },
      "source": [
        "###I have tried to avoid using Libraries as much as I could (Computed F1 score etc. by running loops instead of using libraries)\n",
        "\n"
      ]
    },
    {
      "cell_type": "markdown",
      "metadata": {
        "id": "-CHNsLea3ik5"
      },
      "source": [
        "# Data Exploration"
      ]
    },
    {
      "cell_type": "markdown",
      "metadata": {
        "id": "7i249LaL3RuV"
      },
      "source": [
        "##Loading Data and Initial Feature Analysis"
      ]
    },
    {
      "cell_type": "code",
      "metadata": {
        "id": "drW3KPSXmLp_"
      },
      "source": [
        "import matplotlib.pyplot as plt\n",
        "import pandas as pd\n",
        "import numpy as np\n",
        "import math\n",
        "%matplotlib inline"
      ],
      "execution_count": 1,
      "outputs": []
    },
    {
      "cell_type": "code",
      "metadata": {
        "colab": {
          "base_uri": "https://localhost:8080/"
        },
        "id": "x7t2FeOSnMqI",
        "outputId": "c208acc4-9570-4d27-f95c-06989a5f8515"
      },
      "source": [
        "!wget -O train.csv https://raw.githubusercontent.com/vanshbansal1505/ICG-Summer-Program-2021-DS/main/Assignment-1/data/train.csv"
      ],
      "execution_count": 2,
      "outputs": [
        {
          "output_type": "stream",
          "text": [
            "--2021-06-07 06:03:00--  https://raw.githubusercontent.com/vanshbansal1505/ICG-Summer-Program-2021-DS/main/Assignment-1/data/train.csv\n",
            "Resolving raw.githubusercontent.com (raw.githubusercontent.com)... 185.199.110.133, 185.199.108.133, 185.199.109.133, ...\n",
            "Connecting to raw.githubusercontent.com (raw.githubusercontent.com)|185.199.110.133|:443... connected.\n",
            "HTTP request sent, awaiting response... 200 OK\n",
            "Length: 16722 (16K) [text/plain]\n",
            "Saving to: ‘train.csv’\n",
            "\n",
            "\rtrain.csv             0%[                    ]       0  --.-KB/s               \rtrain.csv           100%[===================>]  16.33K  --.-KB/s    in 0s      \n",
            "\n",
            "2021-06-07 06:03:00 (33.1 MB/s) - ‘train.csv’ saved [16722/16722]\n",
            "\n"
          ],
          "name": "stdout"
        }
      ]
    },
    {
      "cell_type": "code",
      "metadata": {
        "colab": {
          "base_uri": "https://localhost:8080/",
          "height": 415
        },
        "id": "HU7ouC5xncXF",
        "outputId": "401a55bc-02de-49fd-d88b-e6d184f8a5b0"
      },
      "source": [
        "train=pd.read_csv('train.csv')\n",
        "train"
      ],
      "execution_count": 3,
      "outputs": [
        {
          "output_type": "execute_result",
          "data": {
            "text/html": [
              "<div>\n",
              "<style scoped>\n",
              "    .dataframe tbody tr th:only-of-type {\n",
              "        vertical-align: middle;\n",
              "    }\n",
              "\n",
              "    .dataframe tbody tr th {\n",
              "        vertical-align: top;\n",
              "    }\n",
              "\n",
              "    .dataframe thead th {\n",
              "        text-align: right;\n",
              "    }\n",
              "</style>\n",
              "<table border=\"1\" class=\"dataframe\">\n",
              "  <thead>\n",
              "    <tr style=\"text-align: right;\">\n",
              "      <th></th>\n",
              "      <th>PassengerId</th>\n",
              "      <th>Survived</th>\n",
              "      <th>Pclass</th>\n",
              "      <th>Sex</th>\n",
              "      <th>Age</th>\n",
              "      <th>SibSp</th>\n",
              "      <th>Parch</th>\n",
              "      <th>Fare</th>\n",
              "    </tr>\n",
              "  </thead>\n",
              "  <tbody>\n",
              "    <tr>\n",
              "      <th>0</th>\n",
              "      <td>1</td>\n",
              "      <td>0</td>\n",
              "      <td>3</td>\n",
              "      <td>male</td>\n",
              "      <td>22.0</td>\n",
              "      <td>1</td>\n",
              "      <td>0</td>\n",
              "      <td>7.2500</td>\n",
              "    </tr>\n",
              "    <tr>\n",
              "      <th>1</th>\n",
              "      <td>2</td>\n",
              "      <td>1</td>\n",
              "      <td>1</td>\n",
              "      <td>female</td>\n",
              "      <td>38.0</td>\n",
              "      <td>1</td>\n",
              "      <td>0</td>\n",
              "      <td>71.2833</td>\n",
              "    </tr>\n",
              "    <tr>\n",
              "      <th>2</th>\n",
              "      <td>3</td>\n",
              "      <td>1</td>\n",
              "      <td>3</td>\n",
              "      <td>female</td>\n",
              "      <td>26.0</td>\n",
              "      <td>0</td>\n",
              "      <td>0</td>\n",
              "      <td>7.9250</td>\n",
              "    </tr>\n",
              "    <tr>\n",
              "      <th>3</th>\n",
              "      <td>4</td>\n",
              "      <td>1</td>\n",
              "      <td>1</td>\n",
              "      <td>female</td>\n",
              "      <td>35.0</td>\n",
              "      <td>1</td>\n",
              "      <td>0</td>\n",
              "      <td>53.1000</td>\n",
              "    </tr>\n",
              "    <tr>\n",
              "      <th>4</th>\n",
              "      <td>5</td>\n",
              "      <td>0</td>\n",
              "      <td>3</td>\n",
              "      <td>male</td>\n",
              "      <td>35.0</td>\n",
              "      <td>0</td>\n",
              "      <td>0</td>\n",
              "      <td>8.0500</td>\n",
              "    </tr>\n",
              "    <tr>\n",
              "      <th>...</th>\n",
              "      <td>...</td>\n",
              "      <td>...</td>\n",
              "      <td>...</td>\n",
              "      <td>...</td>\n",
              "      <td>...</td>\n",
              "      <td>...</td>\n",
              "      <td>...</td>\n",
              "      <td>...</td>\n",
              "    </tr>\n",
              "    <tr>\n",
              "      <th>615</th>\n",
              "      <td>616</td>\n",
              "      <td>1</td>\n",
              "      <td>2</td>\n",
              "      <td>female</td>\n",
              "      <td>24.0</td>\n",
              "      <td>1</td>\n",
              "      <td>2</td>\n",
              "      <td>65.0000</td>\n",
              "    </tr>\n",
              "    <tr>\n",
              "      <th>616</th>\n",
              "      <td>617</td>\n",
              "      <td>0</td>\n",
              "      <td>3</td>\n",
              "      <td>male</td>\n",
              "      <td>34.0</td>\n",
              "      <td>1</td>\n",
              "      <td>1</td>\n",
              "      <td>14.4000</td>\n",
              "    </tr>\n",
              "    <tr>\n",
              "      <th>617</th>\n",
              "      <td>618</td>\n",
              "      <td>0</td>\n",
              "      <td>3</td>\n",
              "      <td>female</td>\n",
              "      <td>26.0</td>\n",
              "      <td>1</td>\n",
              "      <td>0</td>\n",
              "      <td>16.1000</td>\n",
              "    </tr>\n",
              "    <tr>\n",
              "      <th>618</th>\n",
              "      <td>619</td>\n",
              "      <td>1</td>\n",
              "      <td>2</td>\n",
              "      <td>female</td>\n",
              "      <td>4.0</td>\n",
              "      <td>2</td>\n",
              "      <td>1</td>\n",
              "      <td>39.0000</td>\n",
              "    </tr>\n",
              "    <tr>\n",
              "      <th>619</th>\n",
              "      <td>620</td>\n",
              "      <td>0</td>\n",
              "      <td>2</td>\n",
              "      <td>male</td>\n",
              "      <td>26.0</td>\n",
              "      <td>0</td>\n",
              "      <td>0</td>\n",
              "      <td>10.5000</td>\n",
              "    </tr>\n",
              "  </tbody>\n",
              "</table>\n",
              "<p>620 rows × 8 columns</p>\n",
              "</div>"
            ],
            "text/plain": [
              "     PassengerId  Survived  Pclass     Sex   Age  SibSp  Parch     Fare\n",
              "0              1         0       3    male  22.0      1      0   7.2500\n",
              "1              2         1       1  female  38.0      1      0  71.2833\n",
              "2              3         1       3  female  26.0      0      0   7.9250\n",
              "3              4         1       1  female  35.0      1      0  53.1000\n",
              "4              5         0       3    male  35.0      0      0   8.0500\n",
              "..           ...       ...     ...     ...   ...    ...    ...      ...\n",
              "615          616         1       2  female  24.0      1      2  65.0000\n",
              "616          617         0       3    male  34.0      1      1  14.4000\n",
              "617          618         0       3  female  26.0      1      0  16.1000\n",
              "618          619         1       2  female   4.0      2      1  39.0000\n",
              "619          620         0       2    male  26.0      0      0  10.5000\n",
              "\n",
              "[620 rows x 8 columns]"
            ]
          },
          "metadata": {
            "tags": []
          },
          "execution_count": 3
        }
      ]
    },
    {
      "cell_type": "code",
      "metadata": {
        "colab": {
          "base_uri": "https://localhost:8080/"
        },
        "id": "NO5P0mBrnm7n",
        "outputId": "22610e11-c815-4f6a-921a-713de74ac838"
      },
      "source": [
        "train.count()"
      ],
      "execution_count": 4,
      "outputs": [
        {
          "output_type": "execute_result",
          "data": {
            "text/plain": [
              "PassengerId    620\n",
              "Survived       620\n",
              "Pclass         620\n",
              "Sex            620\n",
              "Age            489\n",
              "SibSp          620\n",
              "Parch          620\n",
              "Fare           620\n",
              "dtype: int64"
            ]
          },
          "metadata": {
            "tags": []
          },
          "execution_count": 4
        }
      ]
    },
    {
      "cell_type": "markdown",
      "metadata": {
        "id": "6vOoXx1ln-0c"
      },
      "source": [
        "We see that total Passengers are 620 and all columns except age have 0 non-null values. Age has 489 non-null and 131 null values.\n",
        "Now we explore the data available to us to get an idea about factors that played a role in survival. "
      ]
    },
    {
      "cell_type": "markdown",
      "metadata": {
        "id": "DSvIPcUb2-4C"
      },
      "source": [
        "##Catogerizing Features and deleting Rows with Null Values in Age "
      ]
    },
    {
      "cell_type": "markdown",
      "metadata": {
        "id": "bEEgex9yHEL7"
      },
      "source": [
        "Converting Sex in the data to numerical values; 0 for male, 1 for female"
      ]
    },
    {
      "cell_type": "code",
      "metadata": {
        "id": "BntMecCW9vcu"
      },
      "source": [
        "for i in range(len(train['Sex'])):\n",
        "  if train['Sex'][i]=='male':\n",
        "    train['Sex'][i]=0.0\n",
        "  else:  train['Sex'][i]=1.0"
      ],
      "execution_count": null,
      "outputs": []
    },
    {
      "cell_type": "markdown",
      "metadata": {
        "id": "Kmlkc4O2HaDM"
      },
      "source": [
        "Dropping Rows with age as a NULL value, I attempte replacing age with median and with 0 but it gave lower accuracies on Test Data"
      ]
    },
    {
      "cell_type": "code",
      "metadata": {
        "colab": {
          "base_uri": "https://localhost:8080/",
          "height": 294
        },
        "id": "aEc4OlgRBBwZ",
        "outputId": "378d1287-a2df-4945-a952-f60e3c6856be"
      },
      "source": [
        "train = train.dropna(axis = 0, how ='any')\n",
        "train.describe()"
      ],
      "execution_count": 6,
      "outputs": [
        {
          "output_type": "execute_result",
          "data": {
            "text/html": [
              "<div>\n",
              "<style scoped>\n",
              "    .dataframe tbody tr th:only-of-type {\n",
              "        vertical-align: middle;\n",
              "    }\n",
              "\n",
              "    .dataframe tbody tr th {\n",
              "        vertical-align: top;\n",
              "    }\n",
              "\n",
              "    .dataframe thead th {\n",
              "        text-align: right;\n",
              "    }\n",
              "</style>\n",
              "<table border=\"1\" class=\"dataframe\">\n",
              "  <thead>\n",
              "    <tr style=\"text-align: right;\">\n",
              "      <th></th>\n",
              "      <th>PassengerId</th>\n",
              "      <th>Survived</th>\n",
              "      <th>Pclass</th>\n",
              "      <th>Age</th>\n",
              "      <th>SibSp</th>\n",
              "      <th>Parch</th>\n",
              "      <th>Fare</th>\n",
              "    </tr>\n",
              "  </thead>\n",
              "  <tbody>\n",
              "    <tr>\n",
              "      <th>count</th>\n",
              "      <td>489.000000</td>\n",
              "      <td>489.000000</td>\n",
              "      <td>489.000000</td>\n",
              "      <td>489.000000</td>\n",
              "      <td>489.000000</td>\n",
              "      <td>489.000000</td>\n",
              "      <td>489.000000</td>\n",
              "    </tr>\n",
              "    <tr>\n",
              "      <th>mean</th>\n",
              "      <td>307.022495</td>\n",
              "      <td>0.415133</td>\n",
              "      <td>2.229039</td>\n",
              "      <td>29.781186</td>\n",
              "      <td>0.541922</td>\n",
              "      <td>0.441718</td>\n",
              "      <td>34.233929</td>\n",
              "    </tr>\n",
              "    <tr>\n",
              "      <th>std</th>\n",
              "      <td>177.586591</td>\n",
              "      <td>0.493250</td>\n",
              "      <td>0.837575</td>\n",
              "      <td>14.404998</td>\n",
              "      <td>0.953198</td>\n",
              "      <td>0.845176</td>\n",
              "      <td>48.211438</td>\n",
              "    </tr>\n",
              "    <tr>\n",
              "      <th>min</th>\n",
              "      <td>1.000000</td>\n",
              "      <td>0.000000</td>\n",
              "      <td>1.000000</td>\n",
              "      <td>0.750000</td>\n",
              "      <td>0.000000</td>\n",
              "      <td>0.000000</td>\n",
              "      <td>0.000000</td>\n",
              "    </tr>\n",
              "    <tr>\n",
              "      <th>25%</th>\n",
              "      <td>152.000000</td>\n",
              "      <td>0.000000</td>\n",
              "      <td>1.000000</td>\n",
              "      <td>21.000000</td>\n",
              "      <td>0.000000</td>\n",
              "      <td>0.000000</td>\n",
              "      <td>8.050000</td>\n",
              "    </tr>\n",
              "    <tr>\n",
              "      <th>50%</th>\n",
              "      <td>308.000000</td>\n",
              "      <td>0.000000</td>\n",
              "      <td>2.000000</td>\n",
              "      <td>28.000000</td>\n",
              "      <td>0.000000</td>\n",
              "      <td>0.000000</td>\n",
              "      <td>16.100000</td>\n",
              "    </tr>\n",
              "    <tr>\n",
              "      <th>75%</th>\n",
              "      <td>457.000000</td>\n",
              "      <td>1.000000</td>\n",
              "      <td>3.000000</td>\n",
              "      <td>38.000000</td>\n",
              "      <td>1.000000</td>\n",
              "      <td>1.000000</td>\n",
              "      <td>33.500000</td>\n",
              "    </tr>\n",
              "    <tr>\n",
              "      <th>max</th>\n",
              "      <td>620.000000</td>\n",
              "      <td>1.000000</td>\n",
              "      <td>3.000000</td>\n",
              "      <td>71.000000</td>\n",
              "      <td>5.000000</td>\n",
              "      <td>5.000000</td>\n",
              "      <td>512.329200</td>\n",
              "    </tr>\n",
              "  </tbody>\n",
              "</table>\n",
              "</div>"
            ],
            "text/plain": [
              "       PassengerId    Survived      Pclass  ...       SibSp       Parch        Fare\n",
              "count   489.000000  489.000000  489.000000  ...  489.000000  489.000000  489.000000\n",
              "mean    307.022495    0.415133    2.229039  ...    0.541922    0.441718   34.233929\n",
              "std     177.586591    0.493250    0.837575  ...    0.953198    0.845176   48.211438\n",
              "min       1.000000    0.000000    1.000000  ...    0.000000    0.000000    0.000000\n",
              "25%     152.000000    0.000000    1.000000  ...    0.000000    0.000000    8.050000\n",
              "50%     308.000000    0.000000    2.000000  ...    0.000000    0.000000   16.100000\n",
              "75%     457.000000    1.000000    3.000000  ...    1.000000    1.000000   33.500000\n",
              "max     620.000000    1.000000    3.000000  ...    5.000000    5.000000  512.329200\n",
              "\n",
              "[8 rows x 7 columns]"
            ]
          },
          "metadata": {
            "tags": []
          },
          "execution_count": 6
        }
      ]
    },
    {
      "cell_type": "markdown",
      "metadata": {
        "id": "Qn5Y5WkLHvXk"
      },
      "source": [
        "##Creating catogeries for Fare and Age to plot them with ease for data exploration"
      ]
    },
    {
      "cell_type": "code",
      "metadata": {
        "colab": {
          "base_uri": "https://localhost:8080/"
        },
        "id": "ibyIWU0EsPsd",
        "outputId": "e74fc31d-3626-4c0a-c14e-88279b57aa3e"
      },
      "source": [
        "print(np.mean(train['Fare']),np.median(train['Fare']),np.std(train['Fare']))\n",
        "bins = [-100, 8.05, 16.1, 33.5, 513]\n",
        "labels = [0.0, 1.0, 2.0, 3.0]\n",
        "Fare_cat = pd.cut(train['Fare'], bins = bins, labels=labels)\n",
        "\n",
        "Fare_cat.value_counts()"
      ],
      "execution_count": 7,
      "outputs": [
        {
          "output_type": "stream",
          "text": [
            "34.23392903885475 16.1 48.16211718935626\n"
          ],
          "name": "stdout"
        },
        {
          "output_type": "execute_result",
          "data": {
            "text/plain": [
              "0.0    128\n",
              "3.0    122\n",
              "2.0    121\n",
              "1.0    118\n",
              "Name: Fare, dtype: int64"
            ]
          },
          "metadata": {
            "tags": []
          },
          "execution_count": 7
        }
      ]
    },
    {
      "cell_type": "markdown",
      "metadata": {
        "id": "iVSeXHFX8TcB"
      },
      "source": [
        "We have created an almost even distribution for Fare after catogerizing it"
      ]
    },
    {
      "cell_type": "code",
      "metadata": {
        "colab": {
          "base_uri": "https://localhost:8080/"
        },
        "id": "i_Ly9AC88dKQ",
        "outputId": "926f1840-5a97-4621-b994-b8521edccbd9"
      },
      "source": [
        "bins = [-1, 4, 18, 30, 50, 80]\n",
        "labels = [0.0,1.0,2.0,3.0,4.0]\n",
        "Age_cat = pd.cut(train['Age'], bins = bins, labels=labels)\n",
        "Age_cat.value_counts()"
      ],
      "execution_count": 8,
      "outputs": [
        {
          "output_type": "execute_result",
          "data": {
            "text/plain": [
              "2.0    193\n",
              "3.0    162\n",
              "1.0     62\n",
              "4.0     44\n",
              "0.0     28\n",
              "Name: Age, dtype: int64"
            ]
          },
          "metadata": {
            "tags": []
          },
          "execution_count": 8
        }
      ]
    },
    {
      "cell_type": "markdown",
      "metadata": {
        "id": "X1Qx8zaM9E0J"
      },
      "source": [
        "Age Distribution also catogerised, adults and young people max in number"
      ]
    },
    {
      "cell_type": "markdown",
      "metadata": {
        "id": "U1M4khs02bri"
      },
      "source": [
        "## Calculation Of Percentage Of Survivors for each Feature:"
      ]
    },
    {
      "cell_type": "markdown",
      "metadata": {
        "id": "-NDgbwaiIEl8"
      },
      "source": [
        "I will plot bar graphs for Survival rate for each feature"
      ]
    },
    {
      "cell_type": "code",
      "metadata": {
        "id": "0tLmNdXGyeq-"
      },
      "source": [
        "X1=[1,2,3] \n",
        "Y1=[0,0,0] \n",
        "\n",
        "for i in [1,2,3]:\n",
        "  Y1[i-1] = train['Survived'][train['Pclass']==i].mean()*100\n",
        "\n",
        "X2=['male','female'] \n",
        "Y2=[0,0] \n",
        "\n",
        "for i in [0,1]:\n",
        "  Y2[i] = train['Survived'][train['Sex']==i].mean()*100\n",
        "\n",
        "X3=['0-4','4-18','18-30','30-50','>50'] \n",
        "Y3=[0,0,0,0,0] \n",
        "\n",
        "for i in [0,1,2,3,4]:\n",
        "  Y3[i] = train['Survived'][Age_cat==i].mean()*100\n",
        "\n",
        "X4=[0,1,2,3,4,5] \n",
        "Y4=[0,0,0,0,0,0] \n",
        "\n",
        "for i in [0,1,2,3,4,5]:                                                               # np.unique(train['SibSp']) gives-> array([0, 1, 2, 3, 4, 5])\n",
        "  Y4[i] = train['Survived'][train['SibSp']==i].mean()*100\n",
        "\n",
        "X5=[0,1,2,3,4,5] \n",
        "Y5=[0,0,0,0,0,0] \n",
        "\n",
        "for i in [0,1,2,3,4,5]:                                                               # np.unique(train['Parch']) gives-> array([0, 1, 2, 3, 4, 5])\n",
        "  Y5[i] = train['Survived'][train['Parch']==i].mean()*100\n",
        "\n",
        "X6=['Low','Below Median','Above Median','High'] \n",
        "Y6=[0,0,0,0] \n",
        "\n",
        "for i in [0,1,2,3]:\n",
        "  Y6[i] = train['Survived'][Fare_cat==i].mean()*100\n",
        "\n"
      ],
      "execution_count": 9,
      "outputs": []
    },
    {
      "cell_type": "markdown",
      "metadata": {
        "id": "t9opbQsr2R5J"
      },
      "source": [
        "## Plotting Bar Graphs and Inference from Data Exploration: "
      ]
    },
    {
      "cell_type": "code",
      "metadata": {
        "colab": {
          "base_uri": "https://localhost:8080/",
          "height": 1000
        },
        "id": "1dVUFTmGxU7F",
        "outputId": "aed80394-b0a0-4d33-ab0c-2642464e3df0"
      },
      "source": [
        "plt.bar(X1,Y1,color='#4CAF50') \n",
        "plt.title(\"Percentage Of Survivors Versus Pclass\") \n",
        "plt.xlabel(\"Pclass\") \n",
        "plt.ylabel(\"Percentage of Survivors\") \n",
        "plt.show()\n",
        "\n",
        "plt.bar(X2,Y2,color='#7CAF50') \n",
        "plt.title(\"Percentage Of Survivors Versus Sex\") \n",
        "plt.xlabel(\"Sex\") \n",
        "plt.ylabel(\"Percentage of Survivors\") \n",
        "plt.show()\n",
        "\n",
        "plt.bar(X3,Y3,color='#7CAF50') \n",
        "plt.title(\"Percentage Of Survivors Versus Age Group\") \n",
        "plt.xlabel(\"Age\") \n",
        "plt.ylabel(\"Percentage of Survivors\") \n",
        "plt.show()\n",
        "\n",
        "plt.bar(X4,Y4,color='#4CAF50') \n",
        "plt.title(\"Percentage Of Survivors Versus SibSp\") \n",
        "plt.xlabel(\"SibSp\") \n",
        "plt.ylabel(\"Percentage of Survivors\") \n",
        "plt.show()\n",
        "\n",
        "plt.bar(X5,Y5,color='#4CAF50') \n",
        "plt.title(\"Percentage Of Survivors Versus Parch\") \n",
        "plt.xlabel(\"Parch\") \n",
        "plt.ylabel(\"Percentage of Survivors\") \n",
        "plt.show()\n",
        "\n",
        "plt.bar(X6,Y6,color='#7CAF50') \n",
        "plt.title(\"Percentage Of Survivors Versus Fare\") \n",
        "plt.xlabel(\"Fare\") \n",
        "plt.ylabel(\"Percentage of Survivors\") \n",
        "plt.show()"
      ],
      "execution_count": 10,
      "outputs": [
        {
          "output_type": "display_data",
          "data": {
            "image/png": "[encoded data removed]",
            "text/plain": [
              "<Figure size 432x288 with 1 Axes>"
            ]
          },
          "metadata": {
            "tags": [],
            "needs_background": "light"
          }
        },
        {
          "output_type": "display_data",
          "data": {
            "image/png": "[encoded data removed]",
            "text/plain": [
              "<Figure size 432x288 with 1 Axes>"
            ]
          },
          "metadata": {
            "tags": [],
            "needs_background": "light"
          }
        },
        {
          "output_type": "display_data",
          "data": {
            "image/png": "[encoded data removed]",
            "text/plain": [
              "<Figure size 432x288 with 1 Axes>"
            ]
          },
          "metadata": {
            "tags": [],
            "needs_background": "light"
          }
        },
        {
          "output_type": "display_data",
          "data": {
            "image/png": "[encoded data removed]",
            "text/plain": [
              "<Figure size 432x288 with 1 Axes>"
            ]
          },
          "metadata": {
            "tags": [],
            "needs_background": "light"
          }
        },
        {
          "output_type": "display_data",
          "data": {
            "image/png": "[encoded data removed]",
            "text/plain": [
              "<Figure size 432x288 with 1 Axes>"
            ]
          },
          "metadata": {
            "tags": [],
            "needs_background": "light"
          }
        },
        {
          "output_type": "display_data",
          "data": {
            "image/png": "[encoded data removed]",
            "text/plain": [
              "<Figure size 432x288 with 1 Axes>"
            ]
          },
          "metadata": {
            "tags": [],
            "needs_background": "light"
          }
        }
      ]
    },
    {
      "cell_type": "markdown",
      "metadata": {
        "id": "s6r31Tb20QrM"
      },
      "source": [
        "<p>Clearly, Female passengers have a much greater chance of survival, this might not be completely related to gender but other factors like the fact that women travelled mostly with families and in first class helped their survival. Nevertheless, this is a factor worth considering, we have already converted sex to numerical values to be used by the ML Model. The Age, SibSp and Parch also seem to show variation in Survival Rate.<p> Survival rate also goes up as Pclass improves; higher Fares also improves chance of survival, there is a strong possibility that these two are interrelated, i.e. Higher Fare is generally for Pclass=1. We find if this assumption is true using the plot below: "
      ]
    },
    {
      "cell_type": "markdown",
      "metadata": {
        "id": "rDMyPF2xYxMY"
      },
      "source": [
        "##Deciding Features for Logistic Regression\n"
      ]
    },
    {
      "cell_type": "code",
      "metadata": {
        "colab": {
          "base_uri": "https://localhost:8080/",
          "height": 295
        },
        "id": "KeTuuEJPXq8Z",
        "outputId": "05a6c3cb-c858-4574-990d-5f9dd5270f7b"
      },
      "source": [
        "X7=[1,2,3] \n",
        "Y7=[0,0,0] \n",
        "\n",
        "for i in [1,2,3]:\n",
        "  Y7[i-1] = train['Fare'][train['Pclass']==i].mean()\n",
        "\n",
        "plt.bar(X7,Y7,color='#1CAF50') \n",
        "plt.title(\"Pclass Versus Average Fare\") \n",
        "plt.ylabel(\"Average Fare\") \n",
        "plt.xlabel(\"Pclass\") \n",
        "plt.show()"
      ],
      "execution_count": 11,
      "outputs": [
        {
          "output_type": "display_data",
          "data": {
            "image/png": "[encoded data removed]",
            "text/plain": [
              "<Figure size 432x288 with 1 Axes>"
            ]
          },
          "metadata": {
            "tags": [],
            "needs_background": "light"
          }
        }
      ]
    },
    {
      "cell_type": "markdown",
      "metadata": {
        "id": "DXHRED5NZQn4"
      },
      "source": [
        "<p>Clearly there is a strong correlation between class and Fare, hence we will use only Fare in our model as it represents a richer group of data and avoid using Pclass as it represents similar data and would make training slower and could also reduce accuracy..<p>\n",
        "Therefore, we will use the Features: Sex, Age, SibSp, Parch and Fare."
      ]
    },
    {
      "cell_type": "markdown",
      "metadata": {
        "id": "Xu77lIzxcYAB"
      },
      "source": [
        "#Logistic Regression Model and Training:"
      ]
    },
    {
      "cell_type": "markdown",
      "metadata": {
        "id": "CQ0CSj4TJaYF"
      },
      "source": [
        "Choosing features and normalizing data:"
      ]
    },
    {
      "cell_type": "code",
      "metadata": {
        "colab": {
          "base_uri": "https://localhost:8080/",
          "height": 415
        },
        "id": "iOz_AzGjcJmR",
        "outputId": "3587965f-0645-47e5-a329-6bf4f312e1dc"
      },
      "source": [
        "x_train = train[['Sex','Age','SibSp','Parch','Fare']]\n",
        "y_train = train['Survived']\n",
        "\n",
        "x_train = (x_train-x_train.min())/(x_train.max()-x_train.min())\n",
        "x_train"
      ],
      "execution_count": 12,
      "outputs": [
        {
          "output_type": "execute_result",
          "data": {
            "text/html": [
              "<div>\n",
              "<style scoped>\n",
              "    .dataframe tbody tr th:only-of-type {\n",
              "        vertical-align: middle;\n",
              "    }\n",
              "\n",
              "    .dataframe tbody tr th {\n",
              "        vertical-align: top;\n",
              "    }\n",
              "\n",
              "    .dataframe thead th {\n",
              "        text-align: right;\n",
              "    }\n",
              "</style>\n",
              "<table border=\"1\" class=\"dataframe\">\n",
              "  <thead>\n",
              "    <tr style=\"text-align: right;\">\n",
              "      <th></th>\n",
              "      <th>Sex</th>\n",
              "      <th>Age</th>\n",
              "      <th>SibSp</th>\n",
              "      <th>Parch</th>\n",
              "      <th>Fare</th>\n",
              "    </tr>\n",
              "  </thead>\n",
              "  <tbody>\n",
              "    <tr>\n",
              "      <th>0</th>\n",
              "      <td>0</td>\n",
              "      <td>0.302491</td>\n",
              "      <td>0.2</td>\n",
              "      <td>0.0</td>\n",
              "      <td>0.014151</td>\n",
              "    </tr>\n",
              "    <tr>\n",
              "      <th>1</th>\n",
              "      <td>1</td>\n",
              "      <td>0.530249</td>\n",
              "      <td>0.2</td>\n",
              "      <td>0.0</td>\n",
              "      <td>0.139136</td>\n",
              "    </tr>\n",
              "    <tr>\n",
              "      <th>2</th>\n",
              "      <td>1</td>\n",
              "      <td>0.359431</td>\n",
              "      <td>0.0</td>\n",
              "      <td>0.0</td>\n",
              "      <td>0.015469</td>\n",
              "    </tr>\n",
              "    <tr>\n",
              "      <th>3</th>\n",
              "      <td>1</td>\n",
              "      <td>0.487544</td>\n",
              "      <td>0.2</td>\n",
              "      <td>0.0</td>\n",
              "      <td>0.103644</td>\n",
              "    </tr>\n",
              "    <tr>\n",
              "      <th>4</th>\n",
              "      <td>0</td>\n",
              "      <td>0.487544</td>\n",
              "      <td>0.0</td>\n",
              "      <td>0.0</td>\n",
              "      <td>0.015713</td>\n",
              "    </tr>\n",
              "    <tr>\n",
              "      <th>...</th>\n",
              "      <td>...</td>\n",
              "      <td>...</td>\n",
              "      <td>...</td>\n",
              "      <td>...</td>\n",
              "      <td>...</td>\n",
              "    </tr>\n",
              "    <tr>\n",
              "      <th>615</th>\n",
              "      <td>1</td>\n",
              "      <td>0.330961</td>\n",
              "      <td>0.2</td>\n",
              "      <td>0.4</td>\n",
              "      <td>0.126872</td>\n",
              "    </tr>\n",
              "    <tr>\n",
              "      <th>616</th>\n",
              "      <td>0</td>\n",
              "      <td>0.473310</td>\n",
              "      <td>0.2</td>\n",
              "      <td>0.2</td>\n",
              "      <td>0.028107</td>\n",
              "    </tr>\n",
              "    <tr>\n",
              "      <th>617</th>\n",
              "      <td>1</td>\n",
              "      <td>0.359431</td>\n",
              "      <td>0.2</td>\n",
              "      <td>0.0</td>\n",
              "      <td>0.031425</td>\n",
              "    </tr>\n",
              "    <tr>\n",
              "      <th>618</th>\n",
              "      <td>1</td>\n",
              "      <td>0.046263</td>\n",
              "      <td>0.4</td>\n",
              "      <td>0.2</td>\n",
              "      <td>0.076123</td>\n",
              "    </tr>\n",
              "    <tr>\n",
              "      <th>619</th>\n",
              "      <td>0</td>\n",
              "      <td>0.359431</td>\n",
              "      <td>0.0</td>\n",
              "      <td>0.0</td>\n",
              "      <td>0.020495</td>\n",
              "    </tr>\n",
              "  </tbody>\n",
              "</table>\n",
              "<p>489 rows × 5 columns</p>\n",
              "</div>"
            ],
            "text/plain": [
              "    Sex       Age  SibSp  Parch      Fare\n",
              "0     0  0.302491    0.2    0.0  0.014151\n",
              "1     1  0.530249    0.2    0.0  0.139136\n",
              "2     1  0.359431    0.0    0.0  0.015469\n",
              "3     1  0.487544    0.2    0.0  0.103644\n",
              "4     0  0.487544    0.0    0.0  0.015713\n",
              "..   ..       ...    ...    ...       ...\n",
              "615   1  0.330961    0.2    0.4  0.126872\n",
              "616   0  0.473310    0.2    0.2  0.028107\n",
              "617   1  0.359431    0.2    0.0  0.031425\n",
              "618   1  0.046263    0.4    0.2  0.076123\n",
              "619   0  0.359431    0.0    0.0  0.020495\n",
              "\n",
              "[489 rows x 5 columns]"
            ]
          },
          "metadata": {
            "tags": []
          },
          "execution_count": 12
        }
      ]
    },
    {
      "cell_type": "markdown",
      "metadata": {
        "id": "vaoN97xYJh8a"
      },
      "source": [
        "Defining Sigmoid and loss functions(Loss used is Mean Square Error):"
      ]
    },
    {
      "cell_type": "code",
      "metadata": {
        "id": "FGV6AM32lcs9"
      },
      "source": [
        "def sigmoid(x):\n",
        "  return 1/(1+np.exp(-x))\n",
        "def loss(y_pred, target):\n",
        "  return np.mean((y_pred - target)*(y_pred - target))\n",
        "def cost_func(y_pred, target):\n",
        "  epsilon = 0.0001\n",
        "  return -np.mean( (target*np.log(y_pred+epsilon) ) + ( (1-target)*(np.log(1-y_pred+epsilon)) ) )\n"
      ],
      "execution_count": 13,
      "outputs": []
    },
    {
      "cell_type": "markdown",
      "metadata": {
        "id": "RYQONk6vJqVA"
      },
      "source": [
        "Training Model for different learning rate and plotting loss with epochs: "
      ]
    },
    {
      "cell_type": "code",
      "metadata": {
        "id": "KBMEogF-oTkW",
        "colab": {
          "base_uri": "https://localhost:8080/",
          "height": 1000
        },
        "outputId": "92dc6419-a4de-4151-93e1-a2947779a145"
      },
      "source": [
        "for i in range(70,80):\n",
        "  alpha = 0.1*i \n",
        "  W = [0,0,0,0,0]\n",
        "  losses=[]\n",
        "  costs=[]\n",
        "  epoch= list(range(1, 351))\n",
        "  b = 0\n",
        "  for i in range(350):\n",
        "   pred = np.dot(x_train, W) + b\n",
        "   pred = pred.astype(float)\n",
        "   y_pred = sigmoid(pred)\n",
        "   MSE = loss(y_pred, y_train)\n",
        "   cost = cost_func(y_pred,y_train)\n",
        "   losses.append(MSE)\n",
        "   costs.append(cost)\n",
        "   W = W + alpha * np.dot((y_train-y_pred).T, x_train)/x_train.shape[0]\n",
        "   b = b + alpha * np.mean(y_train-y_pred)\n",
        "  print('Learning Rate:',format(alpha,\".1f\"))\n",
        "  plt.plot(epoch,losses)\n",
        "  plt.plot(epoch,costs)  \n",
        "  plt.legend(['MSE','Cost'])\n",
        "  plt.show()"
      ],
      "execution_count": 14,
      "outputs": [
        {
          "output_type": "stream",
          "text": [
            "Learning Rate: 7.0\n"
          ],
          "name": "stdout"
        },
        {
          "output_type": "display_data",
          "data": {
            "image/png": "[encoded data removed]",
            "text/plain": [
              "<Figure size 432x288 with 1 Axes>"
            ]
          },
          "metadata": {
            "tags": [],
            "needs_background": "light"
          }
        },
        {
          "output_type": "stream",
          "text": [
            "Learning Rate: 7.1\n"
          ],
          "name": "stdout"
        },
        {
          "output_type": "display_data",
          "data": {
            "image/png": "[encoded data removed]",
            "text/plain": [
              "<Figure size 432x288 with 1 Axes>"
            ]
          },
          "metadata": {
            "tags": [],
            "needs_background": "light"
          }
        },
        {
          "output_type": "stream",
          "text": [
            "Learning Rate: 7.2\n"
          ],
          "name": "stdout"
        },
        {
          "output_type": "display_data",
          "data": {
            "image/png": "[encoded data removed]",
            "text/plain": [
              "<Figure size 432x288 with 1 Axes>"
            ]
          },
          "metadata": {
            "tags": [],
            "needs_background": "light"
          }
        },
        {
          "output_type": "stream",
          "text": [
            "Learning Rate: 7.3\n"
          ],
          "name": "stdout"
        },
        {
          "output_type": "display_data",
          "data": {
            "image/png": "[encoded data removed]",
            "text/plain": [
              "<Figure size 432x288 with 1 Axes>"
            ]
          },
          "metadata": {
            "tags": [],
            "needs_background": "light"
          }
        },
        {
          "output_type": "stream",
          "text": [
            "Learning Rate: 7.4\n"
          ],
          "name": "stdout"
        },
        {
          "output_type": "display_data",
          "data": {
            "image/png": "[encoded data removed]",
            "text/plain": [
              "<Figure size 432x288 with 1 Axes>"
            ]
          },
          "metadata": {
            "tags": [],
            "needs_background": "light"
          }
        },
        {
          "output_type": "stream",
          "text": [
            "Learning Rate: 7.5\n"
          ],
          "name": "stdout"
        },
        {
          "output_type": "display_data",
          "data": {
            "image/png": "[encoded data removed]",
            "text/plain": [
              "<Figure size 432x288 with 1 Axes>"
            ]
          },
          "metadata": {
            "tags": [],
            "needs_background": "light"
          }
        },
        {
          "output_type": "stream",
          "text": [
            "Learning Rate: 7.6\n"
          ],
          "name": "stdout"
        },
        {
          "output_type": "display_data",
          "data": {
            "image/png": "[encoded data removed]",
            "text/plain": [
              "<Figure size 432x288 with 1 Axes>"
            ]
          },
          "metadata": {
            "tags": [],
            "needs_background": "light"
          }
        },
        {
          "output_type": "stream",
          "text": [
            "Learning Rate: 7.7\n"
          ],
          "name": "stdout"
        },
        {
          "output_type": "display_data",
          "data": {
            "image/png": "[encoded data removed]",
            "text/plain": [
              "<Figure size 432x288 with 1 Axes>"
            ]
          },
          "metadata": {
            "tags": [],
            "needs_background": "light"
          }
        },
        {
          "output_type": "stream",
          "text": [
            "Learning Rate: 7.8\n"
          ],
          "name": "stdout"
        },
        {
          "output_type": "display_data",
          "data": {
            "image/png": "[encoded data removed]",
            "text/plain": [
              "<Figure size 432x288 with 1 Axes>"
            ]
          },
          "metadata": {
            "tags": [],
            "needs_background": "light"
          }
        },
        {
          "output_type": "stream",
          "text": [
            "Learning Rate: 7.9\n"
          ],
          "name": "stdout"
        },
        {
          "output_type": "display_data",
          "data": {
            "image/png": "[encoded data removed]",
            "text/plain": [
              "<Figure size 432x288 with 1 Axes>"
            ]
          },
          "metadata": {
            "tags": [],
            "needs_background": "light"
          }
        }
      ]
    },
    {
      "cell_type": "markdown",
      "metadata": {
        "id": "qDSwUte5J73g"
      },
      "source": [
        "Learning Rate around 7.2 seems to be the ideal one, beyond it we see fluctuations, also the cost and mean square loss show almost no variation beyond 200 epochs."
      ]
    },
    {
      "cell_type": "code",
      "metadata": {
        "id": "myHUyNhvFx5W"
      },
      "source": [
        "  alpha = 7.2\n",
        "  W = [0,0,0,0,0]\n",
        "  losses=[]\n",
        "  b = 0\n",
        "  for i in range(201):\n",
        "   pred = np.dot(x_train, W) + b\n",
        "   pred = pred.astype(float)\n",
        "   y_pred = sigmoid(pred)\n",
        "   MSE = loss(y_pred, y_train)\n",
        "   cost = cost_func(y_pred,y_train) \n",
        "   losses.append(MSE)\n",
        "   W = W + alpha * np.dot((y_train-y_pred).T, x_train)/x_train.shape[0]\n",
        "   b = b + alpha * np.mean(y_train-y_pred)"
      ],
      "execution_count": 15,
      "outputs": []
    },
    {
      "cell_type": "markdown",
      "metadata": {
        "id": "BxeerMfVKLaU"
      },
      "source": [
        "We now have the trained weights, In sigmoid we take prediction to be 1 when sigmoid gives value >0.5, we store the predicted values below:"
      ]
    },
    {
      "cell_type": "code",
      "metadata": {
        "id": "RhL3KX1WsZkQ"
      },
      "source": [
        "train_prediction = y_pred\n",
        "for i in range(len(y_pred)):\n",
        "  if (y_pred[i]<0.5): train_prediction[i]=0\n",
        "  else: train_prediction[i]=1"
      ],
      "execution_count": 16,
      "outputs": []
    },
    {
      "cell_type": "markdown",
      "metadata": {
        "id": "4zqGCLHZKg-I"
      },
      "source": [
        "Calculating Accuracy, F1 score and printing deliverables "
      ]
    },
    {
      "cell_type": "code",
      "metadata": {
        "colab": {
          "base_uri": "https://localhost:8080/"
        },
        "id": "oDIoRuJfuzdx",
        "outputId": "a64aef35-03ed-455e-b852-ba8b862cbb7c"
      },
      "source": [
        "orig_values=[]\n",
        "for i in y_train:\n",
        "  orig_values.append(i)\n",
        "\n",
        "true_pos = 0\n",
        "false_pos = 0\n",
        "true_neg = 0\n",
        "false_neg = 0\n",
        "\n",
        "\n",
        "for i in range(len(train_prediction)):\n",
        "  if (train_prediction[i]==1 and orig_values[i]==1): true_pos+=1\n",
        "  elif (train_prediction[i]==0 and orig_values[i]==1): false_neg+=1\n",
        "  elif (train_prediction[i]==1 and orig_values[i]==0): false_pos+=1\n",
        "  elif (train_prediction[i]==0 and orig_values[i]==0): true_neg+=1 \n",
        "\n",
        "precision = ((true_pos)/(true_pos+false_pos))\n",
        "recall = ((true_pos)/(true_pos+false_neg))\n",
        "\n",
        "acc = (true_pos+true_neg)/(true_pos+false_neg+true_neg+false_pos)\n",
        "F1_score = (2*precision*recall)/(precision+recall)\n",
        "\n",
        "print('For Training Data:','\\nAccuracy =',acc*100,'%\\nMSE Loss =',MSE,'\\nCost =',cost,'\\nF1 Score =',F1_score)"
      ],
      "execution_count": 17,
      "outputs": [
        {
          "output_type": "stream",
          "text": [
            "For Training Data: \n",
            "Accuracy = 78.11860940695297 %\n",
            "MSE Loss = 0.1615009721962004 \n",
            "Cost = 0.4971774672525892 \n",
            "F1 Score = 0.724935732647815\n"
          ],
          "name": "stdout"
        }
      ]
    },
    {
      "cell_type": "markdown",
      "metadata": {
        "id": "FqPqpxPM5IE8"
      },
      "source": [
        "#Running Model on Test Dataset"
      ]
    },
    {
      "cell_type": "markdown",
      "metadata": {
        "id": "w0a01EtqK3qg"
      },
      "source": [
        "We now load the test dataset, predict values for it and print the deliverables at the end:"
      ]
    },
    {
      "cell_type": "code",
      "metadata": {
        "colab": {
          "base_uri": "https://localhost:8080/"
        },
        "id": "MeFX1EAu5ant",
        "outputId": "490c7cb9-ca78-46b4-93ad-dcca912ab35b"
      },
      "source": [
        "!wget -O test.csv https://raw.githubusercontent.com/vanshbansal1505/ICG-Summer-Program-2021-DS/main/Assignment-1/data/test.csv"
      ],
      "execution_count": 18,
      "outputs": [
        {
          "output_type": "stream",
          "text": [
            "--2021-06-07 06:03:17--  https://raw.githubusercontent.com/vanshbansal1505/ICG-Summer-Program-2021-DS/main/Assignment-1/data/test.csv\n",
            "Resolving raw.githubusercontent.com (raw.githubusercontent.com)... 185.199.108.133, 185.199.109.133, 185.199.111.133, ...\n",
            "Connecting to raw.githubusercontent.com (raw.githubusercontent.com)|185.199.108.133|:443... connected.\n",
            "HTTP request sent, awaiting response... 200 OK\n",
            "Length: 7385 (7.2K) [text/plain]\n",
            "Saving to: ‘test.csv’\n",
            "\n",
            "test.csv            100%[===================>]   7.21K  --.-KB/s    in 0s      \n",
            "\n",
            "2021-06-07 06:03:17 (56.6 MB/s) - ‘test.csv’ saved [7385/7385]\n",
            "\n"
          ],
          "name": "stdout"
        }
      ]
    },
    {
      "cell_type": "code",
      "metadata": {
        "colab": {
          "base_uri": "https://localhost:8080/",
          "height": 415
        },
        "id": "VFLKrByo7gg6",
        "outputId": "f6d1efa7-dfab-44a3-db73-bcd668f0966d"
      },
      "source": [
        "test=pd.read_csv('test.csv')\n",
        "test"
      ],
      "execution_count": 19,
      "outputs": [
        {
          "output_type": "execute_result",
          "data": {
            "text/html": [
              "<div>\n",
              "<style scoped>\n",
              "    .dataframe tbody tr th:only-of-type {\n",
              "        vertical-align: middle;\n",
              "    }\n",
              "\n",
              "    .dataframe tbody tr th {\n",
              "        vertical-align: top;\n",
              "    }\n",
              "\n",
              "    .dataframe thead th {\n",
              "        text-align: right;\n",
              "    }\n",
              "</style>\n",
              "<table border=\"1\" class=\"dataframe\">\n",
              "  <thead>\n",
              "    <tr style=\"text-align: right;\">\n",
              "      <th></th>\n",
              "      <th>PassengerId</th>\n",
              "      <th>Survived</th>\n",
              "      <th>Pclass</th>\n",
              "      <th>Sex</th>\n",
              "      <th>Age</th>\n",
              "      <th>SibSp</th>\n",
              "      <th>Parch</th>\n",
              "      <th>Fare</th>\n",
              "    </tr>\n",
              "  </thead>\n",
              "  <tbody>\n",
              "    <tr>\n",
              "      <th>0</th>\n",
              "      <td>621</td>\n",
              "      <td>0</td>\n",
              "      <td>3</td>\n",
              "      <td>male</td>\n",
              "      <td>27.0</td>\n",
              "      <td>1</td>\n",
              "      <td>0</td>\n",
              "      <td>14.4542</td>\n",
              "    </tr>\n",
              "    <tr>\n",
              "      <th>1</th>\n",
              "      <td>622</td>\n",
              "      <td>1</td>\n",
              "      <td>1</td>\n",
              "      <td>male</td>\n",
              "      <td>42.0</td>\n",
              "      <td>1</td>\n",
              "      <td>0</td>\n",
              "      <td>52.5542</td>\n",
              "    </tr>\n",
              "    <tr>\n",
              "      <th>2</th>\n",
              "      <td>623</td>\n",
              "      <td>1</td>\n",
              "      <td>3</td>\n",
              "      <td>male</td>\n",
              "      <td>20.0</td>\n",
              "      <td>1</td>\n",
              "      <td>1</td>\n",
              "      <td>15.7417</td>\n",
              "    </tr>\n",
              "    <tr>\n",
              "      <th>3</th>\n",
              "      <td>624</td>\n",
              "      <td>0</td>\n",
              "      <td>3</td>\n",
              "      <td>male</td>\n",
              "      <td>21.0</td>\n",
              "      <td>0</td>\n",
              "      <td>0</td>\n",
              "      <td>7.8542</td>\n",
              "    </tr>\n",
              "    <tr>\n",
              "      <th>4</th>\n",
              "      <td>625</td>\n",
              "      <td>0</td>\n",
              "      <td>3</td>\n",
              "      <td>male</td>\n",
              "      <td>21.0</td>\n",
              "      <td>0</td>\n",
              "      <td>0</td>\n",
              "      <td>16.1000</td>\n",
              "    </tr>\n",
              "    <tr>\n",
              "      <th>...</th>\n",
              "      <td>...</td>\n",
              "      <td>...</td>\n",
              "      <td>...</td>\n",
              "      <td>...</td>\n",
              "      <td>...</td>\n",
              "      <td>...</td>\n",
              "      <td>...</td>\n",
              "      <td>...</td>\n",
              "    </tr>\n",
              "    <tr>\n",
              "      <th>266</th>\n",
              "      <td>887</td>\n",
              "      <td>0</td>\n",
              "      <td>2</td>\n",
              "      <td>male</td>\n",
              "      <td>27.0</td>\n",
              "      <td>0</td>\n",
              "      <td>0</td>\n",
              "      <td>13.0000</td>\n",
              "    </tr>\n",
              "    <tr>\n",
              "      <th>267</th>\n",
              "      <td>888</td>\n",
              "      <td>1</td>\n",
              "      <td>1</td>\n",
              "      <td>female</td>\n",
              "      <td>19.0</td>\n",
              "      <td>0</td>\n",
              "      <td>0</td>\n",
              "      <td>30.0000</td>\n",
              "    </tr>\n",
              "    <tr>\n",
              "      <th>268</th>\n",
              "      <td>889</td>\n",
              "      <td>0</td>\n",
              "      <td>3</td>\n",
              "      <td>female</td>\n",
              "      <td>NaN</td>\n",
              "      <td>1</td>\n",
              "      <td>2</td>\n",
              "      <td>23.4500</td>\n",
              "    </tr>\n",
              "    <tr>\n",
              "      <th>269</th>\n",
              "      <td>890</td>\n",
              "      <td>1</td>\n",
              "      <td>1</td>\n",
              "      <td>male</td>\n",
              "      <td>26.0</td>\n",
              "      <td>0</td>\n",
              "      <td>0</td>\n",
              "      <td>30.0000</td>\n",
              "    </tr>\n",
              "    <tr>\n",
              "      <th>270</th>\n",
              "      <td>891</td>\n",
              "      <td>0</td>\n",
              "      <td>3</td>\n",
              "      <td>male</td>\n",
              "      <td>32.0</td>\n",
              "      <td>0</td>\n",
              "      <td>0</td>\n",
              "      <td>7.7500</td>\n",
              "    </tr>\n",
              "  </tbody>\n",
              "</table>\n",
              "<p>271 rows × 8 columns</p>\n",
              "</div>"
            ],
            "text/plain": [
              "     PassengerId  Survived  Pclass     Sex   Age  SibSp  Parch     Fare\n",
              "0            621         0       3    male  27.0      1      0  14.4542\n",
              "1            622         1       1    male  42.0      1      0  52.5542\n",
              "2            623         1       3    male  20.0      1      1  15.7417\n",
              "3            624         0       3    male  21.0      0      0   7.8542\n",
              "4            625         0       3    male  21.0      0      0  16.1000\n",
              "..           ...       ...     ...     ...   ...    ...    ...      ...\n",
              "266          887         0       2    male  27.0      0      0  13.0000\n",
              "267          888         1       1  female  19.0      0      0  30.0000\n",
              "268          889         0       3  female   NaN      1      2  23.4500\n",
              "269          890         1       1    male  26.0      0      0  30.0000\n",
              "270          891         0       3    male  32.0      0      0   7.7500\n",
              "\n",
              "[271 rows x 8 columns]"
            ]
          },
          "metadata": {
            "tags": []
          },
          "execution_count": 19
        }
      ]
    },
    {
      "cell_type": "code",
      "metadata": {
        "id": "8vo2YdeQ72ff"
      },
      "source": [
        "for i in range(len(test['Sex'])):\n",
        "  if test['Sex'][i]=='male':\n",
        "    test['Sex'][i]=0.0\n",
        "  else:  test['Sex'][i]=1.0"
      ],
      "execution_count": null,
      "outputs": []
    },
    {
      "cell_type": "code",
      "metadata": {
        "colab": {
          "base_uri": "https://localhost:8080/",
          "height": 294
        },
        "id": "lxws97-q72qp",
        "outputId": "18ec0148-7047-4ba6-d60f-ef36d23580c8"
      },
      "source": [
        "test = test.dropna(axis = 0, how ='any')\n",
        "test.describe()"
      ],
      "execution_count": 21,
      "outputs": [
        {
          "output_type": "execute_result",
          "data": {
            "text/html": [
              "<div>\n",
              "<style scoped>\n",
              "    .dataframe tbody tr th:only-of-type {\n",
              "        vertical-align: middle;\n",
              "    }\n",
              "\n",
              "    .dataframe tbody tr th {\n",
              "        vertical-align: top;\n",
              "    }\n",
              "\n",
              "    .dataframe thead th {\n",
              "        text-align: right;\n",
              "    }\n",
              "</style>\n",
              "<table border=\"1\" class=\"dataframe\">\n",
              "  <thead>\n",
              "    <tr style=\"text-align: right;\">\n",
              "      <th></th>\n",
              "      <th>PassengerId</th>\n",
              "      <th>Survived</th>\n",
              "      <th>Pclass</th>\n",
              "      <th>Age</th>\n",
              "      <th>SibSp</th>\n",
              "      <th>Parch</th>\n",
              "      <th>Fare</th>\n",
              "    </tr>\n",
              "  </thead>\n",
              "  <tbody>\n",
              "    <tr>\n",
              "      <th>count</th>\n",
              "      <td>225.000000</td>\n",
              "      <td>225.000000</td>\n",
              "      <td>225.000000</td>\n",
              "      <td>225.000000</td>\n",
              "      <td>225.000000</td>\n",
              "      <td>225.000000</td>\n",
              "      <td>225.000000</td>\n",
              "    </tr>\n",
              "    <tr>\n",
              "      <th>mean</th>\n",
              "      <td>756.240000</td>\n",
              "      <td>0.386667</td>\n",
              "      <td>2.253333</td>\n",
              "      <td>29.520756</td>\n",
              "      <td>0.448889</td>\n",
              "      <td>0.408889</td>\n",
              "      <td>35.695519</td>\n",
              "    </tr>\n",
              "    <tr>\n",
              "      <th>std</th>\n",
              "      <td>78.680838</td>\n",
              "      <td>0.488072</td>\n",
              "      <td>0.841342</td>\n",
              "      <td>14.817980</td>\n",
              "      <td>0.875414</td>\n",
              "      <td>0.872144</td>\n",
              "      <td>62.037074</td>\n",
              "    </tr>\n",
              "    <tr>\n",
              "      <th>min</th>\n",
              "      <td>621.000000</td>\n",
              "      <td>0.000000</td>\n",
              "      <td>1.000000</td>\n",
              "      <td>0.420000</td>\n",
              "      <td>0.000000</td>\n",
              "      <td>0.000000</td>\n",
              "      <td>0.000000</td>\n",
              "    </tr>\n",
              "    <tr>\n",
              "      <th>25%</th>\n",
              "      <td>689.000000</td>\n",
              "      <td>0.000000</td>\n",
              "      <td>1.000000</td>\n",
              "      <td>20.000000</td>\n",
              "      <td>0.000000</td>\n",
              "      <td>0.000000</td>\n",
              "      <td>7.925000</td>\n",
              "    </tr>\n",
              "    <tr>\n",
              "      <th>50%</th>\n",
              "      <td>755.000000</td>\n",
              "      <td>0.000000</td>\n",
              "      <td>3.000000</td>\n",
              "      <td>28.000000</td>\n",
              "      <td>0.000000</td>\n",
              "      <td>0.000000</td>\n",
              "      <td>13.500000</td>\n",
              "    </tr>\n",
              "    <tr>\n",
              "      <th>75%</th>\n",
              "      <td>822.000000</td>\n",
              "      <td>1.000000</td>\n",
              "      <td>3.000000</td>\n",
              "      <td>39.000000</td>\n",
              "      <td>1.000000</td>\n",
              "      <td>1.000000</td>\n",
              "      <td>33.000000</td>\n",
              "    </tr>\n",
              "    <tr>\n",
              "      <th>max</th>\n",
              "      <td>891.000000</td>\n",
              "      <td>1.000000</td>\n",
              "      <td>3.000000</td>\n",
              "      <td>80.000000</td>\n",
              "      <td>5.000000</td>\n",
              "      <td>6.000000</td>\n",
              "      <td>512.329200</td>\n",
              "    </tr>\n",
              "  </tbody>\n",
              "</table>\n",
              "</div>"
            ],
            "text/plain": [
              "       PassengerId    Survived      Pclass  ...       SibSp       Parch        Fare\n",
              "count   225.000000  225.000000  225.000000  ...  225.000000  225.000000  225.000000\n",
              "mean    756.240000    0.386667    2.253333  ...    0.448889    0.408889   35.695519\n",
              "std      78.680838    0.488072    0.841342  ...    0.875414    0.872144   62.037074\n",
              "min     621.000000    0.000000    1.000000  ...    0.000000    0.000000    0.000000\n",
              "25%     689.000000    0.000000    1.000000  ...    0.000000    0.000000    7.925000\n",
              "50%     755.000000    0.000000    3.000000  ...    0.000000    0.000000   13.500000\n",
              "75%     822.000000    1.000000    3.000000  ...    1.000000    1.000000   33.000000\n",
              "max     891.000000    1.000000    3.000000  ...    5.000000    6.000000  512.329200\n",
              "\n",
              "[8 rows x 7 columns]"
            ]
          },
          "metadata": {
            "tags": []
          },
          "execution_count": 21
        }
      ]
    },
    {
      "cell_type": "code",
      "metadata": {
        "colab": {
          "base_uri": "https://localhost:8080/",
          "height": 415
        },
        "id": "CixkL8Wj5P9-",
        "outputId": "787554fd-6ff9-4f9a-a8c2-fd43b12d9b9b"
      },
      "source": [
        "x_test = test[['Sex','Age','SibSp','Parch','Fare']]\n",
        "y_test = test['Survived']\n",
        "\n",
        "x_test = (x_test-x_test.min())/(x_test.max()-x_test.min())\n",
        "x_test"
      ],
      "execution_count": 22,
      "outputs": [
        {
          "output_type": "execute_result",
          "data": {
            "text/html": [
              "<div>\n",
              "<style scoped>\n",
              "    .dataframe tbody tr th:only-of-type {\n",
              "        vertical-align: middle;\n",
              "    }\n",
              "\n",
              "    .dataframe tbody tr th {\n",
              "        vertical-align: top;\n",
              "    }\n",
              "\n",
              "    .dataframe thead th {\n",
              "        text-align: right;\n",
              "    }\n",
              "</style>\n",
              "<table border=\"1\" class=\"dataframe\">\n",
              "  <thead>\n",
              "    <tr style=\"text-align: right;\">\n",
              "      <th></th>\n",
              "      <th>Sex</th>\n",
              "      <th>Age</th>\n",
              "      <th>SibSp</th>\n",
              "      <th>Parch</th>\n",
              "      <th>Fare</th>\n",
              "    </tr>\n",
              "  </thead>\n",
              "  <tbody>\n",
              "    <tr>\n",
              "      <th>0</th>\n",
              "      <td>0</td>\n",
              "      <td>0.334004</td>\n",
              "      <td>0.2</td>\n",
              "      <td>0.000000</td>\n",
              "      <td>0.028213</td>\n",
              "    </tr>\n",
              "    <tr>\n",
              "      <th>1</th>\n",
              "      <td>0</td>\n",
              "      <td>0.522493</td>\n",
              "      <td>0.2</td>\n",
              "      <td>0.000000</td>\n",
              "      <td>0.102579</td>\n",
              "    </tr>\n",
              "    <tr>\n",
              "      <th>2</th>\n",
              "      <td>0</td>\n",
              "      <td>0.246042</td>\n",
              "      <td>0.2</td>\n",
              "      <td>0.166667</td>\n",
              "      <td>0.030726</td>\n",
              "    </tr>\n",
              "    <tr>\n",
              "      <th>3</th>\n",
              "      <td>0</td>\n",
              "      <td>0.258608</td>\n",
              "      <td>0.0</td>\n",
              "      <td>0.000000</td>\n",
              "      <td>0.015330</td>\n",
              "    </tr>\n",
              "    <tr>\n",
              "      <th>4</th>\n",
              "      <td>0</td>\n",
              "      <td>0.258608</td>\n",
              "      <td>0.0</td>\n",
              "      <td>0.000000</td>\n",
              "      <td>0.031425</td>\n",
              "    </tr>\n",
              "    <tr>\n",
              "      <th>...</th>\n",
              "      <td>...</td>\n",
              "      <td>...</td>\n",
              "      <td>...</td>\n",
              "      <td>...</td>\n",
              "      <td>...</td>\n",
              "    </tr>\n",
              "    <tr>\n",
              "      <th>265</th>\n",
              "      <td>1</td>\n",
              "      <td>0.484795</td>\n",
              "      <td>0.0</td>\n",
              "      <td>0.833333</td>\n",
              "      <td>0.056848</td>\n",
              "    </tr>\n",
              "    <tr>\n",
              "      <th>266</th>\n",
              "      <td>0</td>\n",
              "      <td>0.334004</td>\n",
              "      <td>0.0</td>\n",
              "      <td>0.000000</td>\n",
              "      <td>0.025374</td>\n",
              "    </tr>\n",
              "    <tr>\n",
              "      <th>267</th>\n",
              "      <td>1</td>\n",
              "      <td>0.233476</td>\n",
              "      <td>0.0</td>\n",
              "      <td>0.000000</td>\n",
              "      <td>0.058556</td>\n",
              "    </tr>\n",
              "    <tr>\n",
              "      <th>269</th>\n",
              "      <td>0</td>\n",
              "      <td>0.321438</td>\n",
              "      <td>0.0</td>\n",
              "      <td>0.000000</td>\n",
              "      <td>0.058556</td>\n",
              "    </tr>\n",
              "    <tr>\n",
              "      <th>270</th>\n",
              "      <td>0</td>\n",
              "      <td>0.396833</td>\n",
              "      <td>0.0</td>\n",
              "      <td>0.000000</td>\n",
              "      <td>0.015127</td>\n",
              "    </tr>\n",
              "  </tbody>\n",
              "</table>\n",
              "<p>225 rows × 5 columns</p>\n",
              "</div>"
            ],
            "text/plain": [
              "    Sex       Age  SibSp     Parch      Fare\n",
              "0     0  0.334004    0.2  0.000000  0.028213\n",
              "1     0  0.522493    0.2  0.000000  0.102579\n",
              "2     0  0.246042    0.2  0.166667  0.030726\n",
              "3     0  0.258608    0.0  0.000000  0.015330\n",
              "4     0  0.258608    0.0  0.000000  0.031425\n",
              "..   ..       ...    ...       ...       ...\n",
              "265   1  0.484795    0.0  0.833333  0.056848\n",
              "266   0  0.334004    0.0  0.000000  0.025374\n",
              "267   1  0.233476    0.0  0.000000  0.058556\n",
              "269   0  0.321438    0.0  0.000000  0.058556\n",
              "270   0  0.396833    0.0  0.000000  0.015127\n",
              "\n",
              "[225 rows x 5 columns]"
            ]
          },
          "metadata": {
            "tags": []
          },
          "execution_count": 22
        }
      ]
    },
    {
      "cell_type": "code",
      "metadata": {
        "id": "5aJROy3y5bjS"
      },
      "source": [
        "pred_test = np.dot(x_test, W) + b\n",
        "pred_test = pred_test.astype(float)\n",
        "y_pred_test = sigmoid(pred_test)"
      ],
      "execution_count": 23,
      "outputs": []
    },
    {
      "cell_type": "code",
      "metadata": {
        "id": "fjRD9ZQk5tYQ"
      },
      "source": [
        "test_prediction = y_pred_test\n",
        "for i in range(len(y_pred_test)):\n",
        "  if (y_pred_test[i]<0.5): test_prediction[i]=0\n",
        "  else: test_prediction[i]=1"
      ],
      "execution_count": 24,
      "outputs": []
    },
    {
      "cell_type": "code",
      "metadata": {
        "colab": {
          "base_uri": "https://localhost:8080/"
        },
        "id": "tk_uKbiR5uGq",
        "outputId": "5016b276-f0e8-4612-fa73-1b8a8a979efd"
      },
      "source": [
        "orig_values_test=[]\n",
        "for i in y_test:\n",
        "  orig_values_test.append(i)\n",
        "\n",
        "true_pos_t = 0\n",
        "false_pos_t = 0\n",
        "true_neg_t = 0\n",
        "false_neg_t = 0\n",
        "\n",
        "\n",
        "for i in range(len(test_prediction)):\n",
        "  if (test_prediction[i]==1 and orig_values_test[i]==1): true_pos_t+=1\n",
        "  elif (test_prediction[i]==0 and orig_values_test[i]==1): false_neg_t+=1\n",
        "  elif (test_prediction[i]==1 and orig_values_test[i]==0): false_pos_t+=1\n",
        "  elif (test_prediction[i]==0 and orig_values_test[i]==0): true_neg_t+=1 \n",
        "\n",
        "precision_t = ((true_pos_t)/(true_pos_t+false_pos_t))\n",
        "recall_t = ((true_pos_t)/(true_pos_t+false_neg_t))\n",
        "\n",
        "acc_t = (true_pos_t+true_neg_t)/(true_pos_t+false_neg_t+true_neg_t+false_pos_t)\n",
        "F1_score_t = (2*precision_t*recall_t)/(precision_t+recall_t)\n",
        "MSE_t = loss(y_pred_test, y_test)\n",
        "cost_t = cost_func(y_pred_test, y_test)\n",
        "\n",
        "print('For Test Data:','\\nAccuracy =',acc_t*100,'%\\nMSE Loss =',MSE_t,'\\nCost =',cost,'\\nF1 Score =',F1_score_t)"
      ],
      "execution_count": 25,
      "outputs": [
        {
          "output_type": "stream",
          "text": [
            "For Test Data: \n",
            "Accuracy = 78.22222222222223 %\n",
            "MSE Loss = 0.21777777777777776 \n",
            "Cost = 0.4971774672525892 \n",
            "F1 Score = 0.6993865030674846\n"
          ],
          "name": "stdout"
        }
      ]
    },
    {
      "cell_type": "markdown",
      "metadata": {
        "id": "VsOGZzVTLOyT"
      },
      "source": [
        "#Final Statistics"
      ]
    },
    {
      "cell_type": "markdown",
      "metadata": {
        "id": "6RxnHUFtLUlv"
      },
      "source": [
        "<p>For Training Data: \n",
        "\n",
        "```\n",
        "Accuracy = 78.11860940695297 %\n",
        "MSE Loss = 0.1615009721962004 \n",
        "Cost = 0.4971774672525892 \n",
        "F1 Score = 0.724935732647815\n",
        "```\n",
        "<p><p>\n",
        "For Test Data: \n",
        "\n",
        "```\n",
        "Accuracy = 78.22222222222223 %\n",
        "MSE Loss = 0.21777777777777776 \n",
        "Cost = 0.4971774672525892 \n",
        "F1 Score = 0.6993865030674846\n",
        "```\n",
        "<p>"
      ]
    },
    {
      "cell_type": "markdown",
      "metadata": {
        "id": "Aslqrb_X6QTo"
      },
      "source": [
        "#Citations:"
      ]
    },
    {
      "cell_type": "markdown",
      "metadata": {
        "id": "0l2KAu0y6T47"
      },
      "source": [
        "https://towardsdatascience.com/logistic-regression-detailed-overview-46c4da4303bc\n",
        "\n",
        "https://medium.com/analytics-vidhya/your-guide-for-logistic-regression-with-titanic-dataset-784943523994\n",
        "\n",
        "https://www.kaggle.com/melikesozeri/logistic-regression-without-scikit-learn\n",
        "\n"
      ]
    }
  ]
}