{
  "nbformat": 4,
  "nbformat_minor": 0,
  "metadata": {
    "colab": {
      "name": "190363.ipynb",
      "provenance": [],
      "collapsed_sections": []
    },
    "kernelspec": {
      "display_name": "Python 3",
      "name": "python3"
    },
    "language_info": {
      "name": "python"
    }
  },
  "cells": [
    {
      "cell_type": "markdown",
      "metadata": {
        "id": "xXT7ezt5-oxi"
      },
      "source": [
        "# Assign 1"
      ]
    },
    {
      "cell_type": "code",
      "metadata": {
        "id": "sLwOYFOf0Z86"
      },
      "source": [
        "# import libraries\n",
        "import pandas as pd\n",
        "import numpy as np\n",
        "import math\n",
        "import matplotlib.pyplot as plt"
      ],
      "execution_count": 98,
      "outputs": []
    },
    {
      "cell_type": "code",
      "metadata": {
        "id": "y7Vb_H5p0YQf"
      },
      "source": [
        "# load csv and extract the y and X part\n",
        "def loadcsv(url):\n",
        "  df = pd.read_csv(url)\n",
        "  #check for any nan values\n",
        "  # print(df.head())\n",
        "  # print(df.describe(include = \"all\"))\n",
        "\n",
        "  # set 1 for female and 0 for male\n",
        "  df = df.replace(to_replace=\"male\", value=0)\n",
        "  df = df.replace(to_replace=\"female\", value=1)\n",
        "\n",
        "  # set y to survived column value\n",
        "  y = np.array(df['Survived'])\n",
        "\n",
        "  # Replace 'nan' with mean of all age as nan values are only in AGE column\n",
        "  mean = df['Age'].mean()\n",
        "  df.fillna(mean, inplace = True)\n",
        "\n",
        "  # csv to 1D array\n",
        "  arr = np.array(df)\n",
        "\n",
        "  # Convert 1D data to matrix form for different columns\n",
        "  pclass = np.reshape(arr[:,2], (-1,1))\n",
        "  sex = np.reshape(arr[:,3], (-1,1))\n",
        "  age = np.reshape(arr[:,4], (-1,1))\n",
        "  sibsp = np.reshape(arr[:,5], (-1,1))\n",
        "  parch = np.reshape(arr[:,6], (-1,1))\n",
        "  fare = np.reshape(arr[:,7], (-1,1))\n",
        "\n",
        "  X = [pclass, sex, age, sibsp, parch, fare]\n",
        "  X = np.array(X)\n",
        "\n",
        "  # create 2D matrix of independent variables\n",
        "  X = X[:,:,0]\n",
        "  # Add 0.0001 so that further there is no problem regarding divisible or log of 0 \n",
        "  X = X.T+0.0001\n",
        "\n",
        "  return X, y"
      ],
      "execution_count": 99,
      "outputs": []
    },
    {
      "cell_type": "code",
      "metadata": {
        "id": "uycdn8O87kL7"
      },
      "source": [
        "# To find value of sigmoid function\n",
        "def sigmoid_func(x):\n",
        "  sig=1/(1+np.exp(-x))\n",
        "  return sig\n",
        "\n",
        "\n",
        "# Modal which returns W based on the training data\n",
        "def modal(epochs, train_X, train_y, W):\n",
        "  loss = 0\n",
        "  error = []\n",
        "  for i in range(epochs):\n",
        "    for x, y in zip(train_X, train_y):\n",
        "      # sigmoid function is 1/1+e^(-WiXi)\n",
        "      out = sigmoid_func(np.dot(x, W.T))\n",
        "      dw =  np.dot((out - y).T, x)\n",
        "      W = W - lr * dw\n",
        "  return W\n"
      ],
      "execution_count": 100,
      "outputs": []
    },
    {
      "cell_type": "code",
      "metadata": {
        "id": "ZuJVPIYomP6p"
      },
      "source": [
        "# To find Accuracy, Loss, f1 Score, True/False Positive/Negative \n",
        "def acc(t_X, t_y, W):\n",
        "  loss = 0\n",
        "  y_hat = []\n",
        "  # print(t_X.shape, t_y.shape)\n",
        "  for x in t_X:\n",
        "\n",
        "    y_hat.append(sigmoid_func(np.dot(x, W.T)))\n",
        "  \n",
        "  y_hat = np.array(y_hat)\n",
        "\n",
        "  for y_act,y_pred in zip(t_y, y_hat):\n",
        "    loss = loss - ((y_act*math.log(y_pred)) - ((1-y_act)*(math.log(1-y_pred))))\n",
        "    # np.log was giving errors\n",
        "\n",
        "  y_h = []\n",
        "  for i in y_hat:\n",
        "    if(i>=0.5):\n",
        "      y_h.append(1.0)\n",
        "    else:\n",
        "      y_h.append(0.0)\n",
        "\n",
        "  y_h = np.array(y_h)\n",
        "\n",
        "  y_h[y_h>=0.5] = 1\n",
        "  y_h[y_h<0.5] = 0\n",
        "\n",
        "  # True positive,\n",
        "  falsen = 0;truep = 0;falsep = 0;truen = 0;accuracy = 0\n",
        "  for i,j in zip(y_h, t_y):\n",
        "    if i == j:\n",
        "      accuracy+=1;\n",
        "    if i == 1 and j == 1:\n",
        "      truep+=1\n",
        "    elif i == 1 and j == 0:\n",
        "      falsep+=1\n",
        "    elif i==0 and j == 1:\n",
        "      falsen+=1\n",
        "    else:\n",
        "      truen+=1\n",
        "\n",
        "  recall = truep/(truep+falsen)\n",
        "  precision = truep/(truep + falsep)\n",
        "  f1_score = 2*precision*recall/(precision+recall)\n",
        "\n",
        "  print('Accuracy = ',accuracy/y_h.shape[0])\n",
        "  print('Loss = ',loss)\n",
        "  print('F1_Score = ',f1_score)"
      ],
      "execution_count": 101,
      "outputs": []
    },
    {
      "cell_type": "code",
      "metadata": {
        "id": "w9eFH70J8czz",
        "colab": {
          "base_uri": "https://localhost:8080/"
        },
        "outputId": "720ea5bc-bc81-4504-febc-01aaf05ad714"
      },
      "source": [
        "trainurl = 'https://raw.githubusercontent.com/vanshbansal1505/ICG-Summer-Program-2021-DS/main/Assignment-1/data/train.csv'\n",
        "testurl = 'https://raw.githubusercontent.com/vanshbansal1505/ICG-Summer-Program-2021-DS/main/Assignment-1/data/test.csv'\n",
        "\n",
        "train_X, train_y = loadcsv(trainurl)\n",
        "test_X, test_y = loadcsv(testurl)\n",
        "\n",
        "# initial theta values with some random values\n",
        "W = np.random.rand(6)\n",
        "\n",
        "# Learning Rate\n",
        "lr = 0.001\n",
        "epochs = 1000\n",
        "\n",
        "W = modal(epochs, train_X, train_y, W)\n",
        "\n",
        "# print(W)\n",
        "print(\"\\nTraining Data\")\n",
        "acc(train_X, train_y, W)\n",
        "print(\"\\nTest Data\")\n",
        "acc(test_X, test_y, W)\n"
      ],
      "execution_count": 102,
      "outputs": [
        {
          "output_type": "stream",
          "text": [
            "\n",
            "Training Data\n",
            "Accuracy =  0.7951612903225806\n",
            "Loss =  118.18834434047605\n",
            "F1_Score =  0.7292110874200427\n",
            "\n",
            "Test Data\n",
            "Accuracy =  0.8007380073800738\n",
            "Loss =  69.61505132408126\n",
            "F1_Score =  0.6931818181818182\n"
          ],
          "name": "stdout"
        }
      ]
    }
  ]
}
