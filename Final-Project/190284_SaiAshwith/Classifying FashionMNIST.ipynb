{
 "cells": [
  {
   "cell_type": "code",
   "execution_count": 1,
   "id": "ebc7373c",
   "metadata": {},
   "outputs": [],
   "source": [
    "import numpy as np\n",
    "import torch\n",
    "import torchvision.transforms as transforms\n",
    "from torchvision import datasets\n",
    "from torch.utils.data.sampler import SubsetRandomSampler"
   ]
  },
  {
   "cell_type": "code",
   "execution_count": 5,
   "id": "216a3d81",
   "metadata": {},
   "outputs": [
    {
     "data": {
      "text/plain": [
       "torch.Size([1, 28, 28])"
      ]
     },
     "execution_count": 5,
     "metadata": {},
     "output_type": "execute_result"
    }
   ],
   "source": [
    "transform = transforms.ToTensor()\n",
    "\n",
    "train_data = datasets.FashionMNIST(root = 'data', train = True,\n",
    "                download = True, transform = transform)\n",
    "test_data = datasets.FashionMNIST(root = 'data', train = True,\n",
    "                download = True, transform = transform)\n",
    "\n",
    "train_data[0][0].shape"
   ]
  },
  {
   "cell_type": "code",
   "execution_count": 6,
   "id": "8db23d77",
   "metadata": {},
   "outputs": [],
   "source": [
    "l = len(train_data)\n",
    "indices = list(range(l))\n",
    "np.random.shuffle(indices)\n",
    "split = int(l * 0.85)\n",
    "train_idx, valid_idx = indices[:split], indices[split:]\n",
    "\n",
    "train_sampler = SubsetRandomSampler(train_idx)\n",
    "valid_sampler = SubsetRandomSampler(valid_idx)\n",
    "\n",
    "train_loader = torch.utils.data.DataLoader(train_data, batch_size = 64, sampler = train_sampler)\n",
    "valid_loader = torch.utils.data.DataLoader(train_data, batch_size = 64, sampler = valid_sampler)\n",
    "test_loader = torch.utils.data.DataLoader(test_data, batch_size = 64)\n"
   ]
  },
  {
   "cell_type": "code",
   "execution_count": 17,
   "id": "e3959767",
   "metadata": {},
   "outputs": [
    {
     "name": "stdout",
     "output_type": "stream",
     "text": [
      "Net(\n",
      "  (conv1): Conv2d(1, 8, kernel_size=(3, 3), stride=(1, 1), padding=(1, 1))\n",
      "  (pool): MaxPool2d(kernel_size=2, stride=2, padding=0, dilation=1, ceil_mode=False)\n",
      "  (conv2): Conv2d(8, 16, kernel_size=(3, 3), stride=(1, 1), padding=(1, 1))\n",
      "  (conv3): Conv2d(16, 32, kernel_size=(3, 3), stride=(1, 1))\n",
      "  (drop1): Dropout2d(p=0.5, inplace=False)\n",
      "  (fc1): Linear(in_features=800, out_features=400, bias=True)\n",
      "  (drop2): Dropout(p=0.5, inplace=False)\n",
      "  (fc2): Linear(in_features=400, out_features=200, bias=True)\n",
      "  (fc3): Linear(in_features=200, out_features=10, bias=True)\n",
      ")\n"
     ]
    },
    {
     "data": {
      "text/plain": [
       "tensor([[-0.0496,  0.0182, -0.0137, -0.0761,  0.0578, -0.0974,  0.0099,  0.0270,\n",
       "          0.0862,  0.0590]], grad_fn=<AddmmBackward>)"
      ]
     },
     "execution_count": 17,
     "metadata": {},
     "output_type": "execute_result"
    }
   ],
   "source": [
    "import torch.nn as nn\n",
    "import torch.nn.functional as F\n",
    "\n",
    "class Net(nn.Module) :\n",
    "    def __init__(self):\n",
    "        super().__init__()\n",
    "        self.conv1 = nn.Conv2d(1, 8, 3, padding=1)\n",
    "        self.pool = nn.MaxPool2d(2,2)\n",
    "        self.conv2 = nn.Conv2d(8, 16, 3, padding=1)\n",
    "        self.conv3 = nn.Conv2d(16, 32, 3, padding=0)\n",
    "        self.drop1 = nn.Dropout2d(0.5)\n",
    "        self.fc1 = nn.Linear(5*5*32, 400, bias = True)\n",
    "        self.drop2 = nn.Dropout(0.5)\n",
    "        self.fc2 = nn.Linear(400, 200, bias = True)\n",
    "        self.fc3 = nn.Linear(200,10, bias = True)\n",
    "    def forward(self, x):\n",
    "        x = self.pool(F.relu(self.conv1(x)))\n",
    "        x = self.pool(F.relu(self.conv2(x)))\n",
    "        x = self.drop1(F.relu(self.conv3(x)))\n",
    "        #print(x.shape)\n",
    "        x = self.drop2(F.relu(self.fc1(torch.flatten(x, start_dim = 1))))\n",
    "        x = self.drop2(F.relu(self.fc2(x)))\n",
    "        x = self.fc3(x)\n",
    "        return x\n",
    "\n",
    "model = Net()\n",
    "\n",
    "print(model)\n",
    "model(train_data[0][0].reshape(1,1,28,28))"
   ]
  },
  {
   "cell_type": "code",
   "execution_count": 18,
   "id": "318fb90a",
   "metadata": {},
   "outputs": [],
   "source": [
    "loss_f = nn.CrossEntropyLoss()\n",
    "optimizer = torch.optim.SGD(model.parameters(), lr = 0.05)"
   ]
  },
  {
   "cell_type": "code",
   "execution_count": 19,
   "id": "e85e0a4a",
   "metadata": {},
   "outputs": [
    {
     "name": "stdout",
     "output_type": "stream",
     "text": [
      "Epoch 1 : TrainLoss = 1.433085103726387, ValidLoss = 0.12020845024585725\n",
      "Better model! inf ==> 0.12020845024585725\n",
      "Epoch 2 : TrainLoss = 0.6856352077325185, ValidLoss = 0.08870885552565257\n",
      "Better model! 0.12020845024585725 ==> 0.08870885552565257\n",
      "Epoch 3 : TrainLoss = 0.5455003498951594, ValidLoss = 0.07778032637039821\n",
      "Better model! 0.08870885552565257 ==> 0.07778032637039821\n",
      "Epoch 4 : TrainLoss = 0.48565272952715555, ValidLoss = 0.06793159152666728\n",
      "Better model! 0.07778032637039821 ==> 0.06793159152666728\n",
      "Epoch 5 : TrainLoss = 0.4424482436180115, ValidLoss = 0.06381408169269562\n",
      "Better model! 0.06793159152666728 ==> 0.06381408169269562\n",
      "Epoch 6 : TrainLoss = 0.41731410558223725, ValidLoss = 0.06109838996728261\n",
      "Better model! 0.06381408169269562 ==> 0.06109838996728261\n",
      "Epoch 7 : TrainLoss = 0.3965791146834691, ValidLoss = 0.05658179663022359\n",
      "Better model! 0.06109838996728261 ==> 0.05658179663022359\n",
      "Epoch 8 : TrainLoss = 0.3784196736892064, ValidLoss = 0.054916665873924894\n",
      "Better model! 0.05658179663022359 ==> 0.054916665873924894\n"
     ]
    }
   ],
   "source": [
    "epocs = 8\n",
    "valid_loss_min = np.inf\n",
    "\n",
    "for epoch in range(epocs):\n",
    "    train_loss = 0.\n",
    "    valid_loss = 0.\n",
    "    \n",
    "    ## train ##\n",
    "    model.train()\n",
    "    for data, target in train_loader :\n",
    "        \n",
    "        optimizer.zero_grad()          #making grads zero\n",
    "        preds = model(data)           #predicting class\n",
    "        loss = loss_f(preds, target)   #calculating loss\n",
    "        loss.backward()               #back propagation\n",
    "        optimizer.step()              #adding gradients to params\n",
    "        train_loss += loss.item() * data.size(0)\n",
    "    \n",
    "    ##validate##\n",
    "    model.eval()\n",
    "    for data, target in valid_loader :\n",
    "        \n",
    "        preds = model(data)\n",
    "        valid_loss += loss_f(preds, target).item() * data.size(0)\n",
    "    \n",
    "    ##avg loss##\n",
    "    train_loss /= len(train_loader.dataset)\n",
    "    valid_loss /= len(valid_loader.dataset)\n",
    "    \n",
    "    print(f'Epoch {epoch+1} : TrainLoss = {train_loss}, ValidLoss = {valid_loss}')\n",
    "    \n",
    "    if valid_loss < valid_loss_min :\n",
    "        print(f'Better model! {valid_loss_min} ==> {valid_loss}')\n",
    "        valid_loss_min = valid_loss\n",
    "        torch.save(model.state_dict(), 'model_FasMNIST.pt')"
   ]
  },
  {
   "cell_type": "code",
   "execution_count": 22,
   "id": "883197fd",
   "metadata": {},
   "outputs": [
    {
     "name": "stderr",
     "output_type": "stream",
     "text": [
      "<ipython-input-22-f0651b11f8a4>:13: UserWarning: Implicit dimension choice for softmax has been deprecated. Change the call to include dim=X as an argument.\n",
      "  correct += ((nn.functional.softmax(pred)).argmax(1) == target).type(torch.float).sum().item()\n"
     ]
    },
    {
     "name": "stdout",
     "output_type": "stream",
     "text": [
      "accuracy - 87.03666666666666\n"
     ]
    }
   ],
   "source": [
    "model.load_state_dict(torch.load('model_FasMNIST.pt'))\n",
    "\n",
    "test_loss = 0.0\n",
    "class_correct = list(0. for i in range(10))\n",
    "class_total = list(0. for i in range(10))\n",
    "\n",
    "model.eval()\n",
    "\n",
    "size = len(test_loader.dataset)\n",
    "correct = 0\n",
    "for data, target in test_loader :\n",
    "    pred = model(data)\n",
    "    correct += ((nn.functional.softmax(pred)).argmax(1) == target).type(torch.float).sum().item()\n",
    "print(f'accuracy - {correct/size * 100}')"
   ]
  },
  {
   "cell_type": "code",
   "execution_count": null,
   "id": "e03b16ac",
   "metadata": {},
   "outputs": [],
   "source": []
  }
 ],
 "metadata": {
  "kernelspec": {
   "display_name": "Python 3",
   "language": "python",
   "name": "python3"
  },
  "language_info": {
   "codemirror_mode": {
    "name": "ipython",
    "version": 3
   },
   "file_extension": ".py",
   "mimetype": "text/x-python",
   "name": "python",
   "nbconvert_exporter": "python",
   "pygments_lexer": "ipython3",
   "version": "3.8.10"
  }
 },
 "nbformat": 4,
 "nbformat_minor": 5
}
