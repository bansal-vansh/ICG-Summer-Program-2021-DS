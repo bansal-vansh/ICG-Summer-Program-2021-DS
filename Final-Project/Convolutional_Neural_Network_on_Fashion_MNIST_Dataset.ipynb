{
  "nbformat": 4,
  "nbformat_minor": 0,
  "metadata": {
    "colab": {
      "name": "Convolutional Neural Network on Fashion MNIST Dataset.ipynb",
      "provenance": [],
      "authorship_tag": "ABX9TyPPwt3Rrf5pE/NyJWhGBGvp",
      "include_colab_link": true
    },
    "kernelspec": {
      "name": "python3",
      "display_name": "Python 3"
    },
    "language_info": {
      "name": "python"
    },
    "accelerator": "GPU"
  },
  "cells": [
    {
      "cell_type": "markdown",
      "metadata": {
        "id": "view-in-github",
        "colab_type": "text"
      },
      "source": [
        "<a href=\"https://colab.research.google.com/github/DevanshParmar/ICG-Summer-Program-2021-DS/blob/main/Convolutional_Neural_Network_on_Fashion_MNIST_Dataset.ipynb\" target=\"_parent\"><img src=\"https://colab.research.google.com/assets/colab-badge.svg\" alt=\"Open In Colab\"/></a>"
      ]
    },
    {
      "cell_type": "markdown",
      "metadata": {
        "id": "w5ECzA7Q7tHH"
      },
      "source": [
        "## **Convolutional Neural Network on Fashion MNIST Dataset**\n",
        "This is a CNN Sequential Model implementation on the Fashion MNIST dataset. The code blocks which I played with and weren't effective have been deleted, and also the error-detection code sections, such as print(), type() etc. Hence the code has shortened to effectively about 100 lines."
      ]
    },
    {
      "cell_type": "markdown",
      "metadata": {
        "id": "kfGQfpC57Gwr"
      },
      "source": [
        "#### **Uploads**\n",
        "Setting up libraries and importing dataset files.\n",
        "1. In the first block, we've imported the libraries, model, layers, optimizer and the data.\n",
        "2. In the scond block we've loaded the data onto the training and testing dataset.\n",
        "3. Finally, we've split the training dataset into training and validation datasets, on an 80:20 ratio."
      ]
    },
    {
      "cell_type": "code",
      "metadata": {
        "id": "q6hAfkeBhiEM"
      },
      "source": [
        "import numpy as np\n",
        "import pandas as pd\n",
        "import tensorflow as tf\n",
        "import matplotlib.pyplot as plt\n",
        "import keras\n",
        "\n",
        "from sklearn.model_selection import train_test_split\n",
        "\n",
        "from keras.models import Sequential\n",
        "from keras.layers import Conv2D, MaxPooling2D, Dense, Flatten, Dropout, Activation, BatchNormalization\n",
        "from keras.optimizers import Adam\n",
        "from keras.datasets import fashion_mnist"
      ],
      "execution_count": 1,
      "outputs": []
    },
    {
      "cell_type": "code",
      "metadata": {
        "id": "oFG00EDDhvpO",
        "colab": {
          "base_uri": "https://localhost:8080/"
        },
        "outputId": "79d39569-60d5-431a-98cf-3e96f8dde454"
      },
      "source": [
        "(X_train, Y_train), (X_test, Y_test) = fashion_mnist.load_data()\n",
        "assert X_train.shape == (60000, 28, 28)\n",
        "assert X_test.shape == (10000, 28, 28)\n",
        "assert Y_train.shape == (60000,)\n",
        "assert Y_test.shape == (10000,)"
      ],
      "execution_count": 2,
      "outputs": [
        {
          "output_type": "stream",
          "text": [
            "Downloading data from https://storage.googleapis.com/tensorflow/tf-keras-datasets/train-labels-idx1-ubyte.gz\n",
            "32768/29515 [=================================] - 0s 0us/step\n",
            "40960/29515 [=========================================] - 0s 0us/step\n",
            "Downloading data from https://storage.googleapis.com/tensorflow/tf-keras-datasets/train-images-idx3-ubyte.gz\n",
            "26427392/26421880 [==============================] - 0s 0us/step\n",
            "26435584/26421880 [==============================] - 0s 0us/step\n",
            "Downloading data from https://storage.googleapis.com/tensorflow/tf-keras-datasets/t10k-labels-idx1-ubyte.gz\n",
            "16384/5148 [===============================================================================================] - 0s 0us/step\n",
            "Downloading data from https://storage.googleapis.com/tensorflow/tf-keras-datasets/t10k-images-idx3-ubyte.gz\n",
            "4423680/4422102 [==============================] - 0s 0us/step\n",
            "4431872/4422102 [==============================] - 0s 0us/step\n"
          ],
          "name": "stdout"
        }
      ]
    },
    {
      "cell_type": "code",
      "metadata": {
        "id": "CXHEuirjsLcJ",
        "colab": {
          "base_uri": "https://localhost:8080/"
        },
        "outputId": "78e07e29-6aab-4b8a-ae5d-983239f7092d"
      },
      "source": [
        "X_train, X_validate, Y_train, Y_validate = train_test_split(X_train, Y_train, test_size = 0.2)\n",
        "X_train.shape[0]"
      ],
      "execution_count": 3,
      "outputs": [
        {
          "output_type": "execute_result",
          "data": {
            "text/plain": [
              "48000"
            ]
          },
          "metadata": {
            "tags": []
          },
          "execution_count": 3
        }
      ]
    },
    {
      "cell_type": "markdown",
      "metadata": {
        "id": "E2JmmHSgCEYg"
      },
      "source": [
        "#### **Modeling**\n",
        "In the next blocks, we train our neural network.\n",
        "1. The first block defines the batch size and the number of epochs over which the model would be trained. After that, the data is reshaped into the required shape.\n",
        "2. The second block defines the sequential CNN model, with various convolutional, normalizing and pooling layers, along with flattening, densing and dropout layers.\n",
        "3. The third block compiles, runs, and trains the neural network.\n"
      ]
    },
    {
      "cell_type": "code",
      "metadata": {
        "id": "IVGQ17tw_hWG"
      },
      "source": [
        "im_rows = 28\n",
        "im_cols = 28\n",
        "n_batch_size = 500\n",
        "n_epochs = 50\n",
        "im_shape = (im_rows, im_cols, 1)\n",
        "\n",
        "X_train = X_train.reshape(X_train.shape[0], *im_shape)\n",
        "X_test = X_test.reshape(X_test.shape[0], *im_shape)\n",
        "X_validate = X_validate.reshape(X_validate.shape[0], *im_shape)"
      ],
      "execution_count": 4,
      "outputs": []
    },
    {
      "cell_type": "code",
      "metadata": {
        "id": "Zy7yUppUIMPF"
      },
      "source": [
        "cnn_model = Sequential([\n",
        "    Conv2D(filters=32, kernel_size=3, input_shape=im_shape, activation='relu'),\n",
        "    BatchNormalization(),\n",
        "    Conv2D(filters=32, kernel_size=3, activation='relu'),\n",
        "    BatchNormalization(),\n",
        "    MaxPooling2D(pool_size=4),\n",
        "    Dropout(0.3),\n",
        "\n",
        "    Flatten(),\n",
        "    Dense(512, activation='relu'),\n",
        "    BatchNormalization(),\n",
        "    Dropout(0.3),\n",
        "    Dense(128, activation='relu'),\n",
        "    Dropout(0.3),\n",
        "    Dense(10, activation='softmax')\n",
        "])"
      ],
      "execution_count": 5,
      "outputs": []
    },
    {
      "cell_type": "code",
      "metadata": {
        "id": "2EkNauy5dnmY",
        "colab": {
          "base_uri": "https://localhost:8080/"
        },
        "outputId": "dc1cc2f2-16f1-4752-86f1-6ec77a895757"
      },
      "source": [
        "cnn_model.compile(\n",
        "    optimizer=Adam(learning_rate=0.00095),\n",
        "    loss='sparse_categorical_crossentropy',\n",
        "    metrics=['accuracy']\n",
        ")\n",
        "\n",
        "cnnm = cnn_model.fit(\n",
        "    X_train, Y_train, batch_size=n_batch_size,\n",
        "    epochs=n_epochs, verbose=1,\n",
        "    validation_data = (X_validate, Y_validate),\n",
        ")"
      ],
      "execution_count": 6,
      "outputs": [
        {
          "output_type": "stream",
          "text": [
            "Epoch 1/50\n",
            "96/96 [==============================] - 52s 47ms/step - loss: 1.0039 - accuracy: 0.6725 - val_loss: 0.3720 - val_accuracy: 0.8686\n",
            "Epoch 2/50\n",
            "96/96 [==============================] - 4s 37ms/step - loss: 0.4177 - accuracy: 0.8491 - val_loss: 0.3048 - val_accuracy: 0.8917\n",
            "Epoch 3/50\n",
            "96/96 [==============================] - 4s 37ms/step - loss: 0.3438 - accuracy: 0.8731 - val_loss: 0.2691 - val_accuracy: 0.9039\n",
            "Epoch 4/50\n",
            "96/96 [==============================] - 4s 37ms/step - loss: 0.3081 - accuracy: 0.8868 - val_loss: 0.2614 - val_accuracy: 0.9071\n",
            "Epoch 5/50\n",
            "96/96 [==============================] - 4s 37ms/step - loss: 0.2854 - accuracy: 0.8926 - val_loss: 0.2460 - val_accuracy: 0.9128\n",
            "Epoch 6/50\n",
            "96/96 [==============================] - 4s 37ms/step - loss: 0.2638 - accuracy: 0.9014 - val_loss: 0.2313 - val_accuracy: 0.9156\n",
            "Epoch 7/50\n",
            "96/96 [==============================] - 4s 37ms/step - loss: 0.2408 - accuracy: 0.9103 - val_loss: 0.2368 - val_accuracy: 0.9153\n",
            "Epoch 8/50\n",
            "96/96 [==============================] - 4s 37ms/step - loss: 0.2340 - accuracy: 0.9130 - val_loss: 0.2304 - val_accuracy: 0.9187\n",
            "Epoch 9/50\n",
            "96/96 [==============================] - 4s 37ms/step - loss: 0.2174 - accuracy: 0.9175 - val_loss: 0.2253 - val_accuracy: 0.9237\n",
            "Epoch 10/50\n",
            "96/96 [==============================] - 4s 37ms/step - loss: 0.2159 - accuracy: 0.9198 - val_loss: 0.2046 - val_accuracy: 0.9275\n",
            "Epoch 11/50\n",
            "96/96 [==============================] - 4s 37ms/step - loss: 0.1971 - accuracy: 0.9272 - val_loss: 0.2121 - val_accuracy: 0.9244\n",
            "Epoch 12/50\n",
            "96/96 [==============================] - 4s 37ms/step - loss: 0.1911 - accuracy: 0.9270 - val_loss: 0.2174 - val_accuracy: 0.9237\n",
            "Epoch 13/50\n",
            "96/96 [==============================] - 4s 37ms/step - loss: 0.1799 - accuracy: 0.9319 - val_loss: 0.2478 - val_accuracy: 0.9118\n",
            "Epoch 14/50\n",
            "96/96 [==============================] - 4s 37ms/step - loss: 0.1758 - accuracy: 0.9327 - val_loss: 0.2027 - val_accuracy: 0.9298\n",
            "Epoch 15/50\n",
            "96/96 [==============================] - 4s 37ms/step - loss: 0.1682 - accuracy: 0.9368 - val_loss: 0.2054 - val_accuracy: 0.9284\n",
            "Epoch 16/50\n",
            "96/96 [==============================] - 4s 37ms/step - loss: 0.1605 - accuracy: 0.9381 - val_loss: 0.2068 - val_accuracy: 0.9285\n",
            "Epoch 17/50\n",
            "96/96 [==============================] - 4s 37ms/step - loss: 0.1544 - accuracy: 0.9409 - val_loss: 0.2096 - val_accuracy: 0.9298\n",
            "Epoch 18/50\n",
            "96/96 [==============================] - 4s 37ms/step - loss: 0.1509 - accuracy: 0.9423 - val_loss: 0.2069 - val_accuracy: 0.9317\n",
            "Epoch 19/50\n",
            "96/96 [==============================] - 4s 37ms/step - loss: 0.1437 - accuracy: 0.9443 - val_loss: 0.2145 - val_accuracy: 0.9297\n",
            "Epoch 20/50\n",
            "96/96 [==============================] - 4s 37ms/step - loss: 0.1373 - accuracy: 0.9467 - val_loss: 0.2079 - val_accuracy: 0.9325\n",
            "Epoch 21/50\n",
            "96/96 [==============================] - 4s 37ms/step - loss: 0.1323 - accuracy: 0.9493 - val_loss: 0.2136 - val_accuracy: 0.9293\n",
            "Epoch 22/50\n",
            "96/96 [==============================] - 4s 37ms/step - loss: 0.1357 - accuracy: 0.9479 - val_loss: 0.2025 - val_accuracy: 0.9325\n",
            "Epoch 23/50\n",
            "96/96 [==============================] - 4s 38ms/step - loss: 0.1232 - accuracy: 0.9529 - val_loss: 0.2018 - val_accuracy: 0.9338\n",
            "Epoch 24/50\n",
            "96/96 [==============================] - 4s 38ms/step - loss: 0.1177 - accuracy: 0.9542 - val_loss: 0.2049 - val_accuracy: 0.9340\n",
            "Epoch 25/50\n",
            "96/96 [==============================] - 4s 38ms/step - loss: 0.1139 - accuracy: 0.9567 - val_loss: 0.2013 - val_accuracy: 0.9359\n",
            "Epoch 26/50\n",
            "96/96 [==============================] - 4s 37ms/step - loss: 0.1083 - accuracy: 0.9583 - val_loss: 0.2073 - val_accuracy: 0.9337\n",
            "Epoch 27/50\n",
            "96/96 [==============================] - 4s 37ms/step - loss: 0.1095 - accuracy: 0.9583 - val_loss: 0.2064 - val_accuracy: 0.9363\n",
            "Epoch 28/50\n",
            "96/96 [==============================] - 4s 37ms/step - loss: 0.1072 - accuracy: 0.9593 - val_loss: 0.2114 - val_accuracy: 0.9354\n",
            "Epoch 29/50\n",
            "96/96 [==============================] - 4s 38ms/step - loss: 0.1027 - accuracy: 0.9596 - val_loss: 0.2207 - val_accuracy: 0.9367\n",
            "Epoch 30/50\n",
            "96/96 [==============================] - 4s 38ms/step - loss: 0.1008 - accuracy: 0.9617 - val_loss: 0.2180 - val_accuracy: 0.9343\n",
            "Epoch 31/50\n",
            "96/96 [==============================] - 4s 37ms/step - loss: 0.0999 - accuracy: 0.9632 - val_loss: 0.2205 - val_accuracy: 0.9344\n",
            "Epoch 32/50\n",
            "96/96 [==============================] - 4s 37ms/step - loss: 0.0946 - accuracy: 0.9639 - val_loss: 0.2301 - val_accuracy: 0.9300\n",
            "Epoch 33/50\n",
            "96/96 [==============================] - 4s 37ms/step - loss: 0.0925 - accuracy: 0.9662 - val_loss: 0.2310 - val_accuracy: 0.9309\n",
            "Epoch 34/50\n",
            "96/96 [==============================] - 4s 37ms/step - loss: 0.0885 - accuracy: 0.9659 - val_loss: 0.2349 - val_accuracy: 0.9317\n",
            "Epoch 35/50\n",
            "96/96 [==============================] - 4s 37ms/step - loss: 0.0847 - accuracy: 0.9686 - val_loss: 0.2219 - val_accuracy: 0.9360\n",
            "Epoch 36/50\n",
            "96/96 [==============================] - 4s 37ms/step - loss: 0.0837 - accuracy: 0.9676 - val_loss: 0.2220 - val_accuracy: 0.9349\n",
            "Epoch 37/50\n",
            "96/96 [==============================] - 4s 37ms/step - loss: 0.0824 - accuracy: 0.9689 - val_loss: 0.2192 - val_accuracy: 0.9378\n",
            "Epoch 38/50\n",
            "96/96 [==============================] - 4s 37ms/step - loss: 0.0771 - accuracy: 0.9704 - val_loss: 0.2458 - val_accuracy: 0.9316\n",
            "Epoch 39/50\n",
            "96/96 [==============================] - 4s 38ms/step - loss: 0.0768 - accuracy: 0.9715 - val_loss: 0.2271 - val_accuracy: 0.9358\n",
            "Epoch 40/50\n",
            "96/96 [==============================] - 4s 37ms/step - loss: 0.0712 - accuracy: 0.9746 - val_loss: 0.2526 - val_accuracy: 0.9316\n",
            "Epoch 41/50\n",
            "96/96 [==============================] - 4s 37ms/step - loss: 0.0770 - accuracy: 0.9709 - val_loss: 0.2406 - val_accuracy: 0.9373\n",
            "Epoch 42/50\n",
            "96/96 [==============================] - 4s 37ms/step - loss: 0.0711 - accuracy: 0.9732 - val_loss: 0.2374 - val_accuracy: 0.9354\n",
            "Epoch 43/50\n",
            "96/96 [==============================] - 4s 37ms/step - loss: 0.0701 - accuracy: 0.9736 - val_loss: 0.2464 - val_accuracy: 0.9342\n",
            "Epoch 44/50\n",
            "96/96 [==============================] - 4s 38ms/step - loss: 0.0726 - accuracy: 0.9734 - val_loss: 0.2398 - val_accuracy: 0.9345\n",
            "Epoch 45/50\n",
            "96/96 [==============================] - 4s 37ms/step - loss: 0.0683 - accuracy: 0.9762 - val_loss: 0.2486 - val_accuracy: 0.9320\n",
            "Epoch 46/50\n",
            "96/96 [==============================] - 4s 37ms/step - loss: 0.0652 - accuracy: 0.9752 - val_loss: 0.2427 - val_accuracy: 0.9355\n",
            "Epoch 47/50\n",
            "96/96 [==============================] - 4s 37ms/step - loss: 0.0631 - accuracy: 0.9760 - val_loss: 0.2452 - val_accuracy: 0.9358\n",
            "Epoch 48/50\n",
            "96/96 [==============================] - 4s 37ms/step - loss: 0.0664 - accuracy: 0.9760 - val_loss: 0.2435 - val_accuracy: 0.9359\n",
            "Epoch 49/50\n",
            "96/96 [==============================] - 4s 37ms/step - loss: 0.0666 - accuracy: 0.9751 - val_loss: 0.2398 - val_accuracy: 0.9342\n",
            "Epoch 50/50\n",
            "96/96 [==============================] - 4s 38ms/step - loss: 0.0620 - accuracy: 0.9774 - val_loss: 0.2543 - val_accuracy: 0.9349\n"
          ],
          "name": "stdout"
        }
      ]
    },
    {
      "cell_type": "markdown",
      "metadata": {
        "id": "2i9a_RN7ArPL"
      },
      "source": [
        "#### **Predictions and Accuracy**\n",
        "In the next block, we have the loss and accuracy over the training and validation datasets."
      ]
    },
    {
      "cell_type": "code",
      "metadata": {
        "id": "ZWxS2lDIxaZs",
        "colab": {
          "base_uri": "https://localhost:8080/"
        },
        "outputId": "1d94ab44-df3e-4fa1-ee3c-937ce930e906"
      },
      "source": [
        "loss_train = cnnm.history['loss']\n",
        "loss_valid = cnnm.history['val_loss']\n",
        "accu_train = [100*i for i in cnnm.history['accuracy']]\n",
        "accu_valid = [100*i for i in cnnm.history['val_accuracy']]\n",
        "\n",
        "epochs = range(1, 1+n_epochs)\n",
        "\n",
        "print('              Training Loss is {:.4f}'.format(loss_train[-1]))\n",
        "print('            Validation Loss is {:.4f}'.format(loss_valid[-1]))\n",
        "print(' ')\n",
        "print('          Training Accuracy is {:.2f}%'.format(accu_train[-1]))\n",
        "print('        Validation Accuracy is {:.2f}%'.format(accu_valid[-1]))\n",
        "print(' ')\n",
        "print('  Maximum Training Accuracy is {:.2f}%'.format(max(accu_train)))\n",
        "print('Maximum Validation Accuracy is {:.2f}%'.format(max(accu_valid)))"
      ],
      "execution_count": 7,
      "outputs": [
        {
          "output_type": "stream",
          "text": [
            "              Training Loss is 0.0617\n",
            "            Validation Loss is 0.2543\n",
            " \n",
            "          Training Accuracy is 97.69%\n",
            "        Validation Accuracy is 93.49%\n",
            " \n",
            "  Maximum Training Accuracy is 97.69%\n",
            "Maximum Validation Accuracy is 93.78%\n"
          ],
          "name": "stdout"
        }
      ]
    },
    {
      "cell_type": "markdown",
      "metadata": {
        "id": "fzCdgXIx-4W9"
      },
      "source": [
        "#### **Plots**\n",
        "Two plots are plotted as following:\n",
        "1. Training and Validation loss, shown w.r.t. epochs.\n",
        "2. Training and Validation accuracy, shown w.r.t. epochs."
      ]
    },
    {
      "cell_type": "code",
      "metadata": {
        "id": "Nl_mIFOLKuOz",
        "colab": {
          "base_uri": "https://localhost:8080/",
          "height": 295
        },
        "outputId": "db8fc38f-0f59-4814-ca5a-7401b624064e"
      },
      "source": [
        "plt.plot(epochs, loss_train, color='lightseagreen', label='Training Loss')\n",
        "plt.plot(epochs, loss_valid, color='crimson', label='Validation Loss')\n",
        "plt.title('Training and Validation Loss')\n",
        "plt.xlabel('Epochs')\n",
        "plt.ylabel('Loss')\n",
        "plt.legend(['train', 'test'], loc='upper left')\n",
        "plt.show()"
      ],
      "execution_count": 8,
      "outputs": [
        {
          "output_type": "display_data",
          "data": {
            "image/png": "[encoded data removed]",
            "text/plain": [
              "<Figure size 432x288 with 1 Axes>"
            ]
          },
          "metadata": {
            "tags": [],
            "needs_background": "light"
          }
        }
      ]
    },
    {
      "cell_type": "code",
      "metadata": {
        "id": "JwlnRsXVOPR_",
        "colab": {
          "base_uri": "https://localhost:8080/",
          "height": 295
        },
        "outputId": "1319563f-669b-4734-981d-52259e0ec79f"
      },
      "source": [
        "plt.plot(epochs, accu_train, color='lightseagreen', label='Training Accuracy')\n",
        "plt.plot(epochs, accu_valid, color='crimson', label='Validation Accuracy')\n",
        "plt.title('Training and Validation Accuracy')\n",
        "plt.xlabel('Epochs')\n",
        "plt.ylabel('Accuracy')\n",
        "plt.legend()\n",
        "plt.show()"
      ],
      "execution_count": 9,
      "outputs": [
        {
          "output_type": "display_data",
          "data": {
            "image/png": "[encoded data removed]",
            "text/plain": [
              "<Figure size 432x288 with 1 Axes>"
            ]
          },
          "metadata": {
            "tags": [],
            "needs_background": "light"
          }
        }
      ]
    },
    {
      "cell_type": "markdown",
      "metadata": {
        "id": "RJ0AQtD3AfFx"
      },
      "source": [
        "It shows that our model has training set accuracy of around 97.5% and validation set accuracy of around 93.5%. Hence it is overfitting by around 4%. I don't have enough time to work on it, hence leaving it as is."
      ]
    },
    {
      "cell_type": "markdown",
      "metadata": {
        "id": "Ho1bhGx8-Swh"
      },
      "source": [
        "#### **References and Acknowledgements**\n",
        "1. Deeplizard YouTube channel's playlist on Neural Networks was a great help: www.youtube.com/playlist?list=PLZbbT5o_s2xq7LwI2y8_QtvuXZedL6tQU\\n\n",
        "2. Mark Jay's YouTube videos also assisted: www.youtube.com/playlist?list=PLX-LrBk6h3wR27xylD3Rsx4bbA15jlcYC\n",
        "3. For getting a hang of layers, I studied from this model: https://colab.research.google.com/github/timlovescoding/FASHION-MNIST/blob/master/Tim_Fashion_MNIST.ipynb\n",
        "4. For plotting the output, I studied from this site: www.pluralsight.com/guides/data-visualization-deep-learning-model-using-matplotlib\n",
        "5. My friends helped me greatly during this assignment. Sincere thanks to Yatish Goel, Atharv Singh Patlan, Shiven Tripathi and Ananya Gupta among others."
      ]
    }
  ]
}
