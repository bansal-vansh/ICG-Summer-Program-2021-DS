{
  "nbformat": 4,
  "nbformat_minor": 0,
  "metadata": {
    "colab": {
      "name": "190273_DevanshParmar.ipynb",
      "provenance": [],
      "authorship_tag": "ABX9TyPqXqrHLEZGkhI6DW+F9WD7",
      "include_colab_link": true
    },
    "kernelspec": {
      "name": "python3",
      "display_name": "Python 3"
    },
    "language_info": {
      "name": "python"
    },
    "accelerator": "GPU"
  },
  "cells": [
    {
      "cell_type": "markdown",
      "metadata": {
        "id": "view-in-github",
        "colab_type": "text"
      },
      "source": [
        "<a href=\"https://colab.research.google.com/github/DevanshParmar/ICG-Summer-Program-2021-DS/blob/main/190273_DevanshParmar.ipynb\" target=\"_parent\"><img src=\"https://colab.research.google.com/assets/colab-badge.svg\" alt=\"Open In Colab\"/></a>"
      ]
    },
    {
      "cell_type": "markdown",
      "metadata": {
        "id": "axHuQltGjE9K"
      },
      "source": [
        "This is a CNN Sequential Model implementation on the Fashion MNIST dataset. The code blocks which I played with and weren't effective have been deleted, and also the error-detection code sections, such as print(), type() etc. Hence the code has shortened to effectively about 100 lines."
      ]
    },
    {
      "cell_type": "markdown",
      "metadata": {
        "id": "WYseDL6rjKay"
      },
      "source": [
        "Importing various libraries, models, layers and the dataset:"
      ]
    },
    {
      "cell_type": "code",
      "metadata": {
        "id": "q6hAfkeBhiEM"
      },
      "source": [
        "import numpy as np\n",
        "import pandas as pd\n",
        "import tensorflow as tf\n",
        "import matplotlib.pyplot as plt\n",
        "import keras\n",
        "\n",
        "from sklearn.model_selection import train_test_split\n",
        "\n",
        "from keras.models import Sequential\n",
        "from keras.layers import Conv2D, MaxPooling2D, Dense, Flatten, Dropout, Activation, BatchNormalization\n",
        "from keras.optimizers import Adam\n",
        "from keras.datasets import fashion_mnist"
      ],
      "execution_count": null,
      "outputs": []
    },
    {
      "cell_type": "markdown",
      "metadata": {
        "id": "GbjAiOxgjNA7"
      },
      "source": [
        "Loading data onto our variables."
      ]
    },
    {
      "cell_type": "code",
      "metadata": {
        "id": "oFG00EDDhvpO"
      },
      "source": [
        "(X_train, Y_train), (X_test, Y_test) = fashion_mnist.load_data()\n",
        "assert X_train.shape == (60000, 28, 28)\n",
        "assert X_test.shape == (10000, 28, 28)\n",
        "assert Y_train.shape == (60000,)\n",
        "assert Y_test.shape == (10000,)"
      ],
      "execution_count": null,
      "outputs": []
    },
    {
      "cell_type": "markdown",
      "metadata": {
        "id": "SSFO4jTHjd9y"
      },
      "source": [
        "Splitting training data into training and validation datasets."
      ]
    },
    {
      "cell_type": "code",
      "metadata": {
        "colab": {
          "base_uri": "https://localhost:8080/"
        },
        "id": "CXHEuirjsLcJ",
        "outputId": "faec7d86-1f70-4a7c-9b36-57f9df2edd88"
      },
      "source": [
        "X_train, X_validate, Y_train, Y_validate = train_test_split(X_train, Y_train, test_size = 0.2, random_state=12345)\n",
        "X_train.shape[0]"
      ],
      "execution_count": null,
      "outputs": [
        {
          "output_type": "execute_result",
          "data": {
            "text/plain": [
              "48000"
            ]
          },
          "metadata": {
            "tags": []
          },
          "execution_count": 23
        }
      ]
    },
    {
      "cell_type": "markdown",
      "metadata": {
        "id": "mQ-ohjrzj61D"
      },
      "source": [
        "\n",
        "Defining shapes, batch size and number of epochs, and reshaping dataset."
      ]
    },
    {
      "cell_type": "code",
      "metadata": {
        "id": "IVGQ17tw_hWG"
      },
      "source": [
        "im_rows = 28\n",
        "im_cols = 28\n",
        "n_batch_size = 500\n",
        "n_epochs = 50\n",
        "im_shape = (im_rows, im_cols, 1)\n",
        "\n",
        "X_train = X_train.reshape(X_train.shape[0], *im_shape)\n",
        "X_test = X_test.reshape(X_test.shape[0], *im_shape)\n",
        "X_validate = X_validate.reshape(X_validate.shape[0], *im_shape)"
      ],
      "execution_count": null,
      "outputs": []
    },
    {
      "cell_type": "markdown",
      "metadata": {
        "id": "SvupvSz2kNK3"
      },
      "source": [
        "Defining our Sequential CNN model using Conv2D, MaxPooling2D, and Dense layers, while also applying BatchNormalization and Dropout layers."
      ]
    },
    {
      "cell_type": "code",
      "metadata": {
        "id": "Zy7yUppUIMPF"
      },
      "source": [
        "cnn_model = Sequential([\n",
        "    Conv2D(filters=128, kernel_size=3, input_shape=im_shape, activation='relu'),\n",
        "    BatchNormalization(),\n",
        "    Conv2D(filters=64, kernel_size=3, activation='relu'),\n",
        "    BatchNormalization(),\n",
        "    MaxPooling2D(pool_size=4),\n",
        "    Dropout(0.3),\n",
        "\n",
        "    Flatten(),\n",
        "    Dense(512, activation='relu'),\n",
        "    BatchNormalization(),\n",
        "    Dropout(0.5),\n",
        "    Dense(128, activation='relu'),\n",
        "    BatchNormalization(),\n",
        "    Dropout(0.4),\n",
        "    Dense(32, activation='relu'),\n",
        "    BatchNormalization(),\n",
        "    Dropout(0.3),\n",
        "    Dense(10, activation='softmax')\n",
        "])"
      ],
      "execution_count": null,
      "outputs": []
    },
    {
      "cell_type": "markdown",
      "metadata": {
        "id": "FDsFJyVWj8X5"
      },
      "source": [
        "Compiling and running our model."
      ]
    },
    {
      "cell_type": "code",
      "metadata": {
        "colab": {
          "base_uri": "https://localhost:8080/"
        },
        "id": "2EkNauy5dnmY",
        "outputId": "b7982577-b2ed-42df-cc5b-2bb64b354187"
      },
      "source": [
        "cnn_model.compile(\n",
        "    optimizer=Adam(learning_rate=0.0008),\n",
        "    loss='sparse_categorical_crossentropy',\n",
        "    metrics=['accuracy']\n",
        ")\n",
        "\n",
        "cnnm = cnn_model.fit(\n",
        "    X_train, Y_train, batch_size=n_batch_size,\n",
        "    epochs=n_epochs, verbose=1,\n",
        "    validation_data = (X_validate, Y_validate),\n",
        ")"
      ],
      "execution_count": null,
      "outputs": [
        {
          "output_type": "stream",
          "text": [
            "Epoch 1/50\n",
            "96/96 [==============================] - 9s 65ms/step - loss: 1.2851 - accuracy: 0.5854 - val_loss: 0.4522 - val_accuracy: 0.8454\n",
            "Epoch 2/50\n",
            "96/96 [==============================] - 6s 60ms/step - loss: 0.5612 - accuracy: 0.8246 - val_loss: 0.3434 - val_accuracy: 0.8851\n",
            "Epoch 3/50\n",
            "96/96 [==============================] - 6s 61ms/step - loss: 0.4356 - accuracy: 0.8616 - val_loss: 0.3096 - val_accuracy: 0.8955\n",
            "Epoch 4/50\n",
            "96/96 [==============================] - 6s 60ms/step - loss: 0.3741 - accuracy: 0.8774 - val_loss: 0.2748 - val_accuracy: 0.9070\n",
            "Epoch 5/50\n",
            "96/96 [==============================] - 6s 60ms/step - loss: 0.3381 - accuracy: 0.8895 - val_loss: 0.2460 - val_accuracy: 0.9158\n",
            "Epoch 6/50\n",
            "96/96 [==============================] - 5s 57ms/step - loss: 0.3077 - accuracy: 0.8965 - val_loss: 0.2524 - val_accuracy: 0.9141\n",
            "Epoch 7/50\n",
            "96/96 [==============================] - 6s 59ms/step - loss: 0.2884 - accuracy: 0.9040 - val_loss: 0.2644 - val_accuracy: 0.9082\n",
            "Epoch 8/50\n",
            "96/96 [==============================] - 6s 59ms/step - loss: 0.2694 - accuracy: 0.9094 - val_loss: 0.2328 - val_accuracy: 0.9203\n",
            "Epoch 9/50\n",
            "96/96 [==============================] - 5s 56ms/step - loss: 0.2649 - accuracy: 0.9112 - val_loss: 0.2408 - val_accuracy: 0.9186\n",
            "Epoch 10/50\n",
            "96/96 [==============================] - 6s 59ms/step - loss: 0.2514 - accuracy: 0.9142 - val_loss: 0.2301 - val_accuracy: 0.9196\n",
            "Epoch 11/50\n",
            "96/96 [==============================] - 5s 56ms/step - loss: 0.2410 - accuracy: 0.9198 - val_loss: 0.2352 - val_accuracy: 0.9218\n",
            "Epoch 12/50\n",
            "96/96 [==============================] - 6s 59ms/step - loss: 0.2356 - accuracy: 0.9193 - val_loss: 0.2262 - val_accuracy: 0.9228\n",
            "Epoch 13/50\n",
            "96/96 [==============================] - 6s 59ms/step - loss: 0.2191 - accuracy: 0.9255 - val_loss: 0.2100 - val_accuracy: 0.9269\n",
            "Epoch 14/50\n",
            "96/96 [==============================] - 6s 59ms/step - loss: 0.2069 - accuracy: 0.9307 - val_loss: 0.2132 - val_accuracy: 0.9267\n",
            "Epoch 15/50\n",
            "96/96 [==============================] - 5s 56ms/step - loss: 0.1997 - accuracy: 0.9323 - val_loss: 0.2190 - val_accuracy: 0.9265\n",
            "Epoch 16/50\n",
            "96/96 [==============================] - 5s 56ms/step - loss: 0.1935 - accuracy: 0.9342 - val_loss: 0.2117 - val_accuracy: 0.9298\n",
            "Epoch 17/50\n",
            "96/96 [==============================] - 5s 57ms/step - loss: 0.1856 - accuracy: 0.9369 - val_loss: 0.2176 - val_accuracy: 0.9258\n",
            "Epoch 18/50\n",
            "96/96 [==============================] - 6s 60ms/step - loss: 0.1795 - accuracy: 0.9391 - val_loss: 0.2639 - val_accuracy: 0.9141\n",
            "Epoch 19/50\n",
            "96/96 [==============================] - 5s 57ms/step - loss: 0.1747 - accuracy: 0.9402 - val_loss: 0.2136 - val_accuracy: 0.9272\n",
            "Epoch 20/50\n",
            "96/96 [==============================] - 5s 57ms/step - loss: 0.1691 - accuracy: 0.9419 - val_loss: 0.2183 - val_accuracy: 0.9302\n",
            "Epoch 21/50\n",
            "96/96 [==============================] - 6s 59ms/step - loss: 0.1597 - accuracy: 0.9469 - val_loss: 0.2158 - val_accuracy: 0.9294\n",
            "Epoch 22/50\n",
            "96/96 [==============================] - 6s 59ms/step - loss: 0.1608 - accuracy: 0.9436 - val_loss: 0.2172 - val_accuracy: 0.9283\n",
            "Epoch 23/50\n",
            "96/96 [==============================] - 5s 57ms/step - loss: 0.1443 - accuracy: 0.9517 - val_loss: 0.2096 - val_accuracy: 0.9307\n",
            "Epoch 24/50\n",
            "96/96 [==============================] - 6s 59ms/step - loss: 0.1468 - accuracy: 0.9514 - val_loss: 0.2107 - val_accuracy: 0.9323\n",
            "Epoch 25/50\n",
            "96/96 [==============================] - 5s 57ms/step - loss: 0.1347 - accuracy: 0.9540 - val_loss: 0.2234 - val_accuracy: 0.9281\n",
            "Epoch 26/50\n",
            "96/96 [==============================] - 6s 59ms/step - loss: 0.1306 - accuracy: 0.9551 - val_loss: 0.2040 - val_accuracy: 0.9349\n",
            "Epoch 27/50\n",
            "96/96 [==============================] - 6s 59ms/step - loss: 0.1285 - accuracy: 0.9574 - val_loss: 0.2137 - val_accuracy: 0.9318\n",
            "Epoch 28/50\n",
            "96/96 [==============================] - 5s 56ms/step - loss: 0.1299 - accuracy: 0.9545 - val_loss: 0.2127 - val_accuracy: 0.9311\n",
            "Epoch 29/50\n",
            "96/96 [==============================] - 5s 56ms/step - loss: 0.1176 - accuracy: 0.9600 - val_loss: 0.2306 - val_accuracy: 0.9265\n",
            "Epoch 30/50\n",
            "96/96 [==============================] - 6s 59ms/step - loss: 0.1246 - accuracy: 0.9571 - val_loss: 0.2165 - val_accuracy: 0.9338\n",
            "Epoch 31/50\n",
            "96/96 [==============================] - 5s 56ms/step - loss: 0.1180 - accuracy: 0.9592 - val_loss: 0.2065 - val_accuracy: 0.9330\n",
            "Epoch 32/50\n",
            "96/96 [==============================] - 6s 59ms/step - loss: 0.1098 - accuracy: 0.9622 - val_loss: 0.2385 - val_accuracy: 0.9322\n",
            "Epoch 33/50\n",
            "96/96 [==============================] - 5s 56ms/step - loss: 0.1105 - accuracy: 0.9631 - val_loss: 0.2197 - val_accuracy: 0.9316\n",
            "Epoch 34/50\n",
            "96/96 [==============================] - 5s 57ms/step - loss: 0.1063 - accuracy: 0.9654 - val_loss: 0.2366 - val_accuracy: 0.9301\n",
            "Epoch 35/50\n",
            "96/96 [==============================] - 5s 57ms/step - loss: 0.1008 - accuracy: 0.9658 - val_loss: 0.2211 - val_accuracy: 0.9331\n",
            "Epoch 36/50\n",
            "96/96 [==============================] - 5s 56ms/step - loss: 0.1017 - accuracy: 0.9657 - val_loss: 0.2578 - val_accuracy: 0.9289\n",
            "Epoch 37/50\n",
            "96/96 [==============================] - 5s 57ms/step - loss: 0.0973 - accuracy: 0.9667 - val_loss: 0.2353 - val_accuracy: 0.9322\n",
            "Epoch 38/50\n",
            "96/96 [==============================] - 5s 57ms/step - loss: 0.0974 - accuracy: 0.9666 - val_loss: 0.2261 - val_accuracy: 0.9348\n",
            "Epoch 39/50\n",
            "96/96 [==============================] - 5s 56ms/step - loss: 0.0903 - accuracy: 0.9693 - val_loss: 0.2430 - val_accuracy: 0.9298\n",
            "Epoch 40/50\n",
            "96/96 [==============================] - 5s 56ms/step - loss: 0.0866 - accuracy: 0.9712 - val_loss: 0.2209 - val_accuracy: 0.9327\n",
            "Epoch 41/50\n",
            "96/96 [==============================] - 5s 57ms/step - loss: 0.0860 - accuracy: 0.9709 - val_loss: 0.2498 - val_accuracy: 0.9305\n",
            "Epoch 42/50\n",
            "96/96 [==============================] - 6s 59ms/step - loss: 0.0903 - accuracy: 0.9699 - val_loss: 0.2301 - val_accuracy: 0.9327\n",
            "Epoch 43/50\n",
            "96/96 [==============================] - 6s 59ms/step - loss: 0.0791 - accuracy: 0.9740 - val_loss: 0.2519 - val_accuracy: 0.9310\n",
            "Epoch 44/50\n",
            "96/96 [==============================] - 5s 56ms/step - loss: 0.0795 - accuracy: 0.9735 - val_loss: 0.2322 - val_accuracy: 0.9350\n",
            "Epoch 45/50\n",
            "96/96 [==============================] - 5s 56ms/step - loss: 0.0750 - accuracy: 0.9739 - val_loss: 0.2518 - val_accuracy: 0.9338\n",
            "Epoch 46/50\n",
            "96/96 [==============================] - 6s 59ms/step - loss: 0.0732 - accuracy: 0.9749 - val_loss: 0.2353 - val_accuracy: 0.9367\n",
            "Epoch 47/50\n",
            "96/96 [==============================] - 6s 59ms/step - loss: 0.0748 - accuracy: 0.9741 - val_loss: 0.2322 - val_accuracy: 0.9353\n",
            "Epoch 48/50\n",
            "96/96 [==============================] - 5s 56ms/step - loss: 0.0696 - accuracy: 0.9758 - val_loss: 0.2476 - val_accuracy: 0.9361\n",
            "Epoch 49/50\n",
            "96/96 [==============================] - 5s 57ms/step - loss: 0.0740 - accuracy: 0.9748 - val_loss: 0.2472 - val_accuracy: 0.9338\n",
            "Epoch 50/50\n",
            "96/96 [==============================] - 6s 59ms/step - loss: 0.0708 - accuracy: 0.9758 - val_loss: 0.2473 - val_accuracy: 0.9348\n"
          ],
          "name": "stdout"
        }
      ]
    },
    {
      "cell_type": "markdown",
      "metadata": {
        "id": "YSeIu9Ycj_eb"
      },
      "source": [
        "Defining lists of various outputs, and turning accuracy into percentage. Defines the range of epochs to be plotted."
      ]
    },
    {
      "cell_type": "code",
      "metadata": {
        "id": "ZWxS2lDIxaZs",
        "colab": {
          "base_uri": "https://localhost:8080/"
        },
        "outputId": "d380d266-ba8a-4c2e-82d2-03d80d840ac3"
      },
      "source": [
        "loss_train = cnnm.history['loss']\n",
        "loss_valid = cnnm.history['val_loss']\n",
        "accu_train = [100*i for i in cnnm.history['accuracy']]\n",
        "accu_valid = [100*i for i in cnnm.history['val_accuracy']]\n",
        "\n",
        "epochs = range(1, 1+n_epochs)"
      ],
      "execution_count": null,
      "outputs": [
        {
          "output_type": "stream",
          "text": [
            "              Training Loss is 0.0714\n",
            "            Validation Loss is 0.2473\n",
            " \n",
            "          Training Accuracy is 97.59%\n",
            "        Validation Accuracy is 93.48%\n",
            " \n",
            "  Maximum Training Accuracy is 97.59%\n",
            "Maximum Validation Accuracy is 93.67%\n"
          ],
          "name": "stdout"
        }
      ]
    },
    {
      "cell_type": "markdown",
      "metadata": {
        "id": "Wib6eUSEkQhG"
      },
      "source": [
        "Displays various output values."
      ]
    },
    {
      "cell_type": "code",
      "metadata": {
        "id": "fnQNrU_-kWvo"
      },
      "source": [
        "print('              Training Loss is {:.4f}'.format(loss_train[-1]))\n",
        "print('            Validation Loss is {:.4f}'.format(loss_valid[-1]))\n",
        "print(' ')\n",
        "print('          Training Accuracy is {:.2f}%'.format(accu_train[-1]))\n",
        "print('        Validation Accuracy is {:.2f}%'.format(accu_valid[-1]))\n",
        "print(' ')\n",
        "print('  Maximum Training Accuracy is {:.2f}%'.format(max(accu_train)))\n",
        "print('Maximum Validation Accuracy is {:.2f}%'.format(max(accu_valid)))"
      ],
      "execution_count": null,
      "outputs": []
    },
    {
      "cell_type": "markdown",
      "metadata": {
        "id": "MtKwC3EbkZoi"
      },
      "source": [
        "Displays the plot of losses."
      ]
    },
    {
      "cell_type": "code",
      "metadata": {
        "id": "Nl_mIFOLKuOz",
        "colab": {
          "base_uri": "https://localhost:8080/",
          "height": 295
        },
        "outputId": "3a09c60d-3c76-4028-cae8-70e547a9f290"
      },
      "source": [
        "plt.plot(epochs, loss_train, color='lightseagreen', label='Training Loss')\n",
        "plt.plot(epochs, loss_valid, color='crimson', label='Validation Loss')\n",
        "plt.title('Training and Validation Loss')\n",
        "plt.xlabel('Epochs')\n",
        "plt.ylabel('Loss')\n",
        "plt.legend()\n",
        "plt.show()"
      ],
      "execution_count": null,
      "outputs": [
        {
          "output_type": "display_data",
          "data": {
            "image/png": "[encoded data removed]",
            "text/plain": [
              "<Figure size 432x288 with 1 Axes>"
            ]
          },
          "metadata": {
            "tags": [],
            "needs_background": "light"
          }
        }
      ]
    },
    {
      "cell_type": "markdown",
      "metadata": {
        "id": "yZr6xOr8kdL6"
      },
      "source": [
        "Displays the plot of accuracies."
      ]
    },
    {
      "cell_type": "code",
      "metadata": {
        "id": "JwlnRsXVOPR_",
        "colab": {
          "base_uri": "https://localhost:8080/",
          "height": 295
        },
        "outputId": "969cf685-e407-4856-eb82-27203bc51d84"
      },
      "source": [
        "plt.plot(epochs, accu_train, color='lightseagreen', label='Training Accuracy')\n",
        "plt.plot(epochs, accu_valid, color='crimson', label='Validation Accuracy')\n",
        "plt.title('Training and Validation Accuracy')\n",
        "plt.xlabel('Epochs')\n",
        "plt.ylabel('Accuracy')\n",
        "plt.legend()\n",
        "plt.show()"
      ],
      "execution_count": null,
      "outputs": [
        {
          "output_type": "display_data",
          "data": {
            "image/png": "[encoded data removed]",
            "text/plain": [
              "<Figure size 432x288 with 1 Axes>"
            ]
          },
          "metadata": {
            "tags": [],
            "needs_background": "light"
          }
        }
      ]
    },
    {
      "cell_type": "markdown",
      "metadata": {
        "id": "79tLi914knRs"
      },
      "source": [
        "\n",
        "It shows that our model has training set accuracy of around 97.5% and validation set accuracy of around 93.5%. Hence it is overfitting by around 4%. I don't have enough time to work on it, hence leaving it as is.\n",
        "References and Acknowledgements:\n",
        "1. Deeplizard YouTube channel's playlist on Neural Networks was a great help: https://www.youtube.com/playlist?list=PLZbbT5o_s2xq7LwI2y8_QtvuXZedL6tQU\n",
        "2. Mark Jay's YouTube videos also assisted: https://www.youtube.com/playlist?list=PLX-LrBk6h3wR27xylD3Rsx4bbA15jlcYC\n",
        "3. For getting a hang of layers, I studied from this model: https://colab.research.google.com/github/timlovescoding/FASHION-MNIST/blob/master/Tim_Fashion_MNIST.ipynb\n",
        "4. Obviously, Keras: https://keras.io/\n",
        "5. For plotting the output, I studied from this site: https://www.pluralsight.com/guides/data-visualization-deep-learning-model-using-matplotlib\n",
        "6. My friends helped me greatly during this assignment. Sincere thanks to Yatish Goel, Atharv Singh Patlan, Shiven Tripathi and Ananya Gupta among others."
      ]
    }
  ]
}
