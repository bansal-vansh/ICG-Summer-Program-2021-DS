{
  "nbformat": 4,
  "nbformat_minor": 0,
  "metadata": {
    "colab": {
      "name": "ICG_DS_Assign3_190154.ipynb",
      "provenance": []
    },
    "kernelspec": {
      "name": "python3",
      "display_name": "Python 3"
    },
    "language_info": {
      "name": "python"
    },
    "accelerator": "GPU"
  },
  "cells": [
    {
      "cell_type": "markdown",
      "metadata": {
        "id": "yuHWMuFNvYfn"
      },
      "source": [
        "#Importing Libraries and loading the dataset"
      ]
    },
    {
      "cell_type": "code",
      "metadata": {
        "id": "9zE4fPDMGOxY"
      },
      "source": [
        "import tensorflow as tf\n",
        "import numpy as np\n",
        "import matplotlib.pyplot as plt"
      ],
      "execution_count": 1,
      "outputs": []
    },
    {
      "cell_type": "code",
      "metadata": {
        "id": "pudfhzeqGe86",
        "colab": {
          "base_uri": "https://localhost:8080/"
        },
        "outputId": "20a9f429-09da-423e-d24a-7658b5dced7f"
      },
      "source": [
        "fashion_mnist = tf.keras.datasets.fashion_mnist\n",
        "\n",
        "(x_train, y_train), (x_test, y_test) = fashion_mnist.load_data()"
      ],
      "execution_count": 2,
      "outputs": [
        {
          "output_type": "stream",
          "text": [
            "Downloading data from https://storage.googleapis.com/tensorflow/tf-keras-datasets/train-labels-idx1-ubyte.gz\n",
            "32768/29515 [=================================] - 0s 0us/step\n",
            "Downloading data from https://storage.googleapis.com/tensorflow/tf-keras-datasets/train-images-idx3-ubyte.gz\n",
            "26427392/26421880 [==============================] - 0s 0us/step\n",
            "Downloading data from https://storage.googleapis.com/tensorflow/tf-keras-datasets/t10k-labels-idx1-ubyte.gz\n",
            "8192/5148 [===============================================] - 0s 0us/step\n",
            "Downloading data from https://storage.googleapis.com/tensorflow/tf-keras-datasets/t10k-images-idx3-ubyte.gz\n",
            "4423680/4422102 [==============================] - 0s 0us/step\n"
          ],
          "name": "stdout"
        }
      ]
    },
    {
      "cell_type": "code",
      "metadata": {
        "colab": {
          "base_uri": "https://localhost:8080/"
        },
        "id": "fdvHUDpTKGPj",
        "outputId": "dfba67e5-9ee3-445b-9aec-6b63ca30028b"
      },
      "source": [
        "x_train.shape"
      ],
      "execution_count": 3,
      "outputs": [
        {
          "output_type": "execute_result",
          "data": {
            "text/plain": [
              "(60000, 28, 28)"
            ]
          },
          "metadata": {
            "tags": []
          },
          "execution_count": 3
        }
      ]
    },
    {
      "cell_type": "code",
      "metadata": {
        "id": "_77Xd7BoO6qq"
      },
      "source": [
        "x_train = x_train/255.0\n",
        "\n",
        "x_test = x_test/255.0"
      ],
      "execution_count": 4,
      "outputs": []
    },
    {
      "cell_type": "markdown",
      "metadata": {
        "id": "XRrKIJbFvgMN"
      },
      "source": [
        "#Defining  the DL models:"
      ]
    },
    {
      "cell_type": "markdown",
      "metadata": {
        "id": "HqOOGiIKvk0X"
      },
      "source": [
        "##1 hidden layer Fully Connected Neural Network"
      ]
    },
    {
      "cell_type": "code",
      "metadata": {
        "id": "4Kh86v9vlKZM"
      },
      "source": [
        "model = tf.keras.Sequential([\n",
        "    tf.keras.layers.Flatten(input_shape=(28, 28)),\n",
        "    tf.keras.layers.Dense(512, activation='relu'),\n",
        "    tf.keras.layers.Dense(10,activation='softmax')\n",
        "])"
      ],
      "execution_count": 5,
      "outputs": []
    },
    {
      "cell_type": "code",
      "metadata": {
        "colab": {
          "base_uri": "https://localhost:8080/"
        },
        "id": "3Wmxga9ERGXc",
        "outputId": "99224ed5-d7ee-4439-dc73-b61a7dc88762"
      },
      "source": [
        "model.summary()"
      ],
      "execution_count": 7,
      "outputs": [
        {
          "output_type": "stream",
          "text": [
            "Model: \"sequential\"\n",
            "_________________________________________________________________\n",
            "Layer (type)                 Output Shape              Param #   \n",
            "=================================================================\n",
            "flatten (Flatten)            (None, 784)               0         \n",
            "_________________________________________________________________\n",
            "dense (Dense)                (None, 512)               401920    \n",
            "_________________________________________________________________\n",
            "dense_1 (Dense)              (None, 10)                5130      \n",
            "=================================================================\n",
            "Total params: 407,050\n",
            "Trainable params: 407,050\n",
            "Non-trainable params: 0\n",
            "_________________________________________________________________\n"
          ],
          "name": "stdout"
        }
      ]
    },
    {
      "cell_type": "markdown",
      "metadata": {
        "id": "Vn6RSLvjvvbB"
      },
      "source": [
        "Model has about 4,00,000 parameters. Now compiling the model and training it"
      ]
    },
    {
      "cell_type": "code",
      "metadata": {
        "id": "e5lSAEW_lu--"
      },
      "source": [
        "model.compile(optimizer='adam', loss=tf.keras.losses.SparseCategoricalCrossentropy(), metrics=['accuracy'])"
      ],
      "execution_count": 8,
      "outputs": []
    },
    {
      "cell_type": "code",
      "metadata": {
        "colab": {
          "base_uri": "https://localhost:8080/"
        },
        "id": "BuPAJlygl0Rp",
        "outputId": "cf3024ae-6fe3-4250-a65b-7beeae9e6ab8"
      },
      "source": [
        "history = model.fit(x_train, y_train,batch_size=512, epochs=40, validation_split=0.05)"
      ],
      "execution_count": 9,
      "outputs": [
        {
          "output_type": "stream",
          "text": [
            "Epoch 1/40\n",
            "112/112 [==============================] - 3s 7ms/step - loss: 0.6193 - accuracy: 0.7884 - val_loss: 0.4283 - val_accuracy: 0.8540\n",
            "Epoch 2/40\n",
            "112/112 [==============================] - 0s 4ms/step - loss: 0.4209 - accuracy: 0.8539 - val_loss: 0.4140 - val_accuracy: 0.8500\n",
            "Epoch 3/40\n",
            "112/112 [==============================] - 1s 4ms/step - loss: 0.3742 - accuracy: 0.8696 - val_loss: 0.3613 - val_accuracy: 0.8700\n",
            "Epoch 4/40\n",
            "112/112 [==============================] - 0s 4ms/step - loss: 0.3536 - accuracy: 0.8741 - val_loss: 0.3798 - val_accuracy: 0.8633\n",
            "Epoch 5/40\n",
            "112/112 [==============================] - 1s 4ms/step - loss: 0.3303 - accuracy: 0.8820 - val_loss: 0.3319 - val_accuracy: 0.8783\n",
            "Epoch 6/40\n",
            "112/112 [==============================] - 1s 5ms/step - loss: 0.3103 - accuracy: 0.8889 - val_loss: 0.3273 - val_accuracy: 0.8853\n",
            "Epoch 7/40\n",
            "112/112 [==============================] - 0s 4ms/step - loss: 0.2931 - accuracy: 0.8941 - val_loss: 0.3267 - val_accuracy: 0.8810\n",
            "Epoch 8/40\n",
            "112/112 [==============================] - 0s 4ms/step - loss: 0.2815 - accuracy: 0.8999 - val_loss: 0.3210 - val_accuracy: 0.8797\n",
            "Epoch 9/40\n",
            "112/112 [==============================] - 1s 4ms/step - loss: 0.2713 - accuracy: 0.9024 - val_loss: 0.3004 - val_accuracy: 0.8907\n",
            "Epoch 10/40\n",
            "112/112 [==============================] - 1s 5ms/step - loss: 0.2595 - accuracy: 0.9060 - val_loss: 0.3059 - val_accuracy: 0.8873\n",
            "Epoch 11/40\n",
            "112/112 [==============================] - 0s 4ms/step - loss: 0.2529 - accuracy: 0.9081 - val_loss: 0.2958 - val_accuracy: 0.8927\n",
            "Epoch 12/40\n",
            "112/112 [==============================] - 1s 5ms/step - loss: 0.2476 - accuracy: 0.9095 - val_loss: 0.3067 - val_accuracy: 0.8873\n",
            "Epoch 13/40\n",
            "112/112 [==============================] - 0s 4ms/step - loss: 0.2387 - accuracy: 0.9130 - val_loss: 0.3029 - val_accuracy: 0.8910\n",
            "Epoch 14/40\n",
            "112/112 [==============================] - 1s 5ms/step - loss: 0.2327 - accuracy: 0.9144 - val_loss: 0.3056 - val_accuracy: 0.8900\n",
            "Epoch 15/40\n",
            "112/112 [==============================] - 0s 4ms/step - loss: 0.2261 - accuracy: 0.9191 - val_loss: 0.3040 - val_accuracy: 0.8913\n",
            "Epoch 16/40\n",
            "112/112 [==============================] - 1s 5ms/step - loss: 0.2191 - accuracy: 0.9206 - val_loss: 0.3000 - val_accuracy: 0.8933\n",
            "Epoch 17/40\n",
            "112/112 [==============================] - 1s 5ms/step - loss: 0.2103 - accuracy: 0.9237 - val_loss: 0.2891 - val_accuracy: 0.9000\n",
            "Epoch 18/40\n",
            "112/112 [==============================] - 0s 4ms/step - loss: 0.2032 - accuracy: 0.9258 - val_loss: 0.2944 - val_accuracy: 0.8913\n",
            "Epoch 19/40\n",
            "112/112 [==============================] - 1s 5ms/step - loss: 0.1978 - accuracy: 0.9289 - val_loss: 0.2860 - val_accuracy: 0.8973\n",
            "Epoch 20/40\n",
            "112/112 [==============================] - 1s 5ms/step - loss: 0.1913 - accuracy: 0.9307 - val_loss: 0.2853 - val_accuracy: 0.8980\n",
            "Epoch 21/40\n",
            "112/112 [==============================] - 1s 5ms/step - loss: 0.1862 - accuracy: 0.9327 - val_loss: 0.3123 - val_accuracy: 0.8923\n",
            "Epoch 22/40\n",
            "112/112 [==============================] - 1s 4ms/step - loss: 0.1795 - accuracy: 0.9347 - val_loss: 0.3015 - val_accuracy: 0.8917\n",
            "Epoch 23/40\n",
            "112/112 [==============================] - 0s 4ms/step - loss: 0.1794 - accuracy: 0.9349 - val_loss: 0.3057 - val_accuracy: 0.8880\n",
            "Epoch 24/40\n",
            "112/112 [==============================] - 0s 4ms/step - loss: 0.1745 - accuracy: 0.9361 - val_loss: 0.2955 - val_accuracy: 0.9010\n",
            "Epoch 25/40\n",
            "112/112 [==============================] - 0s 4ms/step - loss: 0.1694 - accuracy: 0.9386 - val_loss: 0.3023 - val_accuracy: 0.8947\n",
            "Epoch 26/40\n",
            "112/112 [==============================] - 1s 5ms/step - loss: 0.1622 - accuracy: 0.9421 - val_loss: 0.2959 - val_accuracy: 0.8987\n",
            "Epoch 27/40\n",
            "112/112 [==============================] - 0s 4ms/step - loss: 0.1586 - accuracy: 0.9434 - val_loss: 0.2893 - val_accuracy: 0.8997\n",
            "Epoch 28/40\n",
            "112/112 [==============================] - 0s 4ms/step - loss: 0.1570 - accuracy: 0.9429 - val_loss: 0.3155 - val_accuracy: 0.8903\n",
            "Epoch 29/40\n",
            "112/112 [==============================] - 1s 5ms/step - loss: 0.1503 - accuracy: 0.9469 - val_loss: 0.3068 - val_accuracy: 0.8950\n",
            "Epoch 30/40\n",
            "112/112 [==============================] - 1s 5ms/step - loss: 0.1446 - accuracy: 0.9488 - val_loss: 0.3027 - val_accuracy: 0.8990\n",
            "Epoch 31/40\n",
            "112/112 [==============================] - 0s 4ms/step - loss: 0.1457 - accuracy: 0.9475 - val_loss: 0.2942 - val_accuracy: 0.9013\n",
            "Epoch 32/40\n",
            "112/112 [==============================] - 0s 4ms/step - loss: 0.1383 - accuracy: 0.9510 - val_loss: 0.3126 - val_accuracy: 0.9000\n",
            "Epoch 33/40\n",
            "112/112 [==============================] - 1s 5ms/step - loss: 0.1323 - accuracy: 0.9537 - val_loss: 0.2966 - val_accuracy: 0.9037\n",
            "Epoch 34/40\n",
            "112/112 [==============================] - 1s 4ms/step - loss: 0.1339 - accuracy: 0.9526 - val_loss: 0.3138 - val_accuracy: 0.8910\n",
            "Epoch 35/40\n",
            "112/112 [==============================] - 0s 4ms/step - loss: 0.1293 - accuracy: 0.9545 - val_loss: 0.3256 - val_accuracy: 0.8987\n",
            "Epoch 36/40\n",
            "112/112 [==============================] - 0s 4ms/step - loss: 0.1218 - accuracy: 0.9566 - val_loss: 0.3116 - val_accuracy: 0.8983\n",
            "Epoch 37/40\n",
            "112/112 [==============================] - 1s 4ms/step - loss: 0.1209 - accuracy: 0.9576 - val_loss: 0.3255 - val_accuracy: 0.8900\n",
            "Epoch 38/40\n",
            "112/112 [==============================] - 1s 5ms/step - loss: 0.1153 - accuracy: 0.9598 - val_loss: 0.3167 - val_accuracy: 0.8997\n",
            "Epoch 39/40\n",
            "112/112 [==============================] - 1s 4ms/step - loss: 0.1144 - accuracy: 0.9596 - val_loss: 0.3081 - val_accuracy: 0.8980\n",
            "Epoch 40/40\n",
            "112/112 [==============================] - 1s 5ms/step - loss: 0.1119 - accuracy: 0.9609 - val_loss: 0.3165 - val_accuracy: 0.8970\n"
          ],
          "name": "stdout"
        }
      ]
    },
    {
      "cell_type": "markdown",
      "metadata": {
        "id": "ToajAGepv6Jj"
      },
      "source": [
        "Plotting Accuracy vs Epochs (Validation dataset is 5% of train dataset)"
      ]
    },
    {
      "cell_type": "code",
      "metadata": {
        "colab": {
          "base_uri": "https://localhost:8080/",
          "height": 297
        },
        "id": "1CK1Y3XsmaUl",
        "outputId": "0be99ca4-93f1-4ac8-ed5e-600d3221c6c4"
      },
      "source": [
        "plt.plot(history.history['accuracy'], label='accuracy')\n",
        "plt.plot(history.history['val_accuracy'], label='val_accuracy')\n",
        "plt.xlabel('Epoch')\n",
        "plt.ylabel('Accuracy')\n",
        "plt.legend(loc='lower right')"
      ],
      "execution_count": 10,
      "outputs": [
        {
          "output_type": "execute_result",
          "data": {
            "text/plain": [
              "<matplotlib.legend.Legend at 0x7fd3a0dd1090>"
            ]
          },
          "metadata": {
            "tags": []
          },
          "execution_count": 10
        },
        {
          "output_type": "display_data",
          "data": {
            "image/png": "[encoded data removed]",
            "text/plain": [
              "<Figure size 432x288 with 1 Axes>"
            ]
          },
          "metadata": {
            "tags": [],
            "needs_background": "light"
          }
        }
      ]
    },
    {
      "cell_type": "markdown",
      "metadata": {
        "id": "rGrXVqUCwEvV"
      },
      "source": [
        "##5 hidden layer Fully connected Neural Network"
      ]
    },
    {
      "cell_type": "code",
      "metadata": {
        "id": "DI4zG9xoO_gS"
      },
      "source": [
        "model_5layer = tf.keras.Sequential([\n",
        "    tf.keras.layers.Flatten(input_shape=(28, 28)),\n",
        "    tf.keras.layers.Dense(512, activation='relu'),\n",
        "    tf.keras.layers.Dense(256, activation='relu'),\n",
        "    tf.keras.layers.Dense(128, activation='relu'),\n",
        "    tf.keras.layers.Dense(64, activation='relu'),\n",
        "    tf.keras.layers.Dense(32, activation='sigmoid'),\n",
        "    tf.keras.layers.Dense(10,activation='softmax')\n",
        "])"
      ],
      "execution_count": 11,
      "outputs": []
    },
    {
      "cell_type": "code",
      "metadata": {
        "colab": {
          "base_uri": "https://localhost:8080/"
        },
        "id": "MkDbOlz9uDs2",
        "outputId": "ade684c7-9a1d-448c-d9ca-8f815951fdd7"
      },
      "source": [
        "model_5layer.summary()"
      ],
      "execution_count": 12,
      "outputs": [
        {
          "output_type": "stream",
          "text": [
            "Model: \"sequential_1\"\n",
            "_________________________________________________________________\n",
            "Layer (type)                 Output Shape              Param #   \n",
            "=================================================================\n",
            "flatten_1 (Flatten)          (None, 784)               0         \n",
            "_________________________________________________________________\n",
            "dense_2 (Dense)              (None, 512)               401920    \n",
            "_________________________________________________________________\n",
            "dense_3 (Dense)              (None, 256)               131328    \n",
            "_________________________________________________________________\n",
            "dense_4 (Dense)              (None, 128)               32896     \n",
            "_________________________________________________________________\n",
            "dense_5 (Dense)              (None, 64)                8256      \n",
            "_________________________________________________________________\n",
            "dense_6 (Dense)              (None, 32)                2080      \n",
            "_________________________________________________________________\n",
            "dense_7 (Dense)              (None, 10)                330       \n",
            "=================================================================\n",
            "Total params: 576,810\n",
            "Trainable params: 576,810\n",
            "Non-trainable params: 0\n",
            "_________________________________________________________________\n"
          ],
          "name": "stdout"
        }
      ]
    },
    {
      "cell_type": "markdown",
      "metadata": {
        "id": "qtk0LH12wUP9"
      },
      "source": [
        "Model has over 5,00,000 parameters. Now, we compile it and train it."
      ]
    },
    {
      "cell_type": "code",
      "metadata": {
        "id": "ZSIlBJnAPEfv"
      },
      "source": [
        "model_5layer.compile(optimizer='adam', loss=tf.keras.losses.SparseCategoricalCrossentropy(), metrics=['accuracy'])"
      ],
      "execution_count": 13,
      "outputs": []
    },
    {
      "cell_type": "code",
      "metadata": {
        "colab": {
          "base_uri": "https://localhost:8080/"
        },
        "id": "sM-C8iBlPJ94",
        "outputId": "c4f8bad5-18ac-4add-d674-31ad0936f431"
      },
      "source": [
        "history_5layer = model_5layer.fit(x_train, y_train,batch_size=512, epochs=40, validation_split=0.05)"
      ],
      "execution_count": 14,
      "outputs": [
        {
          "output_type": "stream",
          "text": [
            "Epoch 1/40\n",
            "112/112 [==============================] - 1s 8ms/step - loss: 1.1955 - accuracy: 0.6753 - val_loss: 0.7383 - val_accuracy: 0.8193\n",
            "Epoch 2/40\n",
            "112/112 [==============================] - 1s 6ms/step - loss: 0.6192 - accuracy: 0.8382 - val_loss: 0.5541 - val_accuracy: 0.8380\n",
            "Epoch 3/40\n",
            "112/112 [==============================] - 1s 6ms/step - loss: 0.4926 - accuracy: 0.8573 - val_loss: 0.4503 - val_accuracy: 0.8617\n",
            "Epoch 4/40\n",
            "112/112 [==============================] - 1s 6ms/step - loss: 0.4097 - accuracy: 0.8746 - val_loss: 0.4474 - val_accuracy: 0.8567\n",
            "Epoch 5/40\n",
            "112/112 [==============================] - 1s 6ms/step - loss: 0.3736 - accuracy: 0.8821 - val_loss: 0.3671 - val_accuracy: 0.8833\n",
            "Epoch 6/40\n",
            "112/112 [==============================] - 1s 6ms/step - loss: 0.3406 - accuracy: 0.8886 - val_loss: 0.3582 - val_accuracy: 0.8767\n",
            "Epoch 7/40\n",
            "112/112 [==============================] - 1s 6ms/step - loss: 0.3191 - accuracy: 0.8939 - val_loss: 0.3398 - val_accuracy: 0.8850\n",
            "Epoch 8/40\n",
            "112/112 [==============================] - 1s 6ms/step - loss: 0.2988 - accuracy: 0.8997 - val_loss: 0.3354 - val_accuracy: 0.8863\n",
            "Epoch 9/40\n",
            "112/112 [==============================] - 1s 6ms/step - loss: 0.2838 - accuracy: 0.9040 - val_loss: 0.3202 - val_accuracy: 0.8893\n",
            "Epoch 10/40\n",
            "112/112 [==============================] - 1s 6ms/step - loss: 0.2673 - accuracy: 0.9089 - val_loss: 0.3148 - val_accuracy: 0.8910\n",
            "Epoch 11/40\n",
            "112/112 [==============================] - 1s 6ms/step - loss: 0.2588 - accuracy: 0.9106 - val_loss: 0.3406 - val_accuracy: 0.8867\n",
            "Epoch 12/40\n",
            "112/112 [==============================] - 1s 6ms/step - loss: 0.2507 - accuracy: 0.9131 - val_loss: 0.3115 - val_accuracy: 0.8863\n",
            "Epoch 13/40\n",
            "112/112 [==============================] - 1s 6ms/step - loss: 0.2355 - accuracy: 0.9180 - val_loss: 0.3018 - val_accuracy: 0.8933\n",
            "Epoch 14/40\n",
            "112/112 [==============================] - 1s 6ms/step - loss: 0.2271 - accuracy: 0.9205 - val_loss: 0.3116 - val_accuracy: 0.8920\n",
            "Epoch 15/40\n",
            "112/112 [==============================] - 1s 6ms/step - loss: 0.2197 - accuracy: 0.9234 - val_loss: 0.3505 - val_accuracy: 0.8740\n",
            "Epoch 16/40\n",
            "112/112 [==============================] - 1s 6ms/step - loss: 0.2133 - accuracy: 0.9253 - val_loss: 0.3175 - val_accuracy: 0.8930\n",
            "Epoch 17/40\n",
            "112/112 [==============================] - 1s 6ms/step - loss: 0.2106 - accuracy: 0.9250 - val_loss: 0.3077 - val_accuracy: 0.8933\n",
            "Epoch 18/40\n",
            "112/112 [==============================] - 1s 6ms/step - loss: 0.1968 - accuracy: 0.9303 - val_loss: 0.2996 - val_accuracy: 0.8947\n",
            "Epoch 19/40\n",
            "112/112 [==============================] - 1s 6ms/step - loss: 0.1878 - accuracy: 0.9337 - val_loss: 0.3011 - val_accuracy: 0.8963\n",
            "Epoch 20/40\n",
            "112/112 [==============================] - 1s 6ms/step - loss: 0.1862 - accuracy: 0.9337 - val_loss: 0.3122 - val_accuracy: 0.8953\n",
            "Epoch 21/40\n",
            "112/112 [==============================] - 1s 6ms/step - loss: 0.1780 - accuracy: 0.9363 - val_loss: 0.2994 - val_accuracy: 0.8990\n",
            "Epoch 22/40\n",
            "112/112 [==============================] - 1s 6ms/step - loss: 0.1716 - accuracy: 0.9387 - val_loss: 0.3055 - val_accuracy: 0.8983\n",
            "Epoch 23/40\n",
            "112/112 [==============================] - 1s 6ms/step - loss: 0.1671 - accuracy: 0.9408 - val_loss: 0.3106 - val_accuracy: 0.8980\n",
            "Epoch 24/40\n",
            "112/112 [==============================] - 1s 6ms/step - loss: 0.1613 - accuracy: 0.9431 - val_loss: 0.3181 - val_accuracy: 0.8943\n",
            "Epoch 25/40\n",
            "112/112 [==============================] - 1s 6ms/step - loss: 0.1585 - accuracy: 0.9439 - val_loss: 0.3193 - val_accuracy: 0.8970\n",
            "Epoch 26/40\n",
            "112/112 [==============================] - 1s 6ms/step - loss: 0.1563 - accuracy: 0.9439 - val_loss: 0.3174 - val_accuracy: 0.8993\n",
            "Epoch 27/40\n",
            "112/112 [==============================] - 1s 6ms/step - loss: 0.1476 - accuracy: 0.9484 - val_loss: 0.3257 - val_accuracy: 0.9000\n",
            "Epoch 28/40\n",
            "112/112 [==============================] - 1s 6ms/step - loss: 0.1429 - accuracy: 0.9489 - val_loss: 0.3198 - val_accuracy: 0.9010\n",
            "Epoch 29/40\n",
            "112/112 [==============================] - 1s 6ms/step - loss: 0.1359 - accuracy: 0.9519 - val_loss: 0.3303 - val_accuracy: 0.8953\n",
            "Epoch 30/40\n",
            "112/112 [==============================] - 1s 6ms/step - loss: 0.1350 - accuracy: 0.9521 - val_loss: 0.3327 - val_accuracy: 0.8957\n",
            "Epoch 31/40\n",
            "112/112 [==============================] - 1s 6ms/step - loss: 0.1306 - accuracy: 0.9534 - val_loss: 0.3312 - val_accuracy: 0.8960\n",
            "Epoch 32/40\n",
            "112/112 [==============================] - 1s 6ms/step - loss: 0.1296 - accuracy: 0.9544 - val_loss: 0.3338 - val_accuracy: 0.9000\n",
            "Epoch 33/40\n",
            "112/112 [==============================] - 1s 6ms/step - loss: 0.1181 - accuracy: 0.9586 - val_loss: 0.3385 - val_accuracy: 0.9000\n",
            "Epoch 34/40\n",
            "112/112 [==============================] - 1s 6ms/step - loss: 0.1232 - accuracy: 0.9555 - val_loss: 0.3443 - val_accuracy: 0.8953\n",
            "Epoch 35/40\n",
            "112/112 [==============================] - 1s 6ms/step - loss: 0.1220 - accuracy: 0.9565 - val_loss: 0.3428 - val_accuracy: 0.8963\n",
            "Epoch 36/40\n",
            "112/112 [==============================] - 1s 6ms/step - loss: 0.1095 - accuracy: 0.9615 - val_loss: 0.3490 - val_accuracy: 0.8970\n",
            "Epoch 37/40\n",
            "112/112 [==============================] - 1s 6ms/step - loss: 0.1121 - accuracy: 0.9604 - val_loss: 0.3663 - val_accuracy: 0.8980\n",
            "Epoch 38/40\n",
            "112/112 [==============================] - 1s 6ms/step - loss: 0.1077 - accuracy: 0.9625 - val_loss: 0.3491 - val_accuracy: 0.8943\n",
            "Epoch 39/40\n",
            "112/112 [==============================] - 1s 6ms/step - loss: 0.1034 - accuracy: 0.9632 - val_loss: 0.3447 - val_accuracy: 0.8970\n",
            "Epoch 40/40\n",
            "112/112 [==============================] - 1s 6ms/step - loss: 0.1025 - accuracy: 0.9637 - val_loss: 0.3634 - val_accuracy: 0.8960\n"
          ],
          "name": "stdout"
        }
      ]
    },
    {
      "cell_type": "markdown",
      "metadata": {
        "id": "4bDyF-Jfwp9i"
      },
      "source": [
        "Plotting Accuracy vs epochs, Validation dataset is 5%"
      ]
    },
    {
      "cell_type": "code",
      "metadata": {
        "colab": {
          "base_uri": "https://localhost:8080/",
          "height": 297
        },
        "id": "t5jBa8SdUVTV",
        "outputId": "25f2b959-3774-4aa2-bea0-532320aa761e"
      },
      "source": [
        "plt.plot(history_5layer.history['accuracy'], label='accuracy')\n",
        "plt.plot(history_5layer.history['val_accuracy'], label='val_accuracy')\n",
        "plt.xlabel('Epoch')\n",
        "plt.ylabel('Accuracy')\n",
        "plt.legend(loc='lower right')"
      ],
      "execution_count": 15,
      "outputs": [
        {
          "output_type": "execute_result",
          "data": {
            "text/plain": [
              "<matplotlib.legend.Legend at 0x7fd39fea4fd0>"
            ]
          },
          "metadata": {
            "tags": []
          },
          "execution_count": 15
        },
        {
          "output_type": "display_data",
          "data": {
            "image/png": "[encoded data removed]",
            "text/plain": [
              "<Figure size 432x288 with 1 Axes>"
            ]
          },
          "metadata": {
            "tags": [],
            "needs_background": "light"
          }
        }
      ]
    },
    {
      "cell_type": "markdown",
      "metadata": {
        "id": "RYYmc34xwwmI"
      },
      "source": [
        "#CNN Model"
      ]
    },
    {
      "cell_type": "code",
      "metadata": {
        "id": "UNjz51UJoJ_J"
      },
      "source": [
        "model_CNN = tf.keras.Sequential([\n",
        "    tf.keras.layers.Reshape((28, 28, 1), input_shape=(28,28)),                         \n",
        "    tf.keras.layers.Conv2D(32, (3, 3),  padding=\"same\",activation = 'relu', input_shape=(28, 28,1)),\n",
        "    tf.keras.layers.MaxPooling2D((2, 2)),\n",
        "    tf.keras.layers.Conv2D(16, (3, 3), padding=\"same\", activation = 'relu'),\n",
        "    tf.keras.layers.MaxPooling2D((2, 2)),\n",
        "    tf.keras.layers.Flatten(),\n",
        "    tf.keras.layers.Dense(512, activation='relu'),\n",
        "    tf.keras.layers.Dense(256, activation='relu'),\n",
        "    tf.keras.layers.Dense(128, activation='relu'),\n",
        "    tf.keras.layers.Dense(64, activation='relu'),\n",
        "    tf.keras.layers.Dense(32, activation='sigmoid'),\n",
        "    tf.keras.layers.Dense(10,activation='softmax')\n",
        "])"
      ],
      "execution_count": 16,
      "outputs": []
    },
    {
      "cell_type": "code",
      "metadata": {
        "colab": {
          "base_uri": "https://localhost:8080/"
        },
        "id": "m8MOOU1fsSVP",
        "outputId": "d4bab48f-34fe-42da-8cc1-964b869c3b97"
      },
      "source": [
        "model_CNN.summary()"
      ],
      "execution_count": 17,
      "outputs": [
        {
          "output_type": "stream",
          "text": [
            "Model: \"sequential_2\"\n",
            "_________________________________________________________________\n",
            "Layer (type)                 Output Shape              Param #   \n",
            "=================================================================\n",
            "reshape (Reshape)            (None, 28, 28, 1)         0         \n",
            "_________________________________________________________________\n",
            "conv2d (Conv2D)              (None, 28, 28, 32)        320       \n",
            "_________________________________________________________________\n",
            "max_pooling2d (MaxPooling2D) (None, 14, 14, 32)        0         \n",
            "_________________________________________________________________\n",
            "conv2d_1 (Conv2D)            (None, 14, 14, 16)        4624      \n",
            "_________________________________________________________________\n",
            "max_pooling2d_1 (MaxPooling2 (None, 7, 7, 16)          0         \n",
            "_________________________________________________________________\n",
            "flatten_2 (Flatten)          (None, 784)               0         \n",
            "_________________________________________________________________\n",
            "dense_8 (Dense)              (None, 512)               401920    \n",
            "_________________________________________________________________\n",
            "dense_9 (Dense)              (None, 256)               131328    \n",
            "_________________________________________________________________\n",
            "dense_10 (Dense)             (None, 128)               32896     \n",
            "_________________________________________________________________\n",
            "dense_11 (Dense)             (None, 64)                8256      \n",
            "_________________________________________________________________\n",
            "dense_12 (Dense)             (None, 32)                2080      \n",
            "_________________________________________________________________\n",
            "dense_13 (Dense)             (None, 10)                330       \n",
            "=================================================================\n",
            "Total params: 581,754\n",
            "Trainable params: 581,754\n",
            "Non-trainable params: 0\n",
            "_________________________________________________________________\n"
          ],
          "name": "stdout"
        }
      ]
    },
    {
      "cell_type": "markdown",
      "metadata": {
        "id": "qrHhkd5Fw0LO"
      },
      "source": [
        "Again over 5,00,000 parameters. Compiling and Training:"
      ]
    },
    {
      "cell_type": "code",
      "metadata": {
        "id": "ot56uuCSsgch"
      },
      "source": [
        "model_CNN.compile(optimizer='adam', loss=tf.keras.losses.SparseCategoricalCrossentropy(), metrics=['accuracy'])"
      ],
      "execution_count": 18,
      "outputs": []
    },
    {
      "cell_type": "code",
      "metadata": {
        "colab": {
          "base_uri": "https://localhost:8080/"
        },
        "id": "DT3HqjiOsj7i",
        "outputId": "163f739e-ce7a-43c5-8fab-8824c03edad0"
      },
      "source": [
        "history_CNN = model_CNN.fit(x_train, y_train,batch_size=512, epochs=40, validation_split=0.05)"
      ],
      "execution_count": 19,
      "outputs": [
        {
          "output_type": "stream",
          "text": [
            "Epoch 1/40\n",
            "112/112 [==============================] - 29s 24ms/step - loss: 1.2345 - accuracy: 0.6513 - val_loss: 0.8292 - val_accuracy: 0.7910\n",
            "Epoch 2/40\n",
            "112/112 [==============================] - 2s 20ms/step - loss: 0.7292 - accuracy: 0.7985 - val_loss: 0.6111 - val_accuracy: 0.8260\n",
            "Epoch 3/40\n",
            "112/112 [==============================] - 2s 20ms/step - loss: 0.5414 - accuracy: 0.8459 - val_loss: 0.5093 - val_accuracy: 0.8480\n",
            "Epoch 4/40\n",
            "112/112 [==============================] - 2s 20ms/step - loss: 0.4424 - accuracy: 0.8666 - val_loss: 0.3916 - val_accuracy: 0.8783\n",
            "Epoch 5/40\n",
            "112/112 [==============================] - 2s 20ms/step - loss: 0.3772 - accuracy: 0.8815 - val_loss: 0.3690 - val_accuracy: 0.8817\n",
            "Epoch 6/40\n",
            "112/112 [==============================] - 2s 20ms/step - loss: 0.3359 - accuracy: 0.8914 - val_loss: 0.3218 - val_accuracy: 0.8977\n",
            "Epoch 7/40\n",
            "112/112 [==============================] - 2s 20ms/step - loss: 0.3051 - accuracy: 0.8995 - val_loss: 0.2950 - val_accuracy: 0.9040\n",
            "Epoch 8/40\n",
            "112/112 [==============================] - 2s 20ms/step - loss: 0.2806 - accuracy: 0.9063 - val_loss: 0.2824 - val_accuracy: 0.9047\n",
            "Epoch 9/40\n",
            "112/112 [==============================] - 2s 20ms/step - loss: 0.2667 - accuracy: 0.9093 - val_loss: 0.2756 - val_accuracy: 0.9083\n",
            "Epoch 10/40\n",
            "112/112 [==============================] - 2s 20ms/step - loss: 0.2481 - accuracy: 0.9162 - val_loss: 0.2699 - val_accuracy: 0.9043\n",
            "Epoch 11/40\n",
            "112/112 [==============================] - 2s 20ms/step - loss: 0.2333 - accuracy: 0.9197 - val_loss: 0.2484 - val_accuracy: 0.9143\n",
            "Epoch 12/40\n",
            "112/112 [==============================] - 2s 20ms/step - loss: 0.2187 - accuracy: 0.9255 - val_loss: 0.2380 - val_accuracy: 0.9200\n",
            "Epoch 13/40\n",
            "112/112 [==============================] - 2s 20ms/step - loss: 0.2036 - accuracy: 0.9296 - val_loss: 0.2381 - val_accuracy: 0.9177\n",
            "Epoch 14/40\n",
            "112/112 [==============================] - 2s 20ms/step - loss: 0.1985 - accuracy: 0.9312 - val_loss: 0.2399 - val_accuracy: 0.9147\n",
            "Epoch 15/40\n",
            "112/112 [==============================] - 2s 20ms/step - loss: 0.1856 - accuracy: 0.9362 - val_loss: 0.2349 - val_accuracy: 0.9210\n",
            "Epoch 16/40\n",
            "112/112 [==============================] - 2s 20ms/step - loss: 0.1791 - accuracy: 0.9373 - val_loss: 0.2271 - val_accuracy: 0.9213\n",
            "Epoch 17/40\n",
            "112/112 [==============================] - 2s 20ms/step - loss: 0.1633 - accuracy: 0.9435 - val_loss: 0.2356 - val_accuracy: 0.9190\n",
            "Epoch 18/40\n",
            "112/112 [==============================] - 2s 20ms/step - loss: 0.1559 - accuracy: 0.9456 - val_loss: 0.2213 - val_accuracy: 0.9257\n",
            "Epoch 19/40\n",
            "112/112 [==============================] - 2s 20ms/step - loss: 0.1456 - accuracy: 0.9504 - val_loss: 0.2336 - val_accuracy: 0.9170\n",
            "Epoch 20/40\n",
            "112/112 [==============================] - 2s 20ms/step - loss: 0.1374 - accuracy: 0.9527 - val_loss: 0.2277 - val_accuracy: 0.9243\n",
            "Epoch 21/40\n",
            "112/112 [==============================] - 2s 20ms/step - loss: 0.1322 - accuracy: 0.9548 - val_loss: 0.2414 - val_accuracy: 0.9177\n",
            "Epoch 22/40\n",
            "112/112 [==============================] - 2s 20ms/step - loss: 0.1264 - accuracy: 0.9568 - val_loss: 0.2389 - val_accuracy: 0.9213\n",
            "Epoch 23/40\n",
            "112/112 [==============================] - 2s 20ms/step - loss: 0.1143 - accuracy: 0.9608 - val_loss: 0.2398 - val_accuracy: 0.9227\n",
            "Epoch 24/40\n",
            "112/112 [==============================] - 2s 20ms/step - loss: 0.1094 - accuracy: 0.9625 - val_loss: 0.2507 - val_accuracy: 0.9130\n",
            "Epoch 25/40\n",
            "112/112 [==============================] - 2s 20ms/step - loss: 0.0995 - accuracy: 0.9663 - val_loss: 0.2748 - val_accuracy: 0.9123\n",
            "Epoch 26/40\n",
            "112/112 [==============================] - 2s 20ms/step - loss: 0.0975 - accuracy: 0.9673 - val_loss: 0.2615 - val_accuracy: 0.9150\n",
            "Epoch 27/40\n",
            "112/112 [==============================] - 2s 20ms/step - loss: 0.0938 - accuracy: 0.9682 - val_loss: 0.2375 - val_accuracy: 0.9253\n",
            "Epoch 28/40\n",
            "112/112 [==============================] - 2s 21ms/step - loss: 0.0868 - accuracy: 0.9708 - val_loss: 0.2553 - val_accuracy: 0.9207\n",
            "Epoch 29/40\n",
            "112/112 [==============================] - 2s 20ms/step - loss: 0.0811 - accuracy: 0.9721 - val_loss: 0.3105 - val_accuracy: 0.9090\n",
            "Epoch 30/40\n",
            "112/112 [==============================] - 2s 20ms/step - loss: 0.0706 - accuracy: 0.9771 - val_loss: 0.2713 - val_accuracy: 0.9210\n",
            "Epoch 31/40\n",
            "112/112 [==============================] - 2s 20ms/step - loss: 0.0644 - accuracy: 0.9787 - val_loss: 0.2619 - val_accuracy: 0.9230\n",
            "Epoch 32/40\n",
            "112/112 [==============================] - 2s 20ms/step - loss: 0.0615 - accuracy: 0.9801 - val_loss: 0.3001 - val_accuracy: 0.9167\n",
            "Epoch 33/40\n",
            "112/112 [==============================] - 2s 20ms/step - loss: 0.0542 - accuracy: 0.9828 - val_loss: 0.2791 - val_accuracy: 0.9190\n",
            "Epoch 34/40\n",
            "112/112 [==============================] - 2s 20ms/step - loss: 0.0533 - accuracy: 0.9828 - val_loss: 0.2919 - val_accuracy: 0.9220\n",
            "Epoch 35/40\n",
            "112/112 [==============================] - 2s 20ms/step - loss: 0.0569 - accuracy: 0.9809 - val_loss: 0.3262 - val_accuracy: 0.9113\n",
            "Epoch 36/40\n",
            "112/112 [==============================] - 2s 20ms/step - loss: 0.0543 - accuracy: 0.9817 - val_loss: 0.2877 - val_accuracy: 0.9223\n",
            "Epoch 37/40\n",
            "112/112 [==============================] - 2s 20ms/step - loss: 0.0396 - accuracy: 0.9876 - val_loss: 0.2964 - val_accuracy: 0.9260\n",
            "Epoch 38/40\n",
            "112/112 [==============================] - 2s 20ms/step - loss: 0.0430 - accuracy: 0.9859 - val_loss: 0.3100 - val_accuracy: 0.9203\n",
            "Epoch 39/40\n",
            "112/112 [==============================] - 2s 20ms/step - loss: 0.0378 - accuracy: 0.9889 - val_loss: 0.3147 - val_accuracy: 0.9183\n",
            "Epoch 40/40\n",
            "112/112 [==============================] - 2s 20ms/step - loss: 0.0407 - accuracy: 0.9869 - val_loss: 0.3234 - val_accuracy: 0.9197\n"
          ],
          "name": "stdout"
        }
      ]
    },
    {
      "cell_type": "code",
      "metadata": {
        "colab": {
          "base_uri": "https://localhost:8080/",
          "height": 297
        },
        "id": "6dSags3Vsvgg",
        "outputId": "db2973e2-6b34-4e6b-91bb-ba7f004404b7"
      },
      "source": [
        "plt.plot(history_CNN.history['accuracy'], label='accuracy')\n",
        "plt.plot(history_CNN.history['val_accuracy'], label='val_accuracy')\n",
        "plt.xlabel('Epoch')\n",
        "plt.ylabel('Accuracy')\n",
        "plt.legend(loc='lower right')"
      ],
      "execution_count": 20,
      "outputs": [
        {
          "output_type": "execute_result",
          "data": {
            "text/plain": [
              "<matplotlib.legend.Legend at 0x7fd342e2aad0>"
            ]
          },
          "metadata": {
            "tags": []
          },
          "execution_count": 20
        },
        {
          "output_type": "display_data",
          "data": {
            "image/png": "[encoded data removed]",
            "text/plain": [
              "<Figure size 432x288 with 1 Axes>"
            ]
          },
          "metadata": {
            "tags": [],
            "needs_background": "light"
          }
        }
      ]
    },
    {
      "cell_type": "markdown",
      "metadata": {
        "id": "Q4GKC897w9go"
      },
      "source": [
        "Clearly CNN model has a much higher accuracy and a much lower loss, hence it is the best model and we will use it for predictions. The validation accuracy doesn't drop, hence we aren't overfitting."
      ]
    },
    {
      "cell_type": "markdown",
      "metadata": {
        "id": "Fy0oGmu-xPSk"
      },
      "source": [
        "#Performance on Test Dataset:"
      ]
    },
    {
      "cell_type": "code",
      "metadata": {
        "colab": {
          "base_uri": "https://localhost:8080/"
        },
        "id": "ger39qF4qGMa",
        "outputId": "81768ce2-1bc4-4b2b-dbaa-85016709eeaa"
      },
      "source": [
        "model_CNN.summary()"
      ],
      "execution_count": 21,
      "outputs": [
        {
          "output_type": "stream",
          "text": [
            "Model: \"sequential_2\"\n",
            "_________________________________________________________________\n",
            "Layer (type)                 Output Shape              Param #   \n",
            "=================================================================\n",
            "reshape (Reshape)            (None, 28, 28, 1)         0         \n",
            "_________________________________________________________________\n",
            "conv2d (Conv2D)              (None, 28, 28, 32)        320       \n",
            "_________________________________________________________________\n",
            "max_pooling2d (MaxPooling2D) (None, 14, 14, 32)        0         \n",
            "_________________________________________________________________\n",
            "conv2d_1 (Conv2D)            (None, 14, 14, 16)        4624      \n",
            "_________________________________________________________________\n",
            "max_pooling2d_1 (MaxPooling2 (None, 7, 7, 16)          0         \n",
            "_________________________________________________________________\n",
            "flatten_2 (Flatten)          (None, 784)               0         \n",
            "_________________________________________________________________\n",
            "dense_8 (Dense)              (None, 512)               401920    \n",
            "_________________________________________________________________\n",
            "dense_9 (Dense)              (None, 256)               131328    \n",
            "_________________________________________________________________\n",
            "dense_10 (Dense)             (None, 128)               32896     \n",
            "_________________________________________________________________\n",
            "dense_11 (Dense)             (None, 64)                8256      \n",
            "_________________________________________________________________\n",
            "dense_12 (Dense)             (None, 32)                2080      \n",
            "_________________________________________________________________\n",
            "dense_13 (Dense)             (None, 10)                330       \n",
            "=================================================================\n",
            "Total params: 581,754\n",
            "Trainable params: 581,754\n",
            "Non-trainable params: 0\n",
            "_________________________________________________________________\n"
          ],
          "name": "stdout"
        }
      ]
    },
    {
      "cell_type": "code",
      "metadata": {
        "id": "6BJCK9sYrdx7",
        "colab": {
          "base_uri": "https://localhost:8080/"
        },
        "outputId": "560c2096-9c75-427e-9bea-87ce4f3e6386"
      },
      "source": [
        "model_CNN.evaluate(x_test, y_test)"
      ],
      "execution_count": 22,
      "outputs": [
        {
          "output_type": "stream",
          "text": [
            "313/313 [==============================] - 1s 3ms/step - loss: 0.3408 - accuracy: 0.9187\n"
          ],
          "name": "stdout"
        },
        {
          "output_type": "execute_result",
          "data": {
            "text/plain": [
              "[0.34078842401504517, 0.9186999797821045]"
            ]
          },
          "metadata": {
            "tags": []
          },
          "execution_count": 22
        }
      ]
    },
    {
      "cell_type": "markdown",
      "metadata": {
        "id": "NYg3sq6DxU14"
      },
      "source": [
        "The model has 91.86% accuracy on the Test dataset, similar to the ~92% we had on the validation dataset."
      ]
    },
    {
      "cell_type": "markdown",
      "metadata": {
        "id": "s0oGdPbfxp-w"
      },
      "source": [
        "Now we predict a specific image of the test dataset: "
      ]
    },
    {
      "cell_type": "code",
      "metadata": {
        "colab": {
          "base_uri": "https://localhost:8080/",
          "height": 300
        },
        "id": "KsfNw6Ebw8BT",
        "outputId": "367246c9-82f2-4e5b-8cf4-7268648a70cf"
      },
      "source": [
        "index = 6500\n",
        "plt.imshow(x_test[index])\n",
        "plt.show()\n",
        "pred = (model_CNN.predict(x_test))[index]\n",
        "prediction = 0\n",
        "for i in range(len(pred)):\n",
        "  if (pred[i]>pred[prediction]):\n",
        "      prediction = i\n",
        "print('Class Predicted',prediction,'\\nOriginal Class',y_test[index])"
      ],
      "execution_count": 23,
      "outputs": [
        {
          "output_type": "display_data",
          "data": {
            "image/png": "[encoded data removed]",
            "text/plain": [
              "<Figure size 432x288 with 1 Axes>"
            ]
          },
          "metadata": {
            "tags": [],
            "needs_background": "light"
          }
        },
        {
          "output_type": "stream",
          "text": [
            "Class Predicted 4 \n",
            "Original Class 4\n"
          ],
          "name": "stdout"
        }
      ]
    },
    {
      "cell_type": "markdown",
      "metadata": {
        "id": "EAfE29cGx3RF"
      },
      "source": [
        "Class 4 is for the fashion item 'Coat'. We see that our model is working fairly well."
      ]
    },
    {
      "cell_type": "markdown",
      "metadata": {
        "id": "7oUu3xEvyFVR"
      },
      "source": [
        "#Citations:"
      ]
    },
    {
      "cell_type": "markdown",
      "metadata": {
        "id": "BxYR5oniyIOE"
      },
      "source": [
        "<p>Links:<p>\n",
        "\n",
        "\n",
        "*   https://www.tensorflow.org/datasets/catalog/fashion_mnist\n",
        "*   https://www.tensorflow.org/tutorials/keras/classification\n",
        "*   https://blog.tensorflow.org/2018/04/fashion-mnist-with-tfkeras.html"
      ]
    }
  ]
}