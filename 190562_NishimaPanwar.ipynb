{
  "nbformat": 4,
  "nbformat_minor": 0,
  "metadata": {
    "colab": {
      "name": "TITANIC_PREDICTION (1).ipynb",
      "provenance": []
    },
    "kernelspec": {
      "name": "python3",
      "display_name": "Python 3"
    },
    "language_info": {
      "name": "python"
    }
  },
  "cells": [
    {
      "cell_type": "markdown",
      "metadata": {
        "id": "JcDS7w6lf0nR"
      },
      "source": [
        "#**Import Libraries:**"
      ]
    },
    {
      "cell_type": "code",
      "metadata": {
        "id": "26I4Y0L5fyrA"
      },
      "source": [
        "import numpy as np\n",
        "import pandas as pd\n",
        "import matplotlib.pyplot as plt\n",
        "import seaborn as sb"
      ],
      "execution_count": 3,
      "outputs": []
    },
    {
      "cell_type": "markdown",
      "metadata": {
        "id": "VSwHnj_Tf8zk"
      },
      "source": [
        "#**Load Data:**"
      ]
    },
    {
      "cell_type": "code",
      "metadata": {
        "colab": {
          "base_uri": "https://localhost:8080/",
          "height": 194
        },
        "id": "1cqiTyVhf6-c",
        "outputId": "845cc06b-3524-49cc-c4c0-5362e838a213"
      },
      "source": [
        "train_data = pd.read_csv(\"https://raw.githubusercontent.com/vanshbansal1505/ICG-Summer-Program-2021-DS/main/Assignment-1/data/train.csv\")\n",
        "train_data.head()"
      ],
      "execution_count": 4,
      "outputs": [
        {
          "output_type": "execute_result",
          "data": {
            "text/html": [
              "<div>\n",
              "<style scoped>\n",
              "    .dataframe tbody tr th:only-of-type {\n",
              "        vertical-align: middle;\n",
              "    }\n",
              "\n",
              "    .dataframe tbody tr th {\n",
              "        vertical-align: top;\n",
              "    }\n",
              "\n",
              "    .dataframe thead th {\n",
              "        text-align: right;\n",
              "    }\n",
              "</style>\n",
              "<table border=\"1\" class=\"dataframe\">\n",
              "  <thead>\n",
              "    <tr style=\"text-align: right;\">\n",
              "      <th></th>\n",
              "      <th>PassengerId</th>\n",
              "      <th>Survived</th>\n",
              "      <th>Pclass</th>\n",
              "      <th>Sex</th>\n",
              "      <th>Age</th>\n",
              "      <th>SibSp</th>\n",
              "      <th>Parch</th>\n",
              "      <th>Fare</th>\n",
              "    </tr>\n",
              "  </thead>\n",
              "  <tbody>\n",
              "    <tr>\n",
              "      <th>0</th>\n",
              "      <td>1</td>\n",
              "      <td>0</td>\n",
              "      <td>3</td>\n",
              "      <td>male</td>\n",
              "      <td>22.0</td>\n",
              "      <td>1</td>\n",
              "      <td>0</td>\n",
              "      <td>7.2500</td>\n",
              "    </tr>\n",
              "    <tr>\n",
              "      <th>1</th>\n",
              "      <td>2</td>\n",
              "      <td>1</td>\n",
              "      <td>1</td>\n",
              "      <td>female</td>\n",
              "      <td>38.0</td>\n",
              "      <td>1</td>\n",
              "      <td>0</td>\n",
              "      <td>71.2833</td>\n",
              "    </tr>\n",
              "    <tr>\n",
              "      <th>2</th>\n",
              "      <td>3</td>\n",
              "      <td>1</td>\n",
              "      <td>3</td>\n",
              "      <td>female</td>\n",
              "      <td>26.0</td>\n",
              "      <td>0</td>\n",
              "      <td>0</td>\n",
              "      <td>7.9250</td>\n",
              "    </tr>\n",
              "    <tr>\n",
              "      <th>3</th>\n",
              "      <td>4</td>\n",
              "      <td>1</td>\n",
              "      <td>1</td>\n",
              "      <td>female</td>\n",
              "      <td>35.0</td>\n",
              "      <td>1</td>\n",
              "      <td>0</td>\n",
              "      <td>53.1000</td>\n",
              "    </tr>\n",
              "    <tr>\n",
              "      <th>4</th>\n",
              "      <td>5</td>\n",
              "      <td>0</td>\n",
              "      <td>3</td>\n",
              "      <td>male</td>\n",
              "      <td>35.0</td>\n",
              "      <td>0</td>\n",
              "      <td>0</td>\n",
              "      <td>8.0500</td>\n",
              "    </tr>\n",
              "  </tbody>\n",
              "</table>\n",
              "</div>"
            ],
            "text/plain": [
              "   PassengerId  Survived  Pclass     Sex   Age  SibSp  Parch     Fare\n",
              "0            1         0       3    male  22.0      1      0   7.2500\n",
              "1            2         1       1  female  38.0      1      0  71.2833\n",
              "2            3         1       3  female  26.0      0      0   7.9250\n",
              "3            4         1       1  female  35.0      1      0  53.1000\n",
              "4            5         0       3    male  35.0      0      0   8.0500"
            ]
          },
          "metadata": {
            "tags": []
          },
          "execution_count": 4
        }
      ]
    },
    {
      "cell_type": "code",
      "metadata": {
        "colab": {
          "base_uri": "https://localhost:8080/",
          "height": 194
        },
        "id": "MzZ38V26f_Wy",
        "outputId": "00fd29f3-7125-4878-a625-81e6e5538ace"
      },
      "source": [
        "test_data = pd.read_csv(\"https://raw.githubusercontent.com/vanshbansal1505/ICG-Summer-Program-2021-DS/main/Assignment-1/data/test.csv\")\n",
        "test_data.head()"
      ],
      "execution_count": 5,
      "outputs": [
        {
          "output_type": "execute_result",
          "data": {
            "text/html": [
              "<div>\n",
              "<style scoped>\n",
              "    .dataframe tbody tr th:only-of-type {\n",
              "        vertical-align: middle;\n",
              "    }\n",
              "\n",
              "    .dataframe tbody tr th {\n",
              "        vertical-align: top;\n",
              "    }\n",
              "\n",
              "    .dataframe thead th {\n",
              "        text-align: right;\n",
              "    }\n",
              "</style>\n",
              "<table border=\"1\" class=\"dataframe\">\n",
              "  <thead>\n",
              "    <tr style=\"text-align: right;\">\n",
              "      <th></th>\n",
              "      <th>PassengerId</th>\n",
              "      <th>Survived</th>\n",
              "      <th>Pclass</th>\n",
              "      <th>Sex</th>\n",
              "      <th>Age</th>\n",
              "      <th>SibSp</th>\n",
              "      <th>Parch</th>\n",
              "      <th>Fare</th>\n",
              "    </tr>\n",
              "  </thead>\n",
              "  <tbody>\n",
              "    <tr>\n",
              "      <th>0</th>\n",
              "      <td>621</td>\n",
              "      <td>0</td>\n",
              "      <td>3</td>\n",
              "      <td>male</td>\n",
              "      <td>27.0</td>\n",
              "      <td>1</td>\n",
              "      <td>0</td>\n",
              "      <td>14.4542</td>\n",
              "    </tr>\n",
              "    <tr>\n",
              "      <th>1</th>\n",
              "      <td>622</td>\n",
              "      <td>1</td>\n",
              "      <td>1</td>\n",
              "      <td>male</td>\n",
              "      <td>42.0</td>\n",
              "      <td>1</td>\n",
              "      <td>0</td>\n",
              "      <td>52.5542</td>\n",
              "    </tr>\n",
              "    <tr>\n",
              "      <th>2</th>\n",
              "      <td>623</td>\n",
              "      <td>1</td>\n",
              "      <td>3</td>\n",
              "      <td>male</td>\n",
              "      <td>20.0</td>\n",
              "      <td>1</td>\n",
              "      <td>1</td>\n",
              "      <td>15.7417</td>\n",
              "    </tr>\n",
              "    <tr>\n",
              "      <th>3</th>\n",
              "      <td>624</td>\n",
              "      <td>0</td>\n",
              "      <td>3</td>\n",
              "      <td>male</td>\n",
              "      <td>21.0</td>\n",
              "      <td>0</td>\n",
              "      <td>0</td>\n",
              "      <td>7.8542</td>\n",
              "    </tr>\n",
              "    <tr>\n",
              "      <th>4</th>\n",
              "      <td>625</td>\n",
              "      <td>0</td>\n",
              "      <td>3</td>\n",
              "      <td>male</td>\n",
              "      <td>21.0</td>\n",
              "      <td>0</td>\n",
              "      <td>0</td>\n",
              "      <td>16.1000</td>\n",
              "    </tr>\n",
              "  </tbody>\n",
              "</table>\n",
              "</div>"
            ],
            "text/plain": [
              "   PassengerId  Survived  Pclass   Sex   Age  SibSp  Parch     Fare\n",
              "0          621         0       3  male  27.0      1      0  14.4542\n",
              "1          622         1       1  male  42.0      1      0  52.5542\n",
              "2          623         1       3  male  20.0      1      1  15.7417\n",
              "3          624         0       3  male  21.0      0      0   7.8542\n",
              "4          625         0       3  male  21.0      0      0  16.1000"
            ]
          },
          "metadata": {
            "tags": []
          },
          "execution_count": 5
        }
      ]
    },
    {
      "cell_type": "markdown",
      "metadata": {
        "id": "ziPbygL_gFRn"
      },
      "source": [
        "#**Data Exploration:**"
      ]
    },
    {
      "cell_type": "code",
      "metadata": {
        "colab": {
          "base_uri": "https://localhost:8080/"
        },
        "id": "0QnJpzTqgBiH",
        "outputId": "895feec8-9c8e-4c56-eb7c-bf0196170e91"
      },
      "source": [
        "print(\"Training Data: Rows - \" + str(len(train_data))+ \", Columns - \" + str(len(train_data.columns)))"
      ],
      "execution_count": 6,
      "outputs": [
        {
          "output_type": "stream",
          "text": [
            "Training Data: Rows - 620, Columns - 8\n"
          ],
          "name": "stdout"
        }
      ]
    },
    {
      "cell_type": "markdown",
      "metadata": {
        "id": "9FF5v-ZIgCi5"
      },
      "source": [
        ""
      ]
    },
    {
      "cell_type": "code",
      "metadata": {
        "colab": {
          "base_uri": "https://localhost:8080/"
        },
        "id": "xRrk-TpRgO6s",
        "outputId": "a10b87e2-2cc7-40ec-94f5-73d1b7c2a033"
      },
      "source": [
        "print(\"Testing data: Rows - \" + str(len(test_data))+ \", Columns - \"+ str(len(train_data.columns)))"
      ],
      "execution_count": 7,
      "outputs": [
        {
          "output_type": "stream",
          "text": [
            "Testing data: Rows - 271, Columns - 8\n"
          ],
          "name": "stdout"
        }
      ]
    },
    {
      "cell_type": "code",
      "metadata": {
        "colab": {
          "base_uri": "https://localhost:8080/"
        },
        "id": "7onOCiddgP1U",
        "outputId": "bde55a14-89b4-4bbf-a8e8-55afd2d1d5bb"
      },
      "source": [
        "train_data.info()"
      ],
      "execution_count": 8,
      "outputs": [
        {
          "output_type": "stream",
          "text": [
            "<class 'pandas.core.frame.DataFrame'>\n",
            "RangeIndex: 620 entries, 0 to 619\n",
            "Data columns (total 8 columns):\n",
            " #   Column       Non-Null Count  Dtype  \n",
            "---  ------       --------------  -----  \n",
            " 0   PassengerId  620 non-null    int64  \n",
            " 1   Survived     620 non-null    int64  \n",
            " 2   Pclass       620 non-null    int64  \n",
            " 3   Sex          620 non-null    object \n",
            " 4   Age          489 non-null    float64\n",
            " 5   SibSp        620 non-null    int64  \n",
            " 6   Parch        620 non-null    int64  \n",
            " 7   Fare         620 non-null    float64\n",
            "dtypes: float64(2), int64(5), object(1)\n",
            "memory usage: 38.9+ KB\n"
          ],
          "name": "stdout"
        }
      ]
    },
    {
      "cell_type": "code",
      "metadata": {
        "colab": {
          "base_uri": "https://localhost:8080/",
          "height": 354
        },
        "id": "zINnYPS2gR8n",
        "outputId": "88205bd9-3ff6-40c2-a1df-7255930e49aa"
      },
      "source": [
        "display(train_data.isnull().head())\n",
        "display(train_data.isnull().sum())"
      ],
      "execution_count": 9,
      "outputs": [
        {
          "output_type": "display_data",
          "data": {
            "text/html": [
              "<div>\n",
              "<style scoped>\n",
              "    .dataframe tbody tr th:only-of-type {\n",
              "        vertical-align: middle;\n",
              "    }\n",
              "\n",
              "    .dataframe tbody tr th {\n",
              "        vertical-align: top;\n",
              "    }\n",
              "\n",
              "    .dataframe thead th {\n",
              "        text-align: right;\n",
              "    }\n",
              "</style>\n",
              "<table border=\"1\" class=\"dataframe\">\n",
              "  <thead>\n",
              "    <tr style=\"text-align: right;\">\n",
              "      <th></th>\n",
              "      <th>PassengerId</th>\n",
              "      <th>Survived</th>\n",
              "      <th>Pclass</th>\n",
              "      <th>Sex</th>\n",
              "      <th>Age</th>\n",
              "      <th>SibSp</th>\n",
              "      <th>Parch</th>\n",
              "      <th>Fare</th>\n",
              "    </tr>\n",
              "  </thead>\n",
              "  <tbody>\n",
              "    <tr>\n",
              "      <th>0</th>\n",
              "      <td>False</td>\n",
              "      <td>False</td>\n",
              "      <td>False</td>\n",
              "      <td>False</td>\n",
              "      <td>False</td>\n",
              "      <td>False</td>\n",
              "      <td>False</td>\n",
              "      <td>False</td>\n",
              "    </tr>\n",
              "    <tr>\n",
              "      <th>1</th>\n",
              "      <td>False</td>\n",
              "      <td>False</td>\n",
              "      <td>False</td>\n",
              "      <td>False</td>\n",
              "      <td>False</td>\n",
              "      <td>False</td>\n",
              "      <td>False</td>\n",
              "      <td>False</td>\n",
              "    </tr>\n",
              "    <tr>\n",
              "      <th>2</th>\n",
              "      <td>False</td>\n",
              "      <td>False</td>\n",
              "      <td>False</td>\n",
              "      <td>False</td>\n",
              "      <td>False</td>\n",
              "      <td>False</td>\n",
              "      <td>False</td>\n",
              "      <td>False</td>\n",
              "    </tr>\n",
              "    <tr>\n",
              "      <th>3</th>\n",
              "      <td>False</td>\n",
              "      <td>False</td>\n",
              "      <td>False</td>\n",
              "      <td>False</td>\n",
              "      <td>False</td>\n",
              "      <td>False</td>\n",
              "      <td>False</td>\n",
              "      <td>False</td>\n",
              "    </tr>\n",
              "    <tr>\n",
              "      <th>4</th>\n",
              "      <td>False</td>\n",
              "      <td>False</td>\n",
              "      <td>False</td>\n",
              "      <td>False</td>\n",
              "      <td>False</td>\n",
              "      <td>False</td>\n",
              "      <td>False</td>\n",
              "      <td>False</td>\n",
              "    </tr>\n",
              "  </tbody>\n",
              "</table>\n",
              "</div>"
            ],
            "text/plain": [
              "   PassengerId  Survived  Pclass    Sex    Age  SibSp  Parch   Fare\n",
              "0        False     False   False  False  False  False  False  False\n",
              "1        False     False   False  False  False  False  False  False\n",
              "2        False     False   False  False  False  False  False  False\n",
              "3        False     False   False  False  False  False  False  False\n",
              "4        False     False   False  False  False  False  False  False"
            ]
          },
          "metadata": {
            "tags": []
          }
        },
        {
          "output_type": "display_data",
          "data": {
            "text/plain": [
              "PassengerId      0\n",
              "Survived         0\n",
              "Pclass           0\n",
              "Sex              0\n",
              "Age            131\n",
              "SibSp            0\n",
              "Parch            0\n",
              "Fare             0\n",
              "dtype: int64"
            ]
          },
          "metadata": {
            "tags": []
          }
        }
      ]
    },
    {
      "cell_type": "markdown",
      "metadata": {
        "id": "03Qzqz0zgVb-"
      },
      "source": [
        "#**Data Preprocessing**\n",
        "**Missing Data:**"
      ]
    },
    {
      "cell_type": "code",
      "metadata": {
        "colab": {
          "base_uri": "https://localhost:8080/"
        },
        "id": "deFio5B6gUOa",
        "outputId": "4cb372b7-edbf-4c3a-8a26-daaccf0b8a71"
      },
      "source": [
        "data = [train_data, test_data]\n",
        "\n",
        "for dataset in data:\n",
        "    mean = train_data[\"Age\"].mean()\n",
        "    std = test_data[\"Age\"].std()\n",
        "    is_null = dataset[\"Age\"].isnull().sum()\n",
        "    rand_age = np.random.randint(mean - std, mean + std, size = is_null)\n",
        "    age_slice = dataset[\"Age\"].copy()\n",
        "    age_slice[np.isnan(age_slice)] = rand_age\n",
        "    dataset[\"Age\"] = age_slice\n",
        "    dataset[\"Age\"] = train_data[\"Age\"].astype(int)\n",
        "train_data[\"Age\"].isnull().sum()"
      ],
      "execution_count": 10,
      "outputs": [
        {
          "output_type": "execute_result",
          "data": {
            "text/plain": [
              "0"
            ]
          },
          "metadata": {
            "tags": []
          },
          "execution_count": 10
        }
      ]
    },
    {
      "cell_type": "code",
      "metadata": {
        "colab": {
          "base_uri": "https://localhost:8080/",
          "height": 515
        },
        "id": "vdG9hVcRgbpA",
        "outputId": "4f910aa6-8aa5-444d-8a03-be82a7b8269f"
      },
      "source": [
        "display(data)"
      ],
      "execution_count": 11,
      "outputs": [
        {
          "output_type": "display_data",
          "data": {
            "text/plain": [
              "[     PassengerId  Survived  Pclass     Sex  Age  SibSp  Parch     Fare\n",
              " 0              1         0       3    male   22      1      0   7.2500\n",
              " 1              2         1       1  female   38      1      0  71.2833\n",
              " 2              3         1       3  female   26      0      0   7.9250\n",
              " 3              4         1       1  female   35      1      0  53.1000\n",
              " 4              5         0       3    male   35      0      0   8.0500\n",
              " ..           ...       ...     ...     ...  ...    ...    ...      ...\n",
              " 615          616         1       2  female   24      1      2  65.0000\n",
              " 616          617         0       3    male   34      1      1  14.4000\n",
              " 617          618         0       3  female   26      1      0  16.1000\n",
              " 618          619         1       2  female    4      2      1  39.0000\n",
              " 619          620         0       2    male   26      0      0  10.5000\n",
              " \n",
              " [620 rows x 8 columns],\n",
              "      PassengerId  Survived  Pclass     Sex  Age  SibSp  Parch     Fare\n",
              " 0            621         0       3    male   22      1      0  14.4542\n",
              " 1            622         1       1    male   38      1      0  52.5542\n",
              " 2            623         1       3    male   26      1      1  15.7417\n",
              " 3            624         0       3    male   35      0      0   7.8542\n",
              " 4            625         0       3    male   35      0      0  16.1000\n",
              " ..           ...       ...     ...     ...  ...    ...    ...      ...\n",
              " 266          887         0       2    male   16      0      0  13.0000\n",
              " 267          888         1       1  female   25      0      0  30.0000\n",
              " 268          889         0       3  female   58      1      2  23.4500\n",
              " 269          890         1       1    male   35      0      0  30.0000\n",
              " 270          891         0       3    male   27      0      0   7.7500\n",
              " \n",
              " [271 rows x 8 columns]]"
            ]
          },
          "metadata": {
            "tags": []
          }
        }
      ]
    },
    {
      "cell_type": "markdown",
      "metadata": {
        "id": "JZVxHqrngf_E"
      },
      "source": [
        "**Converting Data:**\n",
        "#####**Sex:**"
      ]
    },
    {
      "cell_type": "code",
      "metadata": {
        "id": "xS5gIt3Igdra"
      },
      "source": [
        "genders = {\"male\": 0, \"female\": 1}\n",
        "data = [train_data, test_data]\n",
        "for dataset in data:\n",
        "    dataset['Sex'] = dataset['Sex'].map(genders)"
      ],
      "execution_count": 12,
      "outputs": []
    },
    {
      "cell_type": "code",
      "metadata": {
        "colab": {
          "base_uri": "https://localhost:8080/",
          "height": 515
        },
        "id": "GUGYRcHbgjHF",
        "outputId": "9b76da0a-ff4e-4b34-94eb-17670bfdac74"
      },
      "source": [
        "display(data)"
      ],
      "execution_count": 13,
      "outputs": [
        {
          "output_type": "display_data",
          "data": {
            "text/plain": [
              "[     PassengerId  Survived  Pclass  Sex  Age  SibSp  Parch     Fare\n",
              " 0              1         0       3    0   22      1      0   7.2500\n",
              " 1              2         1       1    1   38      1      0  71.2833\n",
              " 2              3         1       3    1   26      0      0   7.9250\n",
              " 3              4         1       1    1   35      1      0  53.1000\n",
              " 4              5         0       3    0   35      0      0   8.0500\n",
              " ..           ...       ...     ...  ...  ...    ...    ...      ...\n",
              " 615          616         1       2    1   24      1      2  65.0000\n",
              " 616          617         0       3    0   34      1      1  14.4000\n",
              " 617          618         0       3    1   26      1      0  16.1000\n",
              " 618          619         1       2    1    4      2      1  39.0000\n",
              " 619          620         0       2    0   26      0      0  10.5000\n",
              " \n",
              " [620 rows x 8 columns],\n",
              "      PassengerId  Survived  Pclass  Sex  Age  SibSp  Parch     Fare\n",
              " 0            621         0       3    0   22      1      0  14.4542\n",
              " 1            622         1       1    0   38      1      0  52.5542\n",
              " 2            623         1       3    0   26      1      1  15.7417\n",
              " 3            624         0       3    0   35      0      0   7.8542\n",
              " 4            625         0       3    0   35      0      0  16.1000\n",
              " ..           ...       ...     ...  ...  ...    ...    ...      ...\n",
              " 266          887         0       2    0   16      0      0  13.0000\n",
              " 267          888         1       1    1   25      0      0  30.0000\n",
              " 268          889         0       3    1   58      1      2  23.4500\n",
              " 269          890         1       1    0   35      0      0  30.0000\n",
              " 270          891         0       3    0   27      0      0   7.7500\n",
              " \n",
              " [271 rows x 8 columns]]"
            ]
          },
          "metadata": {
            "tags": []
          }
        }
      ]
    },
    {
      "cell_type": "markdown",
      "metadata": {
        "id": "r1nZhHbMgnNA"
      },
      "source": [
        "**PassengerId:**"
      ]
    },
    {
      "cell_type": "code",
      "metadata": {
        "id": "PUM0q2whgku4"
      },
      "source": [
        "train_data = train_data.drop(['PassengerId'],axis=1)\n",
        "test_data = test_data.drop(['PassengerId'],axis=1)"
      ],
      "execution_count": 14,
      "outputs": []
    },
    {
      "cell_type": "code",
      "metadata": {
        "colab": {
          "base_uri": "https://localhost:8080/",
          "height": 497
        },
        "id": "bigPlCgsgquz",
        "outputId": "6be4f2e2-13cd-4eb2-c83e-5726cf79c77b"
      },
      "source": [
        "data = [train_data,test_data]\n",
        "display(data)"
      ],
      "execution_count": 15,
      "outputs": [
        {
          "output_type": "display_data",
          "data": {
            "text/plain": [
              "[     Survived  Pclass  Sex  Age  SibSp  Parch     Fare\n",
              " 0           0       3    0   22      1      0   7.2500\n",
              " 1           1       1    1   38      1      0  71.2833\n",
              " 2           1       3    1   26      0      0   7.9250\n",
              " 3           1       1    1   35      1      0  53.1000\n",
              " 4           0       3    0   35      0      0   8.0500\n",
              " ..        ...     ...  ...  ...    ...    ...      ...\n",
              " 615         1       2    1   24      1      2  65.0000\n",
              " 616         0       3    0   34      1      1  14.4000\n",
              " 617         0       3    1   26      1      0  16.1000\n",
              " 618         1       2    1    4      2      1  39.0000\n",
              " 619         0       2    0   26      0      0  10.5000\n",
              " \n",
              " [620 rows x 7 columns],      Survived  Pclass  Sex  Age  SibSp  Parch     Fare\n",
              " 0           0       3    0   22      1      0  14.4542\n",
              " 1           1       1    0   38      1      0  52.5542\n",
              " 2           1       3    0   26      1      1  15.7417\n",
              " 3           0       3    0   35      0      0   7.8542\n",
              " 4           0       3    0   35      0      0  16.1000\n",
              " ..        ...     ...  ...  ...    ...    ...      ...\n",
              " 266         0       2    0   16      0      0  13.0000\n",
              " 267         1       1    1   25      0      0  30.0000\n",
              " 268         0       3    1   58      1      2  23.4500\n",
              " 269         1       1    0   35      0      0  30.0000\n",
              " 270         0       3    0   27      0      0   7.7500\n",
              " \n",
              " [271 rows x 7 columns]]"
            ]
          },
          "metadata": {
            "tags": []
          }
        }
      ]
    },
    {
      "cell_type": "markdown",
      "metadata": {
        "id": "-4NHvRFyhJom"
      },
      "source": [
        "**Age:**"
      ]
    },
    {
      "cell_type": "code",
      "metadata": {
        "id": "xTdy2-smgsly"
      },
      "source": [
        "data = [train_data, test_data]\n",
        "for dataset in data:\n",
        "    dataset['Age'] = dataset['Age'].astype(int)\n",
        "    dataset.loc[ dataset['Age'] <= 11, 'Age'] = 0\n",
        "    dataset.loc[(dataset['Age'] > 11) & (dataset['Age'] <= 18), 'Age'] = 1\n",
        "    dataset.loc[(dataset['Age'] > 18) & (dataset['Age'] <= 22), 'Age'] = 2\n",
        "    dataset.loc[(dataset['Age'] > 22) & (dataset['Age'] <= 27), 'Age'] = 3\n",
        "    dataset.loc[(dataset['Age'] > 27) & (dataset['Age'] <= 33), 'Age'] = 4\n",
        "    dataset.loc[(dataset['Age'] > 33) & (dataset['Age'] <= 40), 'Age'] = 5\n",
        "    dataset.loc[(dataset['Age'] > 40) & (dataset['Age'] <= 66), 'Age'] = 6\n",
        "    dataset.loc[ dataset['Age'] > 66, 'Age'] = 6\n"
      ],
      "execution_count": 16,
      "outputs": []
    },
    {
      "cell_type": "markdown",
      "metadata": {
        "id": "QND72Tt6hTWu"
      },
      "source": [
        "**Fare:**"
      ]
    },
    {
      "cell_type": "code",
      "metadata": {
        "id": "RfZ0rvOZhSQz"
      },
      "source": [
        "for dataset in data:\n",
        "    dataset.loc[ dataset['Fare'] <= 7.91, 'Fare'] = 0\n",
        "    dataset.loc[(dataset['Fare'] > 7.91) & (dataset['Fare'] <= 14.454), 'Fare'] = 1\n",
        "    dataset.loc[(dataset['Fare'] > 14.454) & (dataset['Fare'] <= 31), 'Fare']   = 2\n",
        "    dataset.loc[(dataset['Fare'] > 31) & (dataset['Fare'] <= 99), 'Fare']   = 3\n",
        "    dataset.loc[(dataset['Fare'] > 99) & (dataset['Fare'] <= 250), 'Fare']   = 4\n",
        "    dataset.loc[ dataset['Fare'] > 250, 'Fare'] = 5\n",
        "    dataset['Fare'] = dataset['Fare'].astype(int)"
      ],
      "execution_count": 17,
      "outputs": []
    },
    {
      "cell_type": "code",
      "metadata": {
        "colab": {
          "base_uri": "https://localhost:8080/",
          "height": 497
        },
        "id": "RV0FUGMrhe2B",
        "outputId": "94d00603-0cc3-4622-e8e1-898bd6ee693a"
      },
      "source": [
        "display(data)"
      ],
      "execution_count": 18,
      "outputs": [
        {
          "output_type": "display_data",
          "data": {
            "text/plain": [
              "[     Survived  Pclass  Sex  Age  SibSp  Parch  Fare\n",
              " 0           0       3    0    2      1      0     0\n",
              " 1           1       1    1    5      1      0     3\n",
              " 2           1       3    1    3      0      0     1\n",
              " 3           1       1    1    5      1      0     3\n",
              " 4           0       3    0    5      0      0     1\n",
              " ..        ...     ...  ...  ...    ...    ...   ...\n",
              " 615         1       2    1    3      1      2     3\n",
              " 616         0       3    0    5      1      1     1\n",
              " 617         0       3    1    3      1      0     2\n",
              " 618         1       2    1    0      2      1     3\n",
              " 619         0       2    0    3      0      0     1\n",
              " \n",
              " [620 rows x 7 columns],      Survived  Pclass  Sex  Age  SibSp  Parch  Fare\n",
              " 0           0       3    0    2      1      0     2\n",
              " 1           1       1    0    5      1      0     3\n",
              " 2           1       3    0    3      1      1     2\n",
              " 3           0       3    0    5      0      0     0\n",
              " 4           0       3    0    5      0      0     2\n",
              " ..        ...     ...  ...  ...    ...    ...   ...\n",
              " 266         0       2    0    1      0      0     1\n",
              " 267         1       1    1    3      0      0     2\n",
              " 268         0       3    1    6      1      2     2\n",
              " 269         1       1    0    5      0      0     2\n",
              " 270         0       3    0    3      0      0     0\n",
              " \n",
              " [271 rows x 7 columns]]"
            ]
          },
          "metadata": {
            "tags": []
          }
        }
      ]
    },
    {
      "cell_type": "markdown",
      "metadata": {
        "id": "Yrqxzblphk11"
      },
      "source": [
        "#**Creating New Features:**"
      ]
    },
    {
      "cell_type": "markdown",
      "metadata": {
        "id": "vuzrAAmOmHfw"
      },
      "source": [
        "**Age_class:**"
      ]
    },
    {
      "cell_type": "code",
      "metadata": {
        "id": "HUQWIzM-hg_Z"
      },
      "source": [
        "data = [train_data,test_data]\n",
        "for df in data:\n",
        "  df['Age_class'] = df['Age']*df['Pclass']"
      ],
      "execution_count": 19,
      "outputs": []
    },
    {
      "cell_type": "markdown",
      "metadata": {
        "id": "zKBA2LH2mLk6"
      },
      "source": [
        "**Fare_Per_Person:**"
      ]
    },
    {
      "cell_type": "code",
      "metadata": {
        "id": "7UJIKCBIhuaK"
      },
      "source": [
        "for dataset in data:\n",
        "    dataset['Fare_Per_Person'] = dataset['Fare']/(dataset['SibSp']+dataset['Parch']+1)\n",
        "    dataset['Fare_Per_Person'] = dataset['Fare_Per_Person'].astype(int)"
      ],
      "execution_count": 20,
      "outputs": []
    },
    {
      "cell_type": "markdown",
      "metadata": {
        "id": "DiWpQcS_mQ_A"
      },
      "source": [
        "**Family_size:**"
      ]
    },
    {
      "cell_type": "code",
      "metadata": {
        "id": "l1vJ20Ochwv1"
      },
      "source": [
        "for dataset in data:\n",
        "    dataset['Family'] = dataset['SibSp']+dataset['Parch']+1    "
      ],
      "execution_count": 21,
      "outputs": []
    },
    {
      "cell_type": "code",
      "metadata": {
        "colab": {
          "base_uri": "https://localhost:8080/",
          "height": 378
        },
        "id": "MAQnBSjfmVrf",
        "outputId": "f3dc7132-f675-4995-8aac-499f6cb624ce"
      },
      "source": [
        "train_data['Family'].hist(figsize=(15,7))"
      ],
      "execution_count": 22,
      "outputs": [
        {
          "output_type": "execute_result",
          "data": {
            "text/plain": [
              "<matplotlib.axes._subplots.AxesSubplot at 0x7f88da492590>"
            ]
          },
          "metadata": {
            "tags": []
          },
          "execution_count": 22
        },
        {
          "output_type": "display_data",
          "data": {
            "image/png": "[encoded data removed]",
            "text/plain": [
              "<Figure size 1080x504 with 1 Axes>"
            ]
          },
          "metadata": {
            "tags": [],
            "needs_background": "light"
          }
        }
      ]
    },
    {
      "cell_type": "code",
      "metadata": {
        "colab": {
          "base_uri": "https://localhost:8080/",
          "height": 515
        },
        "id": "yOhKK9n-iKzS",
        "outputId": "a37206df-2d13-4e62-e648-67297fbbecbe"
      },
      "source": [
        "display(data)"
      ],
      "execution_count": 23,
      "outputs": [
        {
          "output_type": "display_data",
          "data": {
            "text/plain": [
              "[     Survived  Pclass  Sex  Age  ...  Fare  Age_class  Fare_Per_Person  Family\n",
              " 0           0       3    0    2  ...     0          6                0       2\n",
              " 1           1       1    1    5  ...     3          5                1       2\n",
              " 2           1       3    1    3  ...     1          9                1       1\n",
              " 3           1       1    1    5  ...     3          5                1       2\n",
              " 4           0       3    0    5  ...     1         15                1       1\n",
              " ..        ...     ...  ...  ...  ...   ...        ...              ...     ...\n",
              " 615         1       2    1    3  ...     3          6                0       4\n",
              " 616         0       3    0    5  ...     1         15                0       3\n",
              " 617         0       3    1    3  ...     2          9                1       2\n",
              " 618         1       2    1    0  ...     3          0                0       4\n",
              " 619         0       2    0    3  ...     1          6                1       1\n",
              " \n",
              " [620 rows x 10 columns],\n",
              "      Survived  Pclass  Sex  Age  ...  Fare  Age_class  Fare_Per_Person  Family\n",
              " 0           0       3    0    2  ...     2          6                1       2\n",
              " 1           1       1    0    5  ...     3          5                1       2\n",
              " 2           1       3    0    3  ...     2          9                0       3\n",
              " 3           0       3    0    5  ...     0         15                0       1\n",
              " 4           0       3    0    5  ...     2         15                2       1\n",
              " ..        ...     ...  ...  ...  ...   ...        ...              ...     ...\n",
              " 266         0       2    0    1  ...     1          2                1       1\n",
              " 267         1       1    1    3  ...     2          3                2       1\n",
              " 268         0       3    1    6  ...     2         18                0       4\n",
              " 269         1       1    0    5  ...     2          5                2       1\n",
              " 270         0       3    0    3  ...     0          9                0       1\n",
              " \n",
              " [271 rows x 10 columns]]"
            ]
          },
          "metadata": {
            "tags": []
          }
        }
      ]
    },
    {
      "cell_type": "code",
      "metadata": {
        "colab": {
          "base_uri": "https://localhost:8080/",
          "height": 404
        },
        "id": "UDB9HRWfm0pY",
        "outputId": "6686a87e-223b-4b6c-bc91-63a3c9063445"
      },
      "source": [
        "plt.figure(figsize=(20, 10))\n",
        "plt.subplot(321)\n",
        "sb.barplot(x = 'Pclass', y = 'Survived', data = train_data)\n",
        "plt.subplot(322)\n",
        "sb.barplot(x = 'Sex', y = 'Survived', data = train_data)\n",
        "plt.subplot(323)\n",
        "sb.barplot(x = 'Age', y = 'Survived', data = train_data)\n",
        "plt.subplot(324)\n",
        "sb.barplot(x = 'Fare', y = 'Survived', data = train_data)\n",
        "plt.subplot(325)\n",
        "sb.barplot(x = 'Age_class', y = 'Survived', data = train_data)\n",
        "plt.subplot(326)\n",
        "sb.barplot(x = 'Family', y = 'Survived', data = train_data)\n"
      ],
      "execution_count": 24,
      "outputs": [
        {
          "output_type": "execute_result",
          "data": {
            "text/plain": [
              "<matplotlib.axes._subplots.AxesSubplot at 0x7f88d9dab210>"
            ]
          },
          "metadata": {
            "tags": []
          },
          "execution_count": 24
        },
        {
          "output_type": "display_data",
          "data": {
            "image/png": "[encoded data removed]",
            "text/plain": [
              "<Figure size 1440x720 with 6 Axes>"
            ]
          },
          "metadata": {
            "tags": [],
            "needs_background": "light"
          }
        }
      ]
    },
    {
      "cell_type": "markdown",
      "metadata": {
        "id": "YblQo5Viic-l"
      },
      "source": [
        "#**Model**"
      ]
    },
    {
      "cell_type": "code",
      "metadata": {
        "id": "KC8PkqKOiUte"
      },
      "source": [
        "X_train = train_data.drop([\"Survived\"],axis=1)\n",
        "Y_train = train_data[\"Survived\"]\n",
        "X_test = test_data.drop([\"Survived\"],axis=1)\n",
        "Y_test = test_data[\"Survived\"]"
      ],
      "execution_count": 25,
      "outputs": []
    },
    {
      "cell_type": "markdown",
      "metadata": {
        "id": "AzgsZHHKiq78"
      },
      "source": [
        "###**With-out skelearn**"
      ]
    },
    {
      "cell_type": "code",
      "metadata": {
        "id": "5-h4J5xhikBG"
      },
      "source": [
        "from math import exp\n",
        "def sigmoid(input):    \n",
        "    output = 1 / (1 + np.exp(-input))\n",
        "    return output\n",
        "def optimize(x, y,learning_rate,iterations,parameters): \n",
        "    size = x.shape[0]\n",
        "    weight = parameters[\"weight\"] \n",
        "    bias = parameters[\"bias\"]\n",
        "    for i in range(iterations): \n",
        "        sigma = sigmoid(np.dot(x, weight) + bias)\n",
        "        loss = -1/size * np.sum(y * np.log(sigma)) + (1 - y) * np.log(1-sigma)\n",
        "        dW = 1/size * np.dot(x.T, (sigma - y))\n",
        "        db = 1/size * np.sum(sigma - y)\n",
        "        weight -= learning_rate * dW\n",
        "        bias -= learning_rate * db \n",
        "    \n",
        "    parameters[\"weight\"] = weight\n",
        "    parameters[\"bias\"] = bias\n",
        "    return parameters\n",
        "def binary_cross_entropy(actual, predicted):\n",
        "\t  sum_score = 0.0\n",
        "\t  for i in range(len(actual)):\n",
        "\t\t   sum_score += actual[i] * log(1e-15 + predicted[i])\n",
        "\t  mean_sum_score = 1.0 / len(actual) * sum_score\n",
        "\t  return -mean_sum_score    "
      ],
      "execution_count": 27,
      "outputs": []
    },
    {
      "cell_type": "code",
      "metadata": {
        "id": "TySzDdw6jDgK"
      },
      "source": [
        "init_parameters = {} \n",
        "init_parameters[\"weight\"] = np.zeros(X_train.shape[1])\n",
        "init_parameters[\"bias\"] = 0"
      ],
      "execution_count": 28,
      "outputs": []
    },
    {
      "cell_type": "code",
      "metadata": {
        "id": "KtrQ5Tr2jHlA"
      },
      "source": [
        "def train(x, y, learning_rate,iterations):\n",
        "    parameters_out = optimize(x, y, learning_rate, iterations ,init_parameters)\n",
        "    return parameters_out"
      ],
      "execution_count": 29,
      "outputs": []
    },
    {
      "cell_type": "code",
      "metadata": {
        "id": "vyrLvbVbjJd1"
      },
      "source": [
        "out = train(X_train, Y_train, learning_rate=0.02,iterations=300)"
      ],
      "execution_count": 30,
      "outputs": []
    },
    {
      "cell_type": "code",
      "metadata": {
        "colab": {
          "base_uri": "https://localhost:8080/"
        },
        "id": "mQzivLWFjMAR",
        "outputId": "287ab93a-6796-4ff1-f60d-c350d08af3a9"
      },
      "source": [
        "out"
      ],
      "execution_count": 31,
      "outputs": [
        {
          "output_type": "execute_result",
          "data": {
            "text/plain": [
              "{'bias': 0.009321557930199556,\n",
              " 'weight': array([-0.1709445 ,  0.62308399,  0.07485563, -0.1370275 ,  0.07626389,\n",
              "         0.20847647, -0.09945053, -0.03997777, -0.05144206])}"
            ]
          },
          "metadata": {
            "tags": []
          },
          "execution_count": 31
        }
      ]
    },
    {
      "cell_type": "code",
      "metadata": {
        "id": "NrCWWH0AjOlt"
      },
      "source": [
        "out_values = np.dot(X_train,out[\"weight\"])+out[\"bias\"]\n",
        "pred = sigmoid(out_values) \n",
        "y = [1 if p >= 0.5 else 0 for p in pred]"
      ],
      "execution_count": 32,
      "outputs": []
    },
    {
      "cell_type": "code",
      "metadata": {
        "colab": {
          "base_uri": "https://localhost:8080/"
        },
        "id": "gCOGOTldjQ_T",
        "outputId": "beec7e66-c7dd-4cb3-a637-d363938e8807"
      },
      "source": [
        "accuracy = 0\n",
        "for i in range(len(y)):\n",
        "    if y[i] == Y_train.iloc[i]:\n",
        "        accuracy += 1\n",
        "print(f\"Accuracy = {accuracy / len(y)}\")\n"
      ],
      "execution_count": 35,
      "outputs": [
        {
          "output_type": "stream",
          "text": [
            "Accuracy = 0.714516129032258\n"
          ],
          "name": "stdout"
        }
      ]
    },
    {
      "cell_type": "code",
      "metadata": {
        "id": "dyE5foETjULa"
      },
      "source": [
        "out_values = np.dot(X_test,out[\"weight\"])+out[\"bias\"]\n",
        "pred = sigmoid(out_values) \n",
        "y = [1 if p >= 0.5 else 0 for p in pred]"
      ],
      "execution_count": 36,
      "outputs": []
    },
    {
      "cell_type": "code",
      "metadata": {
        "colab": {
          "base_uri": "https://localhost:8080/"
        },
        "id": "x-NZE0SUjhMJ",
        "outputId": "b589f64b-d4e6-42e2-b910-22714a6b2241"
      },
      "source": [
        "accuracy = 0\n",
        "for i in range(len(y)):\n",
        "    if y[i] == Y_test.iloc[i]:\n",
        "        accuracy += 1\n",
        "print(f\"Accuracy = {accuracy / len(y)}\")"
      ],
      "execution_count": 37,
      "outputs": [
        {
          "output_type": "stream",
          "text": [
            "Accuracy = 0.7859778597785978\n"
          ],
          "name": "stdout"
        }
      ]
    },
    {
      "cell_type": "markdown",
      "metadata": {
        "id": "di-lfBC1jl8R"
      },
      "source": [
        "###**With sklearn**"
      ]
    },
    {
      "cell_type": "markdown",
      "metadata": {
        "id": "a2Q9HxGpjuDn"
      },
      "source": [
        "####**Importing Libraries:**"
      ]
    },
    {
      "cell_type": "code",
      "metadata": {
        "id": "teSrMmQgjj_i"
      },
      "source": [
        "from sklearn.model_selection import train_test_split\n",
        "from sklearn.linear_model import LogisticRegression\n",
        "from sklearn.metrics import accuracy_score, confusion_matrix\n",
        "from sklearn.metrics import f1_score\n",
        "from sklearn.metrics import log_loss\n"
      ],
      "execution_count": 38,
      "outputs": []
    },
    {
      "cell_type": "code",
      "metadata": {
        "colab": {
          "base_uri": "https://localhost:8080/"
        },
        "id": "uuqRJh4Gj53p",
        "outputId": "44f7117b-252d-416a-f94e-8bc0198eca16"
      },
      "source": [
        "log_reg = LogisticRegression()\n",
        "log_reg.fit(X_train, Y_train)\n",
        "\n",
        "Y_pred = log_reg.predict(X_test)\n",
        "\n",
        "Y_pred"
      ],
      "execution_count": 39,
      "outputs": [
        {
          "output_type": "execute_result",
          "data": {
            "text/plain": [
              "array([0, 0, 0, 0, 0, 1, 0, 1, 0, 0, 1, 0, 0, 0, 0, 1, 0, 0, 1, 0, 0, 1,\n",
              "       0, 0, 1, 0, 0, 0, 0, 1, 0, 1, 0, 1, 1, 0, 0, 1, 0, 1, 0, 0, 0, 0,\n",
              "       0, 0, 0, 0, 0, 1, 1, 1, 0, 0, 0, 0, 0, 1, 0, 1, 1, 0, 0, 0, 0, 0,\n",
              "       0, 0, 0, 1, 0, 1, 0, 0, 0, 0, 0, 1, 1, 0, 1, 0, 1, 0, 0, 0, 1, 0,\n",
              "       1, 0, 1, 0, 0, 0, 0, 0, 1, 1, 0, 0, 1, 0, 0, 0, 0, 0, 1, 1, 0, 1,\n",
              "       1, 0, 0, 0, 0, 0, 0, 0, 0, 0, 0, 1, 1, 0, 0, 1, 0, 1, 1, 0, 1, 0,\n",
              "       0, 0, 1, 0, 0, 0, 0, 1, 0, 0, 0, 1, 0, 1, 0, 1, 0, 0, 0, 0, 1, 0,\n",
              "       1, 0, 0, 1, 0, 1, 1, 1, 0, 0, 0, 0, 1, 0, 0, 0, 0, 0, 0, 0, 0, 0,\n",
              "       1, 1, 0, 1, 0, 1, 1, 0, 0, 0, 0, 1, 0, 1, 0, 0, 0, 0, 0, 0, 1, 0,\n",
              "       0, 0, 1, 0, 0, 1, 0, 0, 0, 0, 0, 1, 1, 0, 0, 0, 0, 1, 0, 0, 0, 0,\n",
              "       0, 0, 1, 0, 0, 0, 0, 0, 0, 1, 0, 0, 1, 1, 1, 1, 1, 1, 1, 0, 0, 0,\n",
              "       1, 0, 0, 1, 1, 0, 0, 0, 0, 1, 0, 0, 1, 1, 0, 0, 0, 1, 1, 0, 1, 0,\n",
              "       0, 0, 0, 1, 0, 0, 0])"
            ]
          },
          "metadata": {
            "tags": []
          },
          "execution_count": 39
        }
      ]
    },
    {
      "cell_type": "code",
      "metadata": {
        "colab": {
          "base_uri": "https://localhost:8080/"
        },
        "id": "3kADABhRj74g",
        "outputId": "dd2029f8-54f2-4657-81ab-d9cdc613722e"
      },
      "source": [
        "accuracy_score(Y_pred, Y_test)"
      ],
      "execution_count": 40,
      "outputs": [
        {
          "output_type": "execute_result",
          "data": {
            "text/plain": [
              "0.7970479704797048"
            ]
          },
          "metadata": {
            "tags": []
          },
          "execution_count": 40
        }
      ]
    },
    {
      "cell_type": "code",
      "metadata": {
        "colab": {
          "base_uri": "https://localhost:8080/"
        },
        "id": "660YTuqFj-G_",
        "outputId": "6fdbe67c-45af-42d3-e42d-7020aa3b8675"
      },
      "source": [
        "confusion_matrix(Y_pred, Y_test)\n"
      ],
      "execution_count": 41,
      "outputs": [
        {
          "output_type": "execute_result",
          "data": {
            "text/plain": [
              "array([[152,  34],\n",
              "       [ 21,  64]])"
            ]
          },
          "metadata": {
            "tags": []
          },
          "execution_count": 41
        }
      ]
    },
    {
      "cell_type": "code",
      "metadata": {
        "id": "p7F_gqMSkAMC",
        "colab": {
          "base_uri": "https://localhost:8080/"
        },
        "outputId": "efdf7e16-3c15-44f5-cbe0-e62b43655044"
      },
      "source": [
        "f1_score(Y_pred, Y_test)"
      ],
      "execution_count": 42,
      "outputs": [
        {
          "output_type": "execute_result",
          "data": {
            "text/plain": [
              "0.6994535519125683"
            ]
          },
          "metadata": {
            "tags": []
          },
          "execution_count": 42
        }
      ]
    },
    {
      "cell_type": "code",
      "metadata": {
        "colab": {
          "base_uri": "https://localhost:8080/"
        },
        "id": "vUpsJ1sQrJCE",
        "outputId": "8dc6a5ae-811a-4ed8-b6d8-66a00b3a32ac"
      },
      "source": [
        "log_loss(Y_pred,Y_test)"
      ],
      "execution_count": 43,
      "outputs": [
        {
          "output_type": "execute_result",
          "data": {
            "text/plain": [
              "7.0098150849915655"
            ]
          },
          "metadata": {
            "tags": []
          },
          "execution_count": 43
        }
      ]
    },
    {
      "cell_type": "code",
      "metadata": {
        "id": "Rr4u09NAtPic"
      },
      "source": [
        "Y_pred = log_reg.predict(X_train)"
      ],
      "execution_count": 44,
      "outputs": []
    },
    {
      "cell_type": "code",
      "metadata": {
        "colab": {
          "base_uri": "https://localhost:8080/"
        },
        "id": "DP86tDNlupDi",
        "outputId": "4b5a53fd-7a13-4184-bc0d-8e1905c650ea"
      },
      "source": [
        "Y_pred"
      ],
      "execution_count": 45,
      "outputs": [
        {
          "output_type": "execute_result",
          "data": {
            "text/plain": [
              "array([0, 1, 1, 1, 0, 0, 0, 0, 1, 1, 1, 1, 0, 0, 1, 1, 0, 0, 1, 1, 0, 0,\n",
              "       1, 0, 1, 0, 0, 0, 1, 0, 0, 1, 1, 0, 0, 0, 0, 0, 1, 1, 1, 1, 0, 1,\n",
              "       1, 0, 0, 1, 0, 1, 0, 0, 1, 1, 0, 0, 1, 0, 1, 0, 0, 1, 0, 0, 0, 0,\n",
              "       1, 0, 0, 0, 0, 0, 0, 0, 0, 0, 0, 0, 0, 1, 0, 0, 1, 0, 1, 0, 0, 0,\n",
              "       1, 0, 0, 0, 0, 0, 0, 0, 0, 1, 1, 0, 1, 0, 1, 0, 0, 0, 1, 0, 0, 1,\n",
              "       0, 1, 0, 1, 1, 0, 0, 0, 1, 0, 0, 0, 0, 1, 0, 0, 0, 0, 1, 0, 0, 0,\n",
              "       0, 1, 0, 0, 1, 0, 0, 0, 1, 1, 1, 0, 0, 0, 0, 1, 0, 0, 0, 1, 0, 0,\n",
              "       0, 0, 1, 0, 0, 0, 0, 1, 0, 0, 0, 0, 1, 0, 0, 0, 0, 0, 1, 0, 0, 0,\n",
              "       0, 1, 0, 0, 0, 0, 0, 0, 1, 0, 1, 0, 0, 0, 1, 0, 1, 0, 1, 1, 0, 0,\n",
              "       1, 1, 0, 0, 0, 0, 0, 1, 0, 0, 1, 0, 0, 1, 0, 0, 0, 1, 1, 0, 1, 0,\n",
              "       0, 0, 0, 0, 0, 0, 0, 0, 0, 0, 1, 0, 0, 0, 0, 1, 0, 1, 0, 0, 1, 1,\n",
              "       0, 0, 0, 0, 1, 1, 0, 0, 0, 1, 0, 0, 1, 1, 1, 1, 1, 1, 0, 0, 0, 0,\n",
              "       1, 0, 0, 0, 1, 1, 0, 0, 1, 0, 1, 1, 1, 0, 0, 1, 0, 0, 0, 0, 0, 0,\n",
              "       0, 0, 0, 1, 1, 1, 0, 1, 0, 0, 0, 1, 0, 1, 1, 0, 0, 1, 0, 1, 1, 1,\n",
              "       0, 1, 1, 1, 1, 0, 0, 1, 1, 0, 1, 1, 0, 0, 1, 1, 0, 1, 0, 1, 1, 1,\n",
              "       1, 0, 0, 0, 1, 0, 0, 1, 0, 0, 0, 1, 0, 0, 0, 1, 1, 1, 0, 0, 0, 0,\n",
              "       0, 0, 0, 0, 1, 1, 1, 1, 0, 0, 1, 0, 0, 0, 1, 1, 1, 1, 1, 0, 0, 0,\n",
              "       1, 1, 1, 1, 0, 0, 1, 1, 0, 1, 0, 0, 0, 1, 0, 1, 0, 0, 0, 1, 1, 0,\n",
              "       1, 0, 0, 1, 0, 0, 1, 0, 1, 0, 0, 0, 0, 0, 0, 0, 1, 0, 0, 1, 1, 1,\n",
              "       0, 1, 0, 0, 0, 1, 0, 0, 1, 1, 0, 0, 0, 1, 1, 0, 0, 1, 1, 1, 0, 0,\n",
              "       1, 0, 0, 1, 0, 1, 1, 0, 1, 0, 0, 0, 0, 0, 0, 0, 0, 1, 1, 0, 0, 0,\n",
              "       0, 0, 0, 0, 0, 0, 0, 1, 0, 0, 1, 1, 1, 0, 0, 0, 0, 1, 0, 0, 0, 1,\n",
              "       1, 0, 1, 0, 0, 0, 0, 0, 0, 0, 0, 0, 1, 0, 1, 0, 0, 1, 1, 1, 1, 1,\n",
              "       1, 0, 0, 0, 0, 0, 0, 1, 0, 0, 1, 0, 1, 0, 1, 0, 0, 1, 0, 0, 1, 0,\n",
              "       0, 0, 1, 0, 0, 1, 1, 1, 0, 1, 0, 1, 1, 0, 0, 0, 0, 0, 1, 0, 0, 0,\n",
              "       1, 0, 0, 0, 1, 0, 1, 0, 1, 1, 0, 0, 0, 0, 1, 0, 0, 0, 0, 0, 0, 1,\n",
              "       0, 1, 0, 0, 1, 1, 1, 0, 1, 1, 0, 0, 0, 1, 0, 0, 0, 0, 0, 1, 0, 0,\n",
              "       0, 0, 1, 0, 0, 0, 1, 0, 0, 0, 0, 0, 0, 0, 1, 1, 0, 0, 1, 0, 0, 1,\n",
              "       0, 1, 1, 0])"
            ]
          },
          "metadata": {
            "tags": []
          },
          "execution_count": 45
        }
      ]
    },
    {
      "cell_type": "code",
      "metadata": {
        "colab": {
          "base_uri": "https://localhost:8080/"
        },
        "id": "zzcuqIZBurFK",
        "outputId": "375da52c-9bd1-4363-bc3e-1ce7b1a2e04d"
      },
      "source": [
        "accuracy_score(Y_pred, Y_train)"
      ],
      "execution_count": 46,
      "outputs": [
        {
          "output_type": "execute_result",
          "data": {
            "text/plain": [
              "0.8096774193548387"
            ]
          },
          "metadata": {
            "tags": []
          },
          "execution_count": 46
        }
      ]
    },
    {
      "cell_type": "code",
      "metadata": {
        "colab": {
          "base_uri": "https://localhost:8080/"
        },
        "id": "bJs1TB6muuxw",
        "outputId": "7dd6cd80-fffb-4fd1-db60-feed2fb573b5"
      },
      "source": [
        "confusion_matrix(Y_pred, Y_train)"
      ],
      "execution_count": 47,
      "outputs": [
        {
          "output_type": "execute_result",
          "data": {
            "text/plain": [
              "array([[327,  69],\n",
              "       [ 49, 175]])"
            ]
          },
          "metadata": {
            "tags": []
          },
          "execution_count": 47
        }
      ]
    },
    {
      "cell_type": "code",
      "metadata": {
        "colab": {
          "base_uri": "https://localhost:8080/"
        },
        "id": "DSyfOuRRuypa",
        "outputId": "8a637e6e-7c28-4e55-d9b9-f56a93cb3c08"
      },
      "source": [
        "f1_score(Y_pred, Y_train)"
      ],
      "execution_count": 48,
      "outputs": [
        {
          "output_type": "execute_result",
          "data": {
            "text/plain": [
              "0.7478632478632479"
            ]
          },
          "metadata": {
            "tags": []
          },
          "execution_count": 48
        }
      ]
    },
    {
      "cell_type": "code",
      "metadata": {
        "colab": {
          "base_uri": "https://localhost:8080/"
        },
        "id": "RP0yME0ru108",
        "outputId": "39817300-5a7c-432a-f2a4-caea9907b707"
      },
      "source": [
        "log_loss(Y_pred,Y_train)"
      ],
      "execution_count": 49,
      "outputs": [
        {
          "output_type": "execute_result",
          "data": {
            "text/plain": [
              "6.573598043261523"
            ]
          },
          "metadata": {
            "tags": []
          },
          "execution_count": 49
        }
      ]
    },
    {
      "cell_type": "code",
      "metadata": {
        "id": "6xV4SBzAu44Z"
      },
      "source": [
        ""
      ],
      "execution_count": null,
      "outputs": []
    }
  ]
}