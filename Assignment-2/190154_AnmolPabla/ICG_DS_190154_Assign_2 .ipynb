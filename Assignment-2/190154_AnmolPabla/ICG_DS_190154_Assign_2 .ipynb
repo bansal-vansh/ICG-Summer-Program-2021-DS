{
  "nbformat": 4,
  "nbformat_minor": 0,
  "metadata": {
    "colab": {
      "name": "ICG_DS_190154_Assign_2.ipynb",
      "provenance": [],
      "collapsed_sections": []
    },
    "kernelspec": {
      "name": "python3",
      "display_name": "Python 3"
    },
    "language_info": {
      "name": "python"
    }
  },
  "cells": [
    {
      "cell_type": "markdown",
      "metadata": {
        "id": "lvEE_pWIGSXs"
      },
      "source": [
        "###I have tried to avoid using Libraries as much as I could (Computed F1 score etc. by running loops instead of using libraries)\n",
        "\n"
      ]
    },
    {
      "cell_type": "markdown",
      "metadata": {
        "id": "-CHNsLea3ik5"
      },
      "source": [
        "# Data Exploration"
      ]
    },
    {
      "cell_type": "markdown",
      "metadata": {
        "id": "7i249LaL3RuV"
      },
      "source": [
        "##Loading Data and Initial Feature Analysis"
      ]
    },
    {
      "cell_type": "code",
      "metadata": {
        "id": "drW3KPSXmLp_"
      },
      "source": [
        "import matplotlib.pyplot as plt\n",
        "import pandas as pd\n",
        "import numpy as np\n",
        "import math\n",
        "%matplotlib inline"
      ],
      "execution_count": 1,
      "outputs": []
    },
    {
      "cell_type": "code",
      "metadata": {
        "colab": {
          "base_uri": "https://localhost:8080/"
        },
        "id": "x7t2FeOSnMqI",
        "outputId": "b8fd9014-a154-4852-aad4-d3dce26bdf41"
      },
      "source": [
        "!wget -O train.csv https://raw.githubusercontent.com/vanshbansal1505/ICG-Summer-Program-2021-DS/main/Assignment-2/data/train.csv"
      ],
      "execution_count": 2,
      "outputs": [
        {
          "output_type": "stream",
          "text": [
            "--2021-06-15 10:04:36--  https://raw.githubusercontent.com/vanshbansal1505/ICG-Summer-Program-2021-DS/main/Assignment-2/data/train.csv\n",
            "Resolving raw.githubusercontent.com (raw.githubusercontent.com)... 185.199.108.133, 185.199.109.133, 185.199.110.133, ...\n",
            "Connecting to raw.githubusercontent.com (raw.githubusercontent.com)|185.199.108.133|:443... connected.\n",
            "HTTP request sent, awaiting response... 200 OK\n",
            "Length: 16722 (16K) [text/plain]\n",
            "Saving to: ‘train.csv’\n",
            "\n",
            "train.csv           100%[===================>]  16.33K  --.-KB/s    in 0s      \n",
            "\n",
            "2021-06-15 10:04:37 (103 MB/s) - ‘train.csv’ saved [16722/16722]\n",
            "\n"
          ],
          "name": "stdout"
        }
      ]
    },
    {
      "cell_type": "code",
      "metadata": {
        "colab": {
          "base_uri": "https://localhost:8080/",
          "height": 415
        },
        "id": "HU7ouC5xncXF",
        "outputId": "84719035-541a-487c-8936-ad108a7e7767"
      },
      "source": [
        "train=pd.read_csv('train.csv')\n",
        "train"
      ],
      "execution_count": 3,
      "outputs": [
        {
          "output_type": "execute_result",
          "data": {
            "text/html": [
              "<div>\n",
              "<style scoped>\n",
              "    .dataframe tbody tr th:only-of-type {\n",
              "        vertical-align: middle;\n",
              "    }\n",
              "\n",
              "    .dataframe tbody tr th {\n",
              "        vertical-align: top;\n",
              "    }\n",
              "\n",
              "    .dataframe thead th {\n",
              "        text-align: right;\n",
              "    }\n",
              "</style>\n",
              "<table border=\"1\" class=\"dataframe\">\n",
              "  <thead>\n",
              "    <tr style=\"text-align: right;\">\n",
              "      <th></th>\n",
              "      <th>PassengerId</th>\n",
              "      <th>Survived</th>\n",
              "      <th>Pclass</th>\n",
              "      <th>Sex</th>\n",
              "      <th>Age</th>\n",
              "      <th>SibSp</th>\n",
              "      <th>Parch</th>\n",
              "      <th>Fare</th>\n",
              "    </tr>\n",
              "  </thead>\n",
              "  <tbody>\n",
              "    <tr>\n",
              "      <th>0</th>\n",
              "      <td>1</td>\n",
              "      <td>0</td>\n",
              "      <td>3</td>\n",
              "      <td>male</td>\n",
              "      <td>22.0</td>\n",
              "      <td>1</td>\n",
              "      <td>0</td>\n",
              "      <td>7.2500</td>\n",
              "    </tr>\n",
              "    <tr>\n",
              "      <th>1</th>\n",
              "      <td>2</td>\n",
              "      <td>1</td>\n",
              "      <td>1</td>\n",
              "      <td>female</td>\n",
              "      <td>38.0</td>\n",
              "      <td>1</td>\n",
              "      <td>0</td>\n",
              "      <td>71.2833</td>\n",
              "    </tr>\n",
              "    <tr>\n",
              "      <th>2</th>\n",
              "      <td>3</td>\n",
              "      <td>1</td>\n",
              "      <td>3</td>\n",
              "      <td>female</td>\n",
              "      <td>26.0</td>\n",
              "      <td>0</td>\n",
              "      <td>0</td>\n",
              "      <td>7.9250</td>\n",
              "    </tr>\n",
              "    <tr>\n",
              "      <th>3</th>\n",
              "      <td>4</td>\n",
              "      <td>1</td>\n",
              "      <td>1</td>\n",
              "      <td>female</td>\n",
              "      <td>35.0</td>\n",
              "      <td>1</td>\n",
              "      <td>0</td>\n",
              "      <td>53.1000</td>\n",
              "    </tr>\n",
              "    <tr>\n",
              "      <th>4</th>\n",
              "      <td>5</td>\n",
              "      <td>0</td>\n",
              "      <td>3</td>\n",
              "      <td>male</td>\n",
              "      <td>35.0</td>\n",
              "      <td>0</td>\n",
              "      <td>0</td>\n",
              "      <td>8.0500</td>\n",
              "    </tr>\n",
              "    <tr>\n",
              "      <th>...</th>\n",
              "      <td>...</td>\n",
              "      <td>...</td>\n",
              "      <td>...</td>\n",
              "      <td>...</td>\n",
              "      <td>...</td>\n",
              "      <td>...</td>\n",
              "      <td>...</td>\n",
              "      <td>...</td>\n",
              "    </tr>\n",
              "    <tr>\n",
              "      <th>615</th>\n",
              "      <td>616</td>\n",
              "      <td>1</td>\n",
              "      <td>2</td>\n",
              "      <td>female</td>\n",
              "      <td>24.0</td>\n",
              "      <td>1</td>\n",
              "      <td>2</td>\n",
              "      <td>65.0000</td>\n",
              "    </tr>\n",
              "    <tr>\n",
              "      <th>616</th>\n",
              "      <td>617</td>\n",
              "      <td>0</td>\n",
              "      <td>3</td>\n",
              "      <td>male</td>\n",
              "      <td>34.0</td>\n",
              "      <td>1</td>\n",
              "      <td>1</td>\n",
              "      <td>14.4000</td>\n",
              "    </tr>\n",
              "    <tr>\n",
              "      <th>617</th>\n",
              "      <td>618</td>\n",
              "      <td>0</td>\n",
              "      <td>3</td>\n",
              "      <td>female</td>\n",
              "      <td>26.0</td>\n",
              "      <td>1</td>\n",
              "      <td>0</td>\n",
              "      <td>16.1000</td>\n",
              "    </tr>\n",
              "    <tr>\n",
              "      <th>618</th>\n",
              "      <td>619</td>\n",
              "      <td>1</td>\n",
              "      <td>2</td>\n",
              "      <td>female</td>\n",
              "      <td>4.0</td>\n",
              "      <td>2</td>\n",
              "      <td>1</td>\n",
              "      <td>39.0000</td>\n",
              "    </tr>\n",
              "    <tr>\n",
              "      <th>619</th>\n",
              "      <td>620</td>\n",
              "      <td>0</td>\n",
              "      <td>2</td>\n",
              "      <td>male</td>\n",
              "      <td>26.0</td>\n",
              "      <td>0</td>\n",
              "      <td>0</td>\n",
              "      <td>10.5000</td>\n",
              "    </tr>\n",
              "  </tbody>\n",
              "</table>\n",
              "<p>620 rows × 8 columns</p>\n",
              "</div>"
            ],
            "text/plain": [
              "     PassengerId  Survived  Pclass     Sex   Age  SibSp  Parch     Fare\n",
              "0              1         0       3    male  22.0      1      0   7.2500\n",
              "1              2         1       1  female  38.0      1      0  71.2833\n",
              "2              3         1       3  female  26.0      0      0   7.9250\n",
              "3              4         1       1  female  35.0      1      0  53.1000\n",
              "4              5         0       3    male  35.0      0      0   8.0500\n",
              "..           ...       ...     ...     ...   ...    ...    ...      ...\n",
              "615          616         1       2  female  24.0      1      2  65.0000\n",
              "616          617         0       3    male  34.0      1      1  14.4000\n",
              "617          618         0       3  female  26.0      1      0  16.1000\n",
              "618          619         1       2  female   4.0      2      1  39.0000\n",
              "619          620         0       2    male  26.0      0      0  10.5000\n",
              "\n",
              "[620 rows x 8 columns]"
            ]
          },
          "metadata": {
            "tags": []
          },
          "execution_count": 3
        }
      ]
    },
    {
      "cell_type": "code",
      "metadata": {
        "colab": {
          "base_uri": "https://localhost:8080/"
        },
        "id": "NO5P0mBrnm7n",
        "outputId": "a9453158-cc67-4716-8461-1a9505ec74f0"
      },
      "source": [
        "train.count()"
      ],
      "execution_count": 4,
      "outputs": [
        {
          "output_type": "execute_result",
          "data": {
            "text/plain": [
              "PassengerId    620\n",
              "Survived       620\n",
              "Pclass         620\n",
              "Sex            620\n",
              "Age            489\n",
              "SibSp          620\n",
              "Parch          620\n",
              "Fare           620\n",
              "dtype: int64"
            ]
          },
          "metadata": {
            "tags": []
          },
          "execution_count": 4
        }
      ]
    },
    {
      "cell_type": "markdown",
      "metadata": {
        "id": "6vOoXx1ln-0c"
      },
      "source": [
        "We see that total Passengers are 620 and all columns except age have 0 non-null values. Age has 489 non-null and 131 null values.\n",
        "Now we explore the data available to us to get an idea about factors that played a role in survival. "
      ]
    },
    {
      "cell_type": "markdown",
      "metadata": {
        "id": "DSvIPcUb2-4C"
      },
      "source": [
        "##Catogerizing Features and deleting Rows with Null Values in Age "
      ]
    },
    {
      "cell_type": "markdown",
      "metadata": {
        "id": "bEEgex9yHEL7"
      },
      "source": [
        "Converting Sex in the data to numerical values; 0 for male, 1 for female"
      ]
    },
    {
      "cell_type": "code",
      "metadata": {
        "id": "BntMecCW9vcu",
        "colab": {
          "base_uri": "https://localhost:8080/"
        },
        "outputId": "a8b6818f-fe8b-446f-fa42-47753d184e60"
      },
      "source": [
        "for i in range(len(train['Sex'])):\n",
        "  if train['Sex'][i]=='male':\n",
        "    train['Sex'][i]=0.0\n",
        "  else:  train['Sex'][i]=1.0"
      ],
      "execution_count": 5,
      "outputs": [
        {
          "output_type": "stream",
          "text": [
            "/usr/local/lib/python3.7/dist-packages/ipykernel_launcher.py:3: SettingWithCopyWarning: \n",
            "A value is trying to be set on a copy of a slice from a DataFrame\n",
            "\n",
            "See the caveats in the documentation: https://pandas.pydata.org/pandas-docs/stable/user_guide/indexing.html#returning-a-view-versus-a-copy\n",
            "  This is separate from the ipykernel package so we can avoid doing imports until\n",
            "/usr/local/lib/python3.7/dist-packages/ipykernel_launcher.py:4: SettingWithCopyWarning: \n",
            "A value is trying to be set on a copy of a slice from a DataFrame\n",
            "\n",
            "See the caveats in the documentation: https://pandas.pydata.org/pandas-docs/stable/user_guide/indexing.html#returning-a-view-versus-a-copy\n",
            "  after removing the cwd from sys.path.\n"
          ],
          "name": "stderr"
        }
      ]
    },
    {
      "cell_type": "markdown",
      "metadata": {
        "id": "Kmlkc4O2HaDM"
      },
      "source": [
        "Dropping Rows with age as a NULL value, I attempte replacing age with median and with 0 but it gave lower accuracies on Test Data"
      ]
    },
    {
      "cell_type": "code",
      "metadata": {
        "colab": {
          "base_uri": "https://localhost:8080/",
          "height": 294
        },
        "id": "aEc4OlgRBBwZ",
        "outputId": "4fd186b2-ad05-44c9-a498-0a4357d58ead"
      },
      "source": [
        "train = train.dropna(axis = 0, how ='any')\n",
        "train.describe()"
      ],
      "execution_count": 6,
      "outputs": [
        {
          "output_type": "execute_result",
          "data": {
            "text/html": [
              "<div>\n",
              "<style scoped>\n",
              "    .dataframe tbody tr th:only-of-type {\n",
              "        vertical-align: middle;\n",
              "    }\n",
              "\n",
              "    .dataframe tbody tr th {\n",
              "        vertical-align: top;\n",
              "    }\n",
              "\n",
              "    .dataframe thead th {\n",
              "        text-align: right;\n",
              "    }\n",
              "</style>\n",
              "<table border=\"1\" class=\"dataframe\">\n",
              "  <thead>\n",
              "    <tr style=\"text-align: right;\">\n",
              "      <th></th>\n",
              "      <th>PassengerId</th>\n",
              "      <th>Survived</th>\n",
              "      <th>Pclass</th>\n",
              "      <th>Age</th>\n",
              "      <th>SibSp</th>\n",
              "      <th>Parch</th>\n",
              "      <th>Fare</th>\n",
              "    </tr>\n",
              "  </thead>\n",
              "  <tbody>\n",
              "    <tr>\n",
              "      <th>count</th>\n",
              "      <td>489.000000</td>\n",
              "      <td>489.000000</td>\n",
              "      <td>489.000000</td>\n",
              "      <td>489.000000</td>\n",
              "      <td>489.000000</td>\n",
              "      <td>489.000000</td>\n",
              "      <td>489.000000</td>\n",
              "    </tr>\n",
              "    <tr>\n",
              "      <th>mean</th>\n",
              "      <td>307.022495</td>\n",
              "      <td>0.415133</td>\n",
              "      <td>2.229039</td>\n",
              "      <td>29.781186</td>\n",
              "      <td>0.541922</td>\n",
              "      <td>0.441718</td>\n",
              "      <td>34.233929</td>\n",
              "    </tr>\n",
              "    <tr>\n",
              "      <th>std</th>\n",
              "      <td>177.586591</td>\n",
              "      <td>0.493250</td>\n",
              "      <td>0.837575</td>\n",
              "      <td>14.404998</td>\n",
              "      <td>0.953198</td>\n",
              "      <td>0.845176</td>\n",
              "      <td>48.211438</td>\n",
              "    </tr>\n",
              "    <tr>\n",
              "      <th>min</th>\n",
              "      <td>1.000000</td>\n",
              "      <td>0.000000</td>\n",
              "      <td>1.000000</td>\n",
              "      <td>0.750000</td>\n",
              "      <td>0.000000</td>\n",
              "      <td>0.000000</td>\n",
              "      <td>0.000000</td>\n",
              "    </tr>\n",
              "    <tr>\n",
              "      <th>25%</th>\n",
              "      <td>152.000000</td>\n",
              "      <td>0.000000</td>\n",
              "      <td>1.000000</td>\n",
              "      <td>21.000000</td>\n",
              "      <td>0.000000</td>\n",
              "      <td>0.000000</td>\n",
              "      <td>8.050000</td>\n",
              "    </tr>\n",
              "    <tr>\n",
              "      <th>50%</th>\n",
              "      <td>308.000000</td>\n",
              "      <td>0.000000</td>\n",
              "      <td>2.000000</td>\n",
              "      <td>28.000000</td>\n",
              "      <td>0.000000</td>\n",
              "      <td>0.000000</td>\n",
              "      <td>16.100000</td>\n",
              "    </tr>\n",
              "    <tr>\n",
              "      <th>75%</th>\n",
              "      <td>457.000000</td>\n",
              "      <td>1.000000</td>\n",
              "      <td>3.000000</td>\n",
              "      <td>38.000000</td>\n",
              "      <td>1.000000</td>\n",
              "      <td>1.000000</td>\n",
              "      <td>33.500000</td>\n",
              "    </tr>\n",
              "    <tr>\n",
              "      <th>max</th>\n",
              "      <td>620.000000</td>\n",
              "      <td>1.000000</td>\n",
              "      <td>3.000000</td>\n",
              "      <td>71.000000</td>\n",
              "      <td>5.000000</td>\n",
              "      <td>5.000000</td>\n",
              "      <td>512.329200</td>\n",
              "    </tr>\n",
              "  </tbody>\n",
              "</table>\n",
              "</div>"
            ],
            "text/plain": [
              "       PassengerId    Survived      Pclass  ...       SibSp       Parch        Fare\n",
              "count   489.000000  489.000000  489.000000  ...  489.000000  489.000000  489.000000\n",
              "mean    307.022495    0.415133    2.229039  ...    0.541922    0.441718   34.233929\n",
              "std     177.586591    0.493250    0.837575  ...    0.953198    0.845176   48.211438\n",
              "min       1.000000    0.000000    1.000000  ...    0.000000    0.000000    0.000000\n",
              "25%     152.000000    0.000000    1.000000  ...    0.000000    0.000000    8.050000\n",
              "50%     308.000000    0.000000    2.000000  ...    0.000000    0.000000   16.100000\n",
              "75%     457.000000    1.000000    3.000000  ...    1.000000    1.000000   33.500000\n",
              "max     620.000000    1.000000    3.000000  ...    5.000000    5.000000  512.329200\n",
              "\n",
              "[8 rows x 7 columns]"
            ]
          },
          "metadata": {
            "tags": []
          },
          "execution_count": 6
        }
      ]
    },
    {
      "cell_type": "markdown",
      "metadata": {
        "id": "Qn5Y5WkLHvXk"
      },
      "source": [
        "##Creating catogeries for Fare and Age to plot them with ease for data exploration"
      ]
    },
    {
      "cell_type": "code",
      "metadata": {
        "colab": {
          "base_uri": "https://localhost:8080/"
        },
        "id": "ibyIWU0EsPsd",
        "outputId": "1b48fd01-bd84-4a15-b41b-51a027b4a71a"
      },
      "source": [
        "print(np.mean(train['Fare']),np.median(train['Fare']),np.std(train['Fare']))\n",
        "bins = [-100, 8.05, 16.1, 33.5, 513]\n",
        "labels = [0.0, 1.0, 2.0, 3.0]\n",
        "Fare_cat = pd.cut(train['Fare'], bins = bins, labels=labels)\n",
        "\n",
        "Fare_cat.value_counts()"
      ],
      "execution_count": 7,
      "outputs": [
        {
          "output_type": "stream",
          "text": [
            "34.23392903885475 16.1 48.16211718935626\n"
          ],
          "name": "stdout"
        },
        {
          "output_type": "execute_result",
          "data": {
            "text/plain": [
              "0.0    128\n",
              "3.0    122\n",
              "2.0    121\n",
              "1.0    118\n",
              "Name: Fare, dtype: int64"
            ]
          },
          "metadata": {
            "tags": []
          },
          "execution_count": 7
        }
      ]
    },
    {
      "cell_type": "markdown",
      "metadata": {
        "id": "iVSeXHFX8TcB"
      },
      "source": [
        "We have created an almost even distribution for Fare after catogerizing it"
      ]
    },
    {
      "cell_type": "code",
      "metadata": {
        "colab": {
          "base_uri": "https://localhost:8080/"
        },
        "id": "i_Ly9AC88dKQ",
        "outputId": "11da157a-7a80-47ed-99c5-c9a750959bda"
      },
      "source": [
        "bins = [-1, 4, 18, 30, 50, 80]\n",
        "labels = [0.0,1.0,2.0,3.0,4.0]\n",
        "Age_cat = pd.cut(train['Age'], bins = bins, labels=labels)\n",
        "Age_cat.value_counts()"
      ],
      "execution_count": 8,
      "outputs": [
        {
          "output_type": "execute_result",
          "data": {
            "text/plain": [
              "2.0    193\n",
              "3.0    162\n",
              "1.0     62\n",
              "4.0     44\n",
              "0.0     28\n",
              "Name: Age, dtype: int64"
            ]
          },
          "metadata": {
            "tags": []
          },
          "execution_count": 8
        }
      ]
    },
    {
      "cell_type": "markdown",
      "metadata": {
        "id": "X1Qx8zaM9E0J"
      },
      "source": [
        "Age Distribution also catogerised, adults and young people max in number"
      ]
    },
    {
      "cell_type": "markdown",
      "metadata": {
        "id": "U1M4khs02bri"
      },
      "source": [
        "## Calculation Of Percentage Of Survivors for each Feature:"
      ]
    },
    {
      "cell_type": "markdown",
      "metadata": {
        "id": "-NDgbwaiIEl8"
      },
      "source": [
        "I will plot bar graphs for Survival rate for each feature"
      ]
    },
    {
      "cell_type": "code",
      "metadata": {
        "id": "0tLmNdXGyeq-"
      },
      "source": [
        "X1=[1,2,3] \n",
        "Y1=[0,0,0] \n",
        "\n",
        "for i in [1,2,3]:\n",
        "  Y1[i-1] = train['Survived'][train['Pclass']==i].mean()*100\n",
        "\n",
        "X2=['male','female'] \n",
        "Y2=[0,0] \n",
        "\n",
        "for i in [0,1]:\n",
        "  Y2[i] = train['Survived'][train['Sex']==i].mean()*100\n",
        "\n",
        "X3=['0-4','4-18','18-30','30-50','>50'] \n",
        "Y3=[0,0,0,0,0] \n",
        "\n",
        "for i in [0,1,2,3,4]:\n",
        "  Y3[i] = train['Survived'][Age_cat==i].mean()*100\n",
        "\n",
        "X4=[0,1,2,3,4,5] \n",
        "Y4=[0,0,0,0,0,0] \n",
        "\n",
        "for i in [0,1,2,3,4,5]:                                                               # np.unique(train['SibSp']) gives-> array([0, 1, 2, 3, 4, 5])\n",
        "  Y4[i] = train['Survived'][train['SibSp']==i].mean()*100\n",
        "\n",
        "X5=[0,1,2,3,4,5] \n",
        "Y5=[0,0,0,0,0,0] \n",
        "\n",
        "for i in [0,1,2,3,4,5]:                                                               # np.unique(train['Parch']) gives-> array([0, 1, 2, 3, 4, 5])\n",
        "  Y5[i] = train['Survived'][train['Parch']==i].mean()*100\n",
        "\n",
        "X6=['Low','Below Median','Above Median','High'] \n",
        "Y6=[0,0,0,0] \n",
        "\n",
        "for i in [0,1,2,3]:\n",
        "  Y6[i] = train['Survived'][Fare_cat==i].mean()*100\n",
        "\n"
      ],
      "execution_count": 9,
      "outputs": []
    },
    {
      "cell_type": "markdown",
      "metadata": {
        "id": "t9opbQsr2R5J"
      },
      "source": [
        "## Plotting Bar Graphs and Inference from Data Exploration: "
      ]
    },
    {
      "cell_type": "code",
      "metadata": {
        "colab": {
          "base_uri": "https://localhost:8080/",
          "height": 1000
        },
        "id": "1dVUFTmGxU7F",
        "outputId": "d397857a-c232-4502-905f-7d3825a9166d"
      },
      "source": [
        "plt.bar(X1,Y1,color='#4CAF50') \n",
        "plt.title(\"Percentage Of Survivors Versus Pclass\") \n",
        "plt.xlabel(\"Pclass\") \n",
        "plt.ylabel(\"Percentage of Survivors\") \n",
        "plt.show()\n",
        "\n",
        "plt.bar(X2,Y2,color='#7CAF50') \n",
        "plt.title(\"Percentage Of Survivors Versus Sex\") \n",
        "plt.xlabel(\"Sex\") \n",
        "plt.ylabel(\"Percentage of Survivors\") \n",
        "plt.show()\n",
        "\n",
        "plt.bar(X3,Y3,color='#7CAF50') \n",
        "plt.title(\"Percentage Of Survivors Versus Age Group\") \n",
        "plt.xlabel(\"Age\") \n",
        "plt.ylabel(\"Percentage of Survivors\") \n",
        "plt.show()\n",
        "\n",
        "plt.bar(X4,Y4,color='#4CAF50') \n",
        "plt.title(\"Percentage Of Survivors Versus SibSp\") \n",
        "plt.xlabel(\"SibSp\") \n",
        "plt.ylabel(\"Percentage of Survivors\") \n",
        "plt.show()\n",
        "\n",
        "plt.bar(X5,Y5,color='#4CAF50') \n",
        "plt.title(\"Percentage Of Survivors Versus Parch\") \n",
        "plt.xlabel(\"Parch\") \n",
        "plt.ylabel(\"Percentage of Survivors\") \n",
        "plt.show()\n",
        "\n",
        "plt.bar(X6,Y6,color='#7CAF50') \n",
        "plt.title(\"Percentage Of Survivors Versus Fare\") \n",
        "plt.xlabel(\"Fare\") \n",
        "plt.ylabel(\"Percentage of Survivors\") \n",
        "plt.show()"
      ],
      "execution_count": 10,
      "outputs": [
        {
          "output_type": "display_data",
          "data": {
            "image/png": "[encoded data removed]",
            "text/plain": [
              "<Figure size 432x288 with 1 Axes>"
            ]
          },
          "metadata": {
            "tags": [],
            "needs_background": "light"
          }
        },
        {
          "output_type": "display_data",
          "data": {
            "image/png": "[encoded data removed]",
            "text/plain": [
              "<Figure size 432x288 with 1 Axes>"
            ]
          },
          "metadata": {
            "tags": [],
            "needs_background": "light"
          }
        },
        {
          "output_type": "display_data",
          "data": {
            "image/png": "[encoded data removed]",
            "text/plain": [
              "<Figure size 432x288 with 1 Axes>"
            ]
          },
          "metadata": {
            "tags": [],
            "needs_background": "light"
          }
        },
        {
          "output_type": "display_data",
          "data": {
            "image/png": "[encoded data removed]",
            "text/plain": [
              "<Figure size 432x288 with 1 Axes>"
            ]
          },
          "metadata": {
            "tags": [],
            "needs_background": "light"
          }
        },
        {
          "output_type": "display_data",
          "data": {
            "image/png": "[encoded data removed]",
            "text/plain": [
              "<Figure size 432x288 with 1 Axes>"
            ]
          },
          "metadata": {
            "tags": [],
            "needs_background": "light"
          }
        },
        {
          "output_type": "display_data",
          "data": {
            "image/png": "[encoded data removed]",
            "text/plain": [
              "<Figure size 432x288 with 1 Axes>"
            ]
          },
          "metadata": {
            "tags": [],
            "needs_background": "light"
          }
        }
      ]
    },
    {
      "cell_type": "markdown",
      "metadata": {
        "id": "s6r31Tb20QrM"
      },
      "source": [
        "<p>Clearly, Female passengers have a much greater chance of survival, this might not be completely related to gender but other factors like the fact that women travelled mostly with families and in first class helped their survival. Nevertheless, this is a factor worth considering, we have already converted sex to numerical values to be used by the ML Model. The Age, SibSp and Parch also seem to show variation in Survival Rate.<p> Survival rate also goes up as Pclass improves; higher Fares also improves chance of survival, there is a strong possibility that these two are interrelated, i.e. Higher Fare is generally for Pclass=1. We find if this assumption is true using the plot below: "
      ]
    },
    {
      "cell_type": "markdown",
      "metadata": {
        "id": "5-KdSWbydF3l"
      },
      "source": [
        "## Heat Map using SeaBorn"
      ]
    },
    {
      "cell_type": "code",
      "metadata": {
        "colab": {
          "base_uri": "https://localhost:8080/",
          "height": 625
        },
        "id": "cJlV50I6srwN",
        "outputId": "e184f562-b894-47fb-ecd7-860e268e9572"
      },
      "source": [
        "import seaborn as sns\n",
        "colormap = plt.cm.viridis\n",
        "plt.figure(figsize=(10,10))\n",
        "plt.title('Correlation of Features')\n",
        "sns.heatmap(train.astype(float).corr(),vmax=1.0, cmap=colormap, annot=True)"
      ],
      "execution_count": 11,
      "outputs": [
        {
          "output_type": "execute_result",
          "data": {
            "text/plain": [
              "<matplotlib.axes._subplots.AxesSubplot at 0x7f0b5062d990>"
            ]
          },
          "metadata": {
            "tags": []
          },
          "execution_count": 11
        },
        {
          "output_type": "display_data",
          "data": {
            "image/png": "[encoded data removed]",
            "text/plain": [
              "<Figure size 720x720 with 2 Axes>"
            ]
          },
          "metadata": {
            "tags": [],
            "needs_background": "light"
          }
        }
      ]
    },
    {
      "cell_type": "markdown",
      "metadata": {
        "id": "9R-y0pgEQHxy"
      },
      "source": [
        "# Defining the Decision Tree"
      ]
    },
    {
      "cell_type": "markdown",
      "metadata": {
        "id": "4M0KTfjqQqb1"
      },
      "source": [
        "Gini impurity Function:"
      ]
    },
    {
      "cell_type": "code",
      "metadata": {
        "id": "8NYqoYlbxLQY"
      },
      "source": [
        "def get_gini_impurity(survived_count, total_count):\n",
        "    survival_prob = survived_count/total_count\n",
        "    not_survival_prob = (1 - survival_prob)\n",
        "    gini_impurity = 1 - (survival_prob**2 + not_survival_prob**2)\n",
        "    return gini_impurity"
      ],
      "execution_count": 12,
      "outputs": []
    },
    {
      "cell_type": "markdown",
      "metadata": {
        "id": "WWHpqMXgQy4J"
      },
      "source": [
        "Initial Gini Index:"
      ]
    },
    {
      "cell_type": "code",
      "metadata": {
        "colab": {
          "base_uri": "https://localhost:8080/"
        },
        "id": "aI1O7MhZyPiB",
        "outputId": "090ab22d-7399-4c38-b761-96ecb5b60321"
      },
      "source": [
        "gini_start = get_gini_impurity((train['PassengerId'][train['Survived']==1]).count(),(train['PassengerId']).count())\n",
        "gini_start"
      ],
      "execution_count": 13,
      "outputs": [
        {
          "output_type": "execute_result",
          "data": {
            "text/plain": [
              "0.4855951589362707"
            ]
          },
          "metadata": {
            "tags": []
          },
          "execution_count": 13
        }
      ]
    },
    {
      "cell_type": "markdown",
      "metadata": {
        "id": "-6USgFjKRcvE"
      },
      "source": [
        "Max Correlation shown by Sex and Pclass with Survived, hence one of these two should cause the first split."
      ]
    },
    {
      "cell_type": "code",
      "metadata": {
        "colab": {
          "base_uri": "https://localhost:8080/",
          "height": 171
        },
        "id": "-Rhg7sF528K7",
        "outputId": "51077aae-ee93-4c7f-dccd-ebdd5feb0a9e"
      },
      "source": [
        "train[['Sex', 'Survived']].groupby(['Sex']).agg(['count', 'sum'])"
      ],
      "execution_count": 14,
      "outputs": [
        {
          "output_type": "execute_result",
          "data": {
            "text/html": [
              "<div>\n",
              "<style scoped>\n",
              "    .dataframe tbody tr th:only-of-type {\n",
              "        vertical-align: middle;\n",
              "    }\n",
              "\n",
              "    .dataframe tbody tr th {\n",
              "        vertical-align: top;\n",
              "    }\n",
              "\n",
              "    .dataframe thead tr th {\n",
              "        text-align: left;\n",
              "    }\n",
              "\n",
              "    .dataframe thead tr:last-of-type th {\n",
              "        text-align: right;\n",
              "    }\n",
              "</style>\n",
              "<table border=\"1\" class=\"dataframe\">\n",
              "  <thead>\n",
              "    <tr>\n",
              "      <th></th>\n",
              "      <th colspan=\"2\" halign=\"left\">Survived</th>\n",
              "    </tr>\n",
              "    <tr>\n",
              "      <th></th>\n",
              "      <th>count</th>\n",
              "      <th>sum</th>\n",
              "    </tr>\n",
              "    <tr>\n",
              "      <th>Sex</th>\n",
              "      <th></th>\n",
              "      <th></th>\n",
              "    </tr>\n",
              "  </thead>\n",
              "  <tbody>\n",
              "    <tr>\n",
              "      <th>0.0</th>\n",
              "      <td>302</td>\n",
              "      <td>61</td>\n",
              "    </tr>\n",
              "    <tr>\n",
              "      <th>1.0</th>\n",
              "      <td>187</td>\n",
              "      <td>142</td>\n",
              "    </tr>\n",
              "  </tbody>\n",
              "</table>\n",
              "</div>"
            ],
            "text/plain": [
              "    Survived     \n",
              "       count  sum\n",
              "Sex              \n",
              "0.0      302   61\n",
              "1.0      187  142"
            ]
          },
          "metadata": {
            "tags": []
          },
          "execution_count": 14
        }
      ]
    },
    {
      "cell_type": "code",
      "metadata": {
        "colab": {
          "base_uri": "https://localhost:8080/"
        },
        "id": "LmIrTP2l3cVi",
        "outputId": "4e8d22e1-c562-4b4d-d6f7-f010bc112aa6"
      },
      "source": [
        "gini_male = get_gini_impurity(61,302)\n",
        "gini_female = get_gini_impurity(142,187)\n",
        "gini_male_weight = gini_male*302/489\n",
        "gini_female_weight = gini_female*187/489\n",
        "sex_gini_dec = gini_start - (gini_male_weight + gini_female_weight)\n",
        "sex_gini_dec"
      ],
      "execution_count": 15,
      "outputs": [
        {
          "output_type": "execute_result",
          "data": {
            "text/plain": [
              "0.14674063565744755"
            ]
          },
          "metadata": {
            "tags": []
          },
          "execution_count": 15
        }
      ]
    },
    {
      "cell_type": "code",
      "metadata": {
        "colab": {
          "base_uri": "https://localhost:8080/",
          "height": 202
        },
        "id": "xjof-Pjv4Lcg",
        "outputId": "e006c5e6-16ee-4d93-8eeb-0c3717dce80b"
      },
      "source": [
        "train[['Pclass', 'Survived']].groupby(['Pclass']).agg(['count', 'sum'])"
      ],
      "execution_count": 16,
      "outputs": [
        {
          "output_type": "execute_result",
          "data": {
            "text/html": [
              "<div>\n",
              "<style scoped>\n",
              "    .dataframe tbody tr th:only-of-type {\n",
              "        vertical-align: middle;\n",
              "    }\n",
              "\n",
              "    .dataframe tbody tr th {\n",
              "        vertical-align: top;\n",
              "    }\n",
              "\n",
              "    .dataframe thead tr th {\n",
              "        text-align: left;\n",
              "    }\n",
              "\n",
              "    .dataframe thead tr:last-of-type th {\n",
              "        text-align: right;\n",
              "    }\n",
              "</style>\n",
              "<table border=\"1\" class=\"dataframe\">\n",
              "  <thead>\n",
              "    <tr>\n",
              "      <th></th>\n",
              "      <th colspan=\"2\" halign=\"left\">Survived</th>\n",
              "    </tr>\n",
              "    <tr>\n",
              "      <th></th>\n",
              "      <th>count</th>\n",
              "      <th>sum</th>\n",
              "    </tr>\n",
              "    <tr>\n",
              "      <th>Pclass</th>\n",
              "      <th></th>\n",
              "      <th></th>\n",
              "    </tr>\n",
              "  </thead>\n",
              "  <tbody>\n",
              "    <tr>\n",
              "      <th>1</th>\n",
              "      <td>128</td>\n",
              "      <td>79</td>\n",
              "    </tr>\n",
              "    <tr>\n",
              "      <th>2</th>\n",
              "      <td>121</td>\n",
              "      <td>63</td>\n",
              "    </tr>\n",
              "    <tr>\n",
              "      <th>3</th>\n",
              "      <td>240</td>\n",
              "      <td>61</td>\n",
              "    </tr>\n",
              "  </tbody>\n",
              "</table>\n",
              "</div>"
            ],
            "text/plain": [
              "       Survived    \n",
              "          count sum\n",
              "Pclass             \n",
              "1           128  79\n",
              "2           121  63\n",
              "3           240  61"
            ]
          },
          "metadata": {
            "tags": []
          },
          "execution_count": 16
        }
      ]
    },
    {
      "cell_type": "code",
      "metadata": {
        "colab": {
          "base_uri": "https://localhost:8080/"
        },
        "id": "eOuUYoZ56etp",
        "outputId": "a66fb153-4e65-4248-ed89-509851727ed2"
      },
      "source": [
        "gini_p1 = get_gini_impurity(79,128)\n",
        "gini_p2 = get_gini_impurity(63,121)\n",
        "gini_p3 = get_gini_impurity(61,240)\n",
        "gini_p1_weight = gini_p1*128/489\n",
        "gini_p2_weight = gini_p2*121/489\n",
        "gini_p3_weight = gini_p3*240/489\n",
        "Pclass_gini_dec = gini_start - (gini_p1_weight + gini_p2_weight + gini_p3_weight)\n",
        "Pclass_gini_dec"
      ],
      "execution_count": 17,
      "outputs": [
        {
          "output_type": "execute_result",
          "data": {
            "text/plain": [
              "0.052317580446408274"
            ]
          },
          "metadata": {
            "tags": []
          },
          "execution_count": 17
        }
      ]
    },
    {
      "cell_type": "markdown",
      "metadata": {
        "id": "kF5L8s0F-3SR"
      },
      "source": [
        "First split based on Sex as it has a better Gini impurity reduction\n"
      ]
    },
    {
      "cell_type": "code",
      "metadata": {
        "colab": {
          "base_uri": "https://localhost:8080/",
          "height": 294
        },
        "id": "vOqwVP5L-G_1",
        "outputId": "2dead02b-a546-4edf-bbe0-3df3f1aef0fc"
      },
      "source": [
        "train[['Pclass', 'Survived','Sex']].groupby(['Sex','Pclass']).agg(['count', 'sum'])"
      ],
      "execution_count": 18,
      "outputs": [
        {
          "output_type": "execute_result",
          "data": {
            "text/html": [
              "<div>\n",
              "<style scoped>\n",
              "    .dataframe tbody tr th:only-of-type {\n",
              "        vertical-align: middle;\n",
              "    }\n",
              "\n",
              "    .dataframe tbody tr th {\n",
              "        vertical-align: top;\n",
              "    }\n",
              "\n",
              "    .dataframe thead tr th {\n",
              "        text-align: left;\n",
              "    }\n",
              "\n",
              "    .dataframe thead tr:last-of-type th {\n",
              "        text-align: right;\n",
              "    }\n",
              "</style>\n",
              "<table border=\"1\" class=\"dataframe\">\n",
              "  <thead>\n",
              "    <tr>\n",
              "      <th></th>\n",
              "      <th></th>\n",
              "      <th colspan=\"2\" halign=\"left\">Survived</th>\n",
              "    </tr>\n",
              "    <tr>\n",
              "      <th></th>\n",
              "      <th></th>\n",
              "      <th>count</th>\n",
              "      <th>sum</th>\n",
              "    </tr>\n",
              "    <tr>\n",
              "      <th>Sex</th>\n",
              "      <th>Pclass</th>\n",
              "      <th></th>\n",
              "      <th></th>\n",
              "    </tr>\n",
              "  </thead>\n",
              "  <tbody>\n",
              "    <tr>\n",
              "      <th rowspan=\"3\" valign=\"top\">0.0</th>\n",
              "      <th>1</th>\n",
              "      <td>69</td>\n",
              "      <td>23</td>\n",
              "    </tr>\n",
              "    <tr>\n",
              "      <th>2</th>\n",
              "      <td>65</td>\n",
              "      <td>11</td>\n",
              "    </tr>\n",
              "    <tr>\n",
              "      <th>3</th>\n",
              "      <td>168</td>\n",
              "      <td>27</td>\n",
              "    </tr>\n",
              "    <tr>\n",
              "      <th rowspan=\"3\" valign=\"top\">1.0</th>\n",
              "      <th>1</th>\n",
              "      <td>59</td>\n",
              "      <td>56</td>\n",
              "    </tr>\n",
              "    <tr>\n",
              "      <th>2</th>\n",
              "      <td>56</td>\n",
              "      <td>52</td>\n",
              "    </tr>\n",
              "    <tr>\n",
              "      <th>3</th>\n",
              "      <td>72</td>\n",
              "      <td>34</td>\n",
              "    </tr>\n",
              "  </tbody>\n",
              "</table>\n",
              "</div>"
            ],
            "text/plain": [
              "           Survived    \n",
              "              count sum\n",
              "Sex Pclass             \n",
              "0.0 1            69  23\n",
              "    2            65  11\n",
              "    3           168  27\n",
              "1.0 1            59  56\n",
              "    2            56  52\n",
              "    3            72  34"
            ]
          },
          "metadata": {
            "tags": []
          },
          "execution_count": 18
        }
      ]
    },
    {
      "cell_type": "markdown",
      "metadata": {
        "id": "qRYofkb5R0FM"
      },
      "source": [
        "Now, deciding further tree nodes for Female side"
      ]
    },
    {
      "cell_type": "code",
      "metadata": {
        "colab": {
          "base_uri": "https://localhost:8080/"
        },
        "id": "3tc-LFG4XhHM",
        "outputId": "2066d8fd-4008-4afd-eef2-53ccddd5c55a"
      },
      "source": [
        "gini_female =  get_gini_impurity(56+52+34,59+56+72)\n",
        "gini_p1f = get_gini_impurity(56,59)\n",
        "gini_p2f = get_gini_impurity(52,56)\n",
        "gini_p3f = get_gini_impurity(34,72)\n",
        "gini_p1f_weight = gini_p1f*59/(59+56+72)\n",
        "gini_p2f_weight = gini_p2f*56/(59+56+72)\n",
        "gini_p3f_weight = gini_p3f*72/(59+56+72)\n",
        "Pclassf_gini_dec = gini_female - (gini_p1f_weight + gini_p2f_weight + gini_p3f_weight)\n",
        "Pclassf_gini_dec"
      ],
      "execution_count": 19,
      "outputs": [
        {
          "output_type": "execute_result",
          "data": {
            "text/plain": [
              "0.10336829100324701"
            ]
          },
          "metadata": {
            "tags": []
          },
          "execution_count": 19
        }
      ]
    },
    {
      "cell_type": "markdown",
      "metadata": {
        "id": "fm_TuFeUepJB"
      },
      "source": [
        "Second split in female is by Pclass as it shows great correlation and good reduction in gini impurity"
      ]
    },
    {
      "cell_type": "code",
      "metadata": {
        "colab": {
          "base_uri": "https://localhost:8080/",
          "height": 478
        },
        "id": "mlFzMlNLWbtS",
        "outputId": "5c4402b6-8a32-4678-fae6-83047576b96e"
      },
      "source": [
        "train[['Parch', 'Survived','Pclass']][train['Sex']==1.0].groupby(['Pclass','Parch']).agg(['count', 'sum'])"
      ],
      "execution_count": 20,
      "outputs": [
        {
          "output_type": "execute_result",
          "data": {
            "text/html": [
              "<div>\n",
              "<style scoped>\n",
              "    .dataframe tbody tr th:only-of-type {\n",
              "        vertical-align: middle;\n",
              "    }\n",
              "\n",
              "    .dataframe tbody tr th {\n",
              "        vertical-align: top;\n",
              "    }\n",
              "\n",
              "    .dataframe thead tr th {\n",
              "        text-align: left;\n",
              "    }\n",
              "\n",
              "    .dataframe thead tr:last-of-type th {\n",
              "        text-align: right;\n",
              "    }\n",
              "</style>\n",
              "<table border=\"1\" class=\"dataframe\">\n",
              "  <thead>\n",
              "    <tr>\n",
              "      <th></th>\n",
              "      <th></th>\n",
              "      <th colspan=\"2\" halign=\"left\">Survived</th>\n",
              "    </tr>\n",
              "    <tr>\n",
              "      <th></th>\n",
              "      <th></th>\n",
              "      <th>count</th>\n",
              "      <th>sum</th>\n",
              "    </tr>\n",
              "    <tr>\n",
              "      <th>Pclass</th>\n",
              "      <th>Parch</th>\n",
              "      <th></th>\n",
              "      <th></th>\n",
              "    </tr>\n",
              "  </thead>\n",
              "  <tbody>\n",
              "    <tr>\n",
              "      <th rowspan=\"3\" valign=\"top\">1</th>\n",
              "      <th>0</th>\n",
              "      <td>40</td>\n",
              "      <td>39</td>\n",
              "    </tr>\n",
              "    <tr>\n",
              "      <th>1</th>\n",
              "      <td>8</td>\n",
              "      <td>8</td>\n",
              "    </tr>\n",
              "    <tr>\n",
              "      <th>2</th>\n",
              "      <td>11</td>\n",
              "      <td>9</td>\n",
              "    </tr>\n",
              "    <tr>\n",
              "      <th rowspan=\"4\" valign=\"top\">2</th>\n",
              "      <th>0</th>\n",
              "      <td>33</td>\n",
              "      <td>30</td>\n",
              "    </tr>\n",
              "    <tr>\n",
              "      <th>1</th>\n",
              "      <td>12</td>\n",
              "      <td>11</td>\n",
              "    </tr>\n",
              "    <tr>\n",
              "      <th>2</th>\n",
              "      <td>10</td>\n",
              "      <td>10</td>\n",
              "    </tr>\n",
              "    <tr>\n",
              "      <th>3</th>\n",
              "      <td>1</td>\n",
              "      <td>1</td>\n",
              "    </tr>\n",
              "    <tr>\n",
              "      <th rowspan=\"5\" valign=\"top\">3</th>\n",
              "      <th>0</th>\n",
              "      <td>40</td>\n",
              "      <td>19</td>\n",
              "    </tr>\n",
              "    <tr>\n",
              "      <th>1</th>\n",
              "      <td>13</td>\n",
              "      <td>7</td>\n",
              "    </tr>\n",
              "    <tr>\n",
              "      <th>2</th>\n",
              "      <td>15</td>\n",
              "      <td>7</td>\n",
              "    </tr>\n",
              "    <tr>\n",
              "      <th>4</th>\n",
              "      <td>2</td>\n",
              "      <td>0</td>\n",
              "    </tr>\n",
              "    <tr>\n",
              "      <th>5</th>\n",
              "      <td>2</td>\n",
              "      <td>1</td>\n",
              "    </tr>\n",
              "  </tbody>\n",
              "</table>\n",
              "</div>"
            ],
            "text/plain": [
              "             Survived    \n",
              "                count sum\n",
              "Pclass Parch             \n",
              "1      0           40  39\n",
              "       1            8   8\n",
              "       2           11   9\n",
              "2      0           33  30\n",
              "       1           12  11\n",
              "       2           10  10\n",
              "       3            1   1\n",
              "3      0           40  19\n",
              "       1           13   7\n",
              "       2           15   7\n",
              "       4            2   0\n",
              "       5            2   1"
            ]
          },
          "metadata": {
            "tags": []
          },
          "execution_count": 20
        }
      ]
    },
    {
      "cell_type": "code",
      "metadata": {
        "colab": {
          "base_uri": "https://localhost:8080/",
          "height": 509
        },
        "id": "uzPdaq5fWdRA",
        "outputId": "e08c27d2-1e93-4dee-8d70-b576461bdc4b"
      },
      "source": [
        "train[['SibSp', 'Survived','Pclass']][train['Sex']==1.0].groupby(['Pclass','SibSp']).agg(['count', 'sum'])"
      ],
      "execution_count": 21,
      "outputs": [
        {
          "output_type": "execute_result",
          "data": {
            "text/html": [
              "<div>\n",
              "<style scoped>\n",
              "    .dataframe tbody tr th:only-of-type {\n",
              "        vertical-align: middle;\n",
              "    }\n",
              "\n",
              "    .dataframe tbody tr th {\n",
              "        vertical-align: top;\n",
              "    }\n",
              "\n",
              "    .dataframe thead tr th {\n",
              "        text-align: left;\n",
              "    }\n",
              "\n",
              "    .dataframe thead tr:last-of-type th {\n",
              "        text-align: right;\n",
              "    }\n",
              "</style>\n",
              "<table border=\"1\" class=\"dataframe\">\n",
              "  <thead>\n",
              "    <tr>\n",
              "      <th></th>\n",
              "      <th></th>\n",
              "      <th colspan=\"2\" halign=\"left\">Survived</th>\n",
              "    </tr>\n",
              "    <tr>\n",
              "      <th></th>\n",
              "      <th></th>\n",
              "      <th>count</th>\n",
              "      <th>sum</th>\n",
              "    </tr>\n",
              "    <tr>\n",
              "      <th>Pclass</th>\n",
              "      <th>SibSp</th>\n",
              "      <th></th>\n",
              "      <th></th>\n",
              "    </tr>\n",
              "  </thead>\n",
              "  <tbody>\n",
              "    <tr>\n",
              "      <th rowspan=\"4\" valign=\"top\">1</th>\n",
              "      <th>0</th>\n",
              "      <td>30</td>\n",
              "      <td>29</td>\n",
              "    </tr>\n",
              "    <tr>\n",
              "      <th>1</th>\n",
              "      <td>25</td>\n",
              "      <td>23</td>\n",
              "    </tr>\n",
              "    <tr>\n",
              "      <th>2</th>\n",
              "      <td>2</td>\n",
              "      <td>2</td>\n",
              "    </tr>\n",
              "    <tr>\n",
              "      <th>3</th>\n",
              "      <td>2</td>\n",
              "      <td>2</td>\n",
              "    </tr>\n",
              "    <tr>\n",
              "      <th rowspan=\"3\" valign=\"top\">2</th>\n",
              "      <th>0</th>\n",
              "      <td>33</td>\n",
              "      <td>31</td>\n",
              "    </tr>\n",
              "    <tr>\n",
              "      <th>1</th>\n",
              "      <td>20</td>\n",
              "      <td>18</td>\n",
              "    </tr>\n",
              "    <tr>\n",
              "      <th>2</th>\n",
              "      <td>3</td>\n",
              "      <td>3</td>\n",
              "    </tr>\n",
              "    <tr>\n",
              "      <th rowspan=\"6\" valign=\"top\">3</th>\n",
              "      <th>0</th>\n",
              "      <td>37</td>\n",
              "      <td>20</td>\n",
              "    </tr>\n",
              "    <tr>\n",
              "      <th>1</th>\n",
              "      <td>21</td>\n",
              "      <td>9</td>\n",
              "    </tr>\n",
              "    <tr>\n",
              "      <th>2</th>\n",
              "      <td>5</td>\n",
              "      <td>2</td>\n",
              "    </tr>\n",
              "    <tr>\n",
              "      <th>3</th>\n",
              "      <td>3</td>\n",
              "      <td>1</td>\n",
              "    </tr>\n",
              "    <tr>\n",
              "      <th>4</th>\n",
              "      <td>5</td>\n",
              "      <td>2</td>\n",
              "    </tr>\n",
              "    <tr>\n",
              "      <th>5</th>\n",
              "      <td>1</td>\n",
              "      <td>0</td>\n",
              "    </tr>\n",
              "  </tbody>\n",
              "</table>\n",
              "</div>"
            ],
            "text/plain": [
              "             Survived    \n",
              "                count sum\n",
              "Pclass SibSp             \n",
              "1      0           30  29\n",
              "       1           25  23\n",
              "       2            2   2\n",
              "       3            2   2\n",
              "2      0           33  31\n",
              "       1           20  18\n",
              "       2            3   3\n",
              "3      0           37  20\n",
              "       1           21   9\n",
              "       2            5   2\n",
              "       3            3   1\n",
              "       4            5   2\n",
              "       5            1   0"
            ]
          },
          "metadata": {
            "tags": []
          },
          "execution_count": 21
        }
      ]
    },
    {
      "cell_type": "code",
      "metadata": {
        "colab": {
          "base_uri": "https://localhost:8080/"
        },
        "id": "dzD53N-ngG_Y",
        "outputId": "b29a1f04-593a-444c-cd25-ccf5b7646f54"
      },
      "source": [
        "#For class 3\n",
        "gini_p3f_ini = get_gini_impurity(20+9+2+1+2,37+21+5+3+5+1)\n",
        "gini_p3f0 = get_gini_impurity(20,37)\n",
        "gini_p3fn0 = get_gini_impurity(9+2+1+2,21+5+3+5+1)\n",
        "gini_p3f0_weight = gini_p3f0*(37/(37+21+5+3+5+1))\n",
        "gini_p3fn0_weight = gini_p3fn0*((21+5+3+5+1)/(37+21+5+3+5+1))\n",
        "\n",
        "Pclassf_SibSp_gini_dec = gini_p3f_ini - (gini_p3f0_weight + gini_p3fn0_weight)\n",
        "Pclassf_SibSp_gini_dec\n"
      ],
      "execution_count": 22,
      "outputs": [
        {
          "output_type": "execute_result",
          "data": {
            "text/plain": [
              "0.009868201534868226"
            ]
          },
          "metadata": {
            "tags": []
          },
          "execution_count": 22
        }
      ]
    },
    {
      "cell_type": "code",
      "metadata": {
        "colab": {
          "base_uri": "https://localhost:8080/",
          "height": 283
        },
        "id": "xNsgx-V5V2mK",
        "outputId": "523ead05-8fc0-452c-f8e4-a9e99bf969e2"
      },
      "source": [
        "plt.scatter(train['Age'][train['Sex']==1.0],train['Survived'][train['Sex']==1.0])"
      ],
      "execution_count": 23,
      "outputs": [
        {
          "output_type": "execute_result",
          "data": {
            "text/plain": [
              "<matplotlib.collections.PathCollection at 0x7f0b39318b90>"
            ]
          },
          "metadata": {
            "tags": []
          },
          "execution_count": 23
        },
        {
          "output_type": "display_data",
          "data": {
            "image/png": "[encoded data removed]",
            "text/plain": [
              "<Figure size 432x288 with 1 Axes>"
            ]
          },
          "metadata": {
            "tags": [],
            "needs_background": "light"
          }
        }
      ]
    },
    {
      "cell_type": "markdown",
      "metadata": {
        "id": "FM-aVepqe95a"
      },
      "source": [
        "Pclass 1 and 2 are almost pure for Female. For Pclass=3, we divide it according to SibSp<1 and >=1 as it is the only fair condition."
      ]
    },
    {
      "cell_type": "code",
      "metadata": {
        "colab": {
          "base_uri": "https://localhost:8080/",
          "height": 1000
        },
        "id": "FVBJp_cimXki",
        "outputId": "7dcf31b6-7bf8-496c-fd32-d96af335a46d"
      },
      "source": [
        "train[['SibSp', 'Survived','Pclass','Parch']][train['Sex']==1.0].groupby(['Pclass','SibSp','Parch']).agg(['count', 'sum'])"
      ],
      "execution_count": 24,
      "outputs": [
        {
          "output_type": "execute_result",
          "data": {
            "text/html": [
              "<div>\n",
              "<style scoped>\n",
              "    .dataframe tbody tr th:only-of-type {\n",
              "        vertical-align: middle;\n",
              "    }\n",
              "\n",
              "    .dataframe tbody tr th {\n",
              "        vertical-align: top;\n",
              "    }\n",
              "\n",
              "    .dataframe thead tr th {\n",
              "        text-align: left;\n",
              "    }\n",
              "\n",
              "    .dataframe thead tr:last-of-type th {\n",
              "        text-align: right;\n",
              "    }\n",
              "</style>\n",
              "<table border=\"1\" class=\"dataframe\">\n",
              "  <thead>\n",
              "    <tr>\n",
              "      <th></th>\n",
              "      <th></th>\n",
              "      <th></th>\n",
              "      <th colspan=\"2\" halign=\"left\">Survived</th>\n",
              "    </tr>\n",
              "    <tr>\n",
              "      <th></th>\n",
              "      <th></th>\n",
              "      <th></th>\n",
              "      <th>count</th>\n",
              "      <th>sum</th>\n",
              "    </tr>\n",
              "    <tr>\n",
              "      <th>Pclass</th>\n",
              "      <th>SibSp</th>\n",
              "      <th>Parch</th>\n",
              "      <th></th>\n",
              "      <th></th>\n",
              "    </tr>\n",
              "  </thead>\n",
              "  <tbody>\n",
              "    <tr>\n",
              "      <th rowspan=\"9\" valign=\"top\">1</th>\n",
              "      <th rowspan=\"3\" valign=\"top\">0</th>\n",
              "      <th>0</th>\n",
              "      <td>20</td>\n",
              "      <td>19</td>\n",
              "    </tr>\n",
              "    <tr>\n",
              "      <th>1</th>\n",
              "      <td>5</td>\n",
              "      <td>5</td>\n",
              "    </tr>\n",
              "    <tr>\n",
              "      <th>2</th>\n",
              "      <td>5</td>\n",
              "      <td>5</td>\n",
              "    </tr>\n",
              "    <tr>\n",
              "      <th rowspan=\"3\" valign=\"top\">1</th>\n",
              "      <th>0</th>\n",
              "      <td>19</td>\n",
              "      <td>19</td>\n",
              "    </tr>\n",
              "    <tr>\n",
              "      <th>1</th>\n",
              "      <td>3</td>\n",
              "      <td>3</td>\n",
              "    </tr>\n",
              "    <tr>\n",
              "      <th>2</th>\n",
              "      <td>3</td>\n",
              "      <td>1</td>\n",
              "    </tr>\n",
              "    <tr>\n",
              "      <th rowspan=\"2\" valign=\"top\">2</th>\n",
              "      <th>0</th>\n",
              "      <td>1</td>\n",
              "      <td>1</td>\n",
              "    </tr>\n",
              "    <tr>\n",
              "      <th>2</th>\n",
              "      <td>1</td>\n",
              "      <td>1</td>\n",
              "    </tr>\n",
              "    <tr>\n",
              "      <th>3</th>\n",
              "      <th>2</th>\n",
              "      <td>2</td>\n",
              "      <td>2</td>\n",
              "    </tr>\n",
              "    <tr>\n",
              "      <th rowspan=\"8\" valign=\"top\">2</th>\n",
              "      <th rowspan=\"3\" valign=\"top\">0</th>\n",
              "      <th>0</th>\n",
              "      <td>24</td>\n",
              "      <td>22</td>\n",
              "    </tr>\n",
              "    <tr>\n",
              "      <th>1</th>\n",
              "      <td>4</td>\n",
              "      <td>4</td>\n",
              "    </tr>\n",
              "    <tr>\n",
              "      <th>2</th>\n",
              "      <td>5</td>\n",
              "      <td>5</td>\n",
              "    </tr>\n",
              "    <tr>\n",
              "      <th rowspan=\"3\" valign=\"top\">1</th>\n",
              "      <th>0</th>\n",
              "      <td>9</td>\n",
              "      <td>8</td>\n",
              "    </tr>\n",
              "    <tr>\n",
              "      <th>1</th>\n",
              "      <td>6</td>\n",
              "      <td>5</td>\n",
              "    </tr>\n",
              "    <tr>\n",
              "      <th>2</th>\n",
              "      <td>5</td>\n",
              "      <td>5</td>\n",
              "    </tr>\n",
              "    <tr>\n",
              "      <th rowspan=\"2\" valign=\"top\">2</th>\n",
              "      <th>1</th>\n",
              "      <td>2</td>\n",
              "      <td>2</td>\n",
              "    </tr>\n",
              "    <tr>\n",
              "      <th>3</th>\n",
              "      <td>1</td>\n",
              "      <td>1</td>\n",
              "    </tr>\n",
              "    <tr>\n",
              "      <th rowspan=\"15\" valign=\"top\">3</th>\n",
              "      <th rowspan=\"4\" valign=\"top\">0</th>\n",
              "      <th>0</th>\n",
              "      <td>26</td>\n",
              "      <td>14</td>\n",
              "    </tr>\n",
              "    <tr>\n",
              "      <th>1</th>\n",
              "      <td>3</td>\n",
              "      <td>1</td>\n",
              "    </tr>\n",
              "    <tr>\n",
              "      <th>2</th>\n",
              "      <td>7</td>\n",
              "      <td>5</td>\n",
              "    </tr>\n",
              "    <tr>\n",
              "      <th>4</th>\n",
              "      <td>1</td>\n",
              "      <td>0</td>\n",
              "    </tr>\n",
              "    <tr>\n",
              "      <th rowspan=\"4\" valign=\"top\">1</th>\n",
              "      <th>0</th>\n",
              "      <td>12</td>\n",
              "      <td>4</td>\n",
              "    </tr>\n",
              "    <tr>\n",
              "      <th>1</th>\n",
              "      <td>6</td>\n",
              "      <td>4</td>\n",
              "    </tr>\n",
              "    <tr>\n",
              "      <th>4</th>\n",
              "      <td>1</td>\n",
              "      <td>0</td>\n",
              "    </tr>\n",
              "    <tr>\n",
              "      <th>5</th>\n",
              "      <td>2</td>\n",
              "      <td>1</td>\n",
              "    </tr>\n",
              "    <tr>\n",
              "      <th rowspan=\"3\" valign=\"top\">2</th>\n",
              "      <th>0</th>\n",
              "      <td>1</td>\n",
              "      <td>0</td>\n",
              "    </tr>\n",
              "    <tr>\n",
              "      <th>1</th>\n",
              "      <td>2</td>\n",
              "      <td>2</td>\n",
              "    </tr>\n",
              "    <tr>\n",
              "      <th>2</th>\n",
              "      <td>2</td>\n",
              "      <td>0</td>\n",
              "    </tr>\n",
              "    <tr>\n",
              "      <th rowspan=\"2\" valign=\"top\">3</th>\n",
              "      <th>0</th>\n",
              "      <td>1</td>\n",
              "      <td>1</td>\n",
              "    </tr>\n",
              "    <tr>\n",
              "      <th>1</th>\n",
              "      <td>2</td>\n",
              "      <td>0</td>\n",
              "    </tr>\n",
              "    <tr>\n",
              "      <th>4</th>\n",
              "      <th>2</th>\n",
              "      <td>5</td>\n",
              "      <td>2</td>\n",
              "    </tr>\n",
              "    <tr>\n",
              "      <th>5</th>\n",
              "      <th>2</th>\n",
              "      <td>1</td>\n",
              "      <td>0</td>\n",
              "    </tr>\n",
              "  </tbody>\n",
              "</table>\n",
              "</div>"
            ],
            "text/plain": [
              "                   Survived    \n",
              "                      count sum\n",
              "Pclass SibSp Parch             \n",
              "1      0     0           20  19\n",
              "             1            5   5\n",
              "             2            5   5\n",
              "       1     0           19  19\n",
              "             1            3   3\n",
              "             2            3   1\n",
              "       2     0            1   1\n",
              "             2            1   1\n",
              "       3     2            2   2\n",
              "2      0     0           24  22\n",
              "             1            4   4\n",
              "             2            5   5\n",
              "       1     0            9   8\n",
              "             1            6   5\n",
              "             2            5   5\n",
              "       2     1            2   2\n",
              "             3            1   1\n",
              "3      0     0           26  14\n",
              "             1            3   1\n",
              "             2            7   5\n",
              "             4            1   0\n",
              "       1     0           12   4\n",
              "             1            6   4\n",
              "             4            1   0\n",
              "             5            2   1\n",
              "       2     0            1   0\n",
              "             1            2   2\n",
              "             2            2   0\n",
              "       3     0            1   1\n",
              "             1            2   0\n",
              "       4     2            5   2\n",
              "       5     2            1   0"
            ]
          },
          "metadata": {
            "tags": []
          },
          "execution_count": 24
        }
      ]
    },
    {
      "cell_type": "markdown",
      "metadata": {
        "id": "pHawkokvpY_n"
      },
      "source": [
        "We can improve Pclass 3 homogeneity by using Age>50 for Survival as an extra condition for SibSp=0 and use Parch=0,2 as a condition for SibSp>=1."
      ]
    },
    {
      "cell_type": "markdown",
      "metadata": {
        "id": "Iqbd92sFUNhM"
      },
      "source": [
        "Now deciding the tree for male:"
      ]
    },
    {
      "cell_type": "code",
      "metadata": {
        "colab": {
          "base_uri": "https://localhost:8080/",
          "height": 202
        },
        "id": "7Qy6tD2apaRi",
        "outputId": "36f08ebd-99d0-4ab8-d846-8e8eb499200b"
      },
      "source": [
        "train[['Pclass', 'Survived']][train['Sex']==0.0].groupby(['Pclass']).agg(['count', 'sum'])"
      ],
      "execution_count": 25,
      "outputs": [
        {
          "output_type": "execute_result",
          "data": {
            "text/html": [
              "<div>\n",
              "<style scoped>\n",
              "    .dataframe tbody tr th:only-of-type {\n",
              "        vertical-align: middle;\n",
              "    }\n",
              "\n",
              "    .dataframe tbody tr th {\n",
              "        vertical-align: top;\n",
              "    }\n",
              "\n",
              "    .dataframe thead tr th {\n",
              "        text-align: left;\n",
              "    }\n",
              "\n",
              "    .dataframe thead tr:last-of-type th {\n",
              "        text-align: right;\n",
              "    }\n",
              "</style>\n",
              "<table border=\"1\" class=\"dataframe\">\n",
              "  <thead>\n",
              "    <tr>\n",
              "      <th></th>\n",
              "      <th colspan=\"2\" halign=\"left\">Survived</th>\n",
              "    </tr>\n",
              "    <tr>\n",
              "      <th></th>\n",
              "      <th>count</th>\n",
              "      <th>sum</th>\n",
              "    </tr>\n",
              "    <tr>\n",
              "      <th>Pclass</th>\n",
              "      <th></th>\n",
              "      <th></th>\n",
              "    </tr>\n",
              "  </thead>\n",
              "  <tbody>\n",
              "    <tr>\n",
              "      <th>1</th>\n",
              "      <td>69</td>\n",
              "      <td>23</td>\n",
              "    </tr>\n",
              "    <tr>\n",
              "      <th>2</th>\n",
              "      <td>65</td>\n",
              "      <td>11</td>\n",
              "    </tr>\n",
              "    <tr>\n",
              "      <th>3</th>\n",
              "      <td>168</td>\n",
              "      <td>27</td>\n",
              "    </tr>\n",
              "  </tbody>\n",
              "</table>\n",
              "</div>"
            ],
            "text/plain": [
              "       Survived    \n",
              "          count sum\n",
              "Pclass             \n",
              "1            69  23\n",
              "2            65  11\n",
              "3           168  27"
            ]
          },
          "metadata": {
            "tags": []
          },
          "execution_count": 25
        }
      ]
    },
    {
      "cell_type": "code",
      "metadata": {
        "colab": {
          "base_uri": "https://localhost:8080/"
        },
        "id": "7gMhyKXgp8Cm",
        "outputId": "b4070609-bf1c-4cd1-8b64-b240b8c6eab2"
      },
      "source": [
        "gini_male =  get_gini_impurity(23+11+27,168+65+69)\n",
        "gini_p1m = get_gini_impurity(23,69)\n",
        "gini_p2m = get_gini_impurity(11,65)\n",
        "gini_p3m = get_gini_impurity(27,168)\n",
        "gini_p1m_weight = gini_p1m*69/(168+65+69)\n",
        "gini_p2m_weight = gini_p2m*65/(168+65+69)\n",
        "gini_p3m_weight = gini_p3m*168/(168+65+69)\n",
        "Pclassm_gini_dec = gini_male - (gini_p1m_weight + gini_p2m_weight + gini_p3m_weight)\n",
        "Pclassm_gini_dec"
      ],
      "execution_count": 26,
      "outputs": [
        {
          "output_type": "execute_result",
          "data": {
            "text/plain": [
              "0.010240389334507993"
            ]
          },
          "metadata": {
            "tags": []
          },
          "execution_count": 26
        }
      ]
    },
    {
      "cell_type": "code",
      "metadata": {
        "colab": {
          "base_uri": "https://localhost:8080/",
          "height": 294
        },
        "id": "vUc8hMECq05G",
        "outputId": "9fbba78b-f1fc-4839-8406-aa74169ae992"
      },
      "source": [
        "train[['Parch', 'Survived']][train['Sex']==0.0].groupby(['Parch']).agg(['count', 'sum'])"
      ],
      "execution_count": 27,
      "outputs": [
        {
          "output_type": "execute_result",
          "data": {
            "text/html": [
              "<div>\n",
              "<style scoped>\n",
              "    .dataframe tbody tr th:only-of-type {\n",
              "        vertical-align: middle;\n",
              "    }\n",
              "\n",
              "    .dataframe tbody tr th {\n",
              "        vertical-align: top;\n",
              "    }\n",
              "\n",
              "    .dataframe thead tr th {\n",
              "        text-align: left;\n",
              "    }\n",
              "\n",
              "    .dataframe thead tr:last-of-type th {\n",
              "        text-align: right;\n",
              "    }\n",
              "</style>\n",
              "<table border=\"1\" class=\"dataframe\">\n",
              "  <thead>\n",
              "    <tr>\n",
              "      <th></th>\n",
              "      <th colspan=\"2\" halign=\"left\">Survived</th>\n",
              "    </tr>\n",
              "    <tr>\n",
              "      <th></th>\n",
              "      <th>count</th>\n",
              "      <th>sum</th>\n",
              "    </tr>\n",
              "    <tr>\n",
              "      <th>Parch</th>\n",
              "      <th></th>\n",
              "      <th></th>\n",
              "    </tr>\n",
              "  </thead>\n",
              "  <tbody>\n",
              "    <tr>\n",
              "      <th>0</th>\n",
              "      <td>242</td>\n",
              "      <td>44</td>\n",
              "    </tr>\n",
              "    <tr>\n",
              "      <th>1</th>\n",
              "      <td>38</td>\n",
              "      <td>10</td>\n",
              "    </tr>\n",
              "    <tr>\n",
              "      <th>2</th>\n",
              "      <td>18</td>\n",
              "      <td>7</td>\n",
              "    </tr>\n",
              "    <tr>\n",
              "      <th>3</th>\n",
              "      <td>1</td>\n",
              "      <td>0</td>\n",
              "    </tr>\n",
              "    <tr>\n",
              "      <th>4</th>\n",
              "      <td>2</td>\n",
              "      <td>0</td>\n",
              "    </tr>\n",
              "    <tr>\n",
              "      <th>5</th>\n",
              "      <td>1</td>\n",
              "      <td>0</td>\n",
              "    </tr>\n",
              "  </tbody>\n",
              "</table>\n",
              "</div>"
            ],
            "text/plain": [
              "      Survived    \n",
              "         count sum\n",
              "Parch             \n",
              "0          242  44\n",
              "1           38  10\n",
              "2           18   7\n",
              "3            1   0\n",
              "4            2   0\n",
              "5            1   0"
            ]
          },
          "metadata": {
            "tags": []
          },
          "execution_count": 27
        }
      ]
    },
    {
      "cell_type": "code",
      "metadata": {
        "colab": {
          "base_uri": "https://localhost:8080/"
        },
        "id": "AqlBsYfDrT8C",
        "outputId": "2acfda03-c615-4a18-f307-816e9a0a7b14"
      },
      "source": [
        "gini_male =  get_gini_impurity(23+11+27,242+38+18+4)\n",
        "gini_pa0m = get_gini_impurity(44,242)\n",
        "gini_pan0m = get_gini_impurity(17,38+18+4)\n",
        "gini_pa0m_weight = gini_pa0m*242/(242+38+18+4)\n",
        "gini_pan0m_weight = gini_pan0m*(38+18+4)/(242+38+18+4)\n",
        "Parchm_gini_dec = gini_male - (gini_pa0m_weight + gini_pan0m_weight)\n",
        "Parchm_gini_dec"
      ],
      "execution_count": 28,
      "outputs": [
        {
          "output_type": "execute_result",
          "data": {
            "text/plain": [
              "0.0032812888323610623"
            ]
          },
          "metadata": {
            "tags": []
          },
          "execution_count": 28
        }
      ]
    },
    {
      "cell_type": "code",
      "metadata": {
        "colab": {
          "base_uri": "https://localhost:8080/",
          "height": 294
        },
        "id": "otADx22Cq23e",
        "outputId": "2a30c2ac-6554-4f61-a576-21d141fcc67e"
      },
      "source": [
        "train[['SibSp', 'Survived']][train['Sex']==0.0].groupby(['SibSp']).agg(['count', 'sum'])"
      ],
      "execution_count": 29,
      "outputs": [
        {
          "output_type": "execute_result",
          "data": {
            "text/html": [
              "<div>\n",
              "<style scoped>\n",
              "    .dataframe tbody tr th:only-of-type {\n",
              "        vertical-align: middle;\n",
              "    }\n",
              "\n",
              "    .dataframe tbody tr th {\n",
              "        vertical-align: top;\n",
              "    }\n",
              "\n",
              "    .dataframe thead tr th {\n",
              "        text-align: left;\n",
              "    }\n",
              "\n",
              "    .dataframe thead tr:last-of-type th {\n",
              "        text-align: right;\n",
              "    }\n",
              "</style>\n",
              "<table border=\"1\" class=\"dataframe\">\n",
              "  <thead>\n",
              "    <tr>\n",
              "      <th></th>\n",
              "      <th colspan=\"2\" halign=\"left\">Survived</th>\n",
              "    </tr>\n",
              "    <tr>\n",
              "      <th></th>\n",
              "      <th>count</th>\n",
              "      <th>sum</th>\n",
              "    </tr>\n",
              "    <tr>\n",
              "      <th>SibSp</th>\n",
              "      <th></th>\n",
              "      <th></th>\n",
              "    </tr>\n",
              "  </thead>\n",
              "  <tbody>\n",
              "    <tr>\n",
              "      <th>0</th>\n",
              "      <td>214</td>\n",
              "      <td>41</td>\n",
              "    </tr>\n",
              "    <tr>\n",
              "      <th>1</th>\n",
              "      <td>65</td>\n",
              "      <td>18</td>\n",
              "    </tr>\n",
              "    <tr>\n",
              "      <th>2</th>\n",
              "      <td>9</td>\n",
              "      <td>1</td>\n",
              "    </tr>\n",
              "    <tr>\n",
              "      <th>3</th>\n",
              "      <td>3</td>\n",
              "      <td>0</td>\n",
              "    </tr>\n",
              "    <tr>\n",
              "      <th>4</th>\n",
              "      <td>8</td>\n",
              "      <td>1</td>\n",
              "    </tr>\n",
              "    <tr>\n",
              "      <th>5</th>\n",
              "      <td>3</td>\n",
              "      <td>0</td>\n",
              "    </tr>\n",
              "  </tbody>\n",
              "</table>\n",
              "</div>"
            ],
            "text/plain": [
              "      Survived    \n",
              "         count sum\n",
              "SibSp             \n",
              "0          214  41\n",
              "1           65  18\n",
              "2            9   1\n",
              "3            3   0\n",
              "4            8   1\n",
              "5            3   0"
            ]
          },
          "metadata": {
            "tags": []
          },
          "execution_count": 29
        }
      ]
    },
    {
      "cell_type": "code",
      "metadata": {
        "colab": {
          "base_uri": "https://localhost:8080/"
        },
        "id": "4EDNUhIMsQtS",
        "outputId": "d6b0e06e-7a90-46a8-ab46-4c1a0054b1e3"
      },
      "source": [
        "gini_male =  get_gini_impurity(23+11+27,214+65+9+8+6)\n",
        "gini_s0m = get_gini_impurity(41,214)\n",
        "gini_sn0m = get_gini_impurity(20,65+9+8+6)\n",
        "gini_s0m_weight = gini_s0m*214/(214+65+9+8+6)\n",
        "gini_sn0m_weight = gini_sn0m*(65+9+8+6)/(214+65+9+8+6)\n",
        "Parchm_gini_dec = gini_male - (gini_s0m_weight + gini_sn0m_weight)\n",
        "Parchm_gini_dec"
      ],
      "execution_count": 30,
      "outputs": [
        {
          "output_type": "execute_result",
          "data": {
            "text/plain": [
              "0.0005258455588762478"
            ]
          },
          "metadata": {
            "tags": []
          },
          "execution_count": 30
        }
      ]
    },
    {
      "cell_type": "code",
      "metadata": {
        "colab": {
          "base_uri": "https://localhost:8080/",
          "height": 283
        },
        "id": "FSn85w8UrEvb",
        "outputId": "1854fc49-591a-4607-b85a-f24ad37e4ff5"
      },
      "source": [
        "plt.scatter(train['Age'][train['Sex']==0.0],train['Survived'][train['Sex']==0.0])"
      ],
      "execution_count": 31,
      "outputs": [
        {
          "output_type": "execute_result",
          "data": {
            "text/plain": [
              "<matplotlib.collections.PathCollection at 0x7f0b3929cfd0>"
            ]
          },
          "metadata": {
            "tags": []
          },
          "execution_count": 31
        },
        {
          "output_type": "display_data",
          "data": {
            "image/png": "[encoded data removed]",
            "text/plain": [
              "<Figure size 432x288 with 1 Axes>"
            ]
          },
          "metadata": {
            "tags": [],
            "needs_background": "light"
          }
        }
      ]
    },
    {
      "cell_type": "markdown",
      "metadata": {
        "id": "Ko-9B8GPUux1"
      },
      "source": [
        "Initial split for male on the basis of Pclass"
      ]
    },
    {
      "cell_type": "code",
      "metadata": {
        "colab": {
          "base_uri": "https://localhost:8080/",
          "height": 509
        },
        "id": "sVXa9burxRBv",
        "outputId": "c3a4e668-1858-483b-a798-b470eaf9e67b"
      },
      "source": [
        "train[['SibSp', 'Survived','Pclass']][train['Sex']==0.0].groupby(['Pclass','SibSp']).agg(['count', 'sum'])"
      ],
      "execution_count": 32,
      "outputs": [
        {
          "output_type": "execute_result",
          "data": {
            "text/html": [
              "<div>\n",
              "<style scoped>\n",
              "    .dataframe tbody tr th:only-of-type {\n",
              "        vertical-align: middle;\n",
              "    }\n",
              "\n",
              "    .dataframe tbody tr th {\n",
              "        vertical-align: top;\n",
              "    }\n",
              "\n",
              "    .dataframe thead tr th {\n",
              "        text-align: left;\n",
              "    }\n",
              "\n",
              "    .dataframe thead tr:last-of-type th {\n",
              "        text-align: right;\n",
              "    }\n",
              "</style>\n",
              "<table border=\"1\" class=\"dataframe\">\n",
              "  <thead>\n",
              "    <tr>\n",
              "      <th></th>\n",
              "      <th></th>\n",
              "      <th colspan=\"2\" halign=\"left\">Survived</th>\n",
              "    </tr>\n",
              "    <tr>\n",
              "      <th></th>\n",
              "      <th></th>\n",
              "      <th>count</th>\n",
              "      <th>sum</th>\n",
              "    </tr>\n",
              "    <tr>\n",
              "      <th>Pclass</th>\n",
              "      <th>SibSp</th>\n",
              "      <th></th>\n",
              "      <th></th>\n",
              "    </tr>\n",
              "  </thead>\n",
              "  <tbody>\n",
              "    <tr>\n",
              "      <th rowspan=\"4\" valign=\"top\">1</th>\n",
              "      <th>0</th>\n",
              "      <td>47</td>\n",
              "      <td>14</td>\n",
              "    </tr>\n",
              "    <tr>\n",
              "      <th>1</th>\n",
              "      <td>20</td>\n",
              "      <td>9</td>\n",
              "    </tr>\n",
              "    <tr>\n",
              "      <th>2</th>\n",
              "      <td>1</td>\n",
              "      <td>0</td>\n",
              "    </tr>\n",
              "    <tr>\n",
              "      <th>3</th>\n",
              "      <td>1</td>\n",
              "      <td>0</td>\n",
              "    </tr>\n",
              "    <tr>\n",
              "      <th rowspan=\"3\" valign=\"top\">2</th>\n",
              "      <th>0</th>\n",
              "      <td>43</td>\n",
              "      <td>5</td>\n",
              "    </tr>\n",
              "    <tr>\n",
              "      <th>1</th>\n",
              "      <td>19</td>\n",
              "      <td>5</td>\n",
              "    </tr>\n",
              "    <tr>\n",
              "      <th>2</th>\n",
              "      <td>3</td>\n",
              "      <td>1</td>\n",
              "    </tr>\n",
              "    <tr>\n",
              "      <th rowspan=\"6\" valign=\"top\">3</th>\n",
              "      <th>0</th>\n",
              "      <td>124</td>\n",
              "      <td>22</td>\n",
              "    </tr>\n",
              "    <tr>\n",
              "      <th>1</th>\n",
              "      <td>26</td>\n",
              "      <td>4</td>\n",
              "    </tr>\n",
              "    <tr>\n",
              "      <th>2</th>\n",
              "      <td>5</td>\n",
              "      <td>0</td>\n",
              "    </tr>\n",
              "    <tr>\n",
              "      <th>3</th>\n",
              "      <td>2</td>\n",
              "      <td>0</td>\n",
              "    </tr>\n",
              "    <tr>\n",
              "      <th>4</th>\n",
              "      <td>8</td>\n",
              "      <td>1</td>\n",
              "    </tr>\n",
              "    <tr>\n",
              "      <th>5</th>\n",
              "      <td>3</td>\n",
              "      <td>0</td>\n",
              "    </tr>\n",
              "  </tbody>\n",
              "</table>\n",
              "</div>"
            ],
            "text/plain": [
              "             Survived    \n",
              "                count sum\n",
              "Pclass SibSp             \n",
              "1      0           47  14\n",
              "       1           20   9\n",
              "       2            1   0\n",
              "       3            1   0\n",
              "2      0           43   5\n",
              "       1           19   5\n",
              "       2            3   1\n",
              "3      0          124  22\n",
              "       1           26   4\n",
              "       2            5   0\n",
              "       3            2   0\n",
              "       4            8   1\n",
              "       5            3   0"
            ]
          },
          "metadata": {
            "tags": []
          },
          "execution_count": 32
        }
      ]
    },
    {
      "cell_type": "code",
      "metadata": {
        "colab": {
          "base_uri": "https://localhost:8080/",
          "height": 509
        },
        "id": "XOZrhfQDxyuM",
        "outputId": "0dcdd0fd-3cec-47f9-91aa-f686a57307d3"
      },
      "source": [
        "train[['Parch', 'Survived','Pclass']][train['Sex']==0.0].groupby(['Pclass','Parch']).agg(['count', 'sum'])"
      ],
      "execution_count": 33,
      "outputs": [
        {
          "output_type": "execute_result",
          "data": {
            "text/html": [
              "<div>\n",
              "<style scoped>\n",
              "    .dataframe tbody tr th:only-of-type {\n",
              "        vertical-align: middle;\n",
              "    }\n",
              "\n",
              "    .dataframe tbody tr th {\n",
              "        vertical-align: top;\n",
              "    }\n",
              "\n",
              "    .dataframe thead tr th {\n",
              "        text-align: left;\n",
              "    }\n",
              "\n",
              "    .dataframe thead tr:last-of-type th {\n",
              "        text-align: right;\n",
              "    }\n",
              "</style>\n",
              "<table border=\"1\" class=\"dataframe\">\n",
              "  <thead>\n",
              "    <tr>\n",
              "      <th></th>\n",
              "      <th></th>\n",
              "      <th colspan=\"2\" halign=\"left\">Survived</th>\n",
              "    </tr>\n",
              "    <tr>\n",
              "      <th></th>\n",
              "      <th></th>\n",
              "      <th>count</th>\n",
              "      <th>sum</th>\n",
              "    </tr>\n",
              "    <tr>\n",
              "      <th>Pclass</th>\n",
              "      <th>Parch</th>\n",
              "      <th></th>\n",
              "      <th></th>\n",
              "    </tr>\n",
              "  </thead>\n",
              "  <tbody>\n",
              "    <tr>\n",
              "      <th rowspan=\"4\" valign=\"top\">1</th>\n",
              "      <th>0</th>\n",
              "      <td>51</td>\n",
              "      <td>16</td>\n",
              "    </tr>\n",
              "    <tr>\n",
              "      <th>1</th>\n",
              "      <td>11</td>\n",
              "      <td>3</td>\n",
              "    </tr>\n",
              "    <tr>\n",
              "      <th>2</th>\n",
              "      <td>6</td>\n",
              "      <td>4</td>\n",
              "    </tr>\n",
              "    <tr>\n",
              "      <th>4</th>\n",
              "      <td>1</td>\n",
              "      <td>0</td>\n",
              "    </tr>\n",
              "    <tr>\n",
              "      <th rowspan=\"3\" valign=\"top\">2</th>\n",
              "      <th>0</th>\n",
              "      <td>54</td>\n",
              "      <td>5</td>\n",
              "    </tr>\n",
              "    <tr>\n",
              "      <th>1</th>\n",
              "      <td>8</td>\n",
              "      <td>5</td>\n",
              "    </tr>\n",
              "    <tr>\n",
              "      <th>2</th>\n",
              "      <td>3</td>\n",
              "      <td>1</td>\n",
              "    </tr>\n",
              "    <tr>\n",
              "      <th rowspan=\"6\" valign=\"top\">3</th>\n",
              "      <th>0</th>\n",
              "      <td>137</td>\n",
              "      <td>23</td>\n",
              "    </tr>\n",
              "    <tr>\n",
              "      <th>1</th>\n",
              "      <td>19</td>\n",
              "      <td>2</td>\n",
              "    </tr>\n",
              "    <tr>\n",
              "      <th>2</th>\n",
              "      <td>9</td>\n",
              "      <td>2</td>\n",
              "    </tr>\n",
              "    <tr>\n",
              "      <th>3</th>\n",
              "      <td>1</td>\n",
              "      <td>0</td>\n",
              "    </tr>\n",
              "    <tr>\n",
              "      <th>4</th>\n",
              "      <td>1</td>\n",
              "      <td>0</td>\n",
              "    </tr>\n",
              "    <tr>\n",
              "      <th>5</th>\n",
              "      <td>1</td>\n",
              "      <td>0</td>\n",
              "    </tr>\n",
              "  </tbody>\n",
              "</table>\n",
              "</div>"
            ],
            "text/plain": [
              "             Survived    \n",
              "                count sum\n",
              "Pclass Parch             \n",
              "1      0           51  16\n",
              "       1           11   3\n",
              "       2            6   4\n",
              "       4            1   0\n",
              "2      0           54   5\n",
              "       1            8   5\n",
              "       2            3   1\n",
              "3      0          137  23\n",
              "       1           19   2\n",
              "       2            9   2\n",
              "       3            1   0\n",
              "       4            1   0\n",
              "       5            1   0"
            ]
          },
          "metadata": {
            "tags": []
          },
          "execution_count": 33
        }
      ]
    },
    {
      "cell_type": "markdown",
      "metadata": {
        "id": "uhiZds2r0C3-"
      },
      "source": [
        "For Pclass = 2 we divide on the basis of Parch = 1. Pclass 1 on basis of SibSp=0 and SibSp=1 and Pclass 3 on basis of SibSp>0"
      ]
    },
    {
      "cell_type": "code",
      "metadata": {
        "colab": {
          "base_uri": "https://localhost:8080/",
          "height": 386
        },
        "id": "03R88u1a0qWi",
        "outputId": "2caf12f3-ebe8-4eb7-8184-dcf9fc0d62dc"
      },
      "source": [
        "train[['SibSp', 'Survived','Parch']][(train['Sex']==0.0) & (train['Pclass']==1)].groupby(['SibSp','Parch']).agg(['count', 'sum'])"
      ],
      "execution_count": 34,
      "outputs": [
        {
          "output_type": "execute_result",
          "data": {
            "text/html": [
              "<div>\n",
              "<style scoped>\n",
              "    .dataframe tbody tr th:only-of-type {\n",
              "        vertical-align: middle;\n",
              "    }\n",
              "\n",
              "    .dataframe tbody tr th {\n",
              "        vertical-align: top;\n",
              "    }\n",
              "\n",
              "    .dataframe thead tr th {\n",
              "        text-align: left;\n",
              "    }\n",
              "\n",
              "    .dataframe thead tr:last-of-type th {\n",
              "        text-align: right;\n",
              "    }\n",
              "</style>\n",
              "<table border=\"1\" class=\"dataframe\">\n",
              "  <thead>\n",
              "    <tr>\n",
              "      <th></th>\n",
              "      <th></th>\n",
              "      <th colspan=\"2\" halign=\"left\">Survived</th>\n",
              "    </tr>\n",
              "    <tr>\n",
              "      <th></th>\n",
              "      <th></th>\n",
              "      <th>count</th>\n",
              "      <th>sum</th>\n",
              "    </tr>\n",
              "    <tr>\n",
              "      <th>SibSp</th>\n",
              "      <th>Parch</th>\n",
              "      <th></th>\n",
              "      <th></th>\n",
              "    </tr>\n",
              "  </thead>\n",
              "  <tbody>\n",
              "    <tr>\n",
              "      <th rowspan=\"3\" valign=\"top\">0</th>\n",
              "      <th>0</th>\n",
              "      <td>36</td>\n",
              "      <td>11</td>\n",
              "    </tr>\n",
              "    <tr>\n",
              "      <th>1</th>\n",
              "      <td>8</td>\n",
              "      <td>1</td>\n",
              "    </tr>\n",
              "    <tr>\n",
              "      <th>2</th>\n",
              "      <td>3</td>\n",
              "      <td>2</td>\n",
              "    </tr>\n",
              "    <tr>\n",
              "      <th rowspan=\"4\" valign=\"top\">1</th>\n",
              "      <th>0</th>\n",
              "      <td>14</td>\n",
              "      <td>5</td>\n",
              "    </tr>\n",
              "    <tr>\n",
              "      <th>1</th>\n",
              "      <td>3</td>\n",
              "      <td>2</td>\n",
              "    </tr>\n",
              "    <tr>\n",
              "      <th>2</th>\n",
              "      <td>2</td>\n",
              "      <td>2</td>\n",
              "    </tr>\n",
              "    <tr>\n",
              "      <th>4</th>\n",
              "      <td>1</td>\n",
              "      <td>0</td>\n",
              "    </tr>\n",
              "    <tr>\n",
              "      <th>2</th>\n",
              "      <th>0</th>\n",
              "      <td>1</td>\n",
              "      <td>0</td>\n",
              "    </tr>\n",
              "    <tr>\n",
              "      <th>3</th>\n",
              "      <th>2</th>\n",
              "      <td>1</td>\n",
              "      <td>0</td>\n",
              "    </tr>\n",
              "  </tbody>\n",
              "</table>\n",
              "</div>"
            ],
            "text/plain": [
              "            Survived    \n",
              "               count sum\n",
              "SibSp Parch             \n",
              "0     0           36  11\n",
              "      1            8   1\n",
              "      2            3   2\n",
              "1     0           14   5\n",
              "      1            3   2\n",
              "      2            2   2\n",
              "      4            1   0\n",
              "2     0            1   0\n",
              "3     2            1   0"
            ]
          },
          "metadata": {
            "tags": []
          },
          "execution_count": 34
        }
      ]
    },
    {
      "cell_type": "code",
      "metadata": {
        "colab": {
          "base_uri": "https://localhost:8080/",
          "height": 283
        },
        "id": "v1uDNea14TQD",
        "outputId": "a04aab2e-8430-4a40-adf4-75cd0a876d9e"
      },
      "source": [
        "plt.scatter(train['Age'][(train['Sex']==0.0) & (train['Pclass']==1) & (train['SibSp']==1)],train['Survived'][(train['Sex']==0.0) & (train['Pclass']==1) & (train['SibSp']==1)])"
      ],
      "execution_count": 35,
      "outputs": [
        {
          "output_type": "execute_result",
          "data": {
            "text/plain": [
              "<matplotlib.collections.PathCollection at 0x7f0b39219b90>"
            ]
          },
          "metadata": {
            "tags": []
          },
          "execution_count": 35
        },
        {
          "output_type": "display_data",
          "data": {
            "image/png": "[encoded data removed]",
            "text/plain": [
              "<Figure size 432x288 with 1 Axes>"
            ]
          },
          "metadata": {
            "tags": [],
            "needs_background": "light"
          }
        }
      ]
    },
    {
      "cell_type": "markdown",
      "metadata": {
        "id": "c3BMiJIb49-3"
      },
      "source": [
        "SibSp=0, Parch=2 true, SibSp=1, Parch=1,2 true"
      ]
    },
    {
      "cell_type": "code",
      "metadata": {
        "colab": {
          "base_uri": "https://localhost:8080/",
          "height": 570
        },
        "id": "GKyCID7R5xYf",
        "outputId": "e439e9d4-1c48-43c3-a5d1-f0c8c28e5c39"
      },
      "source": [
        "train[['SibSp', 'Survived','Parch']][(train['Sex']==0.0) & (train['Pclass']==3)].groupby(['SibSp','Parch']).agg(['count', 'sum'])"
      ],
      "execution_count": 36,
      "outputs": [
        {
          "output_type": "execute_result",
          "data": {
            "text/html": [
              "<div>\n",
              "<style scoped>\n",
              "    .dataframe tbody tr th:only-of-type {\n",
              "        vertical-align: middle;\n",
              "    }\n",
              "\n",
              "    .dataframe tbody tr th {\n",
              "        vertical-align: top;\n",
              "    }\n",
              "\n",
              "    .dataframe thead tr th {\n",
              "        text-align: left;\n",
              "    }\n",
              "\n",
              "    .dataframe thead tr:last-of-type th {\n",
              "        text-align: right;\n",
              "    }\n",
              "</style>\n",
              "<table border=\"1\" class=\"dataframe\">\n",
              "  <thead>\n",
              "    <tr>\n",
              "      <th></th>\n",
              "      <th></th>\n",
              "      <th colspan=\"2\" halign=\"left\">Survived</th>\n",
              "    </tr>\n",
              "    <tr>\n",
              "      <th></th>\n",
              "      <th></th>\n",
              "      <th>count</th>\n",
              "      <th>sum</th>\n",
              "    </tr>\n",
              "    <tr>\n",
              "      <th>SibSp</th>\n",
              "      <th>Parch</th>\n",
              "      <th></th>\n",
              "      <th></th>\n",
              "    </tr>\n",
              "  </thead>\n",
              "  <tbody>\n",
              "    <tr>\n",
              "      <th rowspan=\"3\" valign=\"top\">0</th>\n",
              "      <th>0</th>\n",
              "      <td>120</td>\n",
              "      <td>21</td>\n",
              "    </tr>\n",
              "    <tr>\n",
              "      <th>1</th>\n",
              "      <td>2</td>\n",
              "      <td>0</td>\n",
              "    </tr>\n",
              "    <tr>\n",
              "      <th>2</th>\n",
              "      <td>2</td>\n",
              "      <td>1</td>\n",
              "    </tr>\n",
              "    <tr>\n",
              "      <th rowspan=\"6\" valign=\"top\">1</th>\n",
              "      <th>0</th>\n",
              "      <td>12</td>\n",
              "      <td>2</td>\n",
              "    </tr>\n",
              "    <tr>\n",
              "      <th>1</th>\n",
              "      <td>10</td>\n",
              "      <td>2</td>\n",
              "    </tr>\n",
              "    <tr>\n",
              "      <th>2</th>\n",
              "      <td>1</td>\n",
              "      <td>0</td>\n",
              "    </tr>\n",
              "    <tr>\n",
              "      <th>3</th>\n",
              "      <td>1</td>\n",
              "      <td>0</td>\n",
              "    </tr>\n",
              "    <tr>\n",
              "      <th>4</th>\n",
              "      <td>1</td>\n",
              "      <td>0</td>\n",
              "    </tr>\n",
              "    <tr>\n",
              "      <th>5</th>\n",
              "      <td>1</td>\n",
              "      <td>0</td>\n",
              "    </tr>\n",
              "    <tr>\n",
              "      <th>2</th>\n",
              "      <th>0</th>\n",
              "      <td>5</td>\n",
              "      <td>0</td>\n",
              "    </tr>\n",
              "    <tr>\n",
              "      <th rowspan=\"2\" valign=\"top\">3</th>\n",
              "      <th>1</th>\n",
              "      <td>1</td>\n",
              "      <td>0</td>\n",
              "    </tr>\n",
              "    <tr>\n",
              "      <th>2</th>\n",
              "      <td>1</td>\n",
              "      <td>0</td>\n",
              "    </tr>\n",
              "    <tr>\n",
              "      <th rowspan=\"2\" valign=\"top\">4</th>\n",
              "      <th>1</th>\n",
              "      <td>6</td>\n",
              "      <td>0</td>\n",
              "    </tr>\n",
              "    <tr>\n",
              "      <th>2</th>\n",
              "      <td>2</td>\n",
              "      <td>1</td>\n",
              "    </tr>\n",
              "    <tr>\n",
              "      <th>5</th>\n",
              "      <th>2</th>\n",
              "      <td>3</td>\n",
              "      <td>0</td>\n",
              "    </tr>\n",
              "  </tbody>\n",
              "</table>\n",
              "</div>"
            ],
            "text/plain": [
              "            Survived    \n",
              "               count sum\n",
              "SibSp Parch             \n",
              "0     0          120  21\n",
              "      1            2   0\n",
              "      2            2   1\n",
              "1     0           12   2\n",
              "      1           10   2\n",
              "      2            1   0\n",
              "      3            1   0\n",
              "      4            1   0\n",
              "      5            1   0\n",
              "2     0            5   0\n",
              "3     1            1   0\n",
              "      2            1   0\n",
              "4     1            6   0\n",
              "      2            2   1\n",
              "5     2            3   0"
            ]
          },
          "metadata": {
            "tags": []
          },
          "execution_count": 36
        }
      ]
    },
    {
      "cell_type": "code",
      "metadata": {
        "colab": {
          "base_uri": "https://localhost:8080/",
          "height": 265
        },
        "id": "iQpyQowF5-Gq",
        "outputId": "d6e1d7e0-18bb-4c9d-996f-7e6e6c9977ce"
      },
      "source": [
        "plt.scatter(train['Age'][(train['Sex']==0.0) & (train['Pclass']==3) & (train['SibSp']==0)],train['Survived'][(train['Sex']==0.0) & (train['Pclass']==3) & (train['SibSp']==0)])\n",
        "plt.grid()"
      ],
      "execution_count": 37,
      "outputs": [
        {
          "output_type": "display_data",
          "data": {
            "image/png": "[encoded data removed]",
            "text/plain": [
              "<Figure size 432x288 with 1 Axes>"
            ]
          },
          "metadata": {
            "tags": [],
            "needs_background": "light"
          }
        }
      ]
    },
    {
      "cell_type": "markdown",
      "metadata": {
        "id": "EMWGqGeD6lju"
      },
      "source": [
        "For age < 15  group is almost pure, so we eill use that for division for Pclass = 3 and SibSp = 0 "
      ]
    },
    {
      "cell_type": "markdown",
      "metadata": {
        "id": "JW6ufF4_AP7-"
      },
      "source": [
        "Final Tree becomes (Green is for Survived = 1 and Red for Survived = 0):![Tree.png](data:image/png;base64,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)"
      ]
    },
    {
      "cell_type": "code",
      "metadata": {
        "colab": {
          "base_uri": "https://localhost:8080/",
          "height": 79
        },
        "id": "MFYUPsZXCKmM",
        "outputId": "8e420f56-f1cf-4a1f-ddb4-0ce9978fb168"
      },
      "source": [
        "train.head(1)"
      ],
      "execution_count": 38,
      "outputs": [
        {
          "output_type": "execute_result",
          "data": {
            "text/html": [
              "<div>\n",
              "<style scoped>\n",
              "    .dataframe tbody tr th:only-of-type {\n",
              "        vertical-align: middle;\n",
              "    }\n",
              "\n",
              "    .dataframe tbody tr th {\n",
              "        vertical-align: top;\n",
              "    }\n",
              "\n",
              "    .dataframe thead th {\n",
              "        text-align: right;\n",
              "    }\n",
              "</style>\n",
              "<table border=\"1\" class=\"dataframe\">\n",
              "  <thead>\n",
              "    <tr style=\"text-align: right;\">\n",
              "      <th></th>\n",
              "      <th>PassengerId</th>\n",
              "      <th>Survived</th>\n",
              "      <th>Pclass</th>\n",
              "      <th>Sex</th>\n",
              "      <th>Age</th>\n",
              "      <th>SibSp</th>\n",
              "      <th>Parch</th>\n",
              "      <th>Fare</th>\n",
              "    </tr>\n",
              "  </thead>\n",
              "  <tbody>\n",
              "    <tr>\n",
              "      <th>0</th>\n",
              "      <td>1</td>\n",
              "      <td>0</td>\n",
              "      <td>3</td>\n",
              "      <td>0</td>\n",
              "      <td>22.0</td>\n",
              "      <td>1</td>\n",
              "      <td>0</td>\n",
              "      <td>7.25</td>\n",
              "    </tr>\n",
              "  </tbody>\n",
              "</table>\n",
              "</div>"
            ],
            "text/plain": [
              "   PassengerId  Survived  Pclass Sex   Age  SibSp  Parch  Fare\n",
              "0            1         0       3   0  22.0      1      0  7.25"
            ]
          },
          "metadata": {
            "tags": []
          },
          "execution_count": 38
        }
      ]
    },
    {
      "cell_type": "markdown",
      "metadata": {
        "id": "ByPA1bxrWX25"
      },
      "source": [
        "Defining Loss, Predictor (Desicion Tree) functions and the function that calculates deliverables."
      ]
    },
    {
      "cell_type": "code",
      "metadata": {
        "id": "SOXAavvt-iF3"
      },
      "source": [
        "def predictor(df):\n",
        "  #index:Column = 1:PassengerId 2:Survives 3:Pclass 4:Sex 5:Age 6:SibSP 7:Parch 8:Fare\n",
        "  orig_values=[]\n",
        "  prediction = []\n",
        "\n",
        "  for row in df.itertuples():\n",
        "   orig_values.append(row[2])\n",
        "   if (row[4]==0.0):                                     \n",
        "     if (row[3]==1):\n",
        "         if (row[6]==0):\n",
        "           if (row[7]==2): prediction.append(1)\n",
        "           else: prediction.append(0)\n",
        "         elif (row[6]==1):\n",
        "           if (row[7]==2 or row[7]==1): prediction.append(1)\n",
        "           else: prediction.append(0) \n",
        "         else: prediction.append(0)  \n",
        "     if (row[3]==2):\n",
        "         if (row[7]==1): prediction.append(1)\n",
        "         else : prediction.append(0)\n",
        "     if (row[3]==3):\n",
        "         if (row[6]==0):\n",
        "           if (row[5]<=15): prediction.append(1)\n",
        "           else: prediction.append(0)    \n",
        "         else: prediction.append(0)         \n",
        "   else:\n",
        "     if (row[3]==3):\n",
        "       if (row[6]==0):\n",
        "         if (row[7]==0 or row[7]==2):\n",
        "          prediction.append(1)\n",
        "         else: prediction.append(0)\n",
        "       else: \n",
        "         if (row[5]>50):prediction.append(1)\n",
        "         else:  prediction.append(0)\n",
        "     else :prediction.append(1)\n",
        "\n",
        "  return orig_values, prediction \n",
        "\n",
        "def deliverable_cal(orig_values,prediction):\n",
        "  true_pos = 0\n",
        "  false_pos = 0\n",
        "  true_neg = 0\n",
        "  false_neg = 0\n",
        "\n",
        "  for i in range(len(prediction)):\n",
        "   if (prediction[i]==1 and orig_values[i]==1): true_pos+=1\n",
        "   elif (prediction[i]==0 and orig_values[i]==1): false_neg+=1\n",
        "   elif (prediction[i]==1 and orig_values[i]==0): false_pos+=1\n",
        "   elif (prediction[i]==0 and orig_values[i]==0): true_neg+=1 \n",
        "\n",
        "  precision = ((true_pos)/(true_pos+false_pos))\n",
        "  recall = ((true_pos)/(true_pos+false_neg))\n",
        "\n",
        "  acc = (true_pos+true_neg)/(true_pos+false_neg+true_neg+false_pos)\n",
        "  F1_score = (2*precision*recall)/(precision+recall)\n",
        "  loss = false_pos + false_neg\n",
        "  return acc, loss, F1_score\n"
      ],
      "execution_count": 39,
      "outputs": []
    },
    {
      "cell_type": "markdown",
      "metadata": {
        "id": "mCudMYd5XSBz"
      },
      "source": [
        "##Decision Tree on Train Dataset "
      ]
    },
    {
      "cell_type": "markdown",
      "metadata": {
        "id": "Av3QhEysWuog"
      },
      "source": [
        "Deliverables For train Dataset:"
      ]
    },
    {
      "cell_type": "code",
      "metadata": {
        "colab": {
          "base_uri": "https://localhost:8080/"
        },
        "id": "W0DS92K0C_yT",
        "outputId": "6be6fbd0-c6e4-4d28-ba68-bd29aea8677e"
      },
      "source": [
        "orig_values,prediction = predictor(train)\n",
        "acc,loss,F1_score = deliverable_cal(orig_values, prediction)\n",
        "\n",
        "print('For Train Data:','\\nAccuracy =',acc*100,'%\\nLoss =',loss,'\\nF1 Score =',F1_score)"
      ],
      "execution_count": 40,
      "outputs": [
        {
          "output_type": "stream",
          "text": [
            "For Train Data: \n",
            "Accuracy = 81.59509202453987 %\n",
            "Loss = 90 \n",
            "F1 Score = 0.7554347826086958\n"
          ],
          "name": "stdout"
        }
      ]
    },
    {
      "cell_type": "markdown",
      "metadata": {
        "id": "ptXJG92aXK0u"
      },
      "source": [
        "## Test Dataset:"
      ]
    },
    {
      "cell_type": "markdown",
      "metadata": {
        "id": "VS2cLckVW2Hs"
      },
      "source": [
        "Loading Test dataset and processing it:"
      ]
    },
    {
      "cell_type": "code",
      "metadata": {
        "colab": {
          "base_uri": "https://localhost:8080/",
          "height": 658
        },
        "id": "0Jnj2RUJOiy_",
        "outputId": "8419c104-572a-41d1-dcfd-2c48aa98bb0f"
      },
      "source": [
        "!wget -O test.csv https://raw.githubusercontent.com/vanshbansal1505/ICG-Summer-Program-2021-DS/main/Assignment-2/data/test.csv\n",
        "test=pd.read_csv('test.csv')\n",
        "\n",
        "for i in range(len(test['Sex'])):\n",
        "  if test['Sex'][i]=='male':\n",
        "    test['Sex'][i]=0.0\n",
        "  else:  test['Sex'][i]=1.0\n",
        "\n",
        "test = test.dropna(axis = 0, how ='any')\n",
        "test.describe()  "
      ],
      "execution_count": 41,
      "outputs": [
        {
          "output_type": "stream",
          "text": [
            "--2021-06-15 10:04:40--  https://raw.githubusercontent.com/vanshbansal1505/ICG-Summer-Program-2021-DS/main/Assignment-2/data/test.csv\n",
            "Resolving raw.githubusercontent.com (raw.githubusercontent.com)... 185.199.111.133, 185.199.108.133, 185.199.109.133, ...\n",
            "Connecting to raw.githubusercontent.com (raw.githubusercontent.com)|185.199.111.133|:443... connected.\n",
            "HTTP request sent, awaiting response... 200 OK\n",
            "Length: 7385 (7.2K) [text/plain]\n",
            "Saving to: ‘test.csv’\n",
            "\n",
            "test.csv            100%[===================>]   7.21K  --.-KB/s    in 0s      \n",
            "\n",
            "2021-06-15 10:04:40 (51.4 MB/s) - ‘test.csv’ saved [7385/7385]\n",
            "\n"
          ],
          "name": "stdout"
        },
        {
          "output_type": "stream",
          "text": [
            "/usr/local/lib/python3.7/dist-packages/ipykernel_launcher.py:6: SettingWithCopyWarning: \n",
            "A value is trying to be set on a copy of a slice from a DataFrame\n",
            "\n",
            "See the caveats in the documentation: https://pandas.pydata.org/pandas-docs/stable/user_guide/indexing.html#returning-a-view-versus-a-copy\n",
            "  \n",
            "/usr/local/lib/python3.7/dist-packages/ipykernel_launcher.py:7: SettingWithCopyWarning: \n",
            "A value is trying to be set on a copy of a slice from a DataFrame\n",
            "\n",
            "See the caveats in the documentation: https://pandas.pydata.org/pandas-docs/stable/user_guide/indexing.html#returning-a-view-versus-a-copy\n",
            "  import sys\n"
          ],
          "name": "stderr"
        },
        {
          "output_type": "execute_result",
          "data": {
            "text/html": [
              "<div>\n",
              "<style scoped>\n",
              "    .dataframe tbody tr th:only-of-type {\n",
              "        vertical-align: middle;\n",
              "    }\n",
              "\n",
              "    .dataframe tbody tr th {\n",
              "        vertical-align: top;\n",
              "    }\n",
              "\n",
              "    .dataframe thead th {\n",
              "        text-align: right;\n",
              "    }\n",
              "</style>\n",
              "<table border=\"1\" class=\"dataframe\">\n",
              "  <thead>\n",
              "    <tr style=\"text-align: right;\">\n",
              "      <th></th>\n",
              "      <th>PassengerId</th>\n",
              "      <th>Survived</th>\n",
              "      <th>Pclass</th>\n",
              "      <th>Age</th>\n",
              "      <th>SibSp</th>\n",
              "      <th>Parch</th>\n",
              "      <th>Fare</th>\n",
              "    </tr>\n",
              "  </thead>\n",
              "  <tbody>\n",
              "    <tr>\n",
              "      <th>count</th>\n",
              "      <td>225.000000</td>\n",
              "      <td>225.000000</td>\n",
              "      <td>225.000000</td>\n",
              "      <td>225.000000</td>\n",
              "      <td>225.000000</td>\n",
              "      <td>225.000000</td>\n",
              "      <td>225.000000</td>\n",
              "    </tr>\n",
              "    <tr>\n",
              "      <th>mean</th>\n",
              "      <td>756.240000</td>\n",
              "      <td>0.386667</td>\n",
              "      <td>2.253333</td>\n",
              "      <td>29.520756</td>\n",
              "      <td>0.448889</td>\n",
              "      <td>0.408889</td>\n",
              "      <td>35.695519</td>\n",
              "    </tr>\n",
              "    <tr>\n",
              "      <th>std</th>\n",
              "      <td>78.680838</td>\n",
              "      <td>0.488072</td>\n",
              "      <td>0.841342</td>\n",
              "      <td>14.817980</td>\n",
              "      <td>0.875414</td>\n",
              "      <td>0.872144</td>\n",
              "      <td>62.037074</td>\n",
              "    </tr>\n",
              "    <tr>\n",
              "      <th>min</th>\n",
              "      <td>621.000000</td>\n",
              "      <td>0.000000</td>\n",
              "      <td>1.000000</td>\n",
              "      <td>0.420000</td>\n",
              "      <td>0.000000</td>\n",
              "      <td>0.000000</td>\n",
              "      <td>0.000000</td>\n",
              "    </tr>\n",
              "    <tr>\n",
              "      <th>25%</th>\n",
              "      <td>689.000000</td>\n",
              "      <td>0.000000</td>\n",
              "      <td>1.000000</td>\n",
              "      <td>20.000000</td>\n",
              "      <td>0.000000</td>\n",
              "      <td>0.000000</td>\n",
              "      <td>7.925000</td>\n",
              "    </tr>\n",
              "    <tr>\n",
              "      <th>50%</th>\n",
              "      <td>755.000000</td>\n",
              "      <td>0.000000</td>\n",
              "      <td>3.000000</td>\n",
              "      <td>28.000000</td>\n",
              "      <td>0.000000</td>\n",
              "      <td>0.000000</td>\n",
              "      <td>13.500000</td>\n",
              "    </tr>\n",
              "    <tr>\n",
              "      <th>75%</th>\n",
              "      <td>822.000000</td>\n",
              "      <td>1.000000</td>\n",
              "      <td>3.000000</td>\n",
              "      <td>39.000000</td>\n",
              "      <td>1.000000</td>\n",
              "      <td>1.000000</td>\n",
              "      <td>33.000000</td>\n",
              "    </tr>\n",
              "    <tr>\n",
              "      <th>max</th>\n",
              "      <td>891.000000</td>\n",
              "      <td>1.000000</td>\n",
              "      <td>3.000000</td>\n",
              "      <td>80.000000</td>\n",
              "      <td>5.000000</td>\n",
              "      <td>6.000000</td>\n",
              "      <td>512.329200</td>\n",
              "    </tr>\n",
              "  </tbody>\n",
              "</table>\n",
              "</div>"
            ],
            "text/plain": [
              "       PassengerId    Survived      Pclass  ...       SibSp       Parch        Fare\n",
              "count   225.000000  225.000000  225.000000  ...  225.000000  225.000000  225.000000\n",
              "mean    756.240000    0.386667    2.253333  ...    0.448889    0.408889   35.695519\n",
              "std      78.680838    0.488072    0.841342  ...    0.875414    0.872144   62.037074\n",
              "min     621.000000    0.000000    1.000000  ...    0.000000    0.000000    0.000000\n",
              "25%     689.000000    0.000000    1.000000  ...    0.000000    0.000000    7.925000\n",
              "50%     755.000000    0.000000    3.000000  ...    0.000000    0.000000   13.500000\n",
              "75%     822.000000    1.000000    3.000000  ...    1.000000    1.000000   33.000000\n",
              "max     891.000000    1.000000    3.000000  ...    5.000000    6.000000  512.329200\n",
              "\n",
              "[8 rows x 7 columns]"
            ]
          },
          "metadata": {
            "tags": []
          },
          "execution_count": 41
        }
      ]
    },
    {
      "cell_type": "markdown",
      "metadata": {
        "id": "yRFUpvzfWzMO"
      },
      "source": [
        "Deliverables For test Dataset:"
      ]
    },
    {
      "cell_type": "code",
      "metadata": {
        "colab": {
          "base_uri": "https://localhost:8080/"
        },
        "id": "tNiJBd-uOYqa",
        "outputId": "63ffa870-0e8d-4803-e062-918503a1d6d9"
      },
      "source": [
        "orig_values,prediction = predictor(test)\n",
        "acc, loss, F1_score = deliverable_cal(orig_values, prediction)\n",
        "\n",
        "print('For Test Data:','\\nAccuracy =',acc*100,'%\\nLoss =',loss,'\\nF1 Score =',F1_score)"
      ],
      "execution_count": 42,
      "outputs": [
        {
          "output_type": "stream",
          "text": [
            "For Test Data: \n",
            "Accuracy = 78.66666666666666 %\n",
            "Loss = 48 \n",
            "F1 Score = 0.6923076923076923\n"
          ],
          "name": "stdout"
        }
      ]
    },
    {
      "cell_type": "markdown",
      "metadata": {
        "id": "lkU6GHSNXFgL"
      },
      "source": [
        "#Final Statistics:"
      ]
    },
    {
      "cell_type": "markdown",
      "metadata": {
        "id": "dEy1dFc0O3z_"
      },
      "source": [
        "<p>For Training Data (489 Non-Null Cases): \n",
        "\n",
        "```\n",
        "Accuracy = 81.59509202453987 %\n",
        "Loss = 90 \n",
        "F1 Score = 0.7554347826086958\n",
        "```\n",
        "<p><p>\n",
        "For Test Data (225 Non-Null Cases): \n",
        "\n",
        "```\n",
        "Accuracy = 78.66666666666666 %\n",
        "Loss = 48 \n",
        "F1 Score = 0.6923076923076923\n",
        "```\n",
        "<p>"
      ]
    },
    {
      "cell_type": "markdown",
      "metadata": {
        "id": "dOl-XOotXooy"
      },
      "source": [
        "#Citations:"
      ]
    },
    {
      "cell_type": "markdown",
      "metadata": {
        "id": "hoKW2D7hXq91"
      },
      "source": [
        "<p>Links:<p>\n",
        "\n",
        "https://www.kaggle.com/dmilla/introduction-to-decision-trees-titanic-dataset\n",
        "\n",
        "https://www.youtube.com/watch?v=ZVR2Way4nwQ\n"
      ]
    }
  ]
}