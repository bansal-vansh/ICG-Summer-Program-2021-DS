{
  "nbformat": 4,
  "nbformat_minor": 0,
  "metadata": {
    "colab": {
      "name": "Titanic_prediction",
      "provenance": []
    },
    "kernelspec": {
      "name": "python3",
      "display_name": "Python 3"
    },
    "language_info": {
      "name": "python"
    }
  },
  "cells": [
    {
      "cell_type": "markdown",
      "metadata": {
        "id": "WrjAB7qynznB"
      },
      "source": [
        "#**Import Libraries:**\n"
      ]
    },
    {
      "cell_type": "code",
      "metadata": {
        "id": "6ONzY4FRqwFr"
      },
      "source": [
        "import numpy as np\n",
        "import pandas as pd\n",
        "import matplotlib.pyplot as plt\n",
        "import seaborn as sb"
      ],
      "execution_count": 58,
      "outputs": []
    },
    {
      "cell_type": "markdown",
      "metadata": {
        "id": "cetz2wKhn2kx"
      },
      "source": [
        "#**Load Data:**"
      ]
    },
    {
      "cell_type": "code",
      "metadata": {
        "colab": {
          "base_uri": "https://localhost:8080/",
          "height": 389
        },
        "id": "jYOKQhLcqz2j",
        "outputId": "71355c83-ae3e-4aa1-cbfd-aefed102e8c9"
      },
      "source": [
        "train_data = pd.read_csv(\"https://raw.githubusercontent.com/vanshbansal1505/ICG-Summer-Program-2021-DS/main/Assignment-2/data/train.csv\")\n",
        "display(train_data.head())\n",
        "test_data = pd.read_csv(\"https://raw.githubusercontent.com/vanshbansal1505/ICG-Summer-Program-2021-DS/main/Assignment-2/data/test.csv\")\n",
        "display(test_data.head())\n"
      ],
      "execution_count": 61,
      "outputs": [
        {
          "output_type": "display_data",
          "data": {
            "text/html": [
              "<div>\n",
              "<style scoped>\n",
              "    .dataframe tbody tr th:only-of-type {\n",
              "        vertical-align: middle;\n",
              "    }\n",
              "\n",
              "    .dataframe tbody tr th {\n",
              "        vertical-align: top;\n",
              "    }\n",
              "\n",
              "    .dataframe thead th {\n",
              "        text-align: right;\n",
              "    }\n",
              "</style>\n",
              "<table border=\"1\" class=\"dataframe\">\n",
              "  <thead>\n",
              "    <tr style=\"text-align: right;\">\n",
              "      <th></th>\n",
              "      <th>PassengerId</th>\n",
              "      <th>Survived</th>\n",
              "      <th>Pclass</th>\n",
              "      <th>Sex</th>\n",
              "      <th>Age</th>\n",
              "      <th>SibSp</th>\n",
              "      <th>Parch</th>\n",
              "      <th>Fare</th>\n",
              "    </tr>\n",
              "  </thead>\n",
              "  <tbody>\n",
              "    <tr>\n",
              "      <th>0</th>\n",
              "      <td>1</td>\n",
              "      <td>0</td>\n",
              "      <td>3</td>\n",
              "      <td>male</td>\n",
              "      <td>22.0</td>\n",
              "      <td>1</td>\n",
              "      <td>0</td>\n",
              "      <td>7.2500</td>\n",
              "    </tr>\n",
              "    <tr>\n",
              "      <th>1</th>\n",
              "      <td>2</td>\n",
              "      <td>1</td>\n",
              "      <td>1</td>\n",
              "      <td>female</td>\n",
              "      <td>38.0</td>\n",
              "      <td>1</td>\n",
              "      <td>0</td>\n",
              "      <td>71.2833</td>\n",
              "    </tr>\n",
              "    <tr>\n",
              "      <th>2</th>\n",
              "      <td>3</td>\n",
              "      <td>1</td>\n",
              "      <td>3</td>\n",
              "      <td>female</td>\n",
              "      <td>26.0</td>\n",
              "      <td>0</td>\n",
              "      <td>0</td>\n",
              "      <td>7.9250</td>\n",
              "    </tr>\n",
              "    <tr>\n",
              "      <th>3</th>\n",
              "      <td>4</td>\n",
              "      <td>1</td>\n",
              "      <td>1</td>\n",
              "      <td>female</td>\n",
              "      <td>35.0</td>\n",
              "      <td>1</td>\n",
              "      <td>0</td>\n",
              "      <td>53.1000</td>\n",
              "    </tr>\n",
              "    <tr>\n",
              "      <th>4</th>\n",
              "      <td>5</td>\n",
              "      <td>0</td>\n",
              "      <td>3</td>\n",
              "      <td>male</td>\n",
              "      <td>35.0</td>\n",
              "      <td>0</td>\n",
              "      <td>0</td>\n",
              "      <td>8.0500</td>\n",
              "    </tr>\n",
              "  </tbody>\n",
              "</table>\n",
              "</div>"
            ],
            "text/plain": [
              "   PassengerId  Survived  Pclass     Sex   Age  SibSp  Parch     Fare\n",
              "0            1         0       3    male  22.0      1      0   7.2500\n",
              "1            2         1       1  female  38.0      1      0  71.2833\n",
              "2            3         1       3  female  26.0      0      0   7.9250\n",
              "3            4         1       1  female  35.0      1      0  53.1000\n",
              "4            5         0       3    male  35.0      0      0   8.0500"
            ]
          },
          "metadata": {
            "tags": []
          }
        },
        {
          "output_type": "display_data",
          "data": {
            "text/html": [
              "<div>\n",
              "<style scoped>\n",
              "    .dataframe tbody tr th:only-of-type {\n",
              "        vertical-align: middle;\n",
              "    }\n",
              "\n",
              "    .dataframe tbody tr th {\n",
              "        vertical-align: top;\n",
              "    }\n",
              "\n",
              "    .dataframe thead th {\n",
              "        text-align: right;\n",
              "    }\n",
              "</style>\n",
              "<table border=\"1\" class=\"dataframe\">\n",
              "  <thead>\n",
              "    <tr style=\"text-align: right;\">\n",
              "      <th></th>\n",
              "      <th>PassengerId</th>\n",
              "      <th>Survived</th>\n",
              "      <th>Pclass</th>\n",
              "      <th>Sex</th>\n",
              "      <th>Age</th>\n",
              "      <th>SibSp</th>\n",
              "      <th>Parch</th>\n",
              "      <th>Fare</th>\n",
              "    </tr>\n",
              "  </thead>\n",
              "  <tbody>\n",
              "    <tr>\n",
              "      <th>0</th>\n",
              "      <td>621</td>\n",
              "      <td>0</td>\n",
              "      <td>3</td>\n",
              "      <td>male</td>\n",
              "      <td>27.0</td>\n",
              "      <td>1</td>\n",
              "      <td>0</td>\n",
              "      <td>14.4542</td>\n",
              "    </tr>\n",
              "    <tr>\n",
              "      <th>1</th>\n",
              "      <td>622</td>\n",
              "      <td>1</td>\n",
              "      <td>1</td>\n",
              "      <td>male</td>\n",
              "      <td>42.0</td>\n",
              "      <td>1</td>\n",
              "      <td>0</td>\n",
              "      <td>52.5542</td>\n",
              "    </tr>\n",
              "    <tr>\n",
              "      <th>2</th>\n",
              "      <td>623</td>\n",
              "      <td>1</td>\n",
              "      <td>3</td>\n",
              "      <td>male</td>\n",
              "      <td>20.0</td>\n",
              "      <td>1</td>\n",
              "      <td>1</td>\n",
              "      <td>15.7417</td>\n",
              "    </tr>\n",
              "    <tr>\n",
              "      <th>3</th>\n",
              "      <td>624</td>\n",
              "      <td>0</td>\n",
              "      <td>3</td>\n",
              "      <td>male</td>\n",
              "      <td>21.0</td>\n",
              "      <td>0</td>\n",
              "      <td>0</td>\n",
              "      <td>7.8542</td>\n",
              "    </tr>\n",
              "    <tr>\n",
              "      <th>4</th>\n",
              "      <td>625</td>\n",
              "      <td>0</td>\n",
              "      <td>3</td>\n",
              "      <td>male</td>\n",
              "      <td>21.0</td>\n",
              "      <td>0</td>\n",
              "      <td>0</td>\n",
              "      <td>16.1000</td>\n",
              "    </tr>\n",
              "  </tbody>\n",
              "</table>\n",
              "</div>"
            ],
            "text/plain": [
              "   PassengerId  Survived  Pclass   Sex   Age  SibSp  Parch     Fare\n",
              "0          621         0       3  male  27.0      1      0  14.4542\n",
              "1          622         1       1  male  42.0      1      0  52.5542\n",
              "2          623         1       3  male  20.0      1      1  15.7417\n",
              "3          624         0       3  male  21.0      0      0   7.8542\n",
              "4          625         0       3  male  21.0      0      0  16.1000"
            ]
          },
          "metadata": {
            "tags": []
          }
        }
      ]
    },
    {
      "cell_type": "code",
      "metadata": {
        "colab": {
          "base_uri": "https://localhost:8080/"
        },
        "id": "llg1LzbxO-sh",
        "outputId": "3b8349a5-6d45-4157-eef1-bcf19ac1e500"
      },
      "source": [
        "print(\"Training Data: Rows - \" + str(len(train_data))+ \", Columns - \" + str(len(train_data.columns)))\n",
        "print(\"Testing data: Rows - \" + str(len(test_data))+ \", Columns - \"+ str(len(train_data.columns)))"
      ],
      "execution_count": 62,
      "outputs": [
        {
          "output_type": "stream",
          "text": [
            "Training Data: Rows - 620, Columns - 8\n",
            "Testing data: Rows - 271, Columns - 8\n"
          ],
          "name": "stdout"
        }
      ]
    },
    {
      "cell_type": "markdown",
      "metadata": {
        "id": "HKHyHvgmn7Sy"
      },
      "source": [
        "#**Data Exploration:**"
      ]
    },
    {
      "cell_type": "code",
      "metadata": {
        "colab": {
          "base_uri": "https://localhost:8080/"
        },
        "id": "sQIXeoNRPOiP",
        "outputId": "89b5076f-1c5f-4c23-9fa7-a22e1d592665"
      },
      "source": [
        "train_data.info()"
      ],
      "execution_count": 63,
      "outputs": [
        {
          "output_type": "stream",
          "text": [
            "<class 'pandas.core.frame.DataFrame'>\n",
            "RangeIndex: 620 entries, 0 to 619\n",
            "Data columns (total 8 columns):\n",
            " #   Column       Non-Null Count  Dtype  \n",
            "---  ------       --------------  -----  \n",
            " 0   PassengerId  620 non-null    int64  \n",
            " 1   Survived     620 non-null    int64  \n",
            " 2   Pclass       620 non-null    int64  \n",
            " 3   Sex          620 non-null    object \n",
            " 4   Age          489 non-null    float64\n",
            " 5   SibSp        620 non-null    int64  \n",
            " 6   Parch        620 non-null    int64  \n",
            " 7   Fare         620 non-null    float64\n",
            "dtypes: float64(2), int64(5), object(1)\n",
            "memory usage: 38.9+ KB\n"
          ],
          "name": "stdout"
        }
      ]
    },
    {
      "cell_type": "code",
      "metadata": {
        "colab": {
          "base_uri": "https://localhost:8080/",
          "height": 364
        },
        "id": "SX5OPbsgPQlL",
        "outputId": "336ed714-d0ea-46d0-a2aa-44167c619613"
      },
      "source": [
        "display(train_data.isnull().head())\n",
        "display(train_data.isnull().sum())"
      ],
      "execution_count": 64,
      "outputs": [
        {
          "output_type": "display_data",
          "data": {
            "text/html": [
              "<div>\n",
              "<style scoped>\n",
              "    .dataframe tbody tr th:only-of-type {\n",
              "        vertical-align: middle;\n",
              "    }\n",
              "\n",
              "    .dataframe tbody tr th {\n",
              "        vertical-align: top;\n",
              "    }\n",
              "\n",
              "    .dataframe thead th {\n",
              "        text-align: right;\n",
              "    }\n",
              "</style>\n",
              "<table border=\"1\" class=\"dataframe\">\n",
              "  <thead>\n",
              "    <tr style=\"text-align: right;\">\n",
              "      <th></th>\n",
              "      <th>PassengerId</th>\n",
              "      <th>Survived</th>\n",
              "      <th>Pclass</th>\n",
              "      <th>Sex</th>\n",
              "      <th>Age</th>\n",
              "      <th>SibSp</th>\n",
              "      <th>Parch</th>\n",
              "      <th>Fare</th>\n",
              "    </tr>\n",
              "  </thead>\n",
              "  <tbody>\n",
              "    <tr>\n",
              "      <th>0</th>\n",
              "      <td>False</td>\n",
              "      <td>False</td>\n",
              "      <td>False</td>\n",
              "      <td>False</td>\n",
              "      <td>False</td>\n",
              "      <td>False</td>\n",
              "      <td>False</td>\n",
              "      <td>False</td>\n",
              "    </tr>\n",
              "    <tr>\n",
              "      <th>1</th>\n",
              "      <td>False</td>\n",
              "      <td>False</td>\n",
              "      <td>False</td>\n",
              "      <td>False</td>\n",
              "      <td>False</td>\n",
              "      <td>False</td>\n",
              "      <td>False</td>\n",
              "      <td>False</td>\n",
              "    </tr>\n",
              "    <tr>\n",
              "      <th>2</th>\n",
              "      <td>False</td>\n",
              "      <td>False</td>\n",
              "      <td>False</td>\n",
              "      <td>False</td>\n",
              "      <td>False</td>\n",
              "      <td>False</td>\n",
              "      <td>False</td>\n",
              "      <td>False</td>\n",
              "    </tr>\n",
              "    <tr>\n",
              "      <th>3</th>\n",
              "      <td>False</td>\n",
              "      <td>False</td>\n",
              "      <td>False</td>\n",
              "      <td>False</td>\n",
              "      <td>False</td>\n",
              "      <td>False</td>\n",
              "      <td>False</td>\n",
              "      <td>False</td>\n",
              "    </tr>\n",
              "    <tr>\n",
              "      <th>4</th>\n",
              "      <td>False</td>\n",
              "      <td>False</td>\n",
              "      <td>False</td>\n",
              "      <td>False</td>\n",
              "      <td>False</td>\n",
              "      <td>False</td>\n",
              "      <td>False</td>\n",
              "      <td>False</td>\n",
              "    </tr>\n",
              "  </tbody>\n",
              "</table>\n",
              "</div>"
            ],
            "text/plain": [
              "   PassengerId  Survived  Pclass    Sex    Age  SibSp  Parch   Fare\n",
              "0        False     False   False  False  False  False  False  False\n",
              "1        False     False   False  False  False  False  False  False\n",
              "2        False     False   False  False  False  False  False  False\n",
              "3        False     False   False  False  False  False  False  False\n",
              "4        False     False   False  False  False  False  False  False"
            ]
          },
          "metadata": {
            "tags": []
          }
        },
        {
          "output_type": "display_data",
          "data": {
            "text/plain": [
              "PassengerId      0\n",
              "Survived         0\n",
              "Pclass           0\n",
              "Sex              0\n",
              "Age            131\n",
              "SibSp            0\n",
              "Parch            0\n",
              "Fare             0\n",
              "dtype: int64"
            ]
          },
          "metadata": {
            "tags": []
          }
        }
      ]
    },
    {
      "cell_type": "markdown",
      "metadata": {
        "id": "OeCT1LF7oA8C"
      },
      "source": [
        "#**Data Preprocessing**\n",
        "**Missing Data:**"
      ]
    },
    {
      "cell_type": "code",
      "metadata": {
        "colab": {
          "base_uri": "https://localhost:8080/"
        },
        "id": "8vqzONfvPS-0",
        "outputId": "998f7be4-75ed-44e3-bd85-197b0d240535"
      },
      "source": [
        "data = [train_data, test_data]\n",
        "\n",
        "for dataset in data:\n",
        "    mean = train_data[\"Age\"].mean()\n",
        "    std = test_data[\"Age\"].std()\n",
        "    is_null = dataset[\"Age\"].isnull().sum()\n",
        "    rand_age = np.random.randint(mean - std, mean + std, size = is_null)\n",
        "    age_slice = dataset[\"Age\"].copy()\n",
        "    age_slice[np.isnan(age_slice)] = rand_age\n",
        "    dataset[\"Age\"] = age_slice\n",
        "    dataset[\"Age\"] = train_data[\"Age\"].astype(int)\n",
        "train_data[\"Age\"].isnull().sum()"
      ],
      "execution_count": 65,
      "outputs": [
        {
          "output_type": "execute_result",
          "data": {
            "text/plain": [
              "0"
            ]
          },
          "metadata": {
            "tags": []
          },
          "execution_count": 65
        }
      ]
    },
    {
      "cell_type": "code",
      "metadata": {
        "colab": {
          "base_uri": "https://localhost:8080/",
          "height": 515
        },
        "id": "5hR_TI4FPWAM",
        "outputId": "213ab2ce-d1b5-4680-f6b4-5ecf15dffcab"
      },
      "source": [
        "display(data)"
      ],
      "execution_count": 66,
      "outputs": [
        {
          "output_type": "display_data",
          "data": {
            "text/plain": [
              "[     PassengerId  Survived  Pclass     Sex  Age  SibSp  Parch     Fare\n",
              " 0              1         0       3    male   22      1      0   7.2500\n",
              " 1              2         1       1  female   38      1      0  71.2833\n",
              " 2              3         1       3  female   26      0      0   7.9250\n",
              " 3              4         1       1  female   35      1      0  53.1000\n",
              " 4              5         0       3    male   35      0      0   8.0500\n",
              " ..           ...       ...     ...     ...  ...    ...    ...      ...\n",
              " 615          616         1       2  female   24      1      2  65.0000\n",
              " 616          617         0       3    male   34      1      1  14.4000\n",
              " 617          618         0       3  female   26      1      0  16.1000\n",
              " 618          619         1       2  female    4      2      1  39.0000\n",
              " 619          620         0       2    male   26      0      0  10.5000\n",
              " \n",
              " [620 rows x 8 columns],\n",
              "      PassengerId  Survived  Pclass     Sex  Age  SibSp  Parch     Fare\n",
              " 0            621         0       3    male   22      1      0  14.4542\n",
              " 1            622         1       1    male   38      1      0  52.5542\n",
              " 2            623         1       3    male   26      1      1  15.7417\n",
              " 3            624         0       3    male   35      0      0   7.8542\n",
              " 4            625         0       3    male   35      0      0  16.1000\n",
              " ..           ...       ...     ...     ...  ...    ...    ...      ...\n",
              " 266          887         0       2    male   16      0      0  13.0000\n",
              " 267          888         1       1  female   25      0      0  30.0000\n",
              " 268          889         0       3  female   58      1      2  23.4500\n",
              " 269          890         1       1    male   35      0      0  30.0000\n",
              " 270          891         0       3    male   36      0      0   7.7500\n",
              " \n",
              " [271 rows x 8 columns]]"
            ]
          },
          "metadata": {
            "tags": []
          }
        }
      ]
    },
    {
      "cell_type": "markdown",
      "metadata": {
        "id": "3jOQO-sCoEu9"
      },
      "source": [
        "**Converting Data:**\n",
        "#####**Sex:**"
      ]
    },
    {
      "cell_type": "code",
      "metadata": {
        "id": "kdXJEDI_PX3L"
      },
      "source": [
        "genders = {\"male\": 0, \"female\": 1}\n",
        "data = [train_data, test_data]\n",
        "for dataset in data:\n",
        "    dataset['Sex'] = dataset['Sex'].map(genders)"
      ],
      "execution_count": 67,
      "outputs": []
    },
    {
      "cell_type": "markdown",
      "metadata": {
        "id": "RL5iajLIoJGl"
      },
      "source": [
        "**PassengerId:**"
      ]
    },
    {
      "cell_type": "code",
      "metadata": {
        "id": "GqtuCqaKPaXH"
      },
      "source": [
        "train_data = train_data.drop(['PassengerId'],axis=1)\n",
        "test_data = test_data.drop(['PassengerId'],axis=1)"
      ],
      "execution_count": 68,
      "outputs": []
    },
    {
      "cell_type": "markdown",
      "metadata": {
        "id": "KNJL-s84oMaW"
      },
      "source": [
        "**Age:**"
      ]
    },
    {
      "cell_type": "code",
      "metadata": {
        "id": "lFjz_RoNPbt_"
      },
      "source": [
        "data = [train_data, test_data]\n",
        "for dataset in data:\n",
        "    dataset['Age'] = dataset['Age'].astype(int)\n",
        "    dataset.loc[ dataset['Age'] <= 11, 'Age'] = 0\n",
        "    dataset.loc[(dataset['Age'] > 11) & (dataset['Age'] <= 18), 'Age'] = 1\n",
        "    dataset.loc[(dataset['Age'] > 18) & (dataset['Age'] <= 22), 'Age'] = 2\n",
        "    dataset.loc[(dataset['Age'] > 22) & (dataset['Age'] <= 27), 'Age'] = 3\n",
        "    dataset.loc[(dataset['Age'] > 27) & (dataset['Age'] <= 33), 'Age'] = 4\n",
        "    dataset.loc[(dataset['Age'] > 33) & (dataset['Age'] <= 40), 'Age'] = 5\n",
        "    dataset.loc[(dataset['Age'] > 40) & (dataset['Age'] <= 66), 'Age'] = 6\n",
        "    dataset.loc[ dataset['Age'] > 66, 'Age'] = 6"
      ],
      "execution_count": 69,
      "outputs": []
    },
    {
      "cell_type": "markdown",
      "metadata": {
        "id": "DjoOzoWsoPJv"
      },
      "source": [
        "**Fare:**"
      ]
    },
    {
      "cell_type": "code",
      "metadata": {
        "id": "S7o35ceOPd_3"
      },
      "source": [
        "for dataset in data:\n",
        "    dataset.loc[ dataset['Fare'] <= 7.91, 'Fare'] = 0\n",
        "    dataset.loc[(dataset['Fare'] > 7.91) & (dataset['Fare'] <= 14.454), 'Fare'] = 1\n",
        "    dataset.loc[(dataset['Fare'] > 14.454) & (dataset['Fare'] <= 31), 'Fare']   = 2\n",
        "    dataset.loc[(dataset['Fare'] > 31) & (dataset['Fare'] <= 99), 'Fare']   = 3\n",
        "    dataset.loc[(dataset['Fare'] > 99) & (dataset['Fare'] <= 250), 'Fare']   = 4\n",
        "    dataset.loc[ dataset['Fare'] > 250, 'Fare'] = 5\n",
        "    dataset['Fare'] = dataset['Fare'].astype(int)"
      ],
      "execution_count": 70,
      "outputs": []
    },
    {
      "cell_type": "markdown",
      "metadata": {
        "id": "mSU1pYBBoUPI"
      },
      "source": [
        "#**Creating New Features:**\n",
        "**Age_class, Fare_Per_Person, Family_size**"
      ]
    },
    {
      "cell_type": "code",
      "metadata": {
        "id": "A6yA5cm8PftE"
      },
      "source": [
        "data = [train_data,test_data]\n",
        "for df in data:\n",
        "  df['Age_class'] = df['Age']*df['Pclass']\n",
        "\n",
        "for dataset in data:\n",
        "    dataset['Fare_Per_Person'] = dataset['Fare']/(dataset['SibSp']+dataset['Parch']+1)\n",
        "    dataset['Fare_Per_Person'] = dataset['Fare_Per_Person'].astype(int)\n",
        "for dataset in data:\n",
        "    dataset['Family'] = dataset['SibSp']+dataset['Parch']+1    "
      ],
      "execution_count": 71,
      "outputs": []
    },
    {
      "cell_type": "code",
      "metadata": {
        "colab": {
          "base_uri": "https://localhost:8080/",
          "height": 446
        },
        "id": "PUjbPwx6Pnhl",
        "outputId": "2e9a7295-63ef-439e-b1b8-5e2f24179175"
      },
      "source": [
        "train_data['Family'].hist(figsize=(15,7))"
      ],
      "execution_count": 72,
      "outputs": [
        {
          "output_type": "execute_result",
          "data": {
            "text/plain": [
              "<matplotlib.axes._subplots.AxesSubplot at 0x7f2f8b6c80d0>"
            ]
          },
          "metadata": {
            "tags": []
          },
          "execution_count": 72
        },
        {
          "output_type": "display_data",
          "data": {
            "image/png": "[encoded data removed]",
            "text/plain": [
              "<Figure size 1080x504 with 1 Axes>"
            ]
          },
          "metadata": {
            "tags": [],
            "needs_background": "light"
          }
        }
      ]
    },
    {
      "cell_type": "code",
      "metadata": {
        "colab": {
          "base_uri": "https://localhost:8080/",
          "height": 624
        },
        "id": "U4NABpFzPsbB",
        "outputId": "b2420c19-44fd-4dbe-b21b-2349052b626b"
      },
      "source": [
        "plt.figure(figsize=(20, 10))\n",
        "plt.subplot(321)\n",
        "sb.barplot(x = 'Pclass', y = 'Survived', data = train_data)\n",
        "plt.subplot(322)\n",
        "sb.barplot(x = 'Sex', y = 'Survived', data = train_data)\n",
        "plt.subplot(323)\n",
        "sb.barplot(x = 'Age', y = 'Survived', data = train_data)\n",
        "plt.subplot(324)\n",
        "sb.barplot(x = 'Fare', y = 'Survived', data = train_data)\n",
        "plt.subplot(325)\n",
        "sb.barplot(x = 'Age_class', y = 'Survived', data = train_data)\n",
        "plt.subplot(326)\n",
        "sb.barplot(x = 'Family', y = 'Survived', data = train_data)"
      ],
      "execution_count": 73,
      "outputs": [
        {
          "output_type": "execute_result",
          "data": {
            "text/plain": [
              "<matplotlib.axes._subplots.AxesSubplot at 0x7f2f8b34b6d0>"
            ]
          },
          "metadata": {
            "tags": []
          },
          "execution_count": 73
        },
        {
          "output_type": "display_data",
          "data": {
            "image/png": "[encoded data removed]",
            "text/plain": [
              "<Figure size 1440x720 with 6 Axes>"
            ]
          },
          "metadata": {
            "tags": [],
            "needs_background": "light"
          }
        }
      ]
    },
    {
      "cell_type": "code",
      "metadata": {
        "colab": {
          "base_uri": "https://localhost:8080/",
          "height": 204
        },
        "id": "peI_De3MPuVe",
        "outputId": "f62bc821-4c4e-4339-9abd-86f2ee6b7b38"
      },
      "source": [
        "train_data.head(5)"
      ],
      "execution_count": 74,
      "outputs": [
        {
          "output_type": "execute_result",
          "data": {
            "text/html": [
              "<div>\n",
              "<style scoped>\n",
              "    .dataframe tbody tr th:only-of-type {\n",
              "        vertical-align: middle;\n",
              "    }\n",
              "\n",
              "    .dataframe tbody tr th {\n",
              "        vertical-align: top;\n",
              "    }\n",
              "\n",
              "    .dataframe thead th {\n",
              "        text-align: right;\n",
              "    }\n",
              "</style>\n",
              "<table border=\"1\" class=\"dataframe\">\n",
              "  <thead>\n",
              "    <tr style=\"text-align: right;\">\n",
              "      <th></th>\n",
              "      <th>Survived</th>\n",
              "      <th>Pclass</th>\n",
              "      <th>Sex</th>\n",
              "      <th>Age</th>\n",
              "      <th>SibSp</th>\n",
              "      <th>Parch</th>\n",
              "      <th>Fare</th>\n",
              "      <th>Age_class</th>\n",
              "      <th>Fare_Per_Person</th>\n",
              "      <th>Family</th>\n",
              "    </tr>\n",
              "  </thead>\n",
              "  <tbody>\n",
              "    <tr>\n",
              "      <th>0</th>\n",
              "      <td>0</td>\n",
              "      <td>3</td>\n",
              "      <td>0</td>\n",
              "      <td>2</td>\n",
              "      <td>1</td>\n",
              "      <td>0</td>\n",
              "      <td>0</td>\n",
              "      <td>6</td>\n",
              "      <td>0</td>\n",
              "      <td>2</td>\n",
              "    </tr>\n",
              "    <tr>\n",
              "      <th>1</th>\n",
              "      <td>1</td>\n",
              "      <td>1</td>\n",
              "      <td>1</td>\n",
              "      <td>5</td>\n",
              "      <td>1</td>\n",
              "      <td>0</td>\n",
              "      <td>3</td>\n",
              "      <td>5</td>\n",
              "      <td>1</td>\n",
              "      <td>2</td>\n",
              "    </tr>\n",
              "    <tr>\n",
              "      <th>2</th>\n",
              "      <td>1</td>\n",
              "      <td>3</td>\n",
              "      <td>1</td>\n",
              "      <td>3</td>\n",
              "      <td>0</td>\n",
              "      <td>0</td>\n",
              "      <td>1</td>\n",
              "      <td>9</td>\n",
              "      <td>1</td>\n",
              "      <td>1</td>\n",
              "    </tr>\n",
              "    <tr>\n",
              "      <th>3</th>\n",
              "      <td>1</td>\n",
              "      <td>1</td>\n",
              "      <td>1</td>\n",
              "      <td>5</td>\n",
              "      <td>1</td>\n",
              "      <td>0</td>\n",
              "      <td>3</td>\n",
              "      <td>5</td>\n",
              "      <td>1</td>\n",
              "      <td>2</td>\n",
              "    </tr>\n",
              "    <tr>\n",
              "      <th>4</th>\n",
              "      <td>0</td>\n",
              "      <td>3</td>\n",
              "      <td>0</td>\n",
              "      <td>5</td>\n",
              "      <td>0</td>\n",
              "      <td>0</td>\n",
              "      <td>1</td>\n",
              "      <td>15</td>\n",
              "      <td>1</td>\n",
              "      <td>1</td>\n",
              "    </tr>\n",
              "  </tbody>\n",
              "</table>\n",
              "</div>"
            ],
            "text/plain": [
              "   Survived  Pclass  Sex  Age  ...  Fare  Age_class  Fare_Per_Person  Family\n",
              "0         0       3    0    2  ...     0          6                0       2\n",
              "1         1       1    1    5  ...     3          5                1       2\n",
              "2         1       3    1    3  ...     1          9                1       1\n",
              "3         1       1    1    5  ...     3          5                1       2\n",
              "4         0       3    0    5  ...     1         15                1       1\n",
              "\n",
              "[5 rows x 10 columns]"
            ]
          },
          "metadata": {
            "tags": []
          },
          "execution_count": 74
        }
      ]
    },
    {
      "cell_type": "markdown",
      "metadata": {
        "id": "XmYDl5SDon-J"
      },
      "source": [
        "**GROUP-BY**"
      ]
    },
    {
      "cell_type": "code",
      "metadata": {
        "colab": {
          "base_uri": "https://localhost:8080/",
          "height": 172
        },
        "id": "-U_Zh1rGQPzf",
        "outputId": "9f830892-676a-4360-b9c6-dca270fb56ec"
      },
      "source": [
        "train_data[['Sex', 'Survived']].groupby(['Sex'], as_index=False).agg(['mean', 'count', 'sum'])"
      ],
      "execution_count": 75,
      "outputs": [
        {
          "output_type": "execute_result",
          "data": {
            "text/html": [
              "<div>\n",
              "<style scoped>\n",
              "    .dataframe tbody tr th:only-of-type {\n",
              "        vertical-align: middle;\n",
              "    }\n",
              "\n",
              "    .dataframe tbody tr th {\n",
              "        vertical-align: top;\n",
              "    }\n",
              "\n",
              "    .dataframe thead tr th {\n",
              "        text-align: left;\n",
              "    }\n",
              "\n",
              "    .dataframe thead tr:last-of-type th {\n",
              "        text-align: right;\n",
              "    }\n",
              "</style>\n",
              "<table border=\"1\" class=\"dataframe\">\n",
              "  <thead>\n",
              "    <tr>\n",
              "      <th></th>\n",
              "      <th colspan=\"3\" halign=\"left\">Survived</th>\n",
              "    </tr>\n",
              "    <tr>\n",
              "      <th></th>\n",
              "      <th>mean</th>\n",
              "      <th>count</th>\n",
              "      <th>sum</th>\n",
              "    </tr>\n",
              "    <tr>\n",
              "      <th>Sex</th>\n",
              "      <th></th>\n",
              "      <th></th>\n",
              "      <th></th>\n",
              "    </tr>\n",
              "  </thead>\n",
              "  <tbody>\n",
              "    <tr>\n",
              "      <th>0</th>\n",
              "      <td>0.182519</td>\n",
              "      <td>389</td>\n",
              "      <td>71</td>\n",
              "    </tr>\n",
              "    <tr>\n",
              "      <th>1</th>\n",
              "      <td>0.748918</td>\n",
              "      <td>231</td>\n",
              "      <td>173</td>\n",
              "    </tr>\n",
              "  </tbody>\n",
              "</table>\n",
              "</div>"
            ],
            "text/plain": [
              "     Survived           \n",
              "         mean count  sum\n",
              "Sex                     \n",
              "0    0.182519   389   71\n",
              "1    0.748918   231  173"
            ]
          },
          "metadata": {
            "tags": []
          },
          "execution_count": 75
        }
      ]
    },
    {
      "cell_type": "code",
      "metadata": {
        "colab": {
          "base_uri": "https://localhost:8080/",
          "height": 141
        },
        "id": "9iyl77-DS1sB",
        "outputId": "5a6ac8c6-87e1-4195-dacd-ec91a2f257d2"
      },
      "source": [
        "train_data[['Survived']].agg(['mean', 'count', 'sum'])"
      ],
      "execution_count": 76,
      "outputs": [
        {
          "output_type": "execute_result",
          "data": {
            "text/html": [
              "<div>\n",
              "<style scoped>\n",
              "    .dataframe tbody tr th:only-of-type {\n",
              "        vertical-align: middle;\n",
              "    }\n",
              "\n",
              "    .dataframe tbody tr th {\n",
              "        vertical-align: top;\n",
              "    }\n",
              "\n",
              "    .dataframe thead th {\n",
              "        text-align: right;\n",
              "    }\n",
              "</style>\n",
              "<table border=\"1\" class=\"dataframe\">\n",
              "  <thead>\n",
              "    <tr style=\"text-align: right;\">\n",
              "      <th></th>\n",
              "      <th>Survived</th>\n",
              "    </tr>\n",
              "  </thead>\n",
              "  <tbody>\n",
              "    <tr>\n",
              "      <th>mean</th>\n",
              "      <td>0.393548</td>\n",
              "    </tr>\n",
              "    <tr>\n",
              "      <th>count</th>\n",
              "      <td>620.000000</td>\n",
              "    </tr>\n",
              "    <tr>\n",
              "      <th>sum</th>\n",
              "      <td>244.000000</td>\n",
              "    </tr>\n",
              "  </tbody>\n",
              "</table>\n",
              "</div>"
            ],
            "text/plain": [
              "         Survived\n",
              "mean     0.393548\n",
              "count  620.000000\n",
              "sum    244.000000"
            ]
          },
          "metadata": {
            "tags": []
          },
          "execution_count": 76
        }
      ]
    },
    {
      "cell_type": "markdown",
      "metadata": {
        "id": "ynrg2py1jO-u"
      },
      "source": [
        "##**GINI IMPURITY**\n",
        "Gini Impurity measures the disorder of a set of elements. It is calculated as the probability of mislabelling an element assuming that the element is randomly labelled according the the distribution of all the classes in the set."
      ]
    },
    {
      "cell_type": "code",
      "metadata": {
        "id": "BWgluzUNP83i"
      },
      "source": [
        "def get_gini_impurity(survived_count, total_count):\n",
        "    P_survival = survived_count/total_count\n",
        "    P_not_survival = (1 - P_survival)\n",
        "    random_observation_survived_prob = P_survival\n",
        "    random_observation_not_survived_prob = (1 - random_observation_survived_prob)\n",
        "    mislabelling_survided_prob = P_not_survival * random_observation_survived_prob\n",
        "    mislabelling_not_survided_prob = P_survival * random_observation_not_survived_prob\n",
        "    gini_impurity = mislabelling_survided_prob + mislabelling_not_survided_prob\n",
        "    return gini_impurity"
      ],
      "execution_count": 77,
      "outputs": []
    },
    {
      "cell_type": "markdown",
      "metadata": {
        "id": "kpKAWCQJk8Cw"
      },
      "source": [
        "Gini Impurity of the starting node"
      ]
    },
    {
      "cell_type": "code",
      "metadata": {
        "colab": {
          "base_uri": "https://localhost:8080/"
        },
        "id": "G4NFom0CQFia",
        "outputId": "dafb63fa-f618-42cf-a423-456c7bcd0739"
      },
      "source": [
        "gini_impurity_starting_node = get_gini_impurity(244, 620)\n",
        "gini_impurity_starting_node"
      ],
      "execution_count": 78,
      "outputs": [
        {
          "output_type": "execute_result",
          "data": {
            "text/plain": [
              "0.4773361082206035"
            ]
          },
          "metadata": {
            "tags": []
          },
          "execution_count": 78
        }
      ]
    },
    {
      "cell_type": "markdown",
      "metadata": {
        "id": "NONCnjxjlDLO"
      },
      "source": [
        "####*If we split by Sex, we'll have the two following nodes:*\n",
        "\n",
        "Node with men: 389 observations with only 71 survived\n",
        "\n",
        "Node with women: 231 observations with 173 survived"
      ]
    },
    {
      "cell_type": "code",
      "metadata": {
        "colab": {
          "base_uri": "https://localhost:8080/"
        },
        "id": "anM76ymaQiTL",
        "outputId": "e349416e-daf8-4319-8290-9a87b07025bf"
      },
      "source": [
        "gini_impurity_men = get_gini_impurity(71, 389)\n",
        "gini_impurity_men"
      ],
      "execution_count": 79,
      "outputs": [
        {
          "output_type": "execute_result",
          "data": {
            "text/plain": [
              "0.29841198511772987"
            ]
          },
          "metadata": {
            "tags": []
          },
          "execution_count": 79
        }
      ]
    },
    {
      "cell_type": "code",
      "metadata": {
        "colab": {
          "base_uri": "https://localhost:8080/"
        },
        "id": "gE0lekXzQkuz",
        "outputId": "eea4d719-25e8-4f62-b4ea-3b97e14def41"
      },
      "source": [
        "gini_impurity_women = get_gini_impurity(173, 231)\n",
        "gini_impurity_women"
      ],
      "execution_count": 80,
      "outputs": [
        {
          "output_type": "execute_result",
          "data": {
            "text/plain": [
              "0.37607990854744106"
            ]
          },
          "metadata": {
            "tags": []
          },
          "execution_count": 80
        }
      ]
    },
    {
      "cell_type": "code",
      "metadata": {
        "colab": {
          "base_uri": "https://localhost:8080/"
        },
        "id": "IOES28UaQoi1",
        "outputId": "5d2abd13-f16b-4414-ca31-d3583bbefd42"
      },
      "source": [
        "men_weight = 389/620\n",
        "women_weight = 173/620\n",
        "weighted_gini_impurity_sex_split = (gini_impurity_men * men_weight) + (gini_impurity_women * women_weight)\n",
        "\n",
        "sex_gini_decrease = weighted_gini_impurity_sex_split - gini_impurity_starting_node\n",
        "sex_gini_decrease"
      ],
      "execution_count": 81,
      "outputs": [
        {
          "output_type": "execute_result",
          "data": {
            "text/plain": [
              "-0.18516822694720964"
            ]
          },
          "metadata": {
            "tags": []
          },
          "execution_count": 81
        }
      ]
    },
    {
      "cell_type": "markdown",
      "metadata": {
        "id": "X07t9Y_Rlj6X"
      },
      "source": [
        "####*If we split by Pclass, we'll have the two following nodes:*\n",
        "\n",
        "Node with 1: 149 observations with only 89 survived\n",
        "\n",
        "Node with 2: 130 observations with 67 survived\n",
        "\n",
        "Node with 3: 341 observations with 88 survived"
      ]
    },
    {
      "cell_type": "code",
      "metadata": {
        "colab": {
          "base_uri": "https://localhost:8080/",
          "height": 204
        },
        "id": "vNBcKLueTnH5",
        "outputId": "19296247-507b-474c-efd2-27e18ac89371"
      },
      "source": [
        "train_data[['Pclass', 'Survived']].groupby(['Pclass'], as_index=False).agg(['mean', 'count', 'sum'])"
      ],
      "execution_count": 83,
      "outputs": [
        {
          "output_type": "execute_result",
          "data": {
            "text/html": [
              "<div>\n",
              "<style scoped>\n",
              "    .dataframe tbody tr th:only-of-type {\n",
              "        vertical-align: middle;\n",
              "    }\n",
              "\n",
              "    .dataframe tbody tr th {\n",
              "        vertical-align: top;\n",
              "    }\n",
              "\n",
              "    .dataframe thead tr th {\n",
              "        text-align: left;\n",
              "    }\n",
              "\n",
              "    .dataframe thead tr:last-of-type th {\n",
              "        text-align: right;\n",
              "    }\n",
              "</style>\n",
              "<table border=\"1\" class=\"dataframe\">\n",
              "  <thead>\n",
              "    <tr>\n",
              "      <th></th>\n",
              "      <th colspan=\"3\" halign=\"left\">Survived</th>\n",
              "    </tr>\n",
              "    <tr>\n",
              "      <th></th>\n",
              "      <th>mean</th>\n",
              "      <th>count</th>\n",
              "      <th>sum</th>\n",
              "    </tr>\n",
              "    <tr>\n",
              "      <th>Pclass</th>\n",
              "      <th></th>\n",
              "      <th></th>\n",
              "      <th></th>\n",
              "    </tr>\n",
              "  </thead>\n",
              "  <tbody>\n",
              "    <tr>\n",
              "      <th>1</th>\n",
              "      <td>0.597315</td>\n",
              "      <td>149</td>\n",
              "      <td>89</td>\n",
              "    </tr>\n",
              "    <tr>\n",
              "      <th>2</th>\n",
              "      <td>0.515385</td>\n",
              "      <td>130</td>\n",
              "      <td>67</td>\n",
              "    </tr>\n",
              "    <tr>\n",
              "      <th>3</th>\n",
              "      <td>0.258065</td>\n",
              "      <td>341</td>\n",
              "      <td>88</td>\n",
              "    </tr>\n",
              "  </tbody>\n",
              "</table>\n",
              "</div>"
            ],
            "text/plain": [
              "        Survived          \n",
              "            mean count sum\n",
              "Pclass                    \n",
              "1       0.597315   149  89\n",
              "2       0.515385   130  67\n",
              "3       0.258065   341  88"
            ]
          },
          "metadata": {
            "tags": []
          },
          "execution_count": 83
        }
      ]
    },
    {
      "cell_type": "code",
      "metadata": {
        "colab": {
          "base_uri": "https://localhost:8080/"
        },
        "id": "XBnXQQ3UUAhX",
        "outputId": "0c3387d5-be91-431e-83cf-4856de311959"
      },
      "source": [
        "gini_impurity_Pclass_1 = get_gini_impurity(89, 149)\n",
        "gini_impurity_Pclass_1"
      ],
      "execution_count": 84,
      "outputs": [
        {
          "output_type": "execute_result",
          "data": {
            "text/plain": [
              "0.48105941173821"
            ]
          },
          "metadata": {
            "tags": []
          },
          "execution_count": 84
        }
      ]
    },
    {
      "cell_type": "code",
      "metadata": {
        "colab": {
          "base_uri": "https://localhost:8080/"
        },
        "id": "g3Lis9hQUKA1",
        "outputId": "af7bff36-093b-42b6-caa9-2671b6fbc197"
      },
      "source": [
        "gini_impurity_Pclass_2 = get_gini_impurity(67, 130)\n",
        "gini_impurity_Pclass_2"
      ],
      "execution_count": 85,
      "outputs": [
        {
          "output_type": "execute_result",
          "data": {
            "text/plain": [
              "0.4995266272189349"
            ]
          },
          "metadata": {
            "tags": []
          },
          "execution_count": 85
        }
      ]
    },
    {
      "cell_type": "code",
      "metadata": {
        "colab": {
          "base_uri": "https://localhost:8080/"
        },
        "id": "N6gZ4IthURdr",
        "outputId": "caa071b6-9a58-4b29-dd98-d238bdebd612"
      },
      "source": [
        "gini_impurity_Pclass_3 = get_gini_impurity(88, 341)\n",
        "gini_impurity_Pclass_3"
      ],
      "execution_count": 86,
      "outputs": [
        {
          "output_type": "execute_result",
          "data": {
            "text/plain": [
              "0.3829344432882414"
            ]
          },
          "metadata": {
            "tags": []
          },
          "execution_count": 86
        }
      ]
    },
    {
      "cell_type": "code",
      "metadata": {
        "colab": {
          "base_uri": "https://localhost:8080/"
        },
        "id": "e9BfCA8dUWWC",
        "outputId": "bd6f6124-b711-4558-b513-0a34fb64a2ab"
      },
      "source": [
        "Pclass_1_weights = 149/620\n",
        "Pclass_2_weights = 130/620\n",
        "Pclass_3_weights = 341/620\n",
        "weighted_gini_impurity_Pclass_split = (gini_impurity_Pclass_1 * Pclass_1_weights) + (gini_impurity_Pclass_2 * Pclass_2_weights) + (gini_impurity_Pclass_3 * Pclass_3_weights)\n",
        "\n",
        "Pclass_gini_decrease = weighted_gini_impurity_Pclass_split - gini_impurity_starting_node\n",
        "Pclass_gini_decrease"
      ],
      "execution_count": 87,
      "outputs": [
        {
          "output_type": "execute_result",
          "data": {
            "text/plain": [
              "-0.04637327104520811"
            ]
          },
          "metadata": {
            "tags": []
          },
          "execution_count": 87
        }
      ]
    },
    {
      "cell_type": "markdown",
      "metadata": {
        "id": "OUwDS1nXo4iq"
      },
      "source": [
        "Here, we can see that Sex feature is better at reducing the gini impurity than Pclass"
      ]
    },
    {
      "cell_type": "code",
      "metadata": {
        "id": "Neffs5KCVTR2"
      },
      "source": [
        "from sklearn.model_selection import KFold\n",
        "from sklearn.model_selection import cross_val_score\n",
        "from sklearn import tree\n",
        "from sklearn.metrics import accuracy_score\n",
        "from sklearn.metrics import f1_score\n",
        "from sklearn.metrics import confusion_matrix\n",
        "from sklearn.metrics import log_loss"
      ],
      "execution_count": 105,
      "outputs": []
    },
    {
      "cell_type": "markdown",
      "metadata": {
        "id": "_kbZ3k6Pl-kB"
      },
      "source": [
        "###Best Tree Depth: Finding with the help of Cross Validation"
      ]
    },
    {
      "cell_type": "code",
      "metadata": {
        "id": "PhDX4wwgV1Vl",
        "outputId": "2c2a2d8e-1c20-4c92-eca9-b107aba9c5af",
        "colab": {
          "base_uri": "https://localhost:8080/"
        }
      },
      "source": [
        "cv = KFold(n_splits=10)     \n",
        "accuracies = list()\n",
        "depth_range = range(1, len(list(test_data))+ 1)\n",
        "\n",
        "for depth in depth_range:\n",
        "    fold_accuracy = []\n",
        "    tree_model = tree.DecisionTreeClassifier(max_depth = depth)    \n",
        "    for train_fold, valid_fold in cv.split(train_data):\n",
        "        f_train = train_data.loc[train_fold] \n",
        "        f_valid = train_data.loc[valid_fold] \n",
        "\n",
        "        model = tree_model.fit(X = f_train.drop(['Survived'], axis=1), \n",
        "                               y = f_train[\"Survived\"])\n",
        "        valid_acc = model.score(X = f_valid.drop(['Survived'], axis=1), \n",
        "                                y = f_valid[\"Survived\"])\n",
        "        fold_accuracy.append(valid_acc)\n",
        "\n",
        "    avg = sum(fold_accuracy)/len(fold_accuracy)\n",
        "    accuracies.append(avg)\n",
        "   \n",
        "df = pd.DataFrame({\"Max Depth\": depth_range, \"Average Accuracy\": accuracies})\n",
        "df = df[[\"Max Depth\", \"Average Accuracy\"]]\n",
        "print(df.to_string(index=False))"
      ],
      "execution_count": 92,
      "outputs": [
        {
          "output_type": "stream",
          "text": [
            " Max Depth  Average Accuracy\n",
            "         1          0.791935\n",
            "         2          0.766129\n",
            "         3          0.811290\n",
            "         4          0.820968\n",
            "         5          0.816129\n",
            "         6          0.790323\n",
            "         7          0.782258\n",
            "         8          0.782258\n",
            "         9          0.772581\n",
            "        10          0.767742\n"
          ],
          "name": "stdout"
        }
      ]
    },
    {
      "cell_type": "markdown",
      "metadata": {
        "id": "AmGo6Sn5rjGb"
      },
      "source": [
        "##**Decision Tree**"
      ]
    },
    {
      "cell_type": "code",
      "metadata": {
        "id": "c1BRYEs9Wr2q"
      },
      "source": [
        "y_train = train_data['Survived']\n",
        "x_train = train_data.drop(['Survived'], axis=1).values \n",
        "x_test = test_data.drop(['Survived'], axis=1).values\n",
        "\n",
        "decision_tree = tree.DecisionTreeClassifier(max_depth = 4)\n",
        "decision_tree.fit(x_train, y_train)\n",
        "\n",
        "y_pred = decision_tree.predict(x_train)"
      ],
      "execution_count": 98,
      "outputs": []
    },
    {
      "cell_type": "code",
      "metadata": {
        "id": "aDLLne42qWwd",
        "outputId": "6dd2a5d8-591d-4566-f184-0d71f21775d2",
        "colab": {
          "base_uri": "https://localhost:8080/"
        }
      },
      "source": [
        "accuracy = accuracy_score(y_pred,y_train)\n",
        "print(accuracy)"
      ],
      "execution_count": 101,
      "outputs": [
        {
          "output_type": "stream",
          "text": [
            "0.8306451612903226\n"
          ],
          "name": "stdout"
        }
      ]
    },
    {
      "cell_type": "code",
      "metadata": {
        "id": "QcEwkkBfp_2R",
        "outputId": "a39256bc-5aa2-4dae-9d52-3a0a68b78220",
        "colab": {
          "base_uri": "https://localhost:8080/"
        }
      },
      "source": [
        "f1 = f1_score(y_pred,y_train)\n",
        "print(f1)"
      ],
      "execution_count": 104,
      "outputs": [
        {
          "output_type": "stream",
          "text": [
            "0.7597254004576658\n"
          ],
          "name": "stdout"
        }
      ]
    },
    {
      "cell_type": "code",
      "metadata": {
        "id": "QLYBaTnCqz_O",
        "outputId": "64ff2a7f-40c6-47d5-d310-69dfd3dac272",
        "colab": {
          "base_uri": "https://localhost:8080/"
        }
      },
      "source": [
        "log_loss(y_pred,y_train)"
      ],
      "execution_count": 106,
      "outputs": [
        {
          "output_type": "execute_result",
          "data": {
            "text/plain": [
              "5.849409500105124"
            ]
          },
          "metadata": {
            "tags": []
          },
          "execution_count": 106
        }
      ]
    },
    {
      "cell_type": "markdown",
      "metadata": {
        "id": "wQtkUR6brtFH"
      },
      "source": [
        "Test data"
      ]
    },
    {
      "cell_type": "code",
      "metadata": {
        "id": "otcAAdmTrHOV"
      },
      "source": [
        "y_pred = decision_tree.predict(x_test)"
      ],
      "execution_count": 107,
      "outputs": []
    },
    {
      "cell_type": "code",
      "metadata": {
        "id": "PKuj5KOJrOPC",
        "outputId": "296b55c6-c7bc-4799-9042-2a4e564ab70d",
        "colab": {
          "base_uri": "https://localhost:8080/"
        }
      },
      "source": [
        "accuracy = accuracy_score(y_pred,test_data['Survived'])\n",
        "print(accuracy)"
      ],
      "execution_count": 108,
      "outputs": [
        {
          "output_type": "stream",
          "text": [
            "0.8154981549815498\n"
          ],
          "name": "stdout"
        }
      ]
    },
    {
      "cell_type": "code",
      "metadata": {
        "id": "2WRzuQGxrVW5",
        "outputId": "2d6fe992-afd2-4399-aa87-e89499e3ab62",
        "colab": {
          "base_uri": "https://localhost:8080/"
        }
      },
      "source": [
        "f1 = f1_score(y_pred,test_data['Survived'])\n",
        "print(f1)"
      ],
      "execution_count": 109,
      "outputs": [
        {
          "output_type": "stream",
          "text": [
            "0.7058823529411765\n"
          ],
          "name": "stdout"
        }
      ]
    },
    {
      "cell_type": "code",
      "metadata": {
        "id": "VTpVjtTkrZw6",
        "outputId": "d84b95a5-398b-44c6-ea9b-cfea357bdf95",
        "colab": {
          "base_uri": "https://localhost:8080/"
        }
      },
      "source": [
        "log_loss(y_pred,test_data['Survived'])"
      ],
      "execution_count": 110,
      "outputs": [
        {
          "output_type": "execute_result",
          "data": {
            "text/plain": [
              "6.372580090213585"
            ]
          },
          "metadata": {
            "tags": []
          },
          "execution_count": 110
        }
      ]
    },
    {
      "cell_type": "code",
      "metadata": {
        "id": "rH01veQsreYs"
      },
      "source": [
        ""
      ],
      "execution_count": null,
      "outputs": []
    }
  ]
}